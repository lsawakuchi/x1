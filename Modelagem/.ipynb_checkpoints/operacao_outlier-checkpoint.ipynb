{
 "cells": [
  {
   "cell_type": "code",
   "execution_count": 8,
   "metadata": {},
   "outputs": [],
   "source": [
    "import pandas as pd\n",
    "from conector.mssql import mssql_engine\n",
    "mssql = mssql_engine(\"Captalys_OP\")"
   ]
  },
  {
   "cell_type": "code",
   "execution_count": 19,
   "metadata": {},
   "outputs": [],
   "source": [
    "def pegar_movimentacoes_cotista(mssql):\n",
    "    q = \"\"\"select * from Captalys_OP.cotista.tb_MovimentacaoFundo as movFundo\n",
    "       inner join Captalys_OP.cotista.tb_Cotista as cot on movFundo.idCotista = cot.idCotista\n",
    "       inner join Captalys_OP.cotista.tb_tipoOperacao as tpOp on movFundo.tipoOperacao = tpOp.idTipoOperacao\n",
    "       where tpOp.idTipoOperacao =  1\"\"\"\n",
    "    df = pd.read_sql(q, mssql)\n",
    "\n",
    "    return df"
   ]
  },
  {
   "cell_type": "code",
   "execution_count": 20,
   "metadata": {},
   "outputs": [],
   "source": [
    "df = pegar_movimentacoes_cotista(mssql)"
   ]
  },
  {
   "cell_type": "code",
   "execution_count": 21,
   "metadata": {},
   "outputs": [
    {
     "data": {
      "text/plain": [
       "(2433, 70)"
      ]
     },
     "execution_count": 21,
     "metadata": {},
     "output_type": "execute_result"
    }
   ],
   "source": [
    "df.shape"
   ]
  },
  {
   "cell_type": "code",
   "execution_count": 22,
   "metadata": {},
   "outputs": [
    {
     "data": {
      "text/plain": [
       "Index(['idOperacao', 'idCotista', 'codigoInterface', 'idCarteira', 'nomeFundo',\n",
       "       'dataOperacao', 'dataConversao', 'dataLiquidacao', 'dataAgendamento',\n",
       "       'tipoOperacao', 'tipoResgate', 'idPosicaoResgatada',\n",
       "       'idFormaLiquidacao', 'quantidade', 'cotaOperacao', 'valorBruto',\n",
       "       'valorLiquido', 'valorIR', 'valorIOF', 'valorCPMF', 'valorPerformance',\n",
       "       'prejuizoUsado', 'rendimentoResgate', 'variacaoResgate',\n",
       "       'cpfCnpjCarteira', 'cpfCnpjCotista', 'fonte', 'idConta',\n",
       "       'cotaInformada', 'idAgenda', 'idOperacaoResgatada', 'codigoAnbima',\n",
       "       'idCotista', 'nomeRazaoSocial', 'cpfCnpj', 'distribuidora', 'email',\n",
       "       'convidado', 'idTipoCotista', 'isentoIR', 'isentoIOF', 'tipo',\n",
       "       'statusAtivo', 'RegimeEspecialTributacao', 'tipoCotistaCVM',\n",
       "       'CodigoInterface', 'telefone', 'estadoCivil', 'documentos', 'sexo',\n",
       "       'dataNascimento', 'cotitular', 'idTitular', 'dataAtualizacaoCadastro',\n",
       "       'dataVigenciaSuitability', 'perfilCotista', 'nomePai', 'nomeMae',\n",
       "       'pessoaPoliticamenteExposta', 'dadoBancarios', 'profissao', 'apelido',\n",
       "       'idAgenteDistribuidor', 'nomeDistribuidor', 'cadastroComplementar',\n",
       "       'tipoEnderecoCorrespondecia', 'agenteAutonomoInvestimento',\n",
       "       'dataVencimentoCadastro', 'idTipoOperacao', 'tipoOperacao'],\n",
       "      dtype='object')"
      ]
     },
     "execution_count": 22,
     "metadata": {},
     "output_type": "execute_result"
    }
   ],
   "source": [
    "df.columns"
   ]
  },
  {
   "cell_type": "code",
   "execution_count": 25,
   "metadata": {},
   "outputs": [],
   "source": [
    "df.to_excel(\"dataset_outliers.xlsx\")"
   ]
  },
  {
   "cell_type": "code",
   "execution_count": null,
   "metadata": {},
   "outputs": [],
   "source": []
  },
  {
   "cell_type": "code",
   "execution_count": null,
   "metadata": {},
   "outputs": [],
   "source": []
  },
  {
   "cell_type": "code",
   "execution_count": null,
   "metadata": {},
   "outputs": [],
   "source": []
  }
 ],
 "metadata": {
  "kernelspec": {
   "display_name": "Python 3",
   "language": "python",
   "name": "python3"
  },
  "language_info": {
   "codemirror_mode": {
    "name": "ipython",
    "version": 3
   },
   "file_extension": ".py",
   "mimetype": "text/x-python",
   "name": "python",
   "nbconvert_exporter": "python",
   "pygments_lexer": "ipython3",
   "version": "3.6.5"
  }
 },
 "nbformat": 4,
 "nbformat_minor": 2
}
