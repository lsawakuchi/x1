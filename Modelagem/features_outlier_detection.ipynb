{
 "cells": [
  {
   "cell_type": "code",
   "execution_count": 134,
   "metadata": {},
   "outputs": [],
   "source": [
    "import pandas as pd\n",
    "import numpy as np\n",
    "from datetime import datetime\n",
    "import requests\n",
    "from time import sleep\n",
    "from sklearn.ensemble import IsolationForest\n",
    "from sklearn.decomposition import PCA\n",
    "import matplotlib.pyplot as plt\n",
    "import warnings\n",
    "warnings.filterwarnings('ignore')"
   ]
  },
  {
   "cell_type": "markdown",
   "metadata": {},
   "source": [
    "Considerar a idade da empresa vs o historico de dividas"
   ]
  },
  {
   "cell_type": "code",
   "execution_count": 135,
   "metadata": {},
   "outputs": [],
   "source": [
    "def get_details(numero):\n",
    "    URL = \"https://api-v2.idwall.co/relatorios\"\n",
    "    authorization = \"b3818f92-5807-4acf-ade8-78a1f6d7996b\"\n",
    "    url_details = URL + \"/{}\".format(numero) + \"/dados\"\n",
    "    while True:\n",
    "        dets = requests.get(url_details, headers={\"authorization\": authorization})\n",
    "        djson = dets.json()\n",
    "        sleep(1)\n",
    "        if djson['result']['status'] == \"CONCLUIDO\":\n",
    "            break\n",
    "\n",
    "    return dets.json()"
   ]
  },
  {
   "cell_type": "code",
   "execution_count": 136,
   "metadata": {},
   "outputs": [],
   "source": [
    "df = pd.read_excel(\"../tabelas/base_idwall_201904.xlsx\")"
   ]
  },
  {
   "cell_type": "code",
   "execution_count": 137,
   "metadata": {},
   "outputs": [],
   "source": [
    "df[\"flag_cnpj\"] = df.apply(lambda x : int(len(x[\"cnpj_cpf\"])==14), axis=1)"
   ]
  },
  {
   "cell_type": "code",
   "execution_count": 138,
   "metadata": {},
   "outputs": [],
   "source": [
    "df = df[df['flag_cnpj']==1]"
   ]
  },
  {
   "cell_type": "code",
   "execution_count": 139,
   "metadata": {},
   "outputs": [],
   "source": [
    "df.rename(columns={\"cnpj_cpf\" : \"cnpj\"}, inplace=True)"
   ]
  },
  {
   "cell_type": "code",
   "execution_count": 140,
   "metadata": {},
   "outputs": [
    {
     "data": {
      "text/html": [
       "<div>\n",
       "<style scoped>\n",
       "    .dataframe tbody tr th:only-of-type {\n",
       "        vertical-align: middle;\n",
       "    }\n",
       "\n",
       "    .dataframe tbody tr th {\n",
       "        vertical-align: top;\n",
       "    }\n",
       "\n",
       "    .dataframe thead th {\n",
       "        text-align: right;\n",
       "    }\n",
       "</style>\n",
       "<table border=\"1\" class=\"dataframe\">\n",
       "  <thead>\n",
       "    <tr style=\"text-align: right;\">\n",
       "      <th></th>\n",
       "      <th>id</th>\n",
       "      <th>cnpj</th>\n",
       "      <th>data_ref</th>\n",
       "      <th>data_inclusao</th>\n",
       "      <th>data_ocorrencia</th>\n",
       "      <th>natureza</th>\n",
       "      <th>valor</th>\n",
       "      <th>tipo</th>\n",
       "      <th>numero_consulta</th>\n",
       "      <th>situacao_cadastral_cnpj</th>\n",
       "      <th>sancoes_onu</th>\n",
       "      <th>pep</th>\n",
       "      <th>mun_fronteirico</th>\n",
       "      <th>data_consulta</th>\n",
       "      <th>flag_cnpj</th>\n",
       "    </tr>\n",
       "  </thead>\n",
       "  <tbody>\n",
       "    <tr>\n",
       "      <th>4999</th>\n",
       "      <td>6267</td>\n",
       "      <td>19008188000142</td>\n",
       "      <td>2018-12-03</td>\n",
       "      <td>2015-06-05 00:00:00</td>\n",
       "      <td>2015-01-31 00:00:00</td>\n",
       "      <td>CÓDIGO DE ANOTAÇÃO NÃO ENCONTRADO</td>\n",
       "      <td>25397.60</td>\n",
       "      <td>pendencias</td>\n",
       "      <td>ec23b694-37ea-4cbe-85b4-cfed79f90ae6</td>\n",
       "      <td>NaN</td>\n",
       "      <td>NaN</td>\n",
       "      <td>NaN</td>\n",
       "      <td>NaN</td>\n",
       "      <td>2018-12-03</td>\n",
       "      <td>1</td>\n",
       "    </tr>\n",
       "    <tr>\n",
       "      <th>5000</th>\n",
       "      <td>6268</td>\n",
       "      <td>19008188000142</td>\n",
       "      <td>2018-12-03</td>\n",
       "      <td>2017-07-04 00:00:00</td>\n",
       "      <td>2016-12-21 00:00:00</td>\n",
       "      <td>NaN</td>\n",
       "      <td>1.00</td>\n",
       "      <td>cheques</td>\n",
       "      <td>ec23b694-37ea-4cbe-85b4-cfed79f90ae6</td>\n",
       "      <td>NaN</td>\n",
       "      <td>NaN</td>\n",
       "      <td>NaN</td>\n",
       "      <td>NaN</td>\n",
       "      <td>2018-12-03</td>\n",
       "      <td>1</td>\n",
       "    </tr>\n",
       "    <tr>\n",
       "      <th>5001</th>\n",
       "      <td>6269</td>\n",
       "      <td>19008188000142</td>\n",
       "      <td>2018-12-03</td>\n",
       "      <td>2018-06-18 00:00:00</td>\n",
       "      <td>2018-05-21 00:00:00</td>\n",
       "      <td>Falta Pagamento</td>\n",
       "      <td>892.53</td>\n",
       "      <td>protestos</td>\n",
       "      <td>ec23b694-37ea-4cbe-85b4-cfed79f90ae6</td>\n",
       "      <td>NaN</td>\n",
       "      <td>NaN</td>\n",
       "      <td>NaN</td>\n",
       "      <td>NaN</td>\n",
       "      <td>2018-12-03</td>\n",
       "      <td>1</td>\n",
       "    </tr>\n",
       "    <tr>\n",
       "      <th>5002</th>\n",
       "      <td>6270</td>\n",
       "      <td>19008188000142</td>\n",
       "      <td>2018-12-03</td>\n",
       "      <td>2018-04-11 00:00:00</td>\n",
       "      <td>2018-03-22 00:00:00</td>\n",
       "      <td>Falta Pagamento</td>\n",
       "      <td>560.00</td>\n",
       "      <td>protestos</td>\n",
       "      <td>ec23b694-37ea-4cbe-85b4-cfed79f90ae6</td>\n",
       "      <td>NaN</td>\n",
       "      <td>NaN</td>\n",
       "      <td>NaN</td>\n",
       "      <td>NaN</td>\n",
       "      <td>2018-12-03</td>\n",
       "      <td>1</td>\n",
       "    </tr>\n",
       "    <tr>\n",
       "      <th>5003</th>\n",
       "      <td>6271</td>\n",
       "      <td>19008188000142</td>\n",
       "      <td>2018-12-03</td>\n",
       "      <td>2018-04-09 00:00:00</td>\n",
       "      <td>2018-03-15 00:00:00</td>\n",
       "      <td>Falta Pagamento</td>\n",
       "      <td>560.80</td>\n",
       "      <td>protestos</td>\n",
       "      <td>ec23b694-37ea-4cbe-85b4-cfed79f90ae6</td>\n",
       "      <td>NaN</td>\n",
       "      <td>NaN</td>\n",
       "      <td>NaN</td>\n",
       "      <td>NaN</td>\n",
       "      <td>2018-12-03</td>\n",
       "      <td>1</td>\n",
       "    </tr>\n",
       "  </tbody>\n",
       "</table>\n",
       "</div>"
      ],
      "text/plain": [
       "        id            cnpj   data_ref        data_inclusao  \\\n",
       "4999  6267  19008188000142 2018-12-03  2015-06-05 00:00:00   \n",
       "5000  6268  19008188000142 2018-12-03  2017-07-04 00:00:00   \n",
       "5001  6269  19008188000142 2018-12-03  2018-06-18 00:00:00   \n",
       "5002  6270  19008188000142 2018-12-03  2018-04-11 00:00:00   \n",
       "5003  6271  19008188000142 2018-12-03  2018-04-09 00:00:00   \n",
       "\n",
       "          data_ocorrencia                           natureza     valor  \\\n",
       "4999  2015-01-31 00:00:00  CÓDIGO DE ANOTAÇÃO NÃO ENCONTRADO  25397.60   \n",
       "5000  2016-12-21 00:00:00                                NaN      1.00   \n",
       "5001  2018-05-21 00:00:00                    Falta Pagamento    892.53   \n",
       "5002  2018-03-22 00:00:00                    Falta Pagamento    560.00   \n",
       "5003  2018-03-15 00:00:00                    Falta Pagamento    560.80   \n",
       "\n",
       "            tipo                       numero_consulta  \\\n",
       "4999  pendencias  ec23b694-37ea-4cbe-85b4-cfed79f90ae6   \n",
       "5000     cheques  ec23b694-37ea-4cbe-85b4-cfed79f90ae6   \n",
       "5001   protestos  ec23b694-37ea-4cbe-85b4-cfed79f90ae6   \n",
       "5002   protestos  ec23b694-37ea-4cbe-85b4-cfed79f90ae6   \n",
       "5003   protestos  ec23b694-37ea-4cbe-85b4-cfed79f90ae6   \n",
       "\n",
       "      situacao_cadastral_cnpj  sancoes_onu  pep  mun_fronteirico  \\\n",
       "4999                      NaN          NaN  NaN              NaN   \n",
       "5000                      NaN          NaN  NaN              NaN   \n",
       "5001                      NaN          NaN  NaN              NaN   \n",
       "5002                      NaN          NaN  NaN              NaN   \n",
       "5003                      NaN          NaN  NaN              NaN   \n",
       "\n",
       "     data_consulta  flag_cnpj  \n",
       "4999    2018-12-03          1  \n",
       "5000    2018-12-03          1  \n",
       "5001    2018-12-03          1  \n",
       "5002    2018-12-03          1  \n",
       "5003    2018-12-03          1  "
      ]
     },
     "execution_count": 140,
     "metadata": {},
     "output_type": "execute_result"
    }
   ],
   "source": [
    "df.head()"
   ]
  },
  {
   "cell_type": "code",
   "execution_count": 30,
   "metadata": {},
   "outputs": [],
   "source": [
    "js = get_details('ec23b694-37ea-4cbe-85b4-cfed79f90ae6')"
   ]
  },
  {
   "cell_type": "code",
   "execution_count": 34,
   "metadata": {},
   "outputs": [
    {
     "data": {
      "text/plain": [
       "'04-10-2013'"
      ]
     },
     "execution_count": 34,
     "metadata": {},
     "output_type": "execute_result"
    }
   ],
   "source": [
    "js.get('result').get('cnpj').get(\"data_abertura\")"
   ]
  },
  {
   "cell_type": "code",
   "execution_count": 38,
   "metadata": {},
   "outputs": [],
   "source": [
    "resp = list()\n",
    "for el in df[\"cnpj\"].unique().tolist():\n",
    "    numero = df[df['cnpj']==el][\"numero_consulta\"].iloc[0]\n",
    "    js = get_details(numero)\n",
    "    data_abertura = js.get(\"result\").get('cnpj').get('data_abertura')\n",
    "    resp.append(pd.DataFrame({'cnpj' : [el], \"data_abertura\" : [data_abertura]}))"
   ]
  },
  {
   "cell_type": "code",
   "execution_count": 40,
   "metadata": {},
   "outputs": [],
   "source": [
    "df_abertura = pd.concat(resp)"
   ]
  },
  {
   "cell_type": "code",
   "execution_count": 42,
   "metadata": {},
   "outputs": [
    {
     "data": {
      "text/plain": [
       "'04-10-2013'"
      ]
     },
     "execution_count": 42,
     "metadata": {},
     "output_type": "execute_result"
    }
   ],
   "source": [
    "df_abertura[\"data_abertura\"].iloc[0]"
   ]
  },
  {
   "cell_type": "code",
   "execution_count": 47,
   "metadata": {},
   "outputs": [],
   "source": [
    "df_abertura[\"data_abertura\"] = df_abertura.apply(lambda x : x[\"data_abertura\"].replace(\"/\", \"-\") if not x[\"data_abertura\"] is None else \"26-04-2019\", axis=1)"
   ]
  },
  {
   "cell_type": "code",
   "execution_count": 48,
   "metadata": {},
   "outputs": [],
   "source": [
    "df_abertura[\"data_abertura\"] = df_abertura.apply(lambda x : datetime.strptime(x[\"data_abertura\"], \"%d-%m-%Y\").date(), axis=1)"
   ]
  },
  {
   "cell_type": "code",
   "execution_count": 54,
   "metadata": {},
   "outputs": [
    {
     "data": {
      "text/plain": [
       "2030"
      ]
     },
     "execution_count": 54,
     "metadata": {},
     "output_type": "execute_result"
    }
   ],
   "source": [
    "(datetime.now().date() - df_abertura[\"data_abertura\"].iloc[0]).days"
   ]
  },
  {
   "cell_type": "code",
   "execution_count": 56,
   "metadata": {},
   "outputs": [],
   "source": [
    "df_abertura[\"idade\"] = df_abertura.apply(lambda x : (datetime.now().date() - x[\"data_abertura\"]).days/366, axis=1)"
   ]
  },
  {
   "cell_type": "code",
   "execution_count": 61,
   "metadata": {},
   "outputs": [
    {
     "data": {
      "text/html": [
       "<div>\n",
       "<style scoped>\n",
       "    .dataframe tbody tr th:only-of-type {\n",
       "        vertical-align: middle;\n",
       "    }\n",
       "\n",
       "    .dataframe tbody tr th {\n",
       "        vertical-align: top;\n",
       "    }\n",
       "\n",
       "    .dataframe thead th {\n",
       "        text-align: right;\n",
       "    }\n",
       "</style>\n",
       "<table border=\"1\" class=\"dataframe\">\n",
       "  <thead>\n",
       "    <tr style=\"text-align: right;\">\n",
       "      <th></th>\n",
       "      <th>cnpj</th>\n",
       "      <th>data_abertura</th>\n",
       "      <th>idade</th>\n",
       "    </tr>\n",
       "  </thead>\n",
       "  <tbody>\n",
       "    <tr>\n",
       "      <th>0</th>\n",
       "      <td>60701190000104</td>\n",
       "      <td>1944-08-22</td>\n",
       "      <td>74.521858</td>\n",
       "    </tr>\n",
       "    <tr>\n",
       "      <th>0</th>\n",
       "      <td>07023773000132</td>\n",
       "      <td>1965-12-01</td>\n",
       "      <td>53.289617</td>\n",
       "    </tr>\n",
       "    <tr>\n",
       "      <th>0</th>\n",
       "      <td>29912391000100</td>\n",
       "      <td>1966-02-28</td>\n",
       "      <td>53.046448</td>\n",
       "    </tr>\n",
       "    <tr>\n",
       "      <th>0</th>\n",
       "      <td>60877859000105</td>\n",
       "      <td>1966-07-01</td>\n",
       "      <td>52.710383</td>\n",
       "    </tr>\n",
       "    <tr>\n",
       "      <th>0</th>\n",
       "      <td>60889128000180</td>\n",
       "      <td>1966-07-13</td>\n",
       "      <td>52.677596</td>\n",
       "    </tr>\n",
       "  </tbody>\n",
       "</table>\n",
       "</div>"
      ],
      "text/plain": [
       "             cnpj data_abertura      idade\n",
       "0  60701190000104    1944-08-22  74.521858\n",
       "0  07023773000132    1965-12-01  53.289617\n",
       "0  29912391000100    1966-02-28  53.046448\n",
       "0  60877859000105    1966-07-01  52.710383\n",
       "0  60889128000180    1966-07-13  52.677596"
      ]
     },
     "execution_count": 61,
     "metadata": {},
     "output_type": "execute_result"
    }
   ],
   "source": [
    "df_abertura.sort_values(\"idade\", ascending=False).head()"
   ]
  },
  {
   "cell_type": "code",
   "execution_count": 62,
   "metadata": {},
   "outputs": [
    {
     "data": {
      "text/plain": [
       "11.420737477331148"
      ]
     },
     "execution_count": 62,
     "metadata": {},
     "output_type": "execute_result"
    }
   ],
   "source": [
    "df_abertura['idade'].mean()"
   ]
  },
  {
   "cell_type": "code",
   "execution_count": 63,
   "metadata": {},
   "outputs": [],
   "source": [
    "df_abertura.to_excel(\"../tabelas/idade_empresas.xlsx\")"
   ]
  },
  {
   "cell_type": "code",
   "execution_count": 74,
   "metadata": {},
   "outputs": [],
   "source": [
    "df1 = pd.read_excel(\"../tabelas/dataset_metricas_score_completo_20190425.xlsx\")"
   ]
  },
  {
   "cell_type": "code",
   "execution_count": 75,
   "metadata": {},
   "outputs": [],
   "source": [
    "df1[\"cnpj\"] = df['cnpj'].astype(str)"
   ]
  },
  {
   "cell_type": "code",
   "execution_count": 76,
   "metadata": {},
   "outputs": [],
   "source": [
    "df1[\"cnpj\"] = df.apply(lambda x : \"0\" + x[\"cnpj\"] if len(x[\"cnpj\"])==13 else\n",
    "                      (\"00\" + x[\"cnpj\"] if len(x[\"cnpj\"])==12 else x[\"cnpj\"]), axis=1)"
   ]
  },
  {
   "cell_type": "code",
   "execution_count": 77,
   "metadata": {},
   "outputs": [
    {
     "data": {
      "text/html": [
       "<div>\n",
       "<style scoped>\n",
       "    .dataframe tbody tr th:only-of-type {\n",
       "        vertical-align: middle;\n",
       "    }\n",
       "\n",
       "    .dataframe tbody tr th {\n",
       "        vertical-align: top;\n",
       "    }\n",
       "\n",
       "    .dataframe thead th {\n",
       "        text-align: right;\n",
       "    }\n",
       "</style>\n",
       "<table border=\"1\" class=\"dataframe\">\n",
       "  <thead>\n",
       "    <tr style=\"text-align: right;\">\n",
       "      <th></th>\n",
       "      <th>cnpj</th>\n",
       "      <th>segmento</th>\n",
       "      <th>ocorrencias</th>\n",
       "      <th>probabilidade</th>\n",
       "      <th>valor_divida</th>\n",
       "      <th>composicao</th>\n",
       "      <th>fat_medio</th>\n",
       "      <th>pi</th>\n",
       "      <th>lambda</th>\n",
       "      <th>impacto_segmento</th>\n",
       "      <th>risco</th>\n",
       "      <th>dscore</th>\n",
       "      <th>peso</th>\n",
       "      <th>score</th>\n",
       "    </tr>\n",
       "  </thead>\n",
       "  <tbody>\n",
       "    <tr>\n",
       "      <th>2</th>\n",
       "      <td>00272073000302</td>\n",
       "      <td>outros</td>\n",
       "      <td>6</td>\n",
       "      <td>1.0</td>\n",
       "      <td>9659.96</td>\n",
       "      <td>1.0</td>\n",
       "      <td>139381.200000</td>\n",
       "      <td>0.046204</td>\n",
       "      <td>0.046204</td>\n",
       "      <td>0.011551</td>\n",
       "      <td>0.011551</td>\n",
       "      <td>691.914295</td>\n",
       "      <td>1</td>\n",
       "      <td>691.914295</td>\n",
       "    </tr>\n",
       "    <tr>\n",
       "      <th>8</th>\n",
       "      <td>05164765000180</td>\n",
       "      <td>outros</td>\n",
       "      <td>2</td>\n",
       "      <td>1.0</td>\n",
       "      <td>3100.56</td>\n",
       "      <td>1.0</td>\n",
       "      <td>94885.300000</td>\n",
       "      <td>0.021785</td>\n",
       "      <td>0.021785</td>\n",
       "      <td>0.005446</td>\n",
       "      <td>0.005446</td>\n",
       "      <td>696.187692</td>\n",
       "      <td>1</td>\n",
       "      <td>696.187692</td>\n",
       "    </tr>\n",
       "    <tr>\n",
       "      <th>9</th>\n",
       "      <td>05674948000146</td>\n",
       "      <td>outros</td>\n",
       "      <td>3</td>\n",
       "      <td>1.0</td>\n",
       "      <td>6202.47</td>\n",
       "      <td>1.0</td>\n",
       "      <td>14578.056667</td>\n",
       "      <td>0.283644</td>\n",
       "      <td>0.283644</td>\n",
       "      <td>0.070911</td>\n",
       "      <td>0.070911</td>\n",
       "      <td>650.362280</td>\n",
       "      <td>1</td>\n",
       "      <td>650.362280</td>\n",
       "    </tr>\n",
       "    <tr>\n",
       "      <th>11</th>\n",
       "      <td>06135496000197</td>\n",
       "      <td>outros</td>\n",
       "      <td>1</td>\n",
       "      <td>1.0</td>\n",
       "      <td>74.77</td>\n",
       "      <td>1.0</td>\n",
       "      <td>7751.399167</td>\n",
       "      <td>0.006431</td>\n",
       "      <td>0.006431</td>\n",
       "      <td>0.001608</td>\n",
       "      <td>0.001608</td>\n",
       "      <td>698.874633</td>\n",
       "      <td>1</td>\n",
       "      <td>698.874633</td>\n",
       "    </tr>\n",
       "    <tr>\n",
       "      <th>12</th>\n",
       "      <td>07127571000130</td>\n",
       "      <td>outros</td>\n",
       "      <td>4</td>\n",
       "      <td>1.0</td>\n",
       "      <td>2648.22</td>\n",
       "      <td>1.0</td>\n",
       "      <td>147721.475000</td>\n",
       "      <td>0.011951</td>\n",
       "      <td>0.011951</td>\n",
       "      <td>0.002988</td>\n",
       "      <td>0.002988</td>\n",
       "      <td>697.908503</td>\n",
       "      <td>1</td>\n",
       "      <td>697.908503</td>\n",
       "    </tr>\n",
       "  </tbody>\n",
       "</table>\n",
       "</div>"
      ],
      "text/plain": [
       "              cnpj segmento  ocorrencias  probabilidade  valor_divida  \\\n",
       "2   00272073000302   outros            6            1.0       9659.96   \n",
       "8   05164765000180   outros            2            1.0       3100.56   \n",
       "9   05674948000146   outros            3            1.0       6202.47   \n",
       "11  06135496000197   outros            1            1.0         74.77   \n",
       "12  07127571000130   outros            4            1.0       2648.22   \n",
       "\n",
       "    composicao      fat_medio        pi    lambda  impacto_segmento     risco  \\\n",
       "2          1.0  139381.200000  0.046204  0.046204          0.011551  0.011551   \n",
       "8          1.0   94885.300000  0.021785  0.021785          0.005446  0.005446   \n",
       "9          1.0   14578.056667  0.283644  0.283644          0.070911  0.070911   \n",
       "11         1.0    7751.399167  0.006431  0.006431          0.001608  0.001608   \n",
       "12         1.0  147721.475000  0.011951  0.011951          0.002988  0.002988   \n",
       "\n",
       "        dscore  peso       score  \n",
       "2   691.914295     1  691.914295  \n",
       "8   696.187692     1  696.187692  \n",
       "9   650.362280     1  650.362280  \n",
       "11  698.874633     1  698.874633  \n",
       "12  697.908503     1  697.908503  "
      ]
     },
     "execution_count": 77,
     "metadata": {},
     "output_type": "execute_result"
    }
   ],
   "source": [
    "df1.head()"
   ]
  },
  {
   "cell_type": "code",
   "execution_count": 78,
   "metadata": {},
   "outputs": [],
   "source": [
    "df2 = pd.read_excel(\"../tabelas/dataset_modelo_201904.xlsx\")"
   ]
  },
  {
   "cell_type": "code",
   "execution_count": 81,
   "metadata": {},
   "outputs": [],
   "source": [
    "df2[\"cnpj\"] = df2[\"cnpj\"].astype(str)"
   ]
  },
  {
   "cell_type": "code",
   "execution_count": 83,
   "metadata": {},
   "outputs": [],
   "source": [
    "df2[\"cnpj\"] = df2.apply(lambda x : \"0\" + x[\"cnpj\"] if len(x[\"cnpj\"])==13 else\n",
    "                        (\"00\" + x[\"cnpj\"] if len(x[\"cnpj\"])==12 else x[\"cnpj\"]), axis=1)"
   ]
  },
  {
   "cell_type": "code",
   "execution_count": 85,
   "metadata": {},
   "outputs": [
    {
     "data": {
      "text/plain": [
       "717"
      ]
     },
     "execution_count": 85,
     "metadata": {},
     "output_type": "execute_result"
    }
   ],
   "source": [
    "df2[\"cnpj\"].unique().tolist().__len__()"
   ]
  },
  {
   "cell_type": "code",
   "execution_count": 87,
   "metadata": {},
   "outputs": [],
   "source": [
    "# selecionando apenas os cnpjs eleitos pelos criterios de elegibilidade"
   ]
  },
  {
   "cell_type": "code",
   "execution_count": 91,
   "metadata": {},
   "outputs": [],
   "source": [
    "df2 = df2[(df2[\"quantidade_cheques\"]==0) & (df2[\"prop_divida\"]<=1.5)]"
   ]
  },
  {
   "cell_type": "code",
   "execution_count": 92,
   "metadata": {},
   "outputs": [
    {
     "data": {
      "text/plain": [
       "422"
      ]
     },
     "execution_count": 92,
     "metadata": {},
     "output_type": "execute_result"
    }
   ],
   "source": [
    "df2[\"cnpj\"].unique().tolist().__len__()"
   ]
  },
  {
   "cell_type": "code",
   "execution_count": 94,
   "metadata": {},
   "outputs": [],
   "source": [
    "df2.drop(columns=[\"prop_divida\", \"quantidade_cheques\"], axis=1, inplace=True)"
   ]
  },
  {
   "cell_type": "code",
   "execution_count": 101,
   "metadata": {},
   "outputs": [],
   "source": [
    "df2 = df2.merge(df_abertura[[\"cnpj\", \"idade\"]], left_on=\"cnpj\", right_on=\"cnpj\", how=\"left\")"
   ]
  },
  {
   "cell_type": "code",
   "execution_count": 102,
   "metadata": {},
   "outputs": [
    {
     "data": {
      "text/html": [
       "<div>\n",
       "<style scoped>\n",
       "    .dataframe tbody tr th:only-of-type {\n",
       "        vertical-align: middle;\n",
       "    }\n",
       "\n",
       "    .dataframe tbody tr th {\n",
       "        vertical-align: top;\n",
       "    }\n",
       "\n",
       "    .dataframe thead th {\n",
       "        text-align: right;\n",
       "    }\n",
       "</style>\n",
       "<table border=\"1\" class=\"dataframe\">\n",
       "  <thead>\n",
       "    <tr style=\"text-align: right;\">\n",
       "      <th></th>\n",
       "      <th>cnpj</th>\n",
       "      <th>tempo_medio</th>\n",
       "      <th>idade_maxima</th>\n",
       "      <th>credito</th>\n",
       "      <th>infra</th>\n",
       "      <th>outros</th>\n",
       "      <th>processos</th>\n",
       "      <th>dispersao</th>\n",
       "      <th>idade</th>\n",
       "    </tr>\n",
       "  </thead>\n",
       "  <tbody>\n",
       "    <tr>\n",
       "      <th>0</th>\n",
       "      <td>00225356000123</td>\n",
       "      <td>0.000000</td>\n",
       "      <td>1793</td>\n",
       "      <td>0.000000</td>\n",
       "      <td>0.0</td>\n",
       "      <td>1.000000</td>\n",
       "      <td>0.0</td>\n",
       "      <td>0.0</td>\n",
       "      <td>24.508197</td>\n",
       "    </tr>\n",
       "    <tr>\n",
       "      <th>1</th>\n",
       "      <td>00265954000207</td>\n",
       "      <td>0.000000</td>\n",
       "      <td>73</td>\n",
       "      <td>0.000000</td>\n",
       "      <td>0.0</td>\n",
       "      <td>1.000000</td>\n",
       "      <td>0.0</td>\n",
       "      <td>0.0</td>\n",
       "      <td>18.773224</td>\n",
       "    </tr>\n",
       "    <tr>\n",
       "      <th>2</th>\n",
       "      <td>00272073000302</td>\n",
       "      <td>48.600000</td>\n",
       "      <td>320</td>\n",
       "      <td>0.000000</td>\n",
       "      <td>0.0</td>\n",
       "      <td>1.000000</td>\n",
       "      <td>0.0</td>\n",
       "      <td>0.0</td>\n",
       "      <td>10.852459</td>\n",
       "    </tr>\n",
       "    <tr>\n",
       "      <th>3</th>\n",
       "      <td>00437101000124</td>\n",
       "      <td>31.666667</td>\n",
       "      <td>283</td>\n",
       "      <td>0.972151</td>\n",
       "      <td>0.0</td>\n",
       "      <td>0.027849</td>\n",
       "      <td>0.0</td>\n",
       "      <td>0.0</td>\n",
       "      <td>24.144809</td>\n",
       "    </tr>\n",
       "    <tr>\n",
       "      <th>4</th>\n",
       "      <td>00661205000118</td>\n",
       "      <td>0.000000</td>\n",
       "      <td>935</td>\n",
       "      <td>1.000000</td>\n",
       "      <td>0.0</td>\n",
       "      <td>0.000000</td>\n",
       "      <td>0.0</td>\n",
       "      <td>0.0</td>\n",
       "      <td>23.795082</td>\n",
       "    </tr>\n",
       "  </tbody>\n",
       "</table>\n",
       "</div>"
      ],
      "text/plain": [
       "             cnpj  tempo_medio  idade_maxima   credito  infra    outros  \\\n",
       "0  00225356000123     0.000000          1793  0.000000    0.0  1.000000   \n",
       "1  00265954000207     0.000000            73  0.000000    0.0  1.000000   \n",
       "2  00272073000302    48.600000           320  0.000000    0.0  1.000000   \n",
       "3  00437101000124    31.666667           283  0.972151    0.0  0.027849   \n",
       "4  00661205000118     0.000000           935  1.000000    0.0  0.000000   \n",
       "\n",
       "   processos  dispersao      idade  \n",
       "0        0.0        0.0  24.508197  \n",
       "1        0.0        0.0  18.773224  \n",
       "2        0.0        0.0  10.852459  \n",
       "3        0.0        0.0  24.144809  \n",
       "4        0.0        0.0  23.795082  "
      ]
     },
     "execution_count": 102,
     "metadata": {},
     "output_type": "execute_result"
    }
   ],
   "source": [
    "df2.head()"
   ]
  },
  {
   "cell_type": "code",
   "execution_count": 105,
   "metadata": {},
   "outputs": [],
   "source": [
    "df_risco = df1[[\"cnpj\", \"risco\"]]"
   ]
  },
  {
   "cell_type": "code",
   "execution_count": 111,
   "metadata": {},
   "outputs": [],
   "source": [
    "df_impacto = df1[[\"cnpj\", \"impacto_segmento\"]]"
   ]
  },
  {
   "cell_type": "code",
   "execution_count": 115,
   "metadata": {},
   "outputs": [],
   "source": [
    "df_impacto = df_impacto.groupby(\"cnpj\").mean().reset_index()"
   ]
  },
  {
   "cell_type": "code",
   "execution_count": 116,
   "metadata": {},
   "outputs": [
    {
     "data": {
      "text/plain": [
       "(491, 2)"
      ]
     },
     "execution_count": 116,
     "metadata": {},
     "output_type": "execute_result"
    }
   ],
   "source": [
    "df_impacto.shape"
   ]
  },
  {
   "cell_type": "code",
   "execution_count": 117,
   "metadata": {},
   "outputs": [
    {
     "data": {
      "text/plain": [
       "(422, 9)"
      ]
     },
     "execution_count": 117,
     "metadata": {},
     "output_type": "execute_result"
    }
   ],
   "source": [
    "df2.shape"
   ]
  },
  {
   "cell_type": "code",
   "execution_count": 119,
   "metadata": {},
   "outputs": [],
   "source": [
    "df2 = df2.merge(df_impacto, left_on='cnpj', right_on='cnpj', how='left')"
   ]
  },
  {
   "cell_type": "code",
   "execution_count": 121,
   "metadata": {},
   "outputs": [],
   "source": [
    "df2.rename(columns={\"impacto_segmento\" : 'impacto'}, inplace=True)"
   ]
  },
  {
   "cell_type": "code",
   "execution_count": 123,
   "metadata": {},
   "outputs": [
    {
     "data": {
      "text/html": [
       "<div>\n",
       "<style scoped>\n",
       "    .dataframe tbody tr th:only-of-type {\n",
       "        vertical-align: middle;\n",
       "    }\n",
       "\n",
       "    .dataframe tbody tr th {\n",
       "        vertical-align: top;\n",
       "    }\n",
       "\n",
       "    .dataframe thead th {\n",
       "        text-align: right;\n",
       "    }\n",
       "</style>\n",
       "<table border=\"1\" class=\"dataframe\">\n",
       "  <thead>\n",
       "    <tr style=\"text-align: right;\">\n",
       "      <th></th>\n",
       "      <th>cnpj</th>\n",
       "      <th>tempo_medio</th>\n",
       "      <th>idade_maxima</th>\n",
       "      <th>credito</th>\n",
       "      <th>infra</th>\n",
       "      <th>outros</th>\n",
       "      <th>processos</th>\n",
       "      <th>dispersao</th>\n",
       "      <th>idade</th>\n",
       "      <th>impacto</th>\n",
       "    </tr>\n",
       "  </thead>\n",
       "  <tbody>\n",
       "    <tr>\n",
       "      <th>0</th>\n",
       "      <td>00225356000123</td>\n",
       "      <td>0.000000</td>\n",
       "      <td>1793</td>\n",
       "      <td>0.000000</td>\n",
       "      <td>0.0</td>\n",
       "      <td>1.000000</td>\n",
       "      <td>0.0</td>\n",
       "      <td>0.0</td>\n",
       "      <td>24.508197</td>\n",
       "      <td>0.001192</td>\n",
       "    </tr>\n",
       "    <tr>\n",
       "      <th>1</th>\n",
       "      <td>00265954000207</td>\n",
       "      <td>0.000000</td>\n",
       "      <td>73</td>\n",
       "      <td>0.000000</td>\n",
       "      <td>0.0</td>\n",
       "      <td>1.000000</td>\n",
       "      <td>0.0</td>\n",
       "      <td>0.0</td>\n",
       "      <td>18.773224</td>\n",
       "      <td>0.000516</td>\n",
       "    </tr>\n",
       "    <tr>\n",
       "      <th>2</th>\n",
       "      <td>00272073000302</td>\n",
       "      <td>48.600000</td>\n",
       "      <td>320</td>\n",
       "      <td>0.000000</td>\n",
       "      <td>0.0</td>\n",
       "      <td>1.000000</td>\n",
       "      <td>0.0</td>\n",
       "      <td>0.0</td>\n",
       "      <td>10.852459</td>\n",
       "      <td>0.011551</td>\n",
       "    </tr>\n",
       "    <tr>\n",
       "      <th>3</th>\n",
       "      <td>00437101000124</td>\n",
       "      <td>31.666667</td>\n",
       "      <td>283</td>\n",
       "      <td>0.972151</td>\n",
       "      <td>0.0</td>\n",
       "      <td>0.027849</td>\n",
       "      <td>0.0</td>\n",
       "      <td>0.0</td>\n",
       "      <td>24.144809</td>\n",
       "      <td>0.475850</td>\n",
       "    </tr>\n",
       "    <tr>\n",
       "      <th>4</th>\n",
       "      <td>00661205000118</td>\n",
       "      <td>0.000000</td>\n",
       "      <td>935</td>\n",
       "      <td>1.000000</td>\n",
       "      <td>0.0</td>\n",
       "      <td>0.000000</td>\n",
       "      <td>0.0</td>\n",
       "      <td>0.0</td>\n",
       "      <td>23.795082</td>\n",
       "      <td>0.910038</td>\n",
       "    </tr>\n",
       "  </tbody>\n",
       "</table>\n",
       "</div>"
      ],
      "text/plain": [
       "             cnpj  tempo_medio  idade_maxima   credito  infra    outros  \\\n",
       "0  00225356000123     0.000000          1793  0.000000    0.0  1.000000   \n",
       "1  00265954000207     0.000000            73  0.000000    0.0  1.000000   \n",
       "2  00272073000302    48.600000           320  0.000000    0.0  1.000000   \n",
       "3  00437101000124    31.666667           283  0.972151    0.0  0.027849   \n",
       "4  00661205000118     0.000000           935  1.000000    0.0  0.000000   \n",
       "\n",
       "   processos  dispersao      idade   impacto  \n",
       "0        0.0        0.0  24.508197  0.001192  \n",
       "1        0.0        0.0  18.773224  0.000516  \n",
       "2        0.0        0.0  10.852459  0.011551  \n",
       "3        0.0        0.0  24.144809  0.475850  \n",
       "4        0.0        0.0  23.795082  0.910038  "
      ]
     },
     "execution_count": 123,
     "metadata": {},
     "output_type": "execute_result"
    }
   ],
   "source": [
    "df2.head()"
   ]
  },
  {
   "cell_type": "code",
   "execution_count": 129,
   "metadata": {},
   "outputs": [
    {
     "data": {
      "text/plain": [
       "(422, 10)"
      ]
     },
     "execution_count": 129,
     "metadata": {},
     "output_type": "execute_result"
    }
   ],
   "source": [
    "df2.shape"
   ]
  },
  {
   "cell_type": "code",
   "execution_count": 130,
   "metadata": {},
   "outputs": [
    {
     "data": {
      "text/plain": [
       "(394, 10)"
      ]
     },
     "execution_count": 130,
     "metadata": {},
     "output_type": "execute_result"
    }
   ],
   "source": [
    "df2.dropna().shape"
   ]
  },
  {
   "cell_type": "code",
   "execution_count": 132,
   "metadata": {},
   "outputs": [],
   "source": [
    "# dominio de email"
   ]
  },
  {
   "cell_type": "code",
   "execution_count": 142,
   "metadata": {},
   "outputs": [],
   "source": [
    "js = get_details('54cc0469-0e2f-49af-bb2c-8b5580174c60')"
   ]
  },
  {
   "cell_type": "code",
   "execution_count": 148,
   "metadata": {},
   "outputs": [
    {
     "data": {
      "text/plain": [
       "'hotmail'"
      ]
     },
     "execution_count": 148,
     "metadata": {},
     "output_type": "execute_result"
    }
   ],
   "source": [
    "js.get(\"result\").get('cnpj').get(\"email\").split(\"@\")[1].split(\".\")[0]"
   ]
  },
  {
   "cell_type": "code",
   "execution_count": 150,
   "metadata": {},
   "outputs": [],
   "source": [
    "from tqdm import tqdm_notebook"
   ]
  },
  {
   "cell_type": "code",
   "execution_count": 177,
   "metadata": {},
   "outputs": [
    {
     "data": {
      "application/vnd.jupyter.widget-view+json": {
       "model_id": "67cfcbef79dd4a5392cdbfb6df12cd89",
       "version_major": 2,
       "version_minor": 0
      },
      "text/plain": [
       "HBox(children=(IntProgress(value=0, max=2281), HTML(value='')))"
      ]
     },
     "metadata": {},
     "output_type": "display_data"
    },
    {
     "ename": "TypeError",
     "evalue": "object of type 'NoneType' has no len()",
     "output_type": "error",
     "traceback": [
      "\u001b[0;31m---------------------------------------------------------------------------\u001b[0m",
      "\u001b[0;31mTypeError\u001b[0m                                 Traceback (most recent call last)",
      "\u001b[0;32m<ipython-input-177-4b930a99a2e6>\u001b[0m in \u001b[0;36m<module>\u001b[0;34m()\u001b[0m\n\u001b[1;32m      4\u001b[0m     \u001b[0mjs\u001b[0m \u001b[0;34m=\u001b[0m \u001b[0mget_details\u001b[0m\u001b[0;34m(\u001b[0m\u001b[0mnumero\u001b[0m\u001b[0;34m)\u001b[0m\u001b[0;34m\u001b[0m\u001b[0m\n\u001b[1;32m      5\u001b[0m     \u001b[0memail\u001b[0m \u001b[0;34m=\u001b[0m \u001b[0mjs\u001b[0m\u001b[0;34m.\u001b[0m\u001b[0mget\u001b[0m\u001b[0;34m(\u001b[0m\u001b[0;34m\"result\"\u001b[0m\u001b[0;34m)\u001b[0m\u001b[0;34m.\u001b[0m\u001b[0mget\u001b[0m\u001b[0;34m(\u001b[0m\u001b[0;34m\"cnpj\"\u001b[0m\u001b[0;34m)\u001b[0m\u001b[0;34m.\u001b[0m\u001b[0mget\u001b[0m\u001b[0;34m(\u001b[0m\u001b[0;34m\"email\"\u001b[0m\u001b[0;34m)\u001b[0m\u001b[0;34m\u001b[0m\u001b[0m\n\u001b[0;32m----> 6\u001b[0;31m     \u001b[0;32mif\u001b[0m \u001b[0mlen\u001b[0m\u001b[0;34m(\u001b[0m\u001b[0memail\u001b[0m\u001b[0;34m)\u001b[0m \u001b[0;34m>\u001b[0m \u001b[0;36m0\u001b[0m \u001b[0;32mand\u001b[0m \u001b[0memail\u001b[0m \u001b[0;32mis\u001b[0m \u001b[0;32mnot\u001b[0m \u001b[0;32mNone\u001b[0m\u001b[0;34m:\u001b[0m\u001b[0;34m\u001b[0m\u001b[0m\n\u001b[0m\u001b[1;32m      7\u001b[0m         \u001b[0mdom\u001b[0m \u001b[0;34m=\u001b[0m \u001b[0memail\u001b[0m\u001b[0;34m.\u001b[0m\u001b[0msplit\u001b[0m\u001b[0;34m(\u001b[0m\u001b[0;34m\"@\"\u001b[0m\u001b[0;34m)\u001b[0m\u001b[0;34m\u001b[0m\u001b[0m\n\u001b[1;32m      8\u001b[0m         \u001b[0;32mif\u001b[0m \u001b[0mlen\u001b[0m\u001b[0;34m(\u001b[0m\u001b[0mdom\u001b[0m\u001b[0;34m)\u001b[0m \u001b[0;34m==\u001b[0m \u001b[0;36m1\u001b[0m\u001b[0;34m:\u001b[0m\u001b[0;34m\u001b[0m\u001b[0m\n",
      "\u001b[0;31mTypeError\u001b[0m: object of type 'NoneType' has no len()"
     ]
    }
   ],
   "source": [
    "resp = []\n",
    "for el in tqdm_notebook(df['cnpj'].unique().tolist()):\n",
    "    numero = df[df['cnpj']==el]['numero_consulta'].iloc[0]\n",
    "    js = get_details(numero)\n",
    "    email = js.get(\"result\").get(\"cnpj\").get(\"email\")\n",
    "    if len(email) > 0 and email is not None:\n",
    "        dom = email.split(\"@\")\n",
    "        if len(dom) == 1:\n",
    "            dom = email\n",
    "        else:\n",
    "            dom = dom[1].split(\".\")[0]\n",
    "    else:\n",
    "        dom = None\n",
    "    resp.append(pd.DataFrame({'cnpj' : [el], \"dominio\" : [dom]}))"
   ]
  },
  {
   "cell_type": "code",
   "execution_count": 179,
   "metadata": {},
   "outputs": [],
   "source": [
    "_df = pd.concat(resp)"
   ]
  },
  {
   "cell_type": "code",
   "execution_count": 180,
   "metadata": {},
   "outputs": [],
   "source": [
    "_cnpj = _df['cnpj'].unique().tolist()"
   ]
  },
  {
   "cell_type": "code",
   "execution_count": 182,
   "metadata": {},
   "outputs": [],
   "source": [
    "lista = [el for el in df['cnpj'].unique().tolist() if el not in _cnpj]"
   ]
  },
  {
   "cell_type": "code",
   "execution_count": 190,
   "metadata": {},
   "outputs": [
    {
     "data": {
      "application/vnd.jupyter.widget-view+json": {
       "model_id": "d9e3adbcaeaa4c0f99ef3e231d3427b4",
       "version_major": 2,
       "version_minor": 0
      },
      "text/plain": [
       "HBox(children=(IntProgress(value=0, max=82), HTML(value='')))"
      ]
     },
     "metadata": {},
     "output_type": "display_data"
    }
   ],
   "source": [
    "for el in tqdm_notebook(lista):\n",
    "    numero = df[df['cnpj']==el]['numero_consulta'].iloc[0]\n",
    "    js = get_details(numero)\n",
    "    email = js.get(\"result\").get(\"cnpj\").get(\"email\")\n",
    "    if email is None:\n",
    "        dom = None\n",
    "    else:\n",
    "        if len(email) > 0:\n",
    "            dom = email.split(\"@\")\n",
    "            if len(dom) == 1:\n",
    "                dom = \"site\"\n",
    "            else:\n",
    "                dom = dom[1].split(\".\")[0]\n",
    "        else:\n",
    "            dom = None\n",
    "    resp.append(pd.DataFrame({'cnpj' : [el], \"dominio\" : [dom]}))"
   ]
  },
  {
   "cell_type": "code",
   "execution_count": 191,
   "metadata": {},
   "outputs": [],
   "source": [
    "dfdom = pd.concat(resp)"
   ]
  },
  {
   "cell_type": "code",
   "execution_count": 192,
   "metadata": {},
   "outputs": [
    {
     "data": {
      "text/html": [
       "<div>\n",
       "<style scoped>\n",
       "    .dataframe tbody tr th:only-of-type {\n",
       "        vertical-align: middle;\n",
       "    }\n",
       "\n",
       "    .dataframe tbody tr th {\n",
       "        vertical-align: top;\n",
       "    }\n",
       "\n",
       "    .dataframe thead th {\n",
       "        text-align: right;\n",
       "    }\n",
       "</style>\n",
       "<table border=\"1\" class=\"dataframe\">\n",
       "  <thead>\n",
       "    <tr style=\"text-align: right;\">\n",
       "      <th></th>\n",
       "      <th>cnpj</th>\n",
       "      <th>dominio</th>\n",
       "    </tr>\n",
       "  </thead>\n",
       "  <tbody>\n",
       "    <tr>\n",
       "      <th>0</th>\n",
       "      <td>19008188000142</td>\n",
       "      <td>festabox</td>\n",
       "    </tr>\n",
       "    <tr>\n",
       "      <th>0</th>\n",
       "      <td>00748390000182</td>\n",
       "      <td>festabox</td>\n",
       "    </tr>\n",
       "    <tr>\n",
       "      <th>0</th>\n",
       "      <td>00272073000302</td>\n",
       "      <td>wmsassessoria</td>\n",
       "    </tr>\n",
       "    <tr>\n",
       "      <th>0</th>\n",
       "      <td>00570256000134</td>\n",
       "      <td>ocilcontabilidade</td>\n",
       "    </tr>\n",
       "    <tr>\n",
       "      <th>0</th>\n",
       "      <td>03403405000169</td>\n",
       "      <td>lupecontabilidade</td>\n",
       "    </tr>\n",
       "    <tr>\n",
       "      <th>0</th>\n",
       "      <td>04501499000171</td>\n",
       "      <td>exitumempresarial</td>\n",
       "    </tr>\n",
       "    <tr>\n",
       "      <th>0</th>\n",
       "      <td>05164765000180</td>\n",
       "      <td>None</td>\n",
       "    </tr>\n",
       "    <tr>\n",
       "      <th>0</th>\n",
       "      <td>05674948000146</td>\n",
       "      <td>None</td>\n",
       "    </tr>\n",
       "    <tr>\n",
       "      <th>0</th>\n",
       "      <td>05690993000194</td>\n",
       "      <td>patriciabonaldi</td>\n",
       "    </tr>\n",
       "    <tr>\n",
       "      <th>0</th>\n",
       "      <td>06135496000197</td>\n",
       "      <td>gigalink</td>\n",
       "    </tr>\n",
       "    <tr>\n",
       "      <th>0</th>\n",
       "      <td>07023773000132</td>\n",
       "      <td>None</td>\n",
       "    </tr>\n",
       "    <tr>\n",
       "      <th>0</th>\n",
       "      <td>07127571000130</td>\n",
       "      <td>pitbulljeansvarejo</td>\n",
       "    </tr>\n",
       "    <tr>\n",
       "      <th>0</th>\n",
       "      <td>07366146000102</td>\n",
       "      <td>None</td>\n",
       "    </tr>\n",
       "    <tr>\n",
       "      <th>0</th>\n",
       "      <td>07670088000106</td>\n",
       "      <td>duartebenetti</td>\n",
       "    </tr>\n",
       "    <tr>\n",
       "      <th>0</th>\n",
       "      <td>08792013000152</td>\n",
       "      <td>None</td>\n",
       "    </tr>\n",
       "    <tr>\n",
       "      <th>0</th>\n",
       "      <td>09252459000157</td>\n",
       "      <td>cargps</td>\n",
       "    </tr>\n",
       "    <tr>\n",
       "      <th>0</th>\n",
       "      <td>09300308000127</td>\n",
       "      <td>legaspi</td>\n",
       "    </tr>\n",
       "    <tr>\n",
       "      <th>0</th>\n",
       "      <td>09473928000168</td>\n",
       "      <td>gmail</td>\n",
       "    </tr>\n",
       "    <tr>\n",
       "      <th>0</th>\n",
       "      <td>10483781000176</td>\n",
       "      <td>parebem</td>\n",
       "    </tr>\n",
       "    <tr>\n",
       "      <th>0</th>\n",
       "      <td>10656548000148</td>\n",
       "      <td>wedologos</td>\n",
       "    </tr>\n",
       "    <tr>\n",
       "      <th>0</th>\n",
       "      <td>11296199000163</td>\n",
       "      <td>camilocontabilidade</td>\n",
       "    </tr>\n",
       "    <tr>\n",
       "      <th>0</th>\n",
       "      <td>11368892000102</td>\n",
       "      <td>mapacontabil</td>\n",
       "    </tr>\n",
       "    <tr>\n",
       "      <th>0</th>\n",
       "      <td>11682254000153</td>\n",
       "      <td>yahoo</td>\n",
       "    </tr>\n",
       "    <tr>\n",
       "      <th>0</th>\n",
       "      <td>13339969000133</td>\n",
       "      <td>casinhabonita</td>\n",
       "    </tr>\n",
       "    <tr>\n",
       "      <th>0</th>\n",
       "      <td>13633267000168</td>\n",
       "      <td>goncalveseassociados</td>\n",
       "    </tr>\n",
       "    <tr>\n",
       "      <th>0</th>\n",
       "      <td>13709442000153</td>\n",
       "      <td>soccasabranca</td>\n",
       "    </tr>\n",
       "    <tr>\n",
       "      <th>0</th>\n",
       "      <td>13952531000126</td>\n",
       "      <td>parracontabil</td>\n",
       "    </tr>\n",
       "    <tr>\n",
       "      <th>0</th>\n",
       "      <td>14168536000125</td>\n",
       "      <td>bmchyundai</td>\n",
       "    </tr>\n",
       "    <tr>\n",
       "      <th>0</th>\n",
       "      <td>14761474000160</td>\n",
       "      <td>hotmail</td>\n",
       "    </tr>\n",
       "    <tr>\n",
       "      <th>0</th>\n",
       "      <td>15435714000108</td>\n",
       "      <td>None</td>\n",
       "    </tr>\n",
       "    <tr>\n",
       "      <th>...</th>\n",
       "      <td>...</td>\n",
       "      <td>...</td>\n",
       "    </tr>\n",
       "    <tr>\n",
       "      <th>0</th>\n",
       "      <td>55816953000114</td>\n",
       "      <td>gmail</td>\n",
       "    </tr>\n",
       "    <tr>\n",
       "      <th>0</th>\n",
       "      <td>24139456000103</td>\n",
       "      <td>nbnconsultoriacontabil</td>\n",
       "    </tr>\n",
       "    <tr>\n",
       "      <th>0</th>\n",
       "      <td>29950566000166</td>\n",
       "      <td>gmail</td>\n",
       "    </tr>\n",
       "    <tr>\n",
       "      <th>0</th>\n",
       "      <td>39468574000124</td>\n",
       "      <td>ig</td>\n",
       "    </tr>\n",
       "    <tr>\n",
       "      <th>0</th>\n",
       "      <td>05511410000110</td>\n",
       "      <td>None</td>\n",
       "    </tr>\n",
       "    <tr>\n",
       "      <th>0</th>\n",
       "      <td>29119330000344</td>\n",
       "      <td>primefilter</td>\n",
       "    </tr>\n",
       "    <tr>\n",
       "      <th>0</th>\n",
       "      <td>22692153000180</td>\n",
       "      <td>ig</td>\n",
       "    </tr>\n",
       "    <tr>\n",
       "      <th>0</th>\n",
       "      <td>59649392000167</td>\n",
       "      <td>None</td>\n",
       "    </tr>\n",
       "    <tr>\n",
       "      <th>0</th>\n",
       "      <td>07361426000110</td>\n",
       "      <td>None</td>\n",
       "    </tr>\n",
       "    <tr>\n",
       "      <th>0</th>\n",
       "      <td>11582055000173</td>\n",
       "      <td>uol</td>\n",
       "    </tr>\n",
       "    <tr>\n",
       "      <th>0</th>\n",
       "      <td>08887253000130</td>\n",
       "      <td>None</td>\n",
       "    </tr>\n",
       "    <tr>\n",
       "      <th>0</th>\n",
       "      <td>12340256000127</td>\n",
       "      <td>desbrava</td>\n",
       "    </tr>\n",
       "    <tr>\n",
       "      <th>0</th>\n",
       "      <td>31427601000109</td>\n",
       "      <td>wcontabilidade</td>\n",
       "    </tr>\n",
       "    <tr>\n",
       "      <th>0</th>\n",
       "      <td>08958003000144</td>\n",
       "      <td>brturbo</td>\n",
       "    </tr>\n",
       "    <tr>\n",
       "      <th>0</th>\n",
       "      <td>07291589000173</td>\n",
       "      <td>None</td>\n",
       "    </tr>\n",
       "    <tr>\n",
       "      <th>0</th>\n",
       "      <td>07890391000106</td>\n",
       "      <td>terra</td>\n",
       "    </tr>\n",
       "    <tr>\n",
       "      <th>0</th>\n",
       "      <td>30750669000161</td>\n",
       "      <td>gmail</td>\n",
       "    </tr>\n",
       "    <tr>\n",
       "      <th>0</th>\n",
       "      <td>02219631000121</td>\n",
       "      <td>uol</td>\n",
       "    </tr>\n",
       "    <tr>\n",
       "      <th>0</th>\n",
       "      <td>30305490000103</td>\n",
       "      <td>gmail</td>\n",
       "    </tr>\n",
       "    <tr>\n",
       "      <th>0</th>\n",
       "      <td>09396386000177</td>\n",
       "      <td>triang</td>\n",
       "    </tr>\n",
       "    <tr>\n",
       "      <th>0</th>\n",
       "      <td>51452795000100</td>\n",
       "      <td>None</td>\n",
       "    </tr>\n",
       "    <tr>\n",
       "      <th>0</th>\n",
       "      <td>02180051000178</td>\n",
       "      <td>None</td>\n",
       "    </tr>\n",
       "    <tr>\n",
       "      <th>0</th>\n",
       "      <td>14137919000136</td>\n",
       "      <td>None</td>\n",
       "    </tr>\n",
       "    <tr>\n",
       "      <th>0</th>\n",
       "      <td>06910296000164</td>\n",
       "      <td>None</td>\n",
       "    </tr>\n",
       "    <tr>\n",
       "      <th>0</th>\n",
       "      <td>18703372000140</td>\n",
       "      <td>yahoo</td>\n",
       "    </tr>\n",
       "    <tr>\n",
       "      <th>0</th>\n",
       "      <td>27697508000147</td>\n",
       "      <td>None</td>\n",
       "    </tr>\n",
       "    <tr>\n",
       "      <th>0</th>\n",
       "      <td>01136501000162</td>\n",
       "      <td>vivax</td>\n",
       "    </tr>\n",
       "    <tr>\n",
       "      <th>0</th>\n",
       "      <td>09456517000164</td>\n",
       "      <td>hotmail</td>\n",
       "    </tr>\n",
       "    <tr>\n",
       "      <th>0</th>\n",
       "      <td>31156603000100</td>\n",
       "      <td>bol</td>\n",
       "    </tr>\n",
       "    <tr>\n",
       "      <th>0</th>\n",
       "      <td>24725977000134</td>\n",
       "      <td>hy</td>\n",
       "    </tr>\n",
       "  </tbody>\n",
       "</table>\n",
       "<p>2363 rows × 2 columns</p>\n",
       "</div>"
      ],
      "text/plain": [
       "              cnpj                 dominio\n",
       "0   19008188000142                festabox\n",
       "0   00748390000182                festabox\n",
       "0   00272073000302           wmsassessoria\n",
       "0   00570256000134       ocilcontabilidade\n",
       "0   03403405000169       lupecontabilidade\n",
       "0   04501499000171       exitumempresarial\n",
       "0   05164765000180                    None\n",
       "0   05674948000146                    None\n",
       "0   05690993000194         patriciabonaldi\n",
       "0   06135496000197                gigalink\n",
       "0   07023773000132                    None\n",
       "0   07127571000130      pitbulljeansvarejo\n",
       "0   07366146000102                    None\n",
       "0   07670088000106           duartebenetti\n",
       "0   08792013000152                    None\n",
       "0   09252459000157                  cargps\n",
       "0   09300308000127                 legaspi\n",
       "0   09473928000168                   gmail\n",
       "0   10483781000176                 parebem\n",
       "0   10656548000148               wedologos\n",
       "0   11296199000163     camilocontabilidade\n",
       "0   11368892000102            mapacontabil\n",
       "0   11682254000153                   yahoo\n",
       "0   13339969000133           casinhabonita\n",
       "0   13633267000168    goncalveseassociados\n",
       "0   13709442000153           soccasabranca\n",
       "0   13952531000126           parracontabil\n",
       "0   14168536000125              bmchyundai\n",
       "0   14761474000160                 hotmail\n",
       "0   15435714000108                    None\n",
       "..             ...                     ...\n",
       "0   55816953000114                   gmail\n",
       "0   24139456000103  nbnconsultoriacontabil\n",
       "0   29950566000166                   gmail\n",
       "0   39468574000124                      ig\n",
       "0   05511410000110                    None\n",
       "0   29119330000344             primefilter\n",
       "0   22692153000180                      ig\n",
       "0   59649392000167                    None\n",
       "0   07361426000110                    None\n",
       "0   11582055000173                     uol\n",
       "0   08887253000130                    None\n",
       "0   12340256000127                desbrava\n",
       "0   31427601000109          wcontabilidade\n",
       "0   08958003000144                 brturbo\n",
       "0   07291589000173                    None\n",
       "0   07890391000106                   terra\n",
       "0   30750669000161                   gmail\n",
       "0   02219631000121                     uol\n",
       "0   30305490000103                   gmail\n",
       "0   09396386000177                  triang\n",
       "0   51452795000100                    None\n",
       "0   02180051000178                    None\n",
       "0   14137919000136                    None\n",
       "0   06910296000164                    None\n",
       "0   18703372000140                   yahoo\n",
       "0   27697508000147                    None\n",
       "0   01136501000162                   vivax\n",
       "0   09456517000164                 hotmail\n",
       "0   31156603000100                     bol\n",
       "0   24725977000134                      hy\n",
       "\n",
       "[2363 rows x 2 columns]"
      ]
     },
     "execution_count": 192,
     "metadata": {},
     "output_type": "execute_result"
    }
   ],
   "source": [
    "dfdom"
   ]
  },
  {
   "cell_type": "code",
   "execution_count": 193,
   "metadata": {},
   "outputs": [
    {
     "data": {
      "text/html": [
       "<div>\n",
       "<style scoped>\n",
       "    .dataframe tbody tr th:only-of-type {\n",
       "        vertical-align: middle;\n",
       "    }\n",
       "\n",
       "    .dataframe tbody tr th {\n",
       "        vertical-align: top;\n",
       "    }\n",
       "\n",
       "    .dataframe thead th {\n",
       "        text-align: right;\n",
       "    }\n",
       "</style>\n",
       "<table border=\"1\" class=\"dataframe\">\n",
       "  <thead>\n",
       "    <tr style=\"text-align: right;\">\n",
       "      <th></th>\n",
       "      <th>cnpj</th>\n",
       "    </tr>\n",
       "    <tr>\n",
       "      <th>dominio</th>\n",
       "      <th></th>\n",
       "    </tr>\n",
       "  </thead>\n",
       "  <tbody>\n",
       "    <tr>\n",
       "      <th>hotmail</th>\n",
       "      <td>288</td>\n",
       "    </tr>\n",
       "    <tr>\n",
       "      <th>gmail</th>\n",
       "      <td>267</td>\n",
       "    </tr>\n",
       "    <tr>\n",
       "      <th>uol</th>\n",
       "      <td>93</td>\n",
       "    </tr>\n",
       "    <tr>\n",
       "      <th>terra</th>\n",
       "      <td>91</td>\n",
       "    </tr>\n",
       "    <tr>\n",
       "      <th>yahoo</th>\n",
       "      <td>72</td>\n",
       "    </tr>\n",
       "    <tr>\n",
       "      <th>ig</th>\n",
       "      <td>29</td>\n",
       "    </tr>\n",
       "    <tr>\n",
       "      <th>bol</th>\n",
       "      <td>24</td>\n",
       "    </tr>\n",
       "    <tr>\n",
       "      <th>outlook</th>\n",
       "      <td>22</td>\n",
       "    </tr>\n",
       "    <tr>\n",
       "      <th>globo</th>\n",
       "      <td>11</td>\n",
       "    </tr>\n",
       "    <tr>\n",
       "      <th>contabilidadeideal</th>\n",
       "      <td>9</td>\n",
       "    </tr>\n",
       "    <tr>\n",
       "      <th>brturbo</th>\n",
       "      <td>5</td>\n",
       "    </tr>\n",
       "    <tr>\n",
       "      <th>live</th>\n",
       "      <td>5</td>\n",
       "    </tr>\n",
       "    <tr>\n",
       "      <th>vivax</th>\n",
       "      <td>4</td>\n",
       "    </tr>\n",
       "    <tr>\n",
       "      <th>sevencontabilidade</th>\n",
       "      <td>4</td>\n",
       "    </tr>\n",
       "    <tr>\n",
       "      <th>morenocontabilidade</th>\n",
       "      <td>4</td>\n",
       "    </tr>\n",
       "    <tr>\n",
       "      <th>superig</th>\n",
       "      <td>4</td>\n",
       "    </tr>\n",
       "    <tr>\n",
       "      <th>festabox</th>\n",
       "      <td>3</td>\n",
       "    </tr>\n",
       "    <tr>\n",
       "      <th>netuno</th>\n",
       "      <td>3</td>\n",
       "    </tr>\n",
       "    <tr>\n",
       "      <th>oul</th>\n",
       "      <td>3</td>\n",
       "    </tr>\n",
       "    <tr>\n",
       "      <th>araujocontabilidade</th>\n",
       "      <td>3</td>\n",
       "    </tr>\n",
       "    <tr>\n",
       "      <th>gvcontabil</th>\n",
       "      <td>3</td>\n",
       "    </tr>\n",
       "    <tr>\n",
       "      <th>wcontabilidade</th>\n",
       "      <td>3</td>\n",
       "    </tr>\n",
       "    <tr>\n",
       "      <th>despachanteschmitz</th>\n",
       "      <td>2</td>\n",
       "    </tr>\n",
       "    <tr>\n",
       "      <th>busanelli</th>\n",
       "      <td>2</td>\n",
       "    </tr>\n",
       "    <tr>\n",
       "      <th>oi</th>\n",
       "      <td>2</td>\n",
       "    </tr>\n",
       "    <tr>\n",
       "      <th>ekmservicos</th>\n",
       "      <td>2</td>\n",
       "    </tr>\n",
       "    <tr>\n",
       "      <th>backconsultoria</th>\n",
       "      <td>2</td>\n",
       "    </tr>\n",
       "    <tr>\n",
       "      <th>triang</th>\n",
       "      <td>2</td>\n",
       "    </tr>\n",
       "    <tr>\n",
       "      <th>contabilizei</th>\n",
       "      <td>2</td>\n",
       "    </tr>\n",
       "    <tr>\n",
       "      <th>ferreirabarbosa</th>\n",
       "      <td>2</td>\n",
       "    </tr>\n",
       "    <tr>\n",
       "      <th>...</th>\n",
       "      <td>...</td>\n",
       "    </tr>\n",
       "    <tr>\n",
       "      <th>enveloparia</th>\n",
       "      <td>1</td>\n",
       "    </tr>\n",
       "    <tr>\n",
       "      <th>equinautic</th>\n",
       "      <td>1</td>\n",
       "    </tr>\n",
       "    <tr>\n",
       "      <th>ergovita</th>\n",
       "      <td>1</td>\n",
       "    </tr>\n",
       "    <tr>\n",
       "      <th>escolademaquiagem</th>\n",
       "      <td>1</td>\n",
       "    </tr>\n",
       "    <tr>\n",
       "      <th>escont</th>\n",
       "      <td>1</td>\n",
       "    </tr>\n",
       "    <tr>\n",
       "      <th>escorecont</th>\n",
       "      <td>1</td>\n",
       "    </tr>\n",
       "    <tr>\n",
       "      <th>escritoriomillenium</th>\n",
       "      <td>1</td>\n",
       "    </tr>\n",
       "    <tr>\n",
       "      <th>escritoriomorelli</th>\n",
       "      <td>1</td>\n",
       "    </tr>\n",
       "    <tr>\n",
       "      <th>escritorioms</th>\n",
       "      <td>1</td>\n",
       "    </tr>\n",
       "    <tr>\n",
       "      <th>eascon</th>\n",
       "      <td>1</td>\n",
       "    </tr>\n",
       "    <tr>\n",
       "      <th>eaad</th>\n",
       "      <td>1</td>\n",
       "    </tr>\n",
       "    <tr>\n",
       "      <th>dupol</th>\n",
       "      <td>1</td>\n",
       "    </tr>\n",
       "    <tr>\n",
       "      <th>diretrizcontabilidade</th>\n",
       "      <td>1</td>\n",
       "    </tr>\n",
       "    <tr>\n",
       "      <th>despgilberto</th>\n",
       "      <td>1</td>\n",
       "    </tr>\n",
       "    <tr>\n",
       "      <th>dglnet</th>\n",
       "      <td>1</td>\n",
       "    </tr>\n",
       "    <tr>\n",
       "      <th>diariodocha</th>\n",
       "      <td>1</td>\n",
       "    </tr>\n",
       "    <tr>\n",
       "      <th>diconcontabilidade</th>\n",
       "      <td>1</td>\n",
       "    </tr>\n",
       "    <tr>\n",
       "      <th>digiconcontabil</th>\n",
       "      <td>1</td>\n",
       "    </tr>\n",
       "    <tr>\n",
       "      <th>dimasfp</th>\n",
       "      <td>1</td>\n",
       "    </tr>\n",
       "    <tr>\n",
       "      <th>dinamicacontabil</th>\n",
       "      <td>1</td>\n",
       "    </tr>\n",
       "    <tr>\n",
       "      <th>distribuidoracaue</th>\n",
       "      <td>1</td>\n",
       "    </tr>\n",
       "    <tr>\n",
       "      <th>dunzer</th>\n",
       "      <td>1</td>\n",
       "    </tr>\n",
       "    <tr>\n",
       "      <th>districomp</th>\n",
       "      <td>1</td>\n",
       "    </tr>\n",
       "    <tr>\n",
       "      <th>donalcides</th>\n",
       "      <td>1</td>\n",
       "    </tr>\n",
       "    <tr>\n",
       "      <th>donamaid</th>\n",
       "      <td>1</td>\n",
       "    </tr>\n",
       "    <tr>\n",
       "      <th>donnacarioca</th>\n",
       "      <td>1</td>\n",
       "    </tr>\n",
       "    <tr>\n",
       "      <th>doutorcontabil</th>\n",
       "      <td>1</td>\n",
       "    </tr>\n",
       "    <tr>\n",
       "      <th>dropeyewear</th>\n",
       "      <td>1</td>\n",
       "    </tr>\n",
       "    <tr>\n",
       "      <th>dubbi</th>\n",
       "      <td>1</td>\n",
       "    </tr>\n",
       "    <tr>\n",
       "      <th>zylbercontabilidade</th>\n",
       "      <td>1</td>\n",
       "    </tr>\n",
       "  </tbody>\n",
       "</table>\n",
       "<p>696 rows × 1 columns</p>\n",
       "</div>"
      ],
      "text/plain": [
       "                       cnpj\n",
       "dominio                    \n",
       "hotmail                 288\n",
       "gmail                   267\n",
       "uol                      93\n",
       "terra                    91\n",
       "yahoo                    72\n",
       "ig                       29\n",
       "bol                      24\n",
       "outlook                  22\n",
       "globo                    11\n",
       "contabilidadeideal        9\n",
       "brturbo                   5\n",
       "live                      5\n",
       "vivax                     4\n",
       "sevencontabilidade        4\n",
       "morenocontabilidade       4\n",
       "superig                   4\n",
       "festabox                  3\n",
       "netuno                    3\n",
       "oul                       3\n",
       "araujocontabilidade       3\n",
       "gvcontabil                3\n",
       "wcontabilidade            3\n",
       "despachanteschmitz        2\n",
       "busanelli                 2\n",
       "oi                        2\n",
       "ekmservicos               2\n",
       "backconsultoria           2\n",
       "triang                    2\n",
       "contabilizei              2\n",
       "ferreirabarbosa           2\n",
       "...                     ...\n",
       "enveloparia               1\n",
       "equinautic                1\n",
       "ergovita                  1\n",
       "escolademaquiagem         1\n",
       "escont                    1\n",
       "escorecont                1\n",
       "escritoriomillenium       1\n",
       "escritoriomorelli         1\n",
       "escritorioms              1\n",
       "eascon                    1\n",
       "eaad                      1\n",
       "dupol                     1\n",
       "diretrizcontabilidade     1\n",
       "despgilberto              1\n",
       "dglnet                    1\n",
       "diariodocha               1\n",
       "diconcontabilidade        1\n",
       "digiconcontabil           1\n",
       "dimasfp                   1\n",
       "dinamicacontabil          1\n",
       "distribuidoracaue         1\n",
       "dunzer                    1\n",
       "districomp                1\n",
       "donalcides                1\n",
       "donamaid                  1\n",
       "donnacarioca              1\n",
       "doutorcontabil            1\n",
       "dropeyewear               1\n",
       "dubbi                     1\n",
       "zylbercontabilidade       1\n",
       "\n",
       "[696 rows x 1 columns]"
      ]
     },
     "execution_count": 193,
     "metadata": {},
     "output_type": "execute_result"
    }
   ],
   "source": [
    "dfdom.groupby(\"dominio\").count().sort_values(\"cnpj\", ascending=False)"
   ]
  },
  {
   "cell_type": "code",
   "execution_count": 195,
   "metadata": {},
   "outputs": [
    {
     "data": {
      "text/html": [
       "<div>\n",
       "<style scoped>\n",
       "    .dataframe tbody tr th:only-of-type {\n",
       "        vertical-align: middle;\n",
       "    }\n",
       "\n",
       "    .dataframe tbody tr th {\n",
       "        vertical-align: top;\n",
       "    }\n",
       "\n",
       "    .dataframe thead th {\n",
       "        text-align: right;\n",
       "    }\n",
       "</style>\n",
       "<table border=\"1\" class=\"dataframe\">\n",
       "  <thead>\n",
       "    <tr style=\"text-align: right;\">\n",
       "      <th></th>\n",
       "      <th>cnpj</th>\n",
       "      <th>dominio</th>\n",
       "    </tr>\n",
       "  </thead>\n",
       "  <tbody>\n",
       "  </tbody>\n",
       "</table>\n",
       "</div>"
      ],
      "text/plain": [
       "Empty DataFrame\n",
       "Columns: [cnpj, dominio]\n",
       "Index: []"
      ]
     },
     "execution_count": 195,
     "metadata": {},
     "output_type": "execute_result"
    }
   ],
   "source": [
    "dfdom[dfdom[\"dominio\"]=='site']"
   ]
  },
  {
   "cell_type": "code",
   "execution_count": 163,
   "metadata": {},
   "outputs": [
    {
     "data": {
      "text/plain": [
       "['www.ama.org.br']"
      ]
     },
     "execution_count": 163,
     "metadata": {},
     "output_type": "execute_result"
    }
   ],
   "source": [
    "email.split(\"@\")"
   ]
  },
  {
   "cell_type": "code",
   "execution_count": 168,
   "metadata": {},
   "outputs": [],
   "source": [
    "email = js.get(\"result\").get(\"cnpj\").get('email')"
   ]
  },
  {
   "cell_type": "code",
   "execution_count": 170,
   "metadata": {},
   "outputs": [
    {
     "data": {
      "text/plain": [
       "['www.ama.org.br']"
      ]
     },
     "execution_count": 170,
     "metadata": {},
     "output_type": "execute_result"
    }
   ],
   "source": [
    "email.split(\"@\")"
   ]
  },
  {
   "cell_type": "code",
   "execution_count": null,
   "metadata": {},
   "outputs": [],
   "source": []
  }
 ],
 "metadata": {
  "kernelspec": {
   "display_name": "Python 3",
   "language": "python",
   "name": "python3"
  },
  "language_info": {
   "codemirror_mode": {
    "name": "ipython",
    "version": 3
   },
   "file_extension": ".py",
   "mimetype": "text/x-python",
   "name": "python",
   "nbconvert_exporter": "python",
   "pygments_lexer": "ipython3",
   "version": "3.6.5"
  }
 },
 "nbformat": 4,
 "nbformat_minor": 2
}
