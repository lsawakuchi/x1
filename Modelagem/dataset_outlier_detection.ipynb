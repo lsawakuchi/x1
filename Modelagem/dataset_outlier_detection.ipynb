{
 "cells": [
  {
   "cell_type": "code",
   "execution_count": 1,
   "metadata": {},
   "outputs": [],
   "source": [
    "import pandas as pd"
   ]
  },
  {
   "cell_type": "code",
   "execution_count": 2,
   "metadata": {},
   "outputs": [],
   "source": [
    "df_idade = pd.read_excel(\"../tabelas/idade_empresas.xlsx\")"
   ]
  },
  {
   "cell_type": "code",
   "execution_count": 133,
   "metadata": {},
   "outputs": [],
   "source": [
    "df1 = pd.read_excel(\"../tabelas/dataset_metricas_score_completo_20190425.xlsx\")"
   ]
  },
  {
   "cell_type": "code",
   "execution_count": 135,
   "metadata": {},
   "outputs": [
    {
     "data": {
      "text/html": [
       "<div>\n",
       "<style scoped>\n",
       "    .dataframe tbody tr th:only-of-type {\n",
       "        vertical-align: middle;\n",
       "    }\n",
       "\n",
       "    .dataframe tbody tr th {\n",
       "        vertical-align: top;\n",
       "    }\n",
       "\n",
       "    .dataframe thead th {\n",
       "        text-align: right;\n",
       "    }\n",
       "</style>\n",
       "<table border=\"1\" class=\"dataframe\">\n",
       "  <thead>\n",
       "    <tr style=\"text-align: right;\">\n",
       "      <th></th>\n",
       "      <th>cnpj</th>\n",
       "      <th>segmento</th>\n",
       "      <th>ocorrencias</th>\n",
       "      <th>probabilidade</th>\n",
       "      <th>valor_divida</th>\n",
       "      <th>composicao</th>\n",
       "      <th>fat_medio</th>\n",
       "      <th>pi</th>\n",
       "      <th>lambda</th>\n",
       "      <th>impacto_segmento</th>\n",
       "      <th>risco</th>\n",
       "      <th>dscore</th>\n",
       "      <th>peso</th>\n",
       "      <th>score</th>\n",
       "    </tr>\n",
       "  </thead>\n",
       "  <tbody>\n",
       "  </tbody>\n",
       "</table>\n",
       "</div>"
      ],
      "text/plain": [
       "Empty DataFrame\n",
       "Columns: [cnpj, segmento, ocorrencias, probabilidade, valor_divida, composicao, fat_medio, pi, lambda, impacto_segmento, risco, dscore, peso, score]\n",
       "Index: []"
      ]
     },
     "execution_count": 135,
     "metadata": {},
     "output_type": "execute_result"
    }
   ],
   "source": [
    "df1[df1[\"cnpj\"]==60701190000104]"
   ]
  },
  {
   "cell_type": "code",
   "execution_count": null,
   "metadata": {},
   "outputs": [],
   "source": []
  },
  {
   "cell_type": "code",
   "execution_count": null,
   "metadata": {},
   "outputs": [],
   "source": []
  },
  {
   "cell_type": "code",
   "execution_count": 12,
   "metadata": {},
   "outputs": [
    {
     "data": {
      "text/plain": [
       "491"
      ]
     },
     "execution_count": 12,
     "metadata": {},
     "output_type": "execute_result"
    }
   ],
   "source": [
    "df1[\"cnpj\"].unique().tolist().__len__()"
   ]
  },
  {
   "cell_type": "code",
   "execution_count": 14,
   "metadata": {},
   "outputs": [],
   "source": [
    "df1[\"cnpj\"] = df1[\"cnpj\"].astype(str)\n",
    "df1[\"cnpj\"] = df1.apply(lambda x : \"0\" + x[\"cnpj\"] if len(x[\"cnpj\"])==13 else\n",
    "                      (\"00\" + x[\"cnpj\"] if len(x[\"cnpj\"])==12 else x[\"cnpj\"]), axis=1)"
   ]
  },
  {
   "cell_type": "code",
   "execution_count": 26,
   "metadata": {},
   "outputs": [
    {
     "data": {
      "text/html": [
       "<div>\n",
       "<style scoped>\n",
       "    .dataframe tbody tr th:only-of-type {\n",
       "        vertical-align: middle;\n",
       "    }\n",
       "\n",
       "    .dataframe tbody tr th {\n",
       "        vertical-align: top;\n",
       "    }\n",
       "\n",
       "    .dataframe thead th {\n",
       "        text-align: right;\n",
       "    }\n",
       "</style>\n",
       "<table border=\"1\" class=\"dataframe\">\n",
       "  <thead>\n",
       "    <tr style=\"text-align: right;\">\n",
       "      <th></th>\n",
       "      <th>cnpj</th>\n",
       "      <th>segmento</th>\n",
       "      <th>ocorrencias</th>\n",
       "      <th>probabilidade</th>\n",
       "      <th>valor_divida</th>\n",
       "      <th>composicao</th>\n",
       "      <th>fat_medio</th>\n",
       "      <th>pi</th>\n",
       "      <th>lambda</th>\n",
       "      <th>impacto_segmento</th>\n",
       "      <th>risco</th>\n",
       "      <th>dscore</th>\n",
       "      <th>peso</th>\n",
       "      <th>score</th>\n",
       "    </tr>\n",
       "  </thead>\n",
       "  <tbody>\n",
       "    <tr>\n",
       "      <th>2</th>\n",
       "      <td>00272073000302</td>\n",
       "      <td>outros</td>\n",
       "      <td>6</td>\n",
       "      <td>1.0</td>\n",
       "      <td>9659.96</td>\n",
       "      <td>1.0</td>\n",
       "      <td>139381.200000</td>\n",
       "      <td>0.046204</td>\n",
       "      <td>0.046204</td>\n",
       "      <td>0.011551</td>\n",
       "      <td>0.011551</td>\n",
       "      <td>691.914295</td>\n",
       "      <td>1</td>\n",
       "      <td>691.914295</td>\n",
       "    </tr>\n",
       "    <tr>\n",
       "      <th>8</th>\n",
       "      <td>05164765000180</td>\n",
       "      <td>outros</td>\n",
       "      <td>2</td>\n",
       "      <td>1.0</td>\n",
       "      <td>3100.56</td>\n",
       "      <td>1.0</td>\n",
       "      <td>94885.300000</td>\n",
       "      <td>0.021785</td>\n",
       "      <td>0.021785</td>\n",
       "      <td>0.005446</td>\n",
       "      <td>0.005446</td>\n",
       "      <td>696.187692</td>\n",
       "      <td>1</td>\n",
       "      <td>696.187692</td>\n",
       "    </tr>\n",
       "    <tr>\n",
       "      <th>9</th>\n",
       "      <td>05674948000146</td>\n",
       "      <td>outros</td>\n",
       "      <td>3</td>\n",
       "      <td>1.0</td>\n",
       "      <td>6202.47</td>\n",
       "      <td>1.0</td>\n",
       "      <td>14578.056667</td>\n",
       "      <td>0.283644</td>\n",
       "      <td>0.283644</td>\n",
       "      <td>0.070911</td>\n",
       "      <td>0.070911</td>\n",
       "      <td>650.362280</td>\n",
       "      <td>1</td>\n",
       "      <td>650.362280</td>\n",
       "    </tr>\n",
       "    <tr>\n",
       "      <th>11</th>\n",
       "      <td>06135496000197</td>\n",
       "      <td>outros</td>\n",
       "      <td>1</td>\n",
       "      <td>1.0</td>\n",
       "      <td>74.77</td>\n",
       "      <td>1.0</td>\n",
       "      <td>7751.399167</td>\n",
       "      <td>0.006431</td>\n",
       "      <td>0.006431</td>\n",
       "      <td>0.001608</td>\n",
       "      <td>0.001608</td>\n",
       "      <td>698.874633</td>\n",
       "      <td>1</td>\n",
       "      <td>698.874633</td>\n",
       "    </tr>\n",
       "    <tr>\n",
       "      <th>12</th>\n",
       "      <td>07127571000130</td>\n",
       "      <td>outros</td>\n",
       "      <td>4</td>\n",
       "      <td>1.0</td>\n",
       "      <td>2648.22</td>\n",
       "      <td>1.0</td>\n",
       "      <td>147721.475000</td>\n",
       "      <td>0.011951</td>\n",
       "      <td>0.011951</td>\n",
       "      <td>0.002988</td>\n",
       "      <td>0.002988</td>\n",
       "      <td>697.908503</td>\n",
       "      <td>1</td>\n",
       "      <td>697.908503</td>\n",
       "    </tr>\n",
       "  </tbody>\n",
       "</table>\n",
       "</div>"
      ],
      "text/plain": [
       "              cnpj segmento  ocorrencias  probabilidade  valor_divida  \\\n",
       "2   00272073000302   outros            6            1.0       9659.96   \n",
       "8   05164765000180   outros            2            1.0       3100.56   \n",
       "9   05674948000146   outros            3            1.0       6202.47   \n",
       "11  06135496000197   outros            1            1.0         74.77   \n",
       "12  07127571000130   outros            4            1.0       2648.22   \n",
       "\n",
       "    composicao      fat_medio        pi    lambda  impacto_segmento     risco  \\\n",
       "2          1.0  139381.200000  0.046204  0.046204          0.011551  0.011551   \n",
       "8          1.0   94885.300000  0.021785  0.021785          0.005446  0.005446   \n",
       "9          1.0   14578.056667  0.283644  0.283644          0.070911  0.070911   \n",
       "11         1.0    7751.399167  0.006431  0.006431          0.001608  0.001608   \n",
       "12         1.0  147721.475000  0.011951  0.011951          0.002988  0.002988   \n",
       "\n",
       "        dscore  peso       score  \n",
       "2   691.914295     1  691.914295  \n",
       "8   696.187692     1  696.187692  \n",
       "9   650.362280     1  650.362280  \n",
       "11  698.874633     1  698.874633  \n",
       "12  697.908503     1  697.908503  "
      ]
     },
     "execution_count": 26,
     "metadata": {},
     "output_type": "execute_result"
    }
   ],
   "source": [
    "# df1 só tem os que passaram pelos criterios de elegibilidade\n",
    "df1.head()"
   ]
  },
  {
   "cell_type": "code",
   "execution_count": 17,
   "metadata": {},
   "outputs": [],
   "source": [
    "df2 = pd.read_excel(\"../tabelas/dataset_modelo_201904.xlsx\")"
   ]
  },
  {
   "cell_type": "code",
   "execution_count": 19,
   "metadata": {},
   "outputs": [
    {
     "data": {
      "text/plain": [
       "717"
      ]
     },
     "execution_count": 19,
     "metadata": {},
     "output_type": "execute_result"
    }
   ],
   "source": [
    "df2[\"cnpj\"].unique().tolist().__len__()"
   ]
  },
  {
   "cell_type": "code",
   "execution_count": 21,
   "metadata": {},
   "outputs": [],
   "source": [
    "df2[\"cnpj\"] = df2[\"cnpj\"].astype(str)\n",
    "df2[\"cnpj\"] = df2.apply(lambda x : \"0\" + x[\"cnpj\"] if len(x[\"cnpj\"])==13 else\n",
    "                      (\"00\" + x[\"cnpj\"] if len(x[\"cnpj\"])==12 else x[\"cnpj\"]), axis=1)"
   ]
  },
  {
   "cell_type": "code",
   "execution_count": 23,
   "metadata": {},
   "outputs": [
    {
     "data": {
      "text/html": [
       "<div>\n",
       "<style scoped>\n",
       "    .dataframe tbody tr th:only-of-type {\n",
       "        vertical-align: middle;\n",
       "    }\n",
       "\n",
       "    .dataframe tbody tr th {\n",
       "        vertical-align: top;\n",
       "    }\n",
       "\n",
       "    .dataframe thead th {\n",
       "        text-align: right;\n",
       "    }\n",
       "</style>\n",
       "<table border=\"1\" class=\"dataframe\">\n",
       "  <thead>\n",
       "    <tr style=\"text-align: right;\">\n",
       "      <th></th>\n",
       "      <th>cnpj</th>\n",
       "      <th>prop_divida</th>\n",
       "      <th>quantidade_cheques</th>\n",
       "      <th>tempo_medio</th>\n",
       "      <th>idade_maxima</th>\n",
       "      <th>credito</th>\n",
       "      <th>infra</th>\n",
       "      <th>outros</th>\n",
       "      <th>processos</th>\n",
       "      <th>dispersao</th>\n",
       "    </tr>\n",
       "  </thead>\n",
       "  <tbody>\n",
       "    <tr>\n",
       "      <th>0</th>\n",
       "      <td>00178663000281</td>\n",
       "      <td>128.547136</td>\n",
       "      <td>17</td>\n",
       "      <td>6.497006</td>\n",
       "      <td>1134</td>\n",
       "      <td>0.226849</td>\n",
       "      <td>0.299252</td>\n",
       "      <td>0.151041</td>\n",
       "      <td>0.322858</td>\n",
       "      <td>0.0</td>\n",
       "    </tr>\n",
       "    <tr>\n",
       "      <th>1</th>\n",
       "      <td>00225356000123</td>\n",
       "      <td>0.007152</td>\n",
       "      <td>0</td>\n",
       "      <td>0.000000</td>\n",
       "      <td>1793</td>\n",
       "      <td>0.000000</td>\n",
       "      <td>0.000000</td>\n",
       "      <td>1.000000</td>\n",
       "      <td>0.000000</td>\n",
       "      <td>0.0</td>\n",
       "    </tr>\n",
       "    <tr>\n",
       "      <th>2</th>\n",
       "      <td>00265954000207</td>\n",
       "      <td>0.003095</td>\n",
       "      <td>0</td>\n",
       "      <td>0.000000</td>\n",
       "      <td>73</td>\n",
       "      <td>0.000000</td>\n",
       "      <td>0.000000</td>\n",
       "      <td>1.000000</td>\n",
       "      <td>0.000000</td>\n",
       "      <td>0.0</td>\n",
       "    </tr>\n",
       "    <tr>\n",
       "      <th>3</th>\n",
       "      <td>00272073000302</td>\n",
       "      <td>0.069306</td>\n",
       "      <td>0</td>\n",
       "      <td>48.600000</td>\n",
       "      <td>320</td>\n",
       "      <td>0.000000</td>\n",
       "      <td>0.000000</td>\n",
       "      <td>1.000000</td>\n",
       "      <td>0.000000</td>\n",
       "      <td>0.0</td>\n",
       "    </tr>\n",
       "    <tr>\n",
       "      <th>4</th>\n",
       "      <td>00437101000124</td>\n",
       "      <td>1.279481</td>\n",
       "      <td>0</td>\n",
       "      <td>31.666667</td>\n",
       "      <td>283</td>\n",
       "      <td>0.972151</td>\n",
       "      <td>0.000000</td>\n",
       "      <td>0.027849</td>\n",
       "      <td>0.000000</td>\n",
       "      <td>0.0</td>\n",
       "    </tr>\n",
       "  </tbody>\n",
       "</table>\n",
       "</div>"
      ],
      "text/plain": [
       "             cnpj  prop_divida  quantidade_cheques  tempo_medio  idade_maxima  \\\n",
       "0  00178663000281   128.547136                  17     6.497006          1134   \n",
       "1  00225356000123     0.007152                   0     0.000000          1793   \n",
       "2  00265954000207     0.003095                   0     0.000000            73   \n",
       "3  00272073000302     0.069306                   0    48.600000           320   \n",
       "4  00437101000124     1.279481                   0    31.666667           283   \n",
       "\n",
       "    credito     infra    outros  processos  dispersao  \n",
       "0  0.226849  0.299252  0.151041   0.322858        0.0  \n",
       "1  0.000000  0.000000  1.000000   0.000000        0.0  \n",
       "2  0.000000  0.000000  1.000000   0.000000        0.0  \n",
       "3  0.000000  0.000000  1.000000   0.000000        0.0  \n",
       "4  0.972151  0.000000  0.027849   0.000000        0.0  "
      ]
     },
     "execution_count": 23,
     "metadata": {},
     "output_type": "execute_result"
    }
   ],
   "source": [
    "df2.head()"
   ]
  },
  {
   "cell_type": "code",
   "execution_count": 25,
   "metadata": {},
   "outputs": [
    {
     "data": {
      "text/html": [
       "<div>\n",
       "<style scoped>\n",
       "    .dataframe tbody tr th:only-of-type {\n",
       "        vertical-align: middle;\n",
       "    }\n",
       "\n",
       "    .dataframe tbody tr th {\n",
       "        vertical-align: top;\n",
       "    }\n",
       "\n",
       "    .dataframe thead th {\n",
       "        text-align: right;\n",
       "    }\n",
       "</style>\n",
       "<table border=\"1\" class=\"dataframe\">\n",
       "  <thead>\n",
       "    <tr style=\"text-align: right;\">\n",
       "      <th></th>\n",
       "      <th>cnpj</th>\n",
       "      <th>segmento</th>\n",
       "      <th>ocorrencias</th>\n",
       "      <th>probabilidade</th>\n",
       "      <th>valor_divida</th>\n",
       "      <th>composicao</th>\n",
       "      <th>fat_medio</th>\n",
       "      <th>pi</th>\n",
       "      <th>lambda</th>\n",
       "      <th>impacto_segmento</th>\n",
       "      <th>risco</th>\n",
       "      <th>dscore</th>\n",
       "      <th>peso</th>\n",
       "      <th>score</th>\n",
       "    </tr>\n",
       "  </thead>\n",
       "  <tbody>\n",
       "    <tr>\n",
       "      <th>735</th>\n",
       "      <td>00225356000123</td>\n",
       "      <td>outros</td>\n",
       "      <td>1</td>\n",
       "      <td>1.0</td>\n",
       "      <td>174.98</td>\n",
       "      <td>1.0</td>\n",
       "      <td>24467.0</td>\n",
       "      <td>0.004768</td>\n",
       "      <td>0.004768</td>\n",
       "      <td>0.001192</td>\n",
       "      <td>0.001192</td>\n",
       "      <td>699.165638</td>\n",
       "      <td>1</td>\n",
       "      <td>699.165638</td>\n",
       "    </tr>\n",
       "  </tbody>\n",
       "</table>\n",
       "</div>"
      ],
      "text/plain": [
       "               cnpj segmento  ocorrencias  probabilidade  valor_divida  \\\n",
       "735  00225356000123   outros            1            1.0        174.98   \n",
       "\n",
       "     composicao  fat_medio        pi    lambda  impacto_segmento     risco  \\\n",
       "735         1.0    24467.0  0.004768  0.004768          0.001192  0.001192   \n",
       "\n",
       "         dscore  peso       score  \n",
       "735  699.165638     1  699.165638  "
      ]
     },
     "execution_count": 25,
     "metadata": {},
     "output_type": "execute_result"
    }
   ],
   "source": [
    "df1[df1[\"cnpj\"]=='00225356000123']"
   ]
  },
  {
   "cell_type": "code",
   "execution_count": 28,
   "metadata": {},
   "outputs": [
    {
     "data": {
      "text/plain": [
       "Index(['cnpj', 'segmento', 'ocorrencias', 'probabilidade', 'valor_divida',\n",
       "       'composicao', 'fat_medio', 'pi', 'lambda', 'impacto_segmento', 'risco',\n",
       "       'dscore', 'peso', 'score'],\n",
       "      dtype='object')"
      ]
     },
     "execution_count": 28,
     "metadata": {},
     "output_type": "execute_result"
    }
   ],
   "source": [
    "df1.columns"
   ]
  },
  {
   "cell_type": "code",
   "execution_count": 29,
   "metadata": {},
   "outputs": [],
   "source": [
    "# funcao do segmento : ocorrencias, composicao, risco"
   ]
  },
  {
   "cell_type": "code",
   "execution_count": 33,
   "metadata": {},
   "outputs": [],
   "source": [
    "df_ocorrencias = df1.pivot(index=\"cnpj\", columns=\"segmento\", values=\"ocorrencias\").reset_index()"
   ]
  },
  {
   "cell_type": "code",
   "execution_count": 37,
   "metadata": {},
   "outputs": [],
   "source": [
    "df_ocorrencias = df_ocorrencias[[\"cnpj\", \"credito\", \"processos\", \"infra\", \"outros\"]].fillna(0)"
   ]
  },
  {
   "cell_type": "code",
   "execution_count": 39,
   "metadata": {},
   "outputs": [],
   "source": [
    "df_ocorrencias.columns = [\"cnpj\", \"num_ocorr_cr\", \"num_ocorr_proc\", \"num_ocorr_infra\", \"num_ocorr_out\"]"
   ]
  },
  {
   "cell_type": "code",
   "execution_count": 41,
   "metadata": {},
   "outputs": [
    {
     "data": {
      "text/html": [
       "<div>\n",
       "<style scoped>\n",
       "    .dataframe tbody tr th:only-of-type {\n",
       "        vertical-align: middle;\n",
       "    }\n",
       "\n",
       "    .dataframe tbody tr th {\n",
       "        vertical-align: top;\n",
       "    }\n",
       "\n",
       "    .dataframe thead th {\n",
       "        text-align: right;\n",
       "    }\n",
       "</style>\n",
       "<table border=\"1\" class=\"dataframe\">\n",
       "  <thead>\n",
       "    <tr style=\"text-align: right;\">\n",
       "      <th></th>\n",
       "      <th>cnpj</th>\n",
       "      <th>num_ocorr_cr</th>\n",
       "      <th>num_ocorr_proc</th>\n",
       "      <th>num_ocorr_infra</th>\n",
       "      <th>num_ocorr_out</th>\n",
       "    </tr>\n",
       "  </thead>\n",
       "  <tbody>\n",
       "    <tr>\n",
       "      <th>0</th>\n",
       "      <td>00225356000123</td>\n",
       "      <td>0.0</td>\n",
       "      <td>0.0</td>\n",
       "      <td>0.0</td>\n",
       "      <td>1.0</td>\n",
       "    </tr>\n",
       "    <tr>\n",
       "      <th>1</th>\n",
       "      <td>00265954000207</td>\n",
       "      <td>0.0</td>\n",
       "      <td>0.0</td>\n",
       "      <td>0.0</td>\n",
       "      <td>1.0</td>\n",
       "    </tr>\n",
       "    <tr>\n",
       "      <th>2</th>\n",
       "      <td>00272073000302</td>\n",
       "      <td>0.0</td>\n",
       "      <td>0.0</td>\n",
       "      <td>0.0</td>\n",
       "      <td>6.0</td>\n",
       "    </tr>\n",
       "    <tr>\n",
       "      <th>3</th>\n",
       "      <td>00437101000124</td>\n",
       "      <td>3.0</td>\n",
       "      <td>0.0</td>\n",
       "      <td>0.0</td>\n",
       "      <td>1.0</td>\n",
       "    </tr>\n",
       "    <tr>\n",
       "      <th>4</th>\n",
       "      <td>00661205000118</td>\n",
       "      <td>1.0</td>\n",
       "      <td>0.0</td>\n",
       "      <td>0.0</td>\n",
       "      <td>0.0</td>\n",
       "    </tr>\n",
       "  </tbody>\n",
       "</table>\n",
       "</div>"
      ],
      "text/plain": [
       "             cnpj  num_ocorr_cr  num_ocorr_proc  num_ocorr_infra  \\\n",
       "0  00225356000123           0.0             0.0              0.0   \n",
       "1  00265954000207           0.0             0.0              0.0   \n",
       "2  00272073000302           0.0             0.0              0.0   \n",
       "3  00437101000124           3.0             0.0              0.0   \n",
       "4  00661205000118           1.0             0.0              0.0   \n",
       "\n",
       "   num_ocorr_out  \n",
       "0            1.0  \n",
       "1            1.0  \n",
       "2            6.0  \n",
       "3            1.0  \n",
       "4            0.0  "
      ]
     },
     "execution_count": 41,
     "metadata": {},
     "output_type": "execute_result"
    }
   ],
   "source": [
    "df_ocorrencias.head()"
   ]
  },
  {
   "cell_type": "code",
   "execution_count": 46,
   "metadata": {},
   "outputs": [],
   "source": [
    "df_composicao = df1.pivot(index=\"cnpj\", columns = \"segmento\", values=\"composicao\").reset_index().fillna(0)"
   ]
  },
  {
   "cell_type": "code",
   "execution_count": 48,
   "metadata": {},
   "outputs": [],
   "source": [
    "df_composicao = df_composicao[[\"cnpj\", \"credito\", \"processos\", \"infra\", \"outros\"]]"
   ]
  },
  {
   "cell_type": "code",
   "execution_count": 50,
   "metadata": {},
   "outputs": [],
   "source": [
    "df_composicao.columns = [\"cnpj\", \"comp_cr\", \"comp_proc\", \"comp_infra\", \"comp_out\"]"
   ]
  },
  {
   "cell_type": "code",
   "execution_count": 52,
   "metadata": {},
   "outputs": [
    {
     "data": {
      "text/html": [
       "<div>\n",
       "<style scoped>\n",
       "    .dataframe tbody tr th:only-of-type {\n",
       "        vertical-align: middle;\n",
       "    }\n",
       "\n",
       "    .dataframe tbody tr th {\n",
       "        vertical-align: top;\n",
       "    }\n",
       "\n",
       "    .dataframe thead th {\n",
       "        text-align: right;\n",
       "    }\n",
       "</style>\n",
       "<table border=\"1\" class=\"dataframe\">\n",
       "  <thead>\n",
       "    <tr style=\"text-align: right;\">\n",
       "      <th></th>\n",
       "      <th>cnpj</th>\n",
       "      <th>comp_cr</th>\n",
       "      <th>comp_proc</th>\n",
       "      <th>comp_infra</th>\n",
       "      <th>comp_out</th>\n",
       "    </tr>\n",
       "  </thead>\n",
       "  <tbody>\n",
       "    <tr>\n",
       "      <th>0</th>\n",
       "      <td>00225356000123</td>\n",
       "      <td>0.000000</td>\n",
       "      <td>0.0</td>\n",
       "      <td>0.0</td>\n",
       "      <td>1.000000</td>\n",
       "    </tr>\n",
       "    <tr>\n",
       "      <th>1</th>\n",
       "      <td>00265954000207</td>\n",
       "      <td>0.000000</td>\n",
       "      <td>0.0</td>\n",
       "      <td>0.0</td>\n",
       "      <td>1.000000</td>\n",
       "    </tr>\n",
       "    <tr>\n",
       "      <th>2</th>\n",
       "      <td>00272073000302</td>\n",
       "      <td>0.000000</td>\n",
       "      <td>0.0</td>\n",
       "      <td>0.0</td>\n",
       "      <td>1.000000</td>\n",
       "    </tr>\n",
       "    <tr>\n",
       "      <th>3</th>\n",
       "      <td>00437101000124</td>\n",
       "      <td>0.972151</td>\n",
       "      <td>0.0</td>\n",
       "      <td>0.0</td>\n",
       "      <td>0.027849</td>\n",
       "    </tr>\n",
       "    <tr>\n",
       "      <th>4</th>\n",
       "      <td>00661205000118</td>\n",
       "      <td>1.000000</td>\n",
       "      <td>0.0</td>\n",
       "      <td>0.0</td>\n",
       "      <td>0.000000</td>\n",
       "    </tr>\n",
       "  </tbody>\n",
       "</table>\n",
       "</div>"
      ],
      "text/plain": [
       "             cnpj   comp_cr  comp_proc  comp_infra  comp_out\n",
       "0  00225356000123  0.000000        0.0         0.0  1.000000\n",
       "1  00265954000207  0.000000        0.0         0.0  1.000000\n",
       "2  00272073000302  0.000000        0.0         0.0  1.000000\n",
       "3  00437101000124  0.972151        0.0         0.0  0.027849\n",
       "4  00661205000118  1.000000        0.0         0.0  0.000000"
      ]
     },
     "execution_count": 52,
     "metadata": {},
     "output_type": "execute_result"
    }
   ],
   "source": [
    "df_composicao.head()"
   ]
  },
  {
   "cell_type": "code",
   "execution_count": 56,
   "metadata": {},
   "outputs": [],
   "source": [
    "df_risco = df1.pivot(index='cnpj', columns='segmento', values=\"risco\").reset_index().fillna(0)"
   ]
  },
  {
   "cell_type": "code",
   "execution_count": 58,
   "metadata": {},
   "outputs": [],
   "source": [
    "df_risco = df_risco[[\"cnpj\", \"credito\", \"processos\", \"infra\", \"outros\"]]"
   ]
  },
  {
   "cell_type": "code",
   "execution_count": 60,
   "metadata": {},
   "outputs": [],
   "source": [
    "df_risco.columns = [\"cnpj\", \"risco_cr\", \"risco_proc\", \"risco_infra\", \"risco_out\"]"
   ]
  },
  {
   "cell_type": "code",
   "execution_count": 62,
   "metadata": {},
   "outputs": [
    {
     "data": {
      "text/html": [
       "<div>\n",
       "<style scoped>\n",
       "    .dataframe tbody tr th:only-of-type {\n",
       "        vertical-align: middle;\n",
       "    }\n",
       "\n",
       "    .dataframe tbody tr th {\n",
       "        vertical-align: top;\n",
       "    }\n",
       "\n",
       "    .dataframe thead th {\n",
       "        text-align: right;\n",
       "    }\n",
       "</style>\n",
       "<table border=\"1\" class=\"dataframe\">\n",
       "  <thead>\n",
       "    <tr style=\"text-align: right;\">\n",
       "      <th></th>\n",
       "      <th>cnpj</th>\n",
       "      <th>risco_cr</th>\n",
       "      <th>risco_proc</th>\n",
       "      <th>risco_infra</th>\n",
       "      <th>risco_out</th>\n",
       "    </tr>\n",
       "  </thead>\n",
       "  <tbody>\n",
       "    <tr>\n",
       "      <th>0</th>\n",
       "      <td>00225356000123</td>\n",
       "      <td>0.000000</td>\n",
       "      <td>0.0</td>\n",
       "      <td>0.0</td>\n",
       "      <td>0.001192</td>\n",
       "    </tr>\n",
       "    <tr>\n",
       "      <th>1</th>\n",
       "      <td>00265954000207</td>\n",
       "      <td>0.000000</td>\n",
       "      <td>0.0</td>\n",
       "      <td>0.0</td>\n",
       "      <td>0.000516</td>\n",
       "    </tr>\n",
       "    <tr>\n",
       "      <th>2</th>\n",
       "      <td>00272073000302</td>\n",
       "      <td>0.000000</td>\n",
       "      <td>0.0</td>\n",
       "      <td>0.0</td>\n",
       "      <td>0.011551</td>\n",
       "    </tr>\n",
       "    <tr>\n",
       "      <th>3</th>\n",
       "      <td>00437101000124</td>\n",
       "      <td>0.713651</td>\n",
       "      <td>0.0</td>\n",
       "      <td>0.0</td>\n",
       "      <td>0.000041</td>\n",
       "    </tr>\n",
       "    <tr>\n",
       "      <th>4</th>\n",
       "      <td>00661205000118</td>\n",
       "      <td>0.910038</td>\n",
       "      <td>0.0</td>\n",
       "      <td>0.0</td>\n",
       "      <td>0.000000</td>\n",
       "    </tr>\n",
       "  </tbody>\n",
       "</table>\n",
       "</div>"
      ],
      "text/plain": [
       "             cnpj  risco_cr  risco_proc  risco_infra  risco_out\n",
       "0  00225356000123  0.000000         0.0          0.0   0.001192\n",
       "1  00265954000207  0.000000         0.0          0.0   0.000516\n",
       "2  00272073000302  0.000000         0.0          0.0   0.011551\n",
       "3  00437101000124  0.713651         0.0          0.0   0.000041\n",
       "4  00661205000118  0.910038         0.0          0.0   0.000000"
      ]
     },
     "execution_count": 62,
     "metadata": {},
     "output_type": "execute_result"
    }
   ],
   "source": [
    "df_risco.head()"
   ]
  },
  {
   "cell_type": "code",
   "execution_count": 64,
   "metadata": {},
   "outputs": [
    {
     "data": {
      "text/plain": [
       "(491, 5)"
      ]
     },
     "execution_count": 64,
     "metadata": {},
     "output_type": "execute_result"
    }
   ],
   "source": [
    "df_ocorrencias.shape"
   ]
  },
  {
   "cell_type": "code",
   "execution_count": 66,
   "metadata": {},
   "outputs": [
    {
     "data": {
      "text/plain": [
       "(491, 5)"
      ]
     },
     "execution_count": 66,
     "metadata": {},
     "output_type": "execute_result"
    }
   ],
   "source": [
    "df_composicao.shape"
   ]
  },
  {
   "cell_type": "code",
   "execution_count": 67,
   "metadata": {},
   "outputs": [
    {
     "data": {
      "text/plain": [
       "(491, 5)"
      ]
     },
     "execution_count": 67,
     "metadata": {},
     "output_type": "execute_result"
    }
   ],
   "source": [
    "df_risco.shape"
   ]
  },
  {
   "cell_type": "code",
   "execution_count": 73,
   "metadata": {},
   "outputs": [],
   "source": [
    "df_metricas = df_ocorrencias.merge(df_composicao, left_on=\"cnpj\", right_on=\"cnpj\")"
   ]
  },
  {
   "cell_type": "code",
   "execution_count": 75,
   "metadata": {},
   "outputs": [
    {
     "data": {
      "text/plain": [
       "(491, 9)"
      ]
     },
     "execution_count": 75,
     "metadata": {},
     "output_type": "execute_result"
    }
   ],
   "source": [
    "df_metricas.shape"
   ]
  },
  {
   "cell_type": "code",
   "execution_count": 79,
   "metadata": {},
   "outputs": [],
   "source": [
    "df_metricas = df_metricas.merge(df_risco, left_on=\"cnpj\", right_on=\"cnpj\")"
   ]
  },
  {
   "cell_type": "code",
   "execution_count": 84,
   "metadata": {},
   "outputs": [
    {
     "data": {
      "text/html": [
       "<div>\n",
       "<style scoped>\n",
       "    .dataframe tbody tr th:only-of-type {\n",
       "        vertical-align: middle;\n",
       "    }\n",
       "\n",
       "    .dataframe tbody tr th {\n",
       "        vertical-align: top;\n",
       "    }\n",
       "\n",
       "    .dataframe thead th {\n",
       "        text-align: right;\n",
       "    }\n",
       "</style>\n",
       "<table border=\"1\" class=\"dataframe\">\n",
       "  <thead>\n",
       "    <tr style=\"text-align: right;\">\n",
       "      <th></th>\n",
       "      <th>cnpj</th>\n",
       "      <th>num_ocorr_cr</th>\n",
       "      <th>num_ocorr_proc</th>\n",
       "      <th>num_ocorr_infra</th>\n",
       "      <th>num_ocorr_out</th>\n",
       "      <th>comp_cr</th>\n",
       "      <th>comp_proc</th>\n",
       "      <th>comp_infra</th>\n",
       "      <th>comp_out</th>\n",
       "      <th>risco_cr</th>\n",
       "      <th>risco_proc</th>\n",
       "      <th>risco_infra</th>\n",
       "      <th>risco_out</th>\n",
       "    </tr>\n",
       "  </thead>\n",
       "  <tbody>\n",
       "    <tr>\n",
       "      <th>202</th>\n",
       "      <td>11377065000177</td>\n",
       "      <td>0.0</td>\n",
       "      <td>0.0</td>\n",
       "      <td>16.0</td>\n",
       "      <td>2.0</td>\n",
       "      <td>0.000000</td>\n",
       "      <td>0.000000</td>\n",
       "      <td>0.165534</td>\n",
       "      <td>0.834466</td>\n",
       "      <td>0.000000</td>\n",
       "      <td>0.000000</td>\n",
       "      <td>0.223525</td>\n",
       "      <td>0.004138</td>\n",
       "    </tr>\n",
       "    <tr>\n",
       "      <th>289</th>\n",
       "      <td>17464661000170</td>\n",
       "      <td>0.0</td>\n",
       "      <td>1.0</td>\n",
       "      <td>14.0</td>\n",
       "      <td>9.0</td>\n",
       "      <td>0.000000</td>\n",
       "      <td>0.578737</td>\n",
       "      <td>0.093712</td>\n",
       "      <td>0.327551</td>\n",
       "      <td>0.000000</td>\n",
       "      <td>0.024981</td>\n",
       "      <td>0.147356</td>\n",
       "      <td>0.011957</td>\n",
       "    </tr>\n",
       "    <tr>\n",
       "      <th>476</th>\n",
       "      <td>71673990000177</td>\n",
       "      <td>0.0</td>\n",
       "      <td>3.0</td>\n",
       "      <td>10.0</td>\n",
       "      <td>60.0</td>\n",
       "      <td>0.000000</td>\n",
       "      <td>0.983664</td>\n",
       "      <td>0.003193</td>\n",
       "      <td>0.013143</td>\n",
       "      <td>0.000000</td>\n",
       "      <td>0.023246</td>\n",
       "      <td>0.034247</td>\n",
       "      <td>0.000010</td>\n",
       "    </tr>\n",
       "    <tr>\n",
       "      <th>32</th>\n",
       "      <td>02595658000119</td>\n",
       "      <td>1.0</td>\n",
       "      <td>0.0</td>\n",
       "      <td>8.0</td>\n",
       "      <td>7.0</td>\n",
       "      <td>0.433648</td>\n",
       "      <td>0.000000</td>\n",
       "      <td>0.011067</td>\n",
       "      <td>0.555284</td>\n",
       "      <td>0.049658</td>\n",
       "      <td>0.000000</td>\n",
       "      <td>0.125014</td>\n",
       "      <td>0.031938</td>\n",
       "    </tr>\n",
       "    <tr>\n",
       "      <th>348</th>\n",
       "      <td>20687292000190</td>\n",
       "      <td>0.0</td>\n",
       "      <td>0.0</td>\n",
       "      <td>6.0</td>\n",
       "      <td>0.0</td>\n",
       "      <td>0.000000</td>\n",
       "      <td>0.000000</td>\n",
       "      <td>1.000000</td>\n",
       "      <td>0.000000</td>\n",
       "      <td>0.000000</td>\n",
       "      <td>0.000000</td>\n",
       "      <td>0.259677</td>\n",
       "      <td>0.000000</td>\n",
       "    </tr>\n",
       "  </tbody>\n",
       "</table>\n",
       "</div>"
      ],
      "text/plain": [
       "               cnpj  num_ocorr_cr  num_ocorr_proc  num_ocorr_infra  \\\n",
       "202  11377065000177           0.0             0.0             16.0   \n",
       "289  17464661000170           0.0             1.0             14.0   \n",
       "476  71673990000177           0.0             3.0             10.0   \n",
       "32   02595658000119           1.0             0.0              8.0   \n",
       "348  20687292000190           0.0             0.0              6.0   \n",
       "\n",
       "     num_ocorr_out   comp_cr  comp_proc  comp_infra  comp_out  risco_cr  \\\n",
       "202            2.0  0.000000   0.000000    0.165534  0.834466  0.000000   \n",
       "289            9.0  0.000000   0.578737    0.093712  0.327551  0.000000   \n",
       "476           60.0  0.000000   0.983664    0.003193  0.013143  0.000000   \n",
       "32             7.0  0.433648   0.000000    0.011067  0.555284  0.049658   \n",
       "348            0.0  0.000000   0.000000    1.000000  0.000000  0.000000   \n",
       "\n",
       "     risco_proc  risco_infra  risco_out  \n",
       "202    0.000000     0.223525   0.004138  \n",
       "289    0.024981     0.147356   0.011957  \n",
       "476    0.023246     0.034247   0.000010  \n",
       "32     0.000000     0.125014   0.031938  \n",
       "348    0.000000     0.259677   0.000000  "
      ]
     },
     "execution_count": 84,
     "metadata": {},
     "output_type": "execute_result"
    }
   ],
   "source": [
    "df_metricas.sort_values(\"num_ocorr_infra\", ascending=False).head()"
   ]
  },
  {
   "cell_type": "code",
   "execution_count": 86,
   "metadata": {},
   "outputs": [
    {
     "data": {
      "text/html": [
       "<div>\n",
       "<style scoped>\n",
       "    .dataframe tbody tr th:only-of-type {\n",
       "        vertical-align: middle;\n",
       "    }\n",
       "\n",
       "    .dataframe tbody tr th {\n",
       "        vertical-align: top;\n",
       "    }\n",
       "\n",
       "    .dataframe thead th {\n",
       "        text-align: right;\n",
       "    }\n",
       "</style>\n",
       "<table border=\"1\" class=\"dataframe\">\n",
       "  <thead>\n",
       "    <tr style=\"text-align: right;\">\n",
       "      <th></th>\n",
       "      <th>cnpj</th>\n",
       "      <th>segmento</th>\n",
       "      <th>ocorrencias</th>\n",
       "      <th>probabilidade</th>\n",
       "      <th>valor_divida</th>\n",
       "      <th>composicao</th>\n",
       "      <th>fat_medio</th>\n",
       "      <th>pi</th>\n",
       "      <th>lambda</th>\n",
       "      <th>impacto_segmento</th>\n",
       "      <th>risco</th>\n",
       "      <th>dscore</th>\n",
       "      <th>peso</th>\n",
       "      <th>score</th>\n",
       "    </tr>\n",
       "  </thead>\n",
       "  <tbody>\n",
       "    <tr>\n",
       "      <th>868</th>\n",
       "      <td>11377065000177</td>\n",
       "      <td>infra</td>\n",
       "      <td>16</td>\n",
       "      <td>0.888889</td>\n",
       "      <td>3714.19</td>\n",
       "      <td>0.165534</td>\n",
       "      <td>69926.810833</td>\n",
       "      <td>0.035410</td>\n",
       "      <td>0.005862</td>\n",
       "      <td>0.251465</td>\n",
       "      <td>0.223525</td>\n",
       "      <td>543.532637</td>\n",
       "      <td>2</td>\n",
       "      <td>594.72297</td>\n",
       "    </tr>\n",
       "    <tr>\n",
       "      <th>869</th>\n",
       "      <td>11377065000177</td>\n",
       "      <td>outros</td>\n",
       "      <td>2</td>\n",
       "      <td>0.111111</td>\n",
       "      <td>18723.38</td>\n",
       "      <td>0.834466</td>\n",
       "      <td>69926.810833</td>\n",
       "      <td>0.178505</td>\n",
       "      <td>0.148956</td>\n",
       "      <td>0.037239</td>\n",
       "      <td>0.004138</td>\n",
       "      <td>697.103635</td>\n",
       "      <td>1</td>\n",
       "      <td>594.72297</td>\n",
       "    </tr>\n",
       "  </tbody>\n",
       "</table>\n",
       "</div>"
      ],
      "text/plain": [
       "               cnpj segmento  ocorrencias  probabilidade  valor_divida  \\\n",
       "868  11377065000177    infra           16       0.888889       3714.19   \n",
       "869  11377065000177   outros            2       0.111111      18723.38   \n",
       "\n",
       "     composicao     fat_medio        pi    lambda  impacto_segmento     risco  \\\n",
       "868    0.165534  69926.810833  0.035410  0.005862          0.251465  0.223525   \n",
       "869    0.834466  69926.810833  0.178505  0.148956          0.037239  0.004138   \n",
       "\n",
       "         dscore  peso      score  \n",
       "868  543.532637     2  594.72297  \n",
       "869  697.103635     1  594.72297  "
      ]
     },
     "execution_count": 86,
     "metadata": {},
     "output_type": "execute_result"
    }
   ],
   "source": [
    "df1[df1[\"cnpj\"]=='11377065000177']"
   ]
  },
  {
   "cell_type": "code",
   "execution_count": 87,
   "metadata": {},
   "outputs": [],
   "source": [
    "# adicionando a idade das empresas no dataset"
   ]
  },
  {
   "cell_type": "code",
   "execution_count": 89,
   "metadata": {},
   "outputs": [
    {
     "data": {
      "text/plain": [
       "(2281, 3)"
      ]
     },
     "execution_count": 89,
     "metadata": {},
     "output_type": "execute_result"
    }
   ],
   "source": [
    "df_idade.shape"
   ]
  },
  {
   "cell_type": "code",
   "execution_count": 91,
   "metadata": {},
   "outputs": [],
   "source": [
    "df_idade[\"cnpj\"] = df_idade[\"cnpj\"].astype(str)"
   ]
  },
  {
   "cell_type": "code",
   "execution_count": 93,
   "metadata": {},
   "outputs": [],
   "source": [
    "df_idade[\"cnpj\"] = df_idade.apply(lambda x : \"0\" + x[\"cnpj\"] if len(x[\"cnpj\"])==13 else\n",
    "                                  (\"00\" + x[\"cnpj\"] if len(x[\"cnpj\"])==12 else x[\"cnpj\"]), axis=1)"
   ]
  },
  {
   "cell_type": "code",
   "execution_count": 96,
   "metadata": {},
   "outputs": [
    {
     "data": {
      "text/html": [
       "<div>\n",
       "<style scoped>\n",
       "    .dataframe tbody tr th:only-of-type {\n",
       "        vertical-align: middle;\n",
       "    }\n",
       "\n",
       "    .dataframe tbody tr th {\n",
       "        vertical-align: top;\n",
       "    }\n",
       "\n",
       "    .dataframe thead th {\n",
       "        text-align: right;\n",
       "    }\n",
       "</style>\n",
       "<table border=\"1\" class=\"dataframe\">\n",
       "  <thead>\n",
       "    <tr style=\"text-align: right;\">\n",
       "      <th></th>\n",
       "      <th>cnpj</th>\n",
       "      <th>data_abertura</th>\n",
       "      <th>idade</th>\n",
       "    </tr>\n",
       "  </thead>\n",
       "  <tbody>\n",
       "    <tr>\n",
       "      <th>0</th>\n",
       "      <td>19008188000142</td>\n",
       "      <td>2013-10-04</td>\n",
       "      <td>5.546448</td>\n",
       "    </tr>\n",
       "    <tr>\n",
       "      <th>0</th>\n",
       "      <td>00748390000182</td>\n",
       "      <td>1995-08-03</td>\n",
       "      <td>23.680328</td>\n",
       "    </tr>\n",
       "    <tr>\n",
       "      <th>0</th>\n",
       "      <td>00272073000302</td>\n",
       "      <td>2008-06-10</td>\n",
       "      <td>10.852459</td>\n",
       "    </tr>\n",
       "    <tr>\n",
       "      <th>0</th>\n",
       "      <td>00570256000134</td>\n",
       "      <td>1995-04-28</td>\n",
       "      <td>23.945355</td>\n",
       "    </tr>\n",
       "    <tr>\n",
       "      <th>0</th>\n",
       "      <td>03403405000169</td>\n",
       "      <td>1999-09-21</td>\n",
       "      <td>19.554645</td>\n",
       "    </tr>\n",
       "  </tbody>\n",
       "</table>\n",
       "</div>"
      ],
      "text/plain": [
       "             cnpj data_abertura      idade\n",
       "0  19008188000142    2013-10-04   5.546448\n",
       "0  00748390000182    1995-08-03  23.680328\n",
       "0  00272073000302    2008-06-10  10.852459\n",
       "0  00570256000134    1995-04-28  23.945355\n",
       "0  03403405000169    1999-09-21  19.554645"
      ]
     },
     "execution_count": 96,
     "metadata": {},
     "output_type": "execute_result"
    }
   ],
   "source": [
    "df_idade.head()"
   ]
  },
  {
   "cell_type": "code",
   "execution_count": 104,
   "metadata": {},
   "outputs": [],
   "source": [
    "df_metricas = df_metricas.merge(df_idade, left_on=\"cnpj\", right_on=\"cnpj\", how=\"left\")"
   ]
  },
  {
   "cell_type": "code",
   "execution_count": 109,
   "metadata": {},
   "outputs": [
    {
     "data": {
      "text/html": [
       "<div>\n",
       "<style scoped>\n",
       "    .dataframe tbody tr th:only-of-type {\n",
       "        vertical-align: middle;\n",
       "    }\n",
       "\n",
       "    .dataframe tbody tr th {\n",
       "        vertical-align: top;\n",
       "    }\n",
       "\n",
       "    .dataframe thead th {\n",
       "        text-align: right;\n",
       "    }\n",
       "</style>\n",
       "<table border=\"1\" class=\"dataframe\">\n",
       "  <thead>\n",
       "    <tr style=\"text-align: right;\">\n",
       "      <th></th>\n",
       "      <th>cnpj</th>\n",
       "      <th>prop_divida</th>\n",
       "      <th>quantidade_cheques</th>\n",
       "      <th>tempo_medio</th>\n",
       "      <th>idade_maxima</th>\n",
       "      <th>credito</th>\n",
       "      <th>infra</th>\n",
       "      <th>outros</th>\n",
       "      <th>processos</th>\n",
       "      <th>dispersao</th>\n",
       "    </tr>\n",
       "  </thead>\n",
       "  <tbody>\n",
       "    <tr>\n",
       "      <th>0</th>\n",
       "      <td>00178663000281</td>\n",
       "      <td>128.547136</td>\n",
       "      <td>17</td>\n",
       "      <td>6.497006</td>\n",
       "      <td>1134</td>\n",
       "      <td>0.226849</td>\n",
       "      <td>0.299252</td>\n",
       "      <td>0.151041</td>\n",
       "      <td>0.322858</td>\n",
       "      <td>0.0</td>\n",
       "    </tr>\n",
       "    <tr>\n",
       "      <th>1</th>\n",
       "      <td>00225356000123</td>\n",
       "      <td>0.007152</td>\n",
       "      <td>0</td>\n",
       "      <td>0.000000</td>\n",
       "      <td>1793</td>\n",
       "      <td>0.000000</td>\n",
       "      <td>0.000000</td>\n",
       "      <td>1.000000</td>\n",
       "      <td>0.000000</td>\n",
       "      <td>0.0</td>\n",
       "    </tr>\n",
       "    <tr>\n",
       "      <th>2</th>\n",
       "      <td>00265954000207</td>\n",
       "      <td>0.003095</td>\n",
       "      <td>0</td>\n",
       "      <td>0.000000</td>\n",
       "      <td>73</td>\n",
       "      <td>0.000000</td>\n",
       "      <td>0.000000</td>\n",
       "      <td>1.000000</td>\n",
       "      <td>0.000000</td>\n",
       "      <td>0.0</td>\n",
       "    </tr>\n",
       "    <tr>\n",
       "      <th>3</th>\n",
       "      <td>00272073000302</td>\n",
       "      <td>0.069306</td>\n",
       "      <td>0</td>\n",
       "      <td>48.600000</td>\n",
       "      <td>320</td>\n",
       "      <td>0.000000</td>\n",
       "      <td>0.000000</td>\n",
       "      <td>1.000000</td>\n",
       "      <td>0.000000</td>\n",
       "      <td>0.0</td>\n",
       "    </tr>\n",
       "    <tr>\n",
       "      <th>4</th>\n",
       "      <td>00437101000124</td>\n",
       "      <td>1.279481</td>\n",
       "      <td>0</td>\n",
       "      <td>31.666667</td>\n",
       "      <td>283</td>\n",
       "      <td>0.972151</td>\n",
       "      <td>0.000000</td>\n",
       "      <td>0.027849</td>\n",
       "      <td>0.000000</td>\n",
       "      <td>0.0</td>\n",
       "    </tr>\n",
       "  </tbody>\n",
       "</table>\n",
       "</div>"
      ],
      "text/plain": [
       "             cnpj  prop_divida  quantidade_cheques  tempo_medio  idade_maxima  \\\n",
       "0  00178663000281   128.547136                  17     6.497006          1134   \n",
       "1  00225356000123     0.007152                   0     0.000000          1793   \n",
       "2  00265954000207     0.003095                   0     0.000000            73   \n",
       "3  00272073000302     0.069306                   0    48.600000           320   \n",
       "4  00437101000124     1.279481                   0    31.666667           283   \n",
       "\n",
       "    credito     infra    outros  processos  dispersao  \n",
       "0  0.226849  0.299252  0.151041   0.322858        0.0  \n",
       "1  0.000000  0.000000  1.000000   0.000000        0.0  \n",
       "2  0.000000  0.000000  1.000000   0.000000        0.0  \n",
       "3  0.000000  0.000000  1.000000   0.000000        0.0  \n",
       "4  0.972151  0.000000  0.027849   0.000000        0.0  "
      ]
     },
     "execution_count": 109,
     "metadata": {},
     "output_type": "execute_result"
    }
   ],
   "source": [
    "df2.head()"
   ]
  },
  {
   "cell_type": "code",
   "execution_count": 110,
   "metadata": {},
   "outputs": [],
   "source": [
    "# adicionando dados de dispersao geografica da divida"
   ]
  },
  {
   "cell_type": "code",
   "execution_count": 112,
   "metadata": {},
   "outputs": [],
   "source": [
    "df_dispersao = pd.read_excel(\"../tabelas/metrica_dispersao_201904.xlsx\")"
   ]
  },
  {
   "cell_type": "code",
   "execution_count": 114,
   "metadata": {},
   "outputs": [
    {
     "data": {
      "text/html": [
       "<div>\n",
       "<style scoped>\n",
       "    .dataframe tbody tr th:only-of-type {\n",
       "        vertical-align: middle;\n",
       "    }\n",
       "\n",
       "    .dataframe tbody tr th {\n",
       "        vertical-align: top;\n",
       "    }\n",
       "\n",
       "    .dataframe thead th {\n",
       "        text-align: right;\n",
       "    }\n",
       "</style>\n",
       "<table border=\"1\" class=\"dataframe\">\n",
       "  <thead>\n",
       "    <tr style=\"text-align: right;\">\n",
       "      <th></th>\n",
       "      <th>cnpj</th>\n",
       "    </tr>\n",
       "    <tr>\n",
       "      <th>dispersao</th>\n",
       "      <th></th>\n",
       "    </tr>\n",
       "  </thead>\n",
       "  <tbody>\n",
       "    <tr>\n",
       "      <th>0.00</th>\n",
       "      <td>407</td>\n",
       "    </tr>\n",
       "    <tr>\n",
       "      <th>0.25</th>\n",
       "      <td>70</td>\n",
       "    </tr>\n",
       "    <tr>\n",
       "      <th>0.50</th>\n",
       "      <td>2</td>\n",
       "    </tr>\n",
       "    <tr>\n",
       "      <th>0.75</th>\n",
       "      <td>2</td>\n",
       "    </tr>\n",
       "    <tr>\n",
       "      <th>1.00</th>\n",
       "      <td>1</td>\n",
       "    </tr>\n",
       "  </tbody>\n",
       "</table>\n",
       "</div>"
      ],
      "text/plain": [
       "           cnpj\n",
       "dispersao      \n",
       "0.00        407\n",
       "0.25         70\n",
       "0.50          2\n",
       "0.75          2\n",
       "1.00          1"
      ]
     },
     "execution_count": 114,
     "metadata": {},
     "output_type": "execute_result"
    }
   ],
   "source": [
    "df_dispersao.groupby(\"dispersao\").count()"
   ]
  },
  {
   "cell_type": "code",
   "execution_count": 116,
   "metadata": {},
   "outputs": [],
   "source": [
    "df_dispersao['cnpj'] = df_dispersao[\"cnpj\"].astype(str)"
   ]
  },
  {
   "cell_type": "code",
   "execution_count": 118,
   "metadata": {},
   "outputs": [],
   "source": [
    "df_dispersao[\"cnpj\"] = df_dispersao.apply(lambda x : \"0\" + x[\"cnpj\"] if len(x[\"cnpj\"])==13 else\n",
    "                                          (\"00\" + x[\"cnpj\"] if len(x[\"cnpj\"])==12 else x[\"cnpj\"]), axis=1)"
   ]
  },
  {
   "cell_type": "code",
   "execution_count": 120,
   "metadata": {},
   "outputs": [
    {
     "data": {
      "text/plain": [
       "(482, 2)"
      ]
     },
     "execution_count": 120,
     "metadata": {},
     "output_type": "execute_result"
    }
   ],
   "source": [
    "df_dispersao.shape"
   ]
  },
  {
   "cell_type": "code",
   "execution_count": 125,
   "metadata": {},
   "outputs": [],
   "source": [
    "df_metricas = df_metricas.merge(df_dispersao, left_on=\"cnpj\", right_on=\"cnpj\", how=\"left\")"
   ]
  },
  {
   "cell_type": "code",
   "execution_count": 127,
   "metadata": {},
   "outputs": [
    {
     "data": {
      "text/html": [
       "<div>\n",
       "<style scoped>\n",
       "    .dataframe tbody tr th:only-of-type {\n",
       "        vertical-align: middle;\n",
       "    }\n",
       "\n",
       "    .dataframe tbody tr th {\n",
       "        vertical-align: top;\n",
       "    }\n",
       "\n",
       "    .dataframe thead th {\n",
       "        text-align: right;\n",
       "    }\n",
       "</style>\n",
       "<table border=\"1\" class=\"dataframe\">\n",
       "  <thead>\n",
       "    <tr style=\"text-align: right;\">\n",
       "      <th></th>\n",
       "      <th>cnpj</th>\n",
       "      <th>num_ocorr_cr</th>\n",
       "      <th>num_ocorr_proc</th>\n",
       "      <th>num_ocorr_infra</th>\n",
       "      <th>num_ocorr_out</th>\n",
       "      <th>comp_cr</th>\n",
       "      <th>comp_proc</th>\n",
       "      <th>comp_infra</th>\n",
       "      <th>comp_out</th>\n",
       "      <th>risco_cr</th>\n",
       "      <th>risco_proc</th>\n",
       "      <th>risco_infra</th>\n",
       "      <th>risco_out</th>\n",
       "      <th>data_abertura</th>\n",
       "      <th>idade</th>\n",
       "      <th>dispersao</th>\n",
       "    </tr>\n",
       "  </thead>\n",
       "  <tbody>\n",
       "    <tr>\n",
       "      <th>0</th>\n",
       "      <td>00225356000123</td>\n",
       "      <td>0.0</td>\n",
       "      <td>0.0</td>\n",
       "      <td>0.0</td>\n",
       "      <td>1.0</td>\n",
       "      <td>0.000000</td>\n",
       "      <td>0.0</td>\n",
       "      <td>0.0</td>\n",
       "      <td>1.000000</td>\n",
       "      <td>0.000000</td>\n",
       "      <td>0.0</td>\n",
       "      <td>0.0</td>\n",
       "      <td>0.001192</td>\n",
       "      <td>1994-10-04</td>\n",
       "      <td>24.508197</td>\n",
       "      <td>NaN</td>\n",
       "    </tr>\n",
       "    <tr>\n",
       "      <th>1</th>\n",
       "      <td>00265954000207</td>\n",
       "      <td>0.0</td>\n",
       "      <td>0.0</td>\n",
       "      <td>0.0</td>\n",
       "      <td>1.0</td>\n",
       "      <td>0.000000</td>\n",
       "      <td>0.0</td>\n",
       "      <td>0.0</td>\n",
       "      <td>1.000000</td>\n",
       "      <td>0.000000</td>\n",
       "      <td>0.0</td>\n",
       "      <td>0.0</td>\n",
       "      <td>0.000516</td>\n",
       "      <td>2000-07-03</td>\n",
       "      <td>18.773224</td>\n",
       "      <td>NaN</td>\n",
       "    </tr>\n",
       "    <tr>\n",
       "      <th>2</th>\n",
       "      <td>00272073000302</td>\n",
       "      <td>0.0</td>\n",
       "      <td>0.0</td>\n",
       "      <td>0.0</td>\n",
       "      <td>6.0</td>\n",
       "      <td>0.000000</td>\n",
       "      <td>0.0</td>\n",
       "      <td>0.0</td>\n",
       "      <td>1.000000</td>\n",
       "      <td>0.000000</td>\n",
       "      <td>0.0</td>\n",
       "      <td>0.0</td>\n",
       "      <td>0.011551</td>\n",
       "      <td>2008-06-10</td>\n",
       "      <td>10.852459</td>\n",
       "      <td>0.0</td>\n",
       "    </tr>\n",
       "    <tr>\n",
       "      <th>3</th>\n",
       "      <td>00437101000124</td>\n",
       "      <td>3.0</td>\n",
       "      <td>0.0</td>\n",
       "      <td>0.0</td>\n",
       "      <td>1.0</td>\n",
       "      <td>0.972151</td>\n",
       "      <td>0.0</td>\n",
       "      <td>0.0</td>\n",
       "      <td>0.027849</td>\n",
       "      <td>0.713651</td>\n",
       "      <td>0.0</td>\n",
       "      <td>0.0</td>\n",
       "      <td>0.000041</td>\n",
       "      <td>1995-02-14</td>\n",
       "      <td>24.144809</td>\n",
       "      <td>0.0</td>\n",
       "    </tr>\n",
       "    <tr>\n",
       "      <th>4</th>\n",
       "      <td>00661205000118</td>\n",
       "      <td>1.0</td>\n",
       "      <td>0.0</td>\n",
       "      <td>0.0</td>\n",
       "      <td>0.0</td>\n",
       "      <td>1.000000</td>\n",
       "      <td>0.0</td>\n",
       "      <td>0.0</td>\n",
       "      <td>0.000000</td>\n",
       "      <td>0.910038</td>\n",
       "      <td>0.0</td>\n",
       "      <td>0.0</td>\n",
       "      <td>0.000000</td>\n",
       "      <td>1995-06-22</td>\n",
       "      <td>23.795082</td>\n",
       "      <td>NaN</td>\n",
       "    </tr>\n",
       "  </tbody>\n",
       "</table>\n",
       "</div>"
      ],
      "text/plain": [
       "             cnpj  num_ocorr_cr  num_ocorr_proc  num_ocorr_infra  \\\n",
       "0  00225356000123           0.0             0.0              0.0   \n",
       "1  00265954000207           0.0             0.0              0.0   \n",
       "2  00272073000302           0.0             0.0              0.0   \n",
       "3  00437101000124           3.0             0.0              0.0   \n",
       "4  00661205000118           1.0             0.0              0.0   \n",
       "\n",
       "   num_ocorr_out   comp_cr  comp_proc  comp_infra  comp_out  risco_cr  \\\n",
       "0            1.0  0.000000        0.0         0.0  1.000000  0.000000   \n",
       "1            1.0  0.000000        0.0         0.0  1.000000  0.000000   \n",
       "2            6.0  0.000000        0.0         0.0  1.000000  0.000000   \n",
       "3            1.0  0.972151        0.0         0.0  0.027849  0.713651   \n",
       "4            0.0  1.000000        0.0         0.0  0.000000  0.910038   \n",
       "\n",
       "   risco_proc  risco_infra  risco_out data_abertura      idade  dispersao  \n",
       "0         0.0          0.0   0.001192    1994-10-04  24.508197        NaN  \n",
       "1         0.0          0.0   0.000516    2000-07-03  18.773224        NaN  \n",
       "2         0.0          0.0   0.011551    2008-06-10  10.852459        0.0  \n",
       "3         0.0          0.0   0.000041    1995-02-14  24.144809        0.0  \n",
       "4         0.0          0.0   0.000000    1995-06-22  23.795082        NaN  "
      ]
     },
     "execution_count": 127,
     "metadata": {},
     "output_type": "execute_result"
    }
   ],
   "source": [
    "df_metricas.head()"
   ]
  },
  {
   "cell_type": "code",
   "execution_count": 128,
   "metadata": {},
   "outputs": [
    {
     "data": {
      "text/plain": [
       "(491, 16)"
      ]
     },
     "execution_count": 128,
     "metadata": {},
     "output_type": "execute_result"
    }
   ],
   "source": [
    "df_metricas.shape"
   ]
  },
  {
   "cell_type": "code",
   "execution_count": 130,
   "metadata": {},
   "outputs": [],
   "source": [
    "df_metricas.to_excel(\"../tabelas/dataset_outlier_detection_20190506.xlsx\")"
   ]
  },
  {
   "cell_type": "code",
   "execution_count": 132,
   "metadata": {},
   "outputs": [
    {
     "data": {
      "text/html": [
       "<div>\n",
       "<style scoped>\n",
       "    .dataframe tbody tr th:only-of-type {\n",
       "        vertical-align: middle;\n",
       "    }\n",
       "\n",
       "    .dataframe tbody tr th {\n",
       "        vertical-align: top;\n",
       "    }\n",
       "\n",
       "    .dataframe thead th {\n",
       "        text-align: right;\n",
       "    }\n",
       "</style>\n",
       "<table border=\"1\" class=\"dataframe\">\n",
       "  <thead>\n",
       "    <tr style=\"text-align: right;\">\n",
       "      <th></th>\n",
       "      <th>cnpj</th>\n",
       "      <th>num_ocorr_cr</th>\n",
       "      <th>num_ocorr_proc</th>\n",
       "      <th>num_ocorr_infra</th>\n",
       "      <th>num_ocorr_out</th>\n",
       "      <th>comp_cr</th>\n",
       "      <th>comp_proc</th>\n",
       "      <th>comp_infra</th>\n",
       "      <th>comp_out</th>\n",
       "      <th>risco_cr</th>\n",
       "      <th>risco_proc</th>\n",
       "      <th>risco_infra</th>\n",
       "      <th>risco_out</th>\n",
       "      <th>data_abertura</th>\n",
       "      <th>idade</th>\n",
       "      <th>dispersao</th>\n",
       "    </tr>\n",
       "  </thead>\n",
       "  <tbody>\n",
       "    <tr>\n",
       "      <th>0</th>\n",
       "      <td>00225356000123</td>\n",
       "      <td>0.0</td>\n",
       "      <td>0.0</td>\n",
       "      <td>0.0</td>\n",
       "      <td>1.0</td>\n",
       "      <td>0.000000</td>\n",
       "      <td>0.0</td>\n",
       "      <td>0.0</td>\n",
       "      <td>1.000000</td>\n",
       "      <td>0.000000</td>\n",
       "      <td>0.0</td>\n",
       "      <td>0.0</td>\n",
       "      <td>0.001192</td>\n",
       "      <td>1994-10-04</td>\n",
       "      <td>24.508197</td>\n",
       "      <td>NaN</td>\n",
       "    </tr>\n",
       "    <tr>\n",
       "      <th>1</th>\n",
       "      <td>00265954000207</td>\n",
       "      <td>0.0</td>\n",
       "      <td>0.0</td>\n",
       "      <td>0.0</td>\n",
       "      <td>1.0</td>\n",
       "      <td>0.000000</td>\n",
       "      <td>0.0</td>\n",
       "      <td>0.0</td>\n",
       "      <td>1.000000</td>\n",
       "      <td>0.000000</td>\n",
       "      <td>0.0</td>\n",
       "      <td>0.0</td>\n",
       "      <td>0.000516</td>\n",
       "      <td>2000-07-03</td>\n",
       "      <td>18.773224</td>\n",
       "      <td>NaN</td>\n",
       "    </tr>\n",
       "    <tr>\n",
       "      <th>2</th>\n",
       "      <td>00272073000302</td>\n",
       "      <td>0.0</td>\n",
       "      <td>0.0</td>\n",
       "      <td>0.0</td>\n",
       "      <td>6.0</td>\n",
       "      <td>0.000000</td>\n",
       "      <td>0.0</td>\n",
       "      <td>0.0</td>\n",
       "      <td>1.000000</td>\n",
       "      <td>0.000000</td>\n",
       "      <td>0.0</td>\n",
       "      <td>0.0</td>\n",
       "      <td>0.011551</td>\n",
       "      <td>2008-06-10</td>\n",
       "      <td>10.852459</td>\n",
       "      <td>0.0</td>\n",
       "    </tr>\n",
       "    <tr>\n",
       "      <th>3</th>\n",
       "      <td>00437101000124</td>\n",
       "      <td>3.0</td>\n",
       "      <td>0.0</td>\n",
       "      <td>0.0</td>\n",
       "      <td>1.0</td>\n",
       "      <td>0.972151</td>\n",
       "      <td>0.0</td>\n",
       "      <td>0.0</td>\n",
       "      <td>0.027849</td>\n",
       "      <td>0.713651</td>\n",
       "      <td>0.0</td>\n",
       "      <td>0.0</td>\n",
       "      <td>0.000041</td>\n",
       "      <td>1995-02-14</td>\n",
       "      <td>24.144809</td>\n",
       "      <td>0.0</td>\n",
       "    </tr>\n",
       "    <tr>\n",
       "      <th>4</th>\n",
       "      <td>00661205000118</td>\n",
       "      <td>1.0</td>\n",
       "      <td>0.0</td>\n",
       "      <td>0.0</td>\n",
       "      <td>0.0</td>\n",
       "      <td>1.000000</td>\n",
       "      <td>0.0</td>\n",
       "      <td>0.0</td>\n",
       "      <td>0.000000</td>\n",
       "      <td>0.910038</td>\n",
       "      <td>0.0</td>\n",
       "      <td>0.0</td>\n",
       "      <td>0.000000</td>\n",
       "      <td>1995-06-22</td>\n",
       "      <td>23.795082</td>\n",
       "      <td>NaN</td>\n",
       "    </tr>\n",
       "  </tbody>\n",
       "</table>\n",
       "</div>"
      ],
      "text/plain": [
       "             cnpj  num_ocorr_cr  num_ocorr_proc  num_ocorr_infra  \\\n",
       "0  00225356000123           0.0             0.0              0.0   \n",
       "1  00265954000207           0.0             0.0              0.0   \n",
       "2  00272073000302           0.0             0.0              0.0   \n",
       "3  00437101000124           3.0             0.0              0.0   \n",
       "4  00661205000118           1.0             0.0              0.0   \n",
       "\n",
       "   num_ocorr_out   comp_cr  comp_proc  comp_infra  comp_out  risco_cr  \\\n",
       "0            1.0  0.000000        0.0         0.0  1.000000  0.000000   \n",
       "1            1.0  0.000000        0.0         0.0  1.000000  0.000000   \n",
       "2            6.0  0.000000        0.0         0.0  1.000000  0.000000   \n",
       "3            1.0  0.972151        0.0         0.0  0.027849  0.713651   \n",
       "4            0.0  1.000000        0.0         0.0  0.000000  0.910038   \n",
       "\n",
       "   risco_proc  risco_infra  risco_out data_abertura      idade  dispersao  \n",
       "0         0.0          0.0   0.001192    1994-10-04  24.508197        NaN  \n",
       "1         0.0          0.0   0.000516    2000-07-03  18.773224        NaN  \n",
       "2         0.0          0.0   0.011551    2008-06-10  10.852459        0.0  \n",
       "3         0.0          0.0   0.000041    1995-02-14  24.144809        0.0  \n",
       "4         0.0          0.0   0.000000    1995-06-22  23.795082        NaN  "
      ]
     },
     "execution_count": 132,
     "metadata": {},
     "output_type": "execute_result"
    }
   ],
   "source": [
    "df_metricas.head()"
   ]
  },
  {
   "cell_type": "code",
   "execution_count": null,
   "metadata": {},
   "outputs": [],
   "source": [
    "df_metricas"
   ]
  },
  {
   "cell_type": "code",
   "execution_count": null,
   "metadata": {},
   "outputs": [],
   "source": []
  },
  {
   "cell_type": "code",
   "execution_count": null,
   "metadata": {},
   "outputs": [],
   "source": []
  },
  {
   "cell_type": "code",
   "execution_count": null,
   "metadata": {},
   "outputs": [],
   "source": []
  }
 ],
 "metadata": {
  "kernelspec": {
   "display_name": "Python 3",
   "language": "python",
   "name": "python3"
  },
  "language_info": {
   "codemirror_mode": {
    "name": "ipython",
    "version": 3
   },
   "file_extension": ".py",
   "mimetype": "text/x-python",
   "name": "python",
   "nbconvert_exporter": "python",
   "pygments_lexer": "ipython3",
   "version": "3.6.5"
  }
 },
 "nbformat": 4,
 "nbformat_minor": 2
}
