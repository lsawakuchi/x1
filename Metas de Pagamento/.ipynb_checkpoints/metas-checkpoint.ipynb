{
 "cells": [
  {
   "cell_type": "code",
   "execution_count": 1,
   "metadata": {},
   "outputs": [],
   "source": [
    "import pandas as pd\n",
    "import numpy as np\n",
    "from datetime import datetime"
   ]
  },
  {
   "cell_type": "code",
   "execution_count": 3,
   "metadata": {},
   "outputs": [
    {
     "data": {
      "text/plain": [
       "19"
      ]
     },
     "execution_count": 3,
     "metadata": {},
     "output_type": "execute_result"
    }
   ],
   "source": [
    "datetime.now().date().day"
   ]
  },
  {
   "cell_type": "markdown",
   "metadata": {},
   "source": [
    "#### Case 1 : * 3 <= P <= 10, N = 2 *"
   ]
  },
  {
   "cell_type": "code",
   "execution_count": 104,
   "metadata": {},
   "outputs": [],
   "source": [
    "vf = 5000\n",
    "tx_ret = 0.10\n",
    "fm = 4000"
   ]
  },
  {
   "cell_type": "code",
   "execution_count": 204,
   "metadata": {},
   "outputs": [],
   "source": [
    "def calcula_prazo(vf, fm, retencao):\n",
    "    pmt = fm*retencao\n",
    "    fluxo = [pmt]*int(vf/pmt)\n",
    "    fluxo = fluxo + [vf - np.sum(fluxo)]\n",
    "    prazo_estimado = len(fluxo)\n",
    "    return prazo_estimado, fluxo\n",
    "\n",
    "def calcula(vf, fm, tx_ret):\n",
    "    prazo_esperado, _ = calcula_prazo(vf, fm, tx_ret)\n",
    "    if prazo_esperado <= 10:\n",
    "        N = 2\n",
    "    else:\n",
    "        N = 3\n",
    "    \n",
    "    prazo_renovacao = 0.7*prazo_esperado\n",
    "    prazo_meta = prazo_renovacao/N\n",
    "    \n",
    "    # ritmo de pagamento\n",
    "    alfa = np.around(0.7/prazo_renovacao, 2)\n",
    "    if N == 2:\n",
    "        v1 = 1.2*alfa\n",
    "        m1 = v1*vf*prazo_meta\n",
    "        m1 = round(m1/50)*50\n",
    "        m2 = round(0.7*vf/50)*50 - m1\n",
    "\n",
    "        p1 = round(prazo_meta/1)*1\n",
    "        p2 = round(prazo_renovacao/1)*1 - p1\n",
    "        return {\"m1\" : m1, \"m2\" : m2, \"p1\" : p1, \"p2\" : p2}, prazo_esperado, prazo_meta\n",
    "    if N == 3:\n",
    "        v1 = 1.2*alfa\n",
    "        v2 = 1*alfa\n",
    "        \n",
    "        m1 = v1*vf*prazo_meta\n",
    "        m2 = v2*vf*prazo_meta\n",
    "        m1 = round(m1/50)*50\n",
    "        m2 = round(m2/50)*50\n",
    "        m3 = round(0.7*vf/50)*50 - m1 - m2\n",
    "        \n",
    "        p1 = round(prazo_meta/1)*1\n",
    "        p2 = p1\n",
    "        p3 = round(prazo_renovacao/1)*1 - p1 - p2\n",
    "        return {\"m1\" : m1, \"m2\" : m2, \"m3\" : m3, \"p1\" : p1, \"p2\" : p2, \"p3\" : p3},  prazo_esperado, prazo_meta\n",
    "        \n",
    "        \n",
    "\n",
    "    "
   ]
  },
  {
   "cell_type": "code",
   "execution_count": 251,
   "metadata": {},
   "outputs": [],
   "source": [
    "vf = 77127\n",
    "tx_ret = 0.153489\n",
    "fm = 38772.1738"
   ]
  },
  {
   "cell_type": "code",
   "execution_count": 252,
   "metadata": {},
   "outputs": [],
   "source": [
    "mp, p, pm = calcula(vf, fm, tx_ret)"
   ]
  },
  {
   "cell_type": "code",
   "execution_count": 253,
   "metadata": {},
   "outputs": [
    {
     "data": {
      "text/plain": [
       "{'m1': 22450.0, 'm2': 18700.0, 'm3': 12850.0, 'p1': 3, 'p2': 3, 'p3': 3}"
      ]
     },
     "execution_count": 253,
     "metadata": {},
     "output_type": "execute_result"
    }
   ],
   "source": [
    "mp"
   ]
  },
  {
   "cell_type": "code",
   "execution_count": null,
   "metadata": {},
   "outputs": [],
   "source": [
    "{\"data_m1\": \"2019-09-01\", \"data_m2\": \"2020-02-01\", \"valor_m1\": 23150, \"valor_m2\": 61700, \"prazo_ajustado\": 13, \"prazo_original\": 13}"
   ]
  },
  {
   "cell_type": "code",
   "execution_count": 254,
   "metadata": {},
   "outputs": [
    {
     "data": {
      "text/plain": [
       "13"
      ]
     },
     "execution_count": 254,
     "metadata": {},
     "output_type": "execute_result"
    }
   ],
   "source": [
    "p"
   ]
  },
  {
   "cell_type": "code",
   "execution_count": 224,
   "metadata": {},
   "outputs": [
    {
     "data": {
      "text/plain": [
       "47950.0"
      ]
     },
     "execution_count": 224,
     "metadata": {},
     "output_type": "execute_result"
    }
   ],
   "source": [
    "mp.get(\"m1\") + mp.get(\"m2\") + mp.get(\"m3\", 0)"
   ]
  },
  {
   "cell_type": "code",
   "execution_count": 225,
   "metadata": {},
   "outputs": [
    {
     "data": {
      "text/plain": [
       "47950.0"
      ]
     },
     "execution_count": 225,
     "metadata": {},
     "output_type": "execute_result"
    }
   ],
   "source": [
    "0.7*vf"
   ]
  },
  {
   "cell_type": "code",
   "execution_count": 244,
   "metadata": {},
   "outputs": [],
   "source": [
    "pmt2 = mp.get(\"m1\")/mp.get(\"p1\")"
   ]
  },
  {
   "cell_type": "code",
   "execution_count": 245,
   "metadata": {},
   "outputs": [],
   "source": [
    "v1 = pmt2/pmt"
   ]
  },
  {
   "cell_type": "code",
   "execution_count": 246,
   "metadata": {},
   "outputs": [],
   "source": [
    "pmt2 = mp.get(\"m2\")/mp.get(\"p2\")"
   ]
  },
  {
   "cell_type": "code",
   "execution_count": 247,
   "metadata": {},
   "outputs": [],
   "source": [
    "v2 = pmt2/pmt"
   ]
  },
  {
   "cell_type": "code",
   "execution_count": 248,
   "metadata": {},
   "outputs": [],
   "source": [
    "pmt2 = mp.get(\"m3\")/mp.get(\"p3\")"
   ]
  },
  {
   "cell_type": "code",
   "execution_count": 249,
   "metadata": {},
   "outputs": [],
   "source": [
    "v3 = pmt2/pmt"
   ]
  },
  {
   "cell_type": "code",
   "execution_count": 250,
   "metadata": {},
   "outputs": [
    {
     "data": {
      "text/plain": [
       "1.0035650623885919"
      ]
     },
     "execution_count": 250,
     "metadata": {},
     "output_type": "execute_result"
    }
   ],
   "source": [
    "(v1 + v2 + v3)/3"
   ]
  },
  {
   "cell_type": "code",
   "execution_count": 236,
   "metadata": {},
   "outputs": [],
   "source": [
    "pmt = fm*tx_ret"
   ]
  },
  {
   "cell_type": "code",
   "execution_count": 234,
   "metadata": {},
   "outputs": [
    {
     "data": {
      "text/plain": [
       "1.2165775401069518"
      ]
     },
     "execution_count": 234,
     "metadata": {},
     "output_type": "execute_result"
    }
   ],
   "source": [
    "4550.0/3740.0"
   ]
  },
  {
   "cell_type": "code",
   "execution_count": null,
   "metadata": {},
   "outputs": [],
   "source": []
  },
  {
   "cell_type": "code",
   "execution_count": null,
   "metadata": {},
   "outputs": [],
   "source": []
  },
  {
   "cell_type": "code",
   "execution_count": 128,
   "metadata": {},
   "outputs": [],
   "source": [
    "p, _ = calcula_prazo(vf, fm, tx_ret)\n",
    "pr = 0.7*p\n",
    "pm = pr/3\n",
    "v = 0.7/pr"
   ]
  },
  {
   "cell_type": "code",
   "execution_count": 129,
   "metadata": {},
   "outputs": [
    {
     "data": {
      "text/plain": [
       "13"
      ]
     },
     "execution_count": 129,
     "metadata": {},
     "output_type": "execute_result"
    }
   ],
   "source": [
    "p"
   ]
  },
  {
   "cell_type": "code",
   "execution_count": 130,
   "metadata": {},
   "outputs": [
    {
     "data": {
      "text/plain": [
       "9.1"
      ]
     },
     "execution_count": 130,
     "metadata": {},
     "output_type": "execute_result"
    }
   ],
   "source": [
    "pr"
   ]
  },
  {
   "cell_type": "code",
   "execution_count": 131,
   "metadata": {},
   "outputs": [
    {
     "data": {
      "text/plain": [
       "3.033333333333333"
      ]
     },
     "execution_count": 131,
     "metadata": {},
     "output_type": "execute_result"
    }
   ],
   "source": [
    "pm"
   ]
  },
  {
   "cell_type": "code",
   "execution_count": 132,
   "metadata": {},
   "outputs": [],
   "source": [
    "v = np.around(v, 2)"
   ]
  },
  {
   "cell_type": "code",
   "execution_count": 133,
   "metadata": {},
   "outputs": [
    {
     "data": {
      "text/plain": [
       "0.08"
      ]
     },
     "execution_count": 133,
     "metadata": {},
     "output_type": "execute_result"
    }
   ],
   "source": [
    "v"
   ]
  },
  {
   "cell_type": "code",
   "execution_count": 134,
   "metadata": {},
   "outputs": [
    {
     "data": {
      "text/plain": [
       "13"
      ]
     },
     "execution_count": 134,
     "metadata": {},
     "output_type": "execute_result"
    }
   ],
   "source": [
    "p"
   ]
  },
  {
   "cell_type": "code",
   "execution_count": 174,
   "metadata": {},
   "outputs": [],
   "source": [
    "v1 = 1.2*v\n",
    "v2 = 1*v\n",
    "v3 = 0.8*v"
   ]
  },
  {
   "cell_type": "code",
   "execution_count": 175,
   "metadata": {},
   "outputs": [
    {
     "data": {
      "text/plain": [
       "3.033333333333333"
      ]
     },
     "execution_count": 175,
     "metadata": {},
     "output_type": "execute_result"
    }
   ],
   "source": [
    "pm"
   ]
  },
  {
   "cell_type": "code",
   "execution_count": 176,
   "metadata": {},
   "outputs": [],
   "source": [
    "m1 = v1*vf*pm\n",
    "m2 = v2*vf*pm\n",
    "m3 = v3*vf*pm"
   ]
  },
  {
   "cell_type": "code",
   "execution_count": 178,
   "metadata": {},
   "outputs": [
    {
     "data": {
      "text/plain": [
       "(1456.0, 1213.3333333333333, 970.6666666666666)"
      ]
     },
     "execution_count": 178,
     "metadata": {},
     "output_type": "execute_result"
    }
   ],
   "source": [
    "m1, m2, m3"
   ]
  },
  {
   "cell_type": "code",
   "execution_count": 179,
   "metadata": {},
   "outputs": [
    {
     "data": {
      "text/plain": [
       "3639.9999999999995"
      ]
     },
     "execution_count": 179,
     "metadata": {},
     "output_type": "execute_result"
    }
   ],
   "source": [
    "m1 + m2 + m3"
   ]
  },
  {
   "cell_type": "code",
   "execution_count": 180,
   "metadata": {},
   "outputs": [
    {
     "data": {
      "text/plain": [
       "3500.0"
      ]
     },
     "execution_count": 180,
     "metadata": {},
     "output_type": "execute_result"
    }
   ],
   "source": [
    "0.7*vf"
   ]
  },
  {
   "cell_type": "code",
   "execution_count": null,
   "metadata": {},
   "outputs": [],
   "source": []
  },
  {
   "cell_type": "code",
   "execution_count": 169,
   "metadata": {},
   "outputs": [
    {
     "data": {
      "text/plain": [
       "(1450.0, 1200.0)"
      ]
     },
     "execution_count": 169,
     "metadata": {},
     "output_type": "execute_result"
    }
   ],
   "source": [
    "m1 = round(m1/50)*50\n",
    "m2 = round(m2/50)*50\n",
    "m1, m2"
   ]
  },
  {
   "cell_type": "code",
   "execution_count": 170,
   "metadata": {},
   "outputs": [],
   "source": [
    "m3 = 0.7*vf - m1 - m2"
   ]
  },
  {
   "cell_type": "code",
   "execution_count": 171,
   "metadata": {},
   "outputs": [
    {
     "data": {
      "text/plain": [
       "850.0"
      ]
     },
     "execution_count": 171,
     "metadata": {},
     "output_type": "execute_result"
    }
   ],
   "source": [
    "m3"
   ]
  },
  {
   "cell_type": "code",
   "execution_count": 172,
   "metadata": {},
   "outputs": [],
   "source": [
    "m3 = 0.8*v*vf*pm"
   ]
  },
  {
   "cell_type": "code",
   "execution_count": 173,
   "metadata": {},
   "outputs": [
    {
     "data": {
      "text/plain": [
       "970.6666666666666"
      ]
     },
     "execution_count": 173,
     "metadata": {},
     "output_type": "execute_result"
    }
   ],
   "source": [
    "m3"
   ]
  },
  {
   "cell_type": "code",
   "execution_count": 113,
   "metadata": {},
   "outputs": [
    {
     "data": {
      "text/plain": [
       "(0.096, 0.07200000000000001)"
      ]
     },
     "execution_count": 113,
     "metadata": {},
     "output_type": "execute_result"
    }
   ],
   "source": [
    "v1, v2"
   ]
  },
  {
   "cell_type": "code",
   "execution_count": 85,
   "metadata": {},
   "outputs": [
    {
     "data": {
      "text/plain": [
       "3464.999999999999"
      ]
     },
     "execution_count": 85,
     "metadata": {},
     "output_type": "execute_result"
    }
   ],
   "source": [
    "(v1*pm + v2*pm)*vf"
   ]
  },
  {
   "cell_type": "code",
   "execution_count": 86,
   "metadata": {},
   "outputs": [
    {
     "data": {
      "text/plain": [
       "3500.0"
      ]
     },
     "execution_count": 86,
     "metadata": {},
     "output_type": "execute_result"
    }
   ],
   "source": [
    "0.7*vf"
   ]
  },
  {
   "cell_type": "code",
   "execution_count": 87,
   "metadata": {},
   "outputs": [
    {
     "data": {
      "text/plain": [
       "1.0499999999999998"
      ]
     },
     "execution_count": 87,
     "metadata": {},
     "output_type": "execute_result"
    }
   ],
   "source": [
    "pm"
   ]
  },
  {
   "cell_type": "code",
   "execution_count": 88,
   "metadata": {},
   "outputs": [
    {
     "data": {
      "text/plain": [
       "3464.999999999999"
      ]
     },
     "execution_count": 88,
     "metadata": {},
     "output_type": "execute_result"
    }
   ],
   "source": [
    "v1*vf*pm + v2*vf*pm"
   ]
  },
  {
   "cell_type": "code",
   "execution_count": 90,
   "metadata": {},
   "outputs": [
    {
     "data": {
      "text/plain": [
       "2078.9999999999995"
      ]
     },
     "execution_count": 90,
     "metadata": {},
     "output_type": "execute_result"
    }
   ],
   "source": [
    "m1 = v1*vf*pm\n",
    "m1\n",
    "\n",
    "m1 = round(m1/50)*50\n",
    "m1"
   ]
  },
  {
   "cell_type": "code",
   "execution_count": 92,
   "metadata": {},
   "outputs": [],
   "source": [
    "m2 = 0.7*vf - m1"
   ]
  },
  {
   "cell_type": "code",
   "execution_count": 93,
   "metadata": {},
   "outputs": [
    {
     "data": {
      "text/plain": [
       "1400.0"
      ]
     },
     "execution_count": 93,
     "metadata": {},
     "output_type": "execute_result"
    }
   ],
   "source": [
    "m2"
   ]
  },
  {
   "cell_type": "code",
   "execution_count": 94,
   "metadata": {},
   "outputs": [
    {
     "data": {
      "text/plain": [
       "(2100.0, 1400.0)"
      ]
     },
     "execution_count": 94,
     "metadata": {},
     "output_type": "execute_result"
    }
   ],
   "source": [
    "m1, m2"
   ]
  },
  {
   "cell_type": "code",
   "execution_count": 95,
   "metadata": {},
   "outputs": [
    {
     "data": {
      "text/plain": [
       "1.0499999999999998"
      ]
     },
     "execution_count": 95,
     "metadata": {},
     "output_type": "execute_result"
    }
   ],
   "source": [
    "pm"
   ]
  },
  {
   "cell_type": "code",
   "execution_count": 96,
   "metadata": {},
   "outputs": [
    {
     "data": {
      "text/plain": [
       "3"
      ]
     },
     "execution_count": 96,
     "metadata": {},
     "output_type": "execute_result"
    }
   ],
   "source": [
    "p"
   ]
  },
  {
   "cell_type": "code",
   "execution_count": 100,
   "metadata": {},
   "outputs": [],
   "source": [
    "p1 = round(pm/1)*1"
   ]
  },
  {
   "cell_type": "code",
   "execution_count": 101,
   "metadata": {},
   "outputs": [
    {
     "data": {
      "text/plain": [
       "1"
      ]
     },
     "execution_count": 101,
     "metadata": {},
     "output_type": "execute_result"
    }
   ],
   "source": [
    "p1"
   ]
  },
  {
   "cell_type": "code",
   "execution_count": 102,
   "metadata": {},
   "outputs": [],
   "source": [
    "p1 = round(pm/1)*1\n",
    "p2 = round(pr/1)*1 - p1"
   ]
  },
  {
   "cell_type": "code",
   "execution_count": 103,
   "metadata": {},
   "outputs": [
    {
     "data": {
      "text/plain": [
       "(1, 1)"
      ]
     },
     "execution_count": 103,
     "metadata": {},
     "output_type": "execute_result"
    }
   ],
   "source": [
    "p1, p2"
   ]
  },
  {
   "cell_type": "code",
   "execution_count": 2,
   "metadata": {},
   "outputs": [],
   "source": [
    "from watchdog.rotinas.analise_pendencias import AnalisePendencias"
   ]
  },
  {
   "cell_type": "code",
   "execution_count": 4,
   "metadata": {},
   "outputs": [],
   "source": [
    "numero = \"0da9e09c-fceb-47a5-ae3e-b5979114151a\"\n",
    "ap = AnalisePendencias(\"10727216000107\")\n",
    "js = ap.get_details(numero)"
   ]
  },
  {
   "cell_type": "code",
   "execution_count": 7,
   "metadata": {},
   "outputs": [],
   "source": [
    "js = js.get(\"result\")"
   ]
  },
  {
   "cell_type": "code",
   "execution_count": 9,
   "metadata": {
    "scrolled": false
   },
   "outputs": [
    {
     "data": {
      "text/plain": [
       "dict_keys(['atualizado_em', 'criado_em', 'mensagem', 'nome', 'numero', 'resultado', 'status', 'validado_em', 'validado_manualmente', 'bigboost', 'cnpj', 'ofac_sdn', 'restricoes_financeiras', 'falencias', 'protestos', 'pendencias'])"
      ]
     },
     "execution_count": 9,
     "metadata": {},
     "output_type": "execute_result"
    }
   ],
   "source": [
    "js.keys()"
   ]
  },
  {
   "cell_type": "code",
   "execution_count": 10,
   "metadata": {},
   "outputs": [
    {
     "data": {
      "text/plain": [
       "{'itens': [{'uf': 'SP',\n",
       "   'praca': 'SRR',\n",
       "   'natureza': 'Recuperação Judicial Requerida',\n",
       "   'municipio': 'SAO JOSE DO RIO PRETO',\n",
       "   'vara_civel': '0001',\n",
       "   'chave_cadus': '0000820786',\n",
       "   'filial_cnpj': '0000',\n",
       "   'data_inclusao': '25/06/2019',\n",
       "   'hora_inclusao': '10:57:04',\n",
       "   'data_ocorrencia': '13/06/2019',\n",
       "   'descricao_natureza': 'RECUPERAC JUDIC REQ',\n",
       "   'digito_verificador': '00',\n",
       "   'fonte': 'falencia'}]}"
      ]
     },
     "execution_count": 10,
     "metadata": {},
     "output_type": "execute_result"
    }
   ],
   "source": [
    "js.get(\"falencias\")"
   ]
  },
  {
   "cell_type": "code",
   "execution_count": 11,
   "metadata": {},
   "outputs": [
    {
     "data": {
      "text/plain": [
       "{'result': {'atualizado_em': '2019-07-10T14:18:28.679Z',\n",
       "  'mensagem': 'Inválido. [INVALID] Encontrada(s) 43 Pendência(s) Financeira(s). [INVALID] Encontrada(s) 1 Restrição(ões) Financeira(s). [INVALID] Encontrado(s) 99 protesto(s).',\n",
       "  'nome': 'captalys_tecnologia_concentre_pj',\n",
       "  'numero': '0da9e09c-fceb-47a5-ae3e-b5979114151a',\n",
       "  'resultado': 'INVALID',\n",
       "  'status': 'CONCLUIDO',\n",
       "  'validacoes': [{'regra': 'idwall.matrix.regras.blacklists.RegraUNSanctions',\n",
       "    'nome': 'Sanções Nações Unidas',\n",
       "    'descricao': 'Verifica se um nome de empresa ou pessoa está presente na lista de sanções da Nações Unidas',\n",
       "    'resultado': 'VALID'},\n",
       "   {'regra': 'idwall.matrix.regras.serasa.concentre.RegraProtestosSerasaConcentre',\n",
       "    'nome': 'Regra Protestos Serasa Concentre',\n",
       "    'descricao': 'Não deve constar protestos no Serasa Concentre',\n",
       "    'resultado': 'INVALID',\n",
       "    'mensagem': '[INVALID] Encontrado(s) 99 protesto(s).'},\n",
       "   {'regra': 'idwall.matrix.regras.serasa.concentre.RegraPefinSerasaConcentre',\n",
       "    'nome': 'Pendencias Financeiras Serasa Concentre (PEFIN)',\n",
       "    'descricao': 'Não deve constar pendências financeiras (PEFIN) no Serasa Concentre',\n",
       "    'resultado': 'INVALID',\n",
       "    'mensagem': '[INVALID] Encontrada(s) 43 Pendência(s) Financeira(s).'},\n",
       "   {'regra': 'idwall.matrix.regras.serasa.concentre.RegraSerasaConcentre',\n",
       "    'nome': 'Serasa Concentre',\n",
       "    'descricao': 'Buscar informações no Serasa Concentre',\n",
       "    'resultado': 'VALID'},\n",
       "   {'regra': 'idwall.matrix.regras.serasa.concentre.RegraRefinSerasaConcentre',\n",
       "    'nome': 'Restrições Financeiras Serasa Concentre (REFIN)',\n",
       "    'descricao': 'Não deve constar restrições financeiras (REFIN) no Serasa Concentre',\n",
       "    'resultado': 'INVALID',\n",
       "    'mensagem': '[INVALID] Encontrada(s) 1 Restrição(ões) Financeira(s).'},\n",
       "   {'regra': 'idwall.matrix.regras.serasa.concentre.RegraProcessosSerasaConcentre',\n",
       "    'nome': 'Processos no Serasa Concentre',\n",
       "    'descricao': 'Não deve constar processos (ações judiciais) no Serasa Concentre',\n",
       "    'resultado': 'VALID'},\n",
       "   {'regra': 'idwall.matrix.regras.cnpj.RegraSituacaoCnpj',\n",
       "    'nome': 'Situação Cadastral Ativa',\n",
       "    'descricao': 'Situação cadastral do CNPJ deve ser ATIVA',\n",
       "    'resultado': 'VALID'}],\n",
       "  'validado_em': '2019-07-10T14:17:41.095Z',\n",
       "  'validado_manualmente': False,\n",
       "  'validado_por': None},\n",
       " 'status_code': 200}"
      ]
     },
     "execution_count": 11,
     "metadata": {},
     "output_type": "execute_result"
    }
   ],
   "source": [
    "ap.get_validacoes(numero)"
   ]
  },
  {
   "cell_type": "code",
   "execution_count": null,
   "metadata": {},
   "outputs": [],
   "source": []
  }
 ],
 "metadata": {
  "kernelspec": {
   "display_name": "Python 3",
   "language": "python",
   "name": "python3"
  },
  "language_info": {
   "codemirror_mode": {
    "name": "ipython",
    "version": 3
   },
   "file_extension": ".py",
   "mimetype": "text/x-python",
   "name": "python",
   "nbconvert_exporter": "python",
   "pygments_lexer": "ipython3",
   "version": "3.6.5"
  }
 },
 "nbformat": 4,
 "nbformat_minor": 2
}
