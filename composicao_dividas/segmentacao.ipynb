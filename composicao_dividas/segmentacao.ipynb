{
 "cells": [
  {
   "cell_type": "code",
   "execution_count": 1,
   "metadata": {},
   "outputs": [
    {
     "data": {
      "text/html": [
       "<script type=\"text/javascript\">window.PlotlyConfig = {MathJaxConfig: 'local'};</script><script type=\"text/javascript\">if (window.MathJax) {MathJax.Hub.Config({SVG: {font: \"STIX-Web\"}});}</script><script>requirejs.config({paths: { 'plotly': ['https://cdn.plot.ly/plotly-latest.min']},});if(!window._Plotly) {require(['plotly'],function(plotly) {window._Plotly=plotly;});}</script>"
      ],
      "text/vnd.plotly.v1+html": [
       "<script type=\"text/javascript\">window.PlotlyConfig = {MathJaxConfig: 'local'};</script><script type=\"text/javascript\">if (window.MathJax) {MathJax.Hub.Config({SVG: {font: \"STIX-Web\"}});}</script><script>requirejs.config({paths: { 'plotly': ['https://cdn.plot.ly/plotly-latest.min']},});if(!window._Plotly) {require(['plotly'],function(plotly) {window._Plotly=plotly;});}</script>"
      ]
     },
     "metadata": {},
     "output_type": "display_data"
    }
   ],
   "source": [
    "import pandas as pd\n",
    "import numpy as np\n",
    "import warnings\n",
    "warnings.filterwarnings('ignore')\n",
    "\n",
    "from plotly.offline import init_notebook_mode, iplot\n",
    "import plotly.graph_objs as go\n",
    "init_notebook_mode(connected=True)\n",
    "import warnings\n",
    "warnings.filterwarnings(\"ignore\")\n",
    "%matplotlib inline"
   ]
  },
  {
   "cell_type": "code",
   "execution_count": 2,
   "metadata": {},
   "outputs": [],
   "source": [
    "df_cheques = pd.read_excel(\"../tabelas/base_cheques_201904.xlsx\")\n",
    "df_dividas = pd.read_excel(\"../tabelas/base_dividas_201904.xlsx\")\n",
    "df_idade = pd.read_excel(\"../tabelas/idade_maxima_divida_201904.xlsx\")\n",
    "df_tempo = pd.read_excel(\"../tabelas/tempo_medio_entre_dividas_201904.xlsx\")"
   ]
  },
  {
   "cell_type": "code",
   "execution_count": 3,
   "metadata": {},
   "outputs": [],
   "source": [
    "df_dividas['cnpj'] = df_dividas.apply(lambda x : '0' + str(x['cnpj']) if len(str(x['cnpj']))==13\n",
    "                              else ('00' + str(x['cnpj']) if len(str(x['cnpj']))==12 else str(x['cnpj'])), axis=1)"
   ]
  },
  {
   "cell_type": "code",
   "execution_count": 4,
   "metadata": {},
   "outputs": [],
   "source": [
    "df_idade['cnpj'] = df_idade.apply(lambda x : '0' + str(x['cnpj']) if len(str(x['cnpj']))==13\n",
    "                              else ('00' + str(x['cnpj']) if len(str(x['cnpj']))==12 else str(x['cnpj'])), axis=1)"
   ]
  },
  {
   "cell_type": "code",
   "execution_count": 5,
   "metadata": {},
   "outputs": [],
   "source": [
    "df_tempo['cnpj'] = df_tempo.apply(lambda x : '0' + str(x['cnpj']) if len(str(x['cnpj']))==13\n",
    "                              else ('00' + str(x['cnpj']) if len(str(x['cnpj']))==12 else str(x['cnpj'])), axis=1)"
   ]
  },
  {
   "cell_type": "code",
   "execution_count": 6,
   "metadata": {},
   "outputs": [],
   "source": [
    "df_cheques['cnpj'] = df_cheques.apply(lambda x : '0' + str(x['cnpj']) if len(str(x['cnpj']))==13\n",
    "                              else ('00' + str(x['cnpj']) if len(str(x['cnpj']))==12 else str(x['cnpj'])), axis=1)"
   ]
  },
  {
   "cell_type": "code",
   "execution_count": 7,
   "metadata": {},
   "outputs": [],
   "source": [
    "df_p = df_dividas[df_dividas['tipo']=='processos']"
   ]
  },
  {
   "cell_type": "code",
   "execution_count": 8,
   "metadata": {},
   "outputs": [],
   "source": [
    "df_dividas = df_dividas[df_dividas['tipo']!='processos']"
   ]
  },
  {
   "cell_type": "code",
   "execution_count": 9,
   "metadata": {},
   "outputs": [],
   "source": [
    "df_p['modalidade_natureza'] = df_p['descricao_natureza']"
   ]
  },
  {
   "cell_type": "code",
   "execution_count": 10,
   "metadata": {},
   "outputs": [],
   "source": [
    "df_p.drop(columns=['descricao_natureza'], axis=1, inplace=True)"
   ]
  },
  {
   "cell_type": "code",
   "execution_count": 11,
   "metadata": {},
   "outputs": [
    {
     "data": {
      "text/html": [
       "<div>\n",
       "<style scoped>\n",
       "    .dataframe tbody tr th:only-of-type {\n",
       "        vertical-align: middle;\n",
       "    }\n",
       "\n",
       "    .dataframe tbody tr th {\n",
       "        vertical-align: top;\n",
       "    }\n",
       "\n",
       "    .dataframe thead th {\n",
       "        text-align: right;\n",
       "    }\n",
       "</style>\n",
       "<table border=\"1\" class=\"dataframe\">\n",
       "  <thead>\n",
       "    <tr style=\"text-align: right;\">\n",
       "      <th></th>\n",
       "      <th>cnpj</th>\n",
       "      <th>data_ocorrencia</th>\n",
       "      <th>modalidade_natureza</th>\n",
       "      <th>natureza</th>\n",
       "      <th>tipo</th>\n",
       "      <th>uf</th>\n",
       "      <th>valor</th>\n",
       "    </tr>\n",
       "  </thead>\n",
       "  <tbody>\n",
       "    <tr>\n",
       "      <th>0</th>\n",
       "      <td>03403405000169</td>\n",
       "      <td>03/07/2017</td>\n",
       "      <td>EXC JUD TRAB</td>\n",
       "      <td>Execução de Título Judicial Trabalhista</td>\n",
       "      <td>processos</td>\n",
       "      <td>SC</td>\n",
       "      <td>R$ 17788,37</td>\n",
       "    </tr>\n",
       "    <tr>\n",
       "      <th>1</th>\n",
       "      <td>03403405000169</td>\n",
       "      <td>24/01/2017</td>\n",
       "      <td>EXC JUD TRAB</td>\n",
       "      <td>Execução de Título Judicial Trabalhista</td>\n",
       "      <td>processos</td>\n",
       "      <td>RS</td>\n",
       "      <td>R$ 75143,93</td>\n",
       "    </tr>\n",
       "    <tr>\n",
       "      <th>2</th>\n",
       "      <td>03403405000169</td>\n",
       "      <td>11/08/2016</td>\n",
       "      <td>FISCAL ESTADUAL</td>\n",
       "      <td>Execução Fiscal Estadual</td>\n",
       "      <td>processos</td>\n",
       "      <td>SC</td>\n",
       "      <td>R$ 0,00</td>\n",
       "    </tr>\n",
       "    <tr>\n",
       "      <th>0</th>\n",
       "      <td>04501499000171</td>\n",
       "      <td>25/01/2019</td>\n",
       "      <td>FISCAL ESTADUAL</td>\n",
       "      <td>Execução Fiscal Estadual</td>\n",
       "      <td>processos</td>\n",
       "      <td>MG</td>\n",
       "      <td>R$ 0,00</td>\n",
       "    </tr>\n",
       "    <tr>\n",
       "      <th>1</th>\n",
       "      <td>04501499000171</td>\n",
       "      <td>18/01/2018</td>\n",
       "      <td>EXECUCAO</td>\n",
       "      <td>Execução</td>\n",
       "      <td>processos</td>\n",
       "      <td>MG</td>\n",
       "      <td>R$ 0,00</td>\n",
       "    </tr>\n",
       "  </tbody>\n",
       "</table>\n",
       "</div>"
      ],
      "text/plain": [
       "             cnpj data_ocorrencia modalidade_natureza  \\\n",
       "0  03403405000169      03/07/2017        EXC JUD TRAB   \n",
       "1  03403405000169      24/01/2017        EXC JUD TRAB   \n",
       "2  03403405000169      11/08/2016     FISCAL ESTADUAL   \n",
       "0  04501499000171      25/01/2019     FISCAL ESTADUAL   \n",
       "1  04501499000171      18/01/2018            EXECUCAO   \n",
       "\n",
       "                                  natureza       tipo  uf        valor  \n",
       "0  Execução de Título Judicial Trabalhista  processos  SC  R$ 17788,37  \n",
       "1  Execução de Título Judicial Trabalhista  processos  RS  R$ 75143,93  \n",
       "2                 Execução Fiscal Estadual  processos  SC      R$ 0,00  \n",
       "0                 Execução Fiscal Estadual  processos  MG      R$ 0,00  \n",
       "1                                 Execução  processos  MG      R$ 0,00  "
      ]
     },
     "execution_count": 11,
     "metadata": {},
     "output_type": "execute_result"
    }
   ],
   "source": [
    "df_p.head()"
   ]
  },
  {
   "cell_type": "code",
   "execution_count": 12,
   "metadata": {},
   "outputs": [],
   "source": [
    "df_dividas.drop(columns=['descricao_natureza'], axis=1, inplace=True)"
   ]
  },
  {
   "cell_type": "code",
   "execution_count": 13,
   "metadata": {},
   "outputs": [],
   "source": [
    "df = pd.concat([df_dividas, df_p])"
   ]
  },
  {
   "cell_type": "code",
   "execution_count": 14,
   "metadata": {},
   "outputs": [],
   "source": [
    "df['modalidade_natureza'] = df.apply(lambda x : x['modalidade_natureza'].replace(\" \", \"\") if isinstance(x['modalidade_natureza'], str) else \"OUTROS\", axis=1)"
   ]
  },
  {
   "cell_type": "code",
   "execution_count": 15,
   "metadata": {},
   "outputs": [
    {
     "data": {
      "text/plain": [
       "['Dívidanãocontestada.',\n",
       " 'DUPLICATA',\n",
       " 'OUTRASOPER',\n",
       " 'OUTROS',\n",
       " 'NOTAFISCAL',\n",
       " 'EMPRESCONTA',\n",
       " 'CREDCARTAO',\n",
       " 'FINANCIAMENT',\n",
       " 'OPERIMOBILI',\n",
       " 'VENDAMERCAD',\n",
       " 'TITDESCONTA',\n",
       " 'ADIANTCONTA',\n",
       " 'SERVTELEFON',\n",
       " 'EMPRESTIMO',\n",
       " 'ALUGUEL',\n",
       " 'ARRECADADOR',\n",
       " 'CONDOMINIO',\n",
       " 'ENERGIAELET',\n",
       " 'CONFISSDIV',\n",
       " 'CREDITOEFINANCIAMENTO-FINANC',\n",
       " 'CREDIARIO',\n",
       " 'TITULOSDESCONTADOS-TURISMO',\n",
       " 'DIVIDASCHEQ',\n",
       " 'OPERAJUIZAD',\n",
       " 'REPASSES',\n",
       " 'LEASING',\n",
       " 'OUTRASOPERACOES-FINANCEIRA',\n",
       " 'SEGUROSAUDE',\n",
       " 'CONSORCIOCO',\n",
       " 'CONSORCIOCONTEMPLADO',\n",
       " 'CONSBENS',\n",
       " 'TELEFFX',\n",
       " 'TELEFFIXA',\n",
       " 'TELEFMOVEL',\n",
       " 'FATAGUA',\n",
       " 'CONSVEICULO',\n",
       " 'EXCJUDTRAB',\n",
       " 'FISCALESTADUAL',\n",
       " 'EXECUCAO',\n",
       " 'FISCALFEDERAL',\n",
       " 'FISCALMUNICIPAL',\n",
       " 'EXECUCAO-JE',\n",
       " 'BUSCAEAPREENSAO']"
      ]
     },
     "execution_count": 15,
     "metadata": {},
     "output_type": "execute_result"
    }
   ],
   "source": [
    "df['modalidade_natureza'].unique().tolist()"
   ]
  },
  {
   "cell_type": "code",
   "execution_count": 16,
   "metadata": {},
   "outputs": [],
   "source": [
    "segmento_infra = ['FATAGUA', 'TELEFFX', 'TELEFFIXA', 'TELEFMOVEL', 'CONDOMINIO', 'ENERGIAELET', 'ALUGUEL', \n",
    "                  'SERVTELEFON']\n",
    "\n",
    "segmento_credito = ['EMPRESCONTA', 'CREDCARTAO', 'FINANCIAMENT', 'CREDITOEFINANCIAMENTO-FINANC']\n",
    "\n",
    "segmento_processos = ['EXCJUDTRAB', 'FISCALESTADUAL', 'EXECUCAO', 'FISCALFEDERAL', 'FISCALMUNICIPAL',\n",
    "                     'EXECUCAO-JE', 'BUSCAEAPREENSAO']"
   ]
  },
  {
   "cell_type": "code",
   "execution_count": null,
   "metadata": {},
   "outputs": [],
   "source": []
  },
  {
   "cell_type": "code",
   "execution_count": 17,
   "metadata": {},
   "outputs": [
    {
     "data": {
      "text/plain": [
       "['EXCJUDTRAB',\n",
       " 'FISCALESTADUAL',\n",
       " 'EXECUCAO',\n",
       " 'FISCALFEDERAL',\n",
       " 'FISCALMUNICIPAL',\n",
       " 'EXECUCAO-JE',\n",
       " 'BUSCAEAPREENSAO']"
      ]
     },
     "execution_count": 17,
     "metadata": {},
     "output_type": "execute_result"
    }
   ],
   "source": [
    "df[df['tipo']=='processos']['modalidade_natureza'].unique().tolist()"
   ]
  },
  {
   "cell_type": "code",
   "execution_count": 18,
   "metadata": {},
   "outputs": [
    {
     "data": {
      "text/plain": [
       "['Falta Pagamento',\n",
       " 'CÓDIGO DE ANOTAÇÃO NÃO ENCONTRADO',\n",
       " nan,\n",
       " 'Empréstimos em contas - c/c garantidas, financiamentos de capital de giro, programas especiais, etc',\n",
       " 'Cartão de crédito',\n",
       " 'Créditos e financiamentos - empréstimos a pessoas físicas , financiamentos ao consumidor final , etc',\n",
       " 'Operações imobiliárias em geral, inclusive de sociedades de poupança',\n",
       " 'Adiantamento a depositantes - c/c devedores em geral',\n",
       " 'Empréstimos agrícolas e industriais - financiamentos de custeio de investimentos agrícolas e industriais',\n",
       " 'Operações ajuizadas ',\n",
       " 'Arrendamentos, inclusive leasing',\n",
       " 'Consórcio outros bens móveis',\n",
       " 'Consórcio veículos leves',\n",
       " 'Execução de Título Judicial Trabalhista',\n",
       " 'Execução Fiscal Estadual',\n",
       " 'Execução',\n",
       " 'Execução Fiscal Federal',\n",
       " 'Execução Fiscal Municipal',\n",
       " 'Execução - Pequenas Causas',\n",
       " 'Busca e Apreensão']"
      ]
     },
     "execution_count": 18,
     "metadata": {},
     "output_type": "execute_result"
    }
   ],
   "source": [
    "df['natureza'].unique().tolist()"
   ]
  },
  {
   "cell_type": "code",
   "execution_count": 19,
   "metadata": {},
   "outputs": [
    {
     "data": {
      "text/plain": [
       "['EMPRESCONTA']"
      ]
     },
     "execution_count": 19,
     "metadata": {},
     "output_type": "execute_result"
    }
   ],
   "source": [
    "df[df['natureza']=='Empréstimos em contas - c/c garantidas, financiamentos de capital de giro, programas especiais, etc']['modalidade_natureza'].unique().tolist()"
   ]
  },
  {
   "cell_type": "code",
   "execution_count": 20,
   "metadata": {},
   "outputs": [
    {
     "data": {
      "text/plain": [
       "['CREDCARTAO']"
      ]
     },
     "execution_count": 20,
     "metadata": {},
     "output_type": "execute_result"
    }
   ],
   "source": [
    "df[df['natureza']=='Cartão de crédito']['modalidade_natureza'].unique().tolist()"
   ]
  },
  {
   "cell_type": "code",
   "execution_count": 21,
   "metadata": {},
   "outputs": [
    {
     "data": {
      "text/plain": [
       "['FINANCIAMENT']"
      ]
     },
     "execution_count": 21,
     "metadata": {},
     "output_type": "execute_result"
    }
   ],
   "source": [
    "df[df['natureza']=='Créditos e financiamentos - empréstimos a pessoas físicas , financiamentos ao consumidor final , etc']['modalidade_natureza'].unique().tolist()"
   ]
  },
  {
   "cell_type": "code",
   "execution_count": 22,
   "metadata": {},
   "outputs": [
    {
     "data": {
      "text/plain": [
       "['EMPRESTIMO']"
      ]
     },
     "execution_count": 22,
     "metadata": {},
     "output_type": "execute_result"
    }
   ],
   "source": [
    "df[df['natureza']=='Empréstimos agrícolas e industriais - financiamentos de custeio de investimentos agrícolas e industriais']['modalidade_natureza'].unique().tolist()"
   ]
  },
  {
   "cell_type": "code",
   "execution_count": 23,
   "metadata": {},
   "outputs": [],
   "source": [
    "df['segmento'] = df.apply(lambda x : 'processos' if x['tipo']=='processos'\n",
    "                          else('credito' if x['modalidade_natureza'] in segmento_credito\n",
    "                              else ('infra' if x['modalidade_natureza'] in segmento_infra else \"outros\")), axis=1)"
   ]
  },
  {
   "cell_type": "code",
   "execution_count": 24,
   "metadata": {},
   "outputs": [],
   "source": [
    "df['valor'] = df.apply(lambda x : x['valor'].split(\"R$ \")[1].replace(\",\", \".\"), axis=1)"
   ]
  },
  {
   "cell_type": "code",
   "execution_count": 25,
   "metadata": {},
   "outputs": [],
   "source": [
    "df[\"valor\"] = df.apply(lambda x : float(x[\"valor\"]), axis=1)"
   ]
  },
  {
   "cell_type": "code",
   "execution_count": 26,
   "metadata": {},
   "outputs": [
    {
     "data": {
      "text/plain": [
       "892.53"
      ]
     },
     "execution_count": 26,
     "metadata": {},
     "output_type": "execute_result"
    }
   ],
   "source": [
    "df[\"valor\"].iloc[0]"
   ]
  },
  {
   "cell_type": "code",
   "execution_count": 27,
   "metadata": {},
   "outputs": [
    {
     "data": {
      "text/plain": [
       "189"
      ]
     },
     "execution_count": 27,
     "metadata": {},
     "output_type": "execute_result"
    }
   ],
   "source": [
    "df[df['segmento']=='credito']['cnpj'].unique().tolist().__len__()"
   ]
  },
  {
   "cell_type": "code",
   "execution_count": 28,
   "metadata": {},
   "outputs": [
    {
     "data": {
      "text/html": [
       "<div>\n",
       "<style scoped>\n",
       "    .dataframe tbody tr th:only-of-type {\n",
       "        vertical-align: middle;\n",
       "    }\n",
       "\n",
       "    .dataframe tbody tr th {\n",
       "        vertical-align: top;\n",
       "    }\n",
       "\n",
       "    .dataframe thead th {\n",
       "        text-align: right;\n",
       "    }\n",
       "</style>\n",
       "<table border=\"1\" class=\"dataframe\">\n",
       "  <thead>\n",
       "    <tr style=\"text-align: right;\">\n",
       "      <th></th>\n",
       "      <th>cnpj</th>\n",
       "      <th>data_ocorrencia</th>\n",
       "      <th>modalidade_natureza</th>\n",
       "      <th>natureza</th>\n",
       "      <th>tipo</th>\n",
       "      <th>uf</th>\n",
       "      <th>valor</th>\n",
       "      <th>segmento</th>\n",
       "    </tr>\n",
       "  </thead>\n",
       "  <tbody>\n",
       "    <tr>\n",
       "      <th>0</th>\n",
       "      <td>19008188000142</td>\n",
       "      <td>21/05/2018</td>\n",
       "      <td>Dívidanãocontestada.</td>\n",
       "      <td>Falta Pagamento</td>\n",
       "      <td>protestos</td>\n",
       "      <td>SP</td>\n",
       "      <td>892.53</td>\n",
       "      <td>outros</td>\n",
       "    </tr>\n",
       "    <tr>\n",
       "      <th>1</th>\n",
       "      <td>19008188000142</td>\n",
       "      <td>22/03/2018</td>\n",
       "      <td>Dívidanãocontestada.</td>\n",
       "      <td>Falta Pagamento</td>\n",
       "      <td>protestos</td>\n",
       "      <td>SP</td>\n",
       "      <td>560.00</td>\n",
       "      <td>outros</td>\n",
       "    </tr>\n",
       "    <tr>\n",
       "      <th>2</th>\n",
       "      <td>19008188000142</td>\n",
       "      <td>15/03/2018</td>\n",
       "      <td>Dívidanãocontestada.</td>\n",
       "      <td>Falta Pagamento</td>\n",
       "      <td>protestos</td>\n",
       "      <td>SP</td>\n",
       "      <td>560.80</td>\n",
       "      <td>outros</td>\n",
       "    </tr>\n",
       "    <tr>\n",
       "      <th>3</th>\n",
       "      <td>19008188000142</td>\n",
       "      <td>01/03/2018</td>\n",
       "      <td>Dívidanãocontestada.</td>\n",
       "      <td>Falta Pagamento</td>\n",
       "      <td>protestos</td>\n",
       "      <td>SP</td>\n",
       "      <td>452.50</td>\n",
       "      <td>outros</td>\n",
       "    </tr>\n",
       "    <tr>\n",
       "      <th>4</th>\n",
       "      <td>19008188000142</td>\n",
       "      <td>22/02/2018</td>\n",
       "      <td>Dívidanãocontestada.</td>\n",
       "      <td>Falta Pagamento</td>\n",
       "      <td>protestos</td>\n",
       "      <td>SP</td>\n",
       "      <td>452.50</td>\n",
       "      <td>outros</td>\n",
       "    </tr>\n",
       "  </tbody>\n",
       "</table>\n",
       "</div>"
      ],
      "text/plain": [
       "             cnpj data_ocorrencia   modalidade_natureza         natureza  \\\n",
       "0  19008188000142      21/05/2018  Dívidanãocontestada.  Falta Pagamento   \n",
       "1  19008188000142      22/03/2018  Dívidanãocontestada.  Falta Pagamento   \n",
       "2  19008188000142      15/03/2018  Dívidanãocontestada.  Falta Pagamento   \n",
       "3  19008188000142      01/03/2018  Dívidanãocontestada.  Falta Pagamento   \n",
       "4  19008188000142      22/02/2018  Dívidanãocontestada.  Falta Pagamento   \n",
       "\n",
       "        tipo  uf   valor segmento  \n",
       "0  protestos  SP  892.53   outros  \n",
       "1  protestos  SP  560.00   outros  \n",
       "2  protestos  SP  560.80   outros  \n",
       "3  protestos  SP  452.50   outros  \n",
       "4  protestos  SP  452.50   outros  "
      ]
     },
     "execution_count": 28,
     "metadata": {},
     "output_type": "execute_result"
    }
   ],
   "source": [
    "df.head()"
   ]
  },
  {
   "cell_type": "code",
   "execution_count": 29,
   "metadata": {},
   "outputs": [
    {
     "data": {
      "text/plain": [
       "892.53"
      ]
     },
     "execution_count": 29,
     "metadata": {},
     "output_type": "execute_result"
    }
   ],
   "source": [
    "df['valor'].iloc[0]"
   ]
  },
  {
   "cell_type": "code",
   "execution_count": 30,
   "metadata": {},
   "outputs": [],
   "source": [
    "dt = df[df['cnpj']=='14534748000189']"
   ]
  },
  {
   "cell_type": "code",
   "execution_count": 31,
   "metadata": {},
   "outputs": [
    {
     "data": {
      "text/html": [
       "<div>\n",
       "<style scoped>\n",
       "    .dataframe tbody tr th:only-of-type {\n",
       "        vertical-align: middle;\n",
       "    }\n",
       "\n",
       "    .dataframe tbody tr th {\n",
       "        vertical-align: top;\n",
       "    }\n",
       "\n",
       "    .dataframe thead th {\n",
       "        text-align: right;\n",
       "    }\n",
       "</style>\n",
       "<table border=\"1\" class=\"dataframe\">\n",
       "  <thead>\n",
       "    <tr style=\"text-align: right;\">\n",
       "      <th></th>\n",
       "      <th>cnpj</th>\n",
       "      <th>data_ocorrencia</th>\n",
       "      <th>modalidade_natureza</th>\n",
       "      <th>natureza</th>\n",
       "      <th>tipo</th>\n",
       "      <th>uf</th>\n",
       "      <th>valor</th>\n",
       "      <th>segmento</th>\n",
       "    </tr>\n",
       "  </thead>\n",
       "  <tbody>\n",
       "    <tr>\n",
       "      <th>0</th>\n",
       "      <td>14534748000189</td>\n",
       "      <td>03/11/2017</td>\n",
       "      <td>FINANCIAMENT</td>\n",
       "      <td>Créditos e financiamentos - empréstimos a pess...</td>\n",
       "      <td>restricoes_financeiras</td>\n",
       "      <td></td>\n",
       "      <td>668.26</td>\n",
       "      <td>credito</td>\n",
       "    </tr>\n",
       "    <tr>\n",
       "      <th>0</th>\n",
       "      <td>14534748000189</td>\n",
       "      <td>19/10/2018</td>\n",
       "      <td>Dívidanãocontestada.</td>\n",
       "      <td>Falta Pagamento</td>\n",
       "      <td>protestos</td>\n",
       "      <td>SP</td>\n",
       "      <td>493.03</td>\n",
       "      <td>outros</td>\n",
       "    </tr>\n",
       "    <tr>\n",
       "      <th>1</th>\n",
       "      <td>14534748000189</td>\n",
       "      <td>17/10/2018</td>\n",
       "      <td>Dívidanãocontestada.</td>\n",
       "      <td>Falta Pagamento</td>\n",
       "      <td>protestos</td>\n",
       "      <td>SP</td>\n",
       "      <td>342.14</td>\n",
       "      <td>outros</td>\n",
       "    </tr>\n",
       "    <tr>\n",
       "      <th>2</th>\n",
       "      <td>14534748000189</td>\n",
       "      <td>17/10/2018</td>\n",
       "      <td>Dívidanãocontestada.</td>\n",
       "      <td>Falta Pagamento</td>\n",
       "      <td>protestos</td>\n",
       "      <td>SP</td>\n",
       "      <td>243.42</td>\n",
       "      <td>outros</td>\n",
       "    </tr>\n",
       "    <tr>\n",
       "      <th>3</th>\n",
       "      <td>14534748000189</td>\n",
       "      <td>18/10/2018</td>\n",
       "      <td>Dívidanãocontestada.</td>\n",
       "      <td>Falta Pagamento</td>\n",
       "      <td>protestos</td>\n",
       "      <td>SP</td>\n",
       "      <td>174.51</td>\n",
       "      <td>outros</td>\n",
       "    </tr>\n",
       "  </tbody>\n",
       "</table>\n",
       "</div>"
      ],
      "text/plain": [
       "             cnpj data_ocorrencia   modalidade_natureza  \\\n",
       "0  14534748000189      03/11/2017          FINANCIAMENT   \n",
       "0  14534748000189      19/10/2018  Dívidanãocontestada.   \n",
       "1  14534748000189      17/10/2018  Dívidanãocontestada.   \n",
       "2  14534748000189      17/10/2018  Dívidanãocontestada.   \n",
       "3  14534748000189      18/10/2018  Dívidanãocontestada.   \n",
       "\n",
       "                                            natureza                    tipo  \\\n",
       "0  Créditos e financiamentos - empréstimos a pess...  restricoes_financeiras   \n",
       "0                                    Falta Pagamento               protestos   \n",
       "1                                    Falta Pagamento               protestos   \n",
       "2                                    Falta Pagamento               protestos   \n",
       "3                                    Falta Pagamento               protestos   \n",
       "\n",
       "   uf   valor segmento  \n",
       "0      668.26  credito  \n",
       "0  SP  493.03   outros  \n",
       "1  SP  342.14   outros  \n",
       "2  SP  243.42   outros  \n",
       "3  SP  174.51   outros  "
      ]
     },
     "execution_count": 31,
     "metadata": {},
     "output_type": "execute_result"
    }
   ],
   "source": [
    "dt.head()"
   ]
  },
  {
   "cell_type": "code",
   "execution_count": 32,
   "metadata": {},
   "outputs": [],
   "source": [
    "dt = dt.groupby(\"segmento\").sum()"
   ]
  },
  {
   "cell_type": "code",
   "execution_count": 33,
   "metadata": {},
   "outputs": [
    {
     "data": {
      "text/html": [
       "<div>\n",
       "<style scoped>\n",
       "    .dataframe tbody tr th:only-of-type {\n",
       "        vertical-align: middle;\n",
       "    }\n",
       "\n",
       "    .dataframe tbody tr th {\n",
       "        vertical-align: top;\n",
       "    }\n",
       "\n",
       "    .dataframe thead th {\n",
       "        text-align: right;\n",
       "    }\n",
       "</style>\n",
       "<table border=\"1\" class=\"dataframe\">\n",
       "  <thead>\n",
       "    <tr style=\"text-align: right;\">\n",
       "      <th></th>\n",
       "      <th>valor</th>\n",
       "    </tr>\n",
       "    <tr>\n",
       "      <th>segmento</th>\n",
       "      <th></th>\n",
       "    </tr>\n",
       "  </thead>\n",
       "  <tbody>\n",
       "    <tr>\n",
       "      <th>credito</th>\n",
       "      <td>668.26</td>\n",
       "    </tr>\n",
       "    <tr>\n",
       "      <th>outros</th>\n",
       "      <td>65944.51</td>\n",
       "    </tr>\n",
       "    <tr>\n",
       "      <th>processos</th>\n",
       "      <td>4157.46</td>\n",
       "    </tr>\n",
       "  </tbody>\n",
       "</table>\n",
       "</div>"
      ],
      "text/plain": [
       "              valor\n",
       "segmento           \n",
       "credito      668.26\n",
       "outros     65944.51\n",
       "processos   4157.46"
      ]
     },
     "execution_count": 33,
     "metadata": {},
     "output_type": "execute_result"
    }
   ],
   "source": [
    "dt"
   ]
  },
  {
   "cell_type": "code",
   "execution_count": 34,
   "metadata": {},
   "outputs": [],
   "source": [
    "dt['prop'] = dt['valor']/dt['valor'].sum()"
   ]
  },
  {
   "cell_type": "code",
   "execution_count": 35,
   "metadata": {},
   "outputs": [
    {
     "data": {
      "text/html": [
       "<div>\n",
       "<style scoped>\n",
       "    .dataframe tbody tr th:only-of-type {\n",
       "        vertical-align: middle;\n",
       "    }\n",
       "\n",
       "    .dataframe tbody tr th {\n",
       "        vertical-align: top;\n",
       "    }\n",
       "\n",
       "    .dataframe thead th {\n",
       "        text-align: right;\n",
       "    }\n",
       "</style>\n",
       "<table border=\"1\" class=\"dataframe\">\n",
       "  <thead>\n",
       "    <tr style=\"text-align: right;\">\n",
       "      <th></th>\n",
       "      <th>valor</th>\n",
       "      <th>prop</th>\n",
       "    </tr>\n",
       "    <tr>\n",
       "      <th>segmento</th>\n",
       "      <th></th>\n",
       "      <th></th>\n",
       "    </tr>\n",
       "  </thead>\n",
       "  <tbody>\n",
       "    <tr>\n",
       "      <th>credito</th>\n",
       "      <td>668.26</td>\n",
       "      <td>0.009443</td>\n",
       "    </tr>\n",
       "    <tr>\n",
       "      <th>outros</th>\n",
       "      <td>65944.51</td>\n",
       "      <td>0.931811</td>\n",
       "    </tr>\n",
       "    <tr>\n",
       "      <th>processos</th>\n",
       "      <td>4157.46</td>\n",
       "      <td>0.058746</td>\n",
       "    </tr>\n",
       "  </tbody>\n",
       "</table>\n",
       "</div>"
      ],
      "text/plain": [
       "              valor      prop\n",
       "segmento                     \n",
       "credito      668.26  0.009443\n",
       "outros     65944.51  0.931811\n",
       "processos   4157.46  0.058746"
      ]
     },
     "execution_count": 35,
     "metadata": {},
     "output_type": "execute_result"
    }
   ],
   "source": [
    "dt"
   ]
  },
  {
   "cell_type": "code",
   "execution_count": 36,
   "metadata": {},
   "outputs": [],
   "source": [
    "res = df.groupby(['cnpj', 'segmento']).sum().reset_index()"
   ]
  },
  {
   "cell_type": "code",
   "execution_count": 37,
   "metadata": {},
   "outputs": [
    {
     "data": {
      "text/html": [
       "<div>\n",
       "<style scoped>\n",
       "    .dataframe tbody tr th:only-of-type {\n",
       "        vertical-align: middle;\n",
       "    }\n",
       "\n",
       "    .dataframe tbody tr th {\n",
       "        vertical-align: top;\n",
       "    }\n",
       "\n",
       "    .dataframe thead th {\n",
       "        text-align: right;\n",
       "    }\n",
       "</style>\n",
       "<table border=\"1\" class=\"dataframe\">\n",
       "  <thead>\n",
       "    <tr style=\"text-align: right;\">\n",
       "      <th></th>\n",
       "      <th>cnpj</th>\n",
       "      <th>segmento</th>\n",
       "      <th>valor</th>\n",
       "    </tr>\n",
       "  </thead>\n",
       "  <tbody>\n",
       "    <tr>\n",
       "      <th>0</th>\n",
       "      <td>00178663000281</td>\n",
       "      <td>credito</td>\n",
       "      <td>262744.38</td>\n",
       "    </tr>\n",
       "    <tr>\n",
       "      <th>1</th>\n",
       "      <td>00178663000281</td>\n",
       "      <td>infra</td>\n",
       "      <td>346604.91</td>\n",
       "    </tr>\n",
       "    <tr>\n",
       "      <th>2</th>\n",
       "      <td>00178663000281</td>\n",
       "      <td>outros</td>\n",
       "      <td>174941.22</td>\n",
       "    </tr>\n",
       "    <tr>\n",
       "      <th>3</th>\n",
       "      <td>00178663000281</td>\n",
       "      <td>processos</td>\n",
       "      <td>373946.72</td>\n",
       "    </tr>\n",
       "    <tr>\n",
       "      <th>4</th>\n",
       "      <td>00225356000123</td>\n",
       "      <td>outros</td>\n",
       "      <td>174.98</td>\n",
       "    </tr>\n",
       "  </tbody>\n",
       "</table>\n",
       "</div>"
      ],
      "text/plain": [
       "             cnpj   segmento      valor\n",
       "0  00178663000281    credito  262744.38\n",
       "1  00178663000281      infra  346604.91\n",
       "2  00178663000281     outros  174941.22\n",
       "3  00178663000281  processos  373946.72\n",
       "4  00225356000123     outros     174.98"
      ]
     },
     "execution_count": 37,
     "metadata": {},
     "output_type": "execute_result"
    }
   ],
   "source": [
    "res.head()"
   ]
  },
  {
   "cell_type": "code",
   "execution_count": 38,
   "metadata": {},
   "outputs": [],
   "source": [
    "_df = df.groupby(['cnpj']).sum().reset_index()"
   ]
  },
  {
   "cell_type": "code",
   "execution_count": 39,
   "metadata": {},
   "outputs": [],
   "source": [
    "_df.columns = ['cnpj', 'total']"
   ]
  },
  {
   "cell_type": "code",
   "execution_count": 40,
   "metadata": {},
   "outputs": [
    {
     "data": {
      "text/plain": [
       "(980, 3)"
      ]
     },
     "execution_count": 40,
     "metadata": {},
     "output_type": "execute_result"
    }
   ],
   "source": [
    "res.shape"
   ]
  },
  {
   "cell_type": "code",
   "execution_count": 41,
   "metadata": {},
   "outputs": [
    {
     "data": {
      "text/plain": [
       "(717, 2)"
      ]
     },
     "execution_count": 41,
     "metadata": {},
     "output_type": "execute_result"
    }
   ],
   "source": [
    "_df.shape"
   ]
  },
  {
   "cell_type": "code",
   "execution_count": 42,
   "metadata": {},
   "outputs": [
    {
     "data": {
      "text/plain": [
       "(980, 4)"
      ]
     },
     "execution_count": 42,
     "metadata": {},
     "output_type": "execute_result"
    }
   ],
   "source": [
    "res.merge(_df, left_on='cnpj', right_on='cnpj', how='left').shape"
   ]
  },
  {
   "cell_type": "code",
   "execution_count": 43,
   "metadata": {},
   "outputs": [],
   "source": [
    "res = res.merge(_df, left_on='cnpj', right_on='cnpj', how='left')"
   ]
  },
  {
   "cell_type": "code",
   "execution_count": 44,
   "metadata": {},
   "outputs": [],
   "source": [
    "res['prop'] = res['valor']/res['total']"
   ]
  },
  {
   "cell_type": "code",
   "execution_count": 45,
   "metadata": {},
   "outputs": [
    {
     "data": {
      "text/html": [
       "<div>\n",
       "<style scoped>\n",
       "    .dataframe tbody tr th:only-of-type {\n",
       "        vertical-align: middle;\n",
       "    }\n",
       "\n",
       "    .dataframe tbody tr th {\n",
       "        vertical-align: top;\n",
       "    }\n",
       "\n",
       "    .dataframe thead th {\n",
       "        text-align: right;\n",
       "    }\n",
       "</style>\n",
       "<table border=\"1\" class=\"dataframe\">\n",
       "  <thead>\n",
       "    <tr style=\"text-align: right;\">\n",
       "      <th></th>\n",
       "      <th>cnpj</th>\n",
       "      <th>segmento</th>\n",
       "      <th>valor</th>\n",
       "      <th>total</th>\n",
       "      <th>prop</th>\n",
       "    </tr>\n",
       "  </thead>\n",
       "  <tbody>\n",
       "    <tr>\n",
       "      <th>0</th>\n",
       "      <td>00178663000281</td>\n",
       "      <td>credito</td>\n",
       "      <td>262744.38</td>\n",
       "      <td>1158237.23</td>\n",
       "      <td>0.226849</td>\n",
       "    </tr>\n",
       "    <tr>\n",
       "      <th>1</th>\n",
       "      <td>00178663000281</td>\n",
       "      <td>infra</td>\n",
       "      <td>346604.91</td>\n",
       "      <td>1158237.23</td>\n",
       "      <td>0.299252</td>\n",
       "    </tr>\n",
       "    <tr>\n",
       "      <th>2</th>\n",
       "      <td>00178663000281</td>\n",
       "      <td>outros</td>\n",
       "      <td>174941.22</td>\n",
       "      <td>1158237.23</td>\n",
       "      <td>0.151041</td>\n",
       "    </tr>\n",
       "    <tr>\n",
       "      <th>3</th>\n",
       "      <td>00178663000281</td>\n",
       "      <td>processos</td>\n",
       "      <td>373946.72</td>\n",
       "      <td>1158237.23</td>\n",
       "      <td>0.322858</td>\n",
       "    </tr>\n",
       "    <tr>\n",
       "      <th>4</th>\n",
       "      <td>00225356000123</td>\n",
       "      <td>outros</td>\n",
       "      <td>174.98</td>\n",
       "      <td>174.98</td>\n",
       "      <td>1.000000</td>\n",
       "    </tr>\n",
       "  </tbody>\n",
       "</table>\n",
       "</div>"
      ],
      "text/plain": [
       "             cnpj   segmento      valor       total      prop\n",
       "0  00178663000281    credito  262744.38  1158237.23  0.226849\n",
       "1  00178663000281      infra  346604.91  1158237.23  0.299252\n",
       "2  00178663000281     outros  174941.22  1158237.23  0.151041\n",
       "3  00178663000281  processos  373946.72  1158237.23  0.322858\n",
       "4  00225356000123     outros     174.98      174.98  1.000000"
      ]
     },
     "execution_count": 45,
     "metadata": {},
     "output_type": "execute_result"
    }
   ],
   "source": [
    "res.head()"
   ]
  },
  {
   "cell_type": "code",
   "execution_count": 46,
   "metadata": {},
   "outputs": [],
   "source": [
    "df_cred = res[res['segmento']=='credito']"
   ]
  },
  {
   "cell_type": "code",
   "execution_count": 47,
   "metadata": {},
   "outputs": [
    {
     "data": {
      "application/vnd.plotly.v1+json": {
       "config": {
        "linkText": "Export to plot.ly",
        "plotlyServerURL": "https://plot.ly",
        "showLink": false
       },
       "data": [
        {
         "marker": {
          "color": "rgb(79,173,161)"
         },
         "type": "histogram",
         "uid": "dd8e59f2-e98b-4ff3-bcaa-144ace6e3d58",
         "x": [
          0.22684850149394709,
          0.9721509065345485,
          1,
          0.6799590889380434,
          0.9867351512829402,
          0.9627198861647842,
          0.33352804474793035,
          0.9075599457632666,
          1,
          0.9141075687110249,
          1,
          0.9612724787800317,
          1,
          1,
          0.4336481456314279,
          0.17507876355875598,
          1,
          1,
          0.14451843360065333,
          0.7082651660972412,
          0.9684389342287185,
          1,
          0.7704629861867698,
          0.010656946775879032,
          0.11669759171743257,
          1,
          0.8041216031666358,
          0.7360042133679099,
          0.49919443785593937,
          0.07554034081578515,
          0.689663354787146,
          1,
          0.5820865356670599,
          1,
          0.5320050531676797,
          0.3342019891206561,
          1,
          0.8710374182072296,
          0.09674903037434088,
          0.004215469210313185,
          0.9248456857615123,
          0.27342318484232886,
          0.4341125730616086,
          0.9783390382954331,
          0.9019940539411216,
          0.879172906930116,
          1,
          0.9977744544205656,
          0.8429653329062289,
          0.6036749839944339,
          0.20467609707457782,
          0.05316854208328225,
          0.5312467122567069,
          0.402636533872422,
          0.402636533872422,
          1,
          0.9843480822597421,
          0.9843480822597421,
          0.6088647450867317,
          1,
          0.9906649495345,
          0.8924226458473034,
          0.8454285867516856,
          1,
          1,
          0.22896677260976642,
          0.5147493205550688,
          0.3114330002723141,
          0.8644012132622112,
          0.8683254167194983,
          0.003838764443590676,
          0.8787966444894417,
          0.4209461717998902,
          0.01649709688104202,
          0.9904976318063548,
          1,
          0.7820870611213744,
          0.7745692509445967,
          0.02755210485428952,
          0.9367193965719764,
          0.044178094859001676,
          0.9095260623059327,
          0.29789637652881784,
          0.6077358296038665,
          0.5588917734675676,
          0.04269625937341187,
          0.48194404331966834,
          0.17239966605353083,
          0.8424484722412402,
          0.9876306998824324,
          0.027783470476709593,
          0.9520515645514703,
          0.4356066067181384,
          0.978546498883035,
          1,
          0.8714041255799464,
          1,
          0.016316065627039578,
          0.8355836576695863,
          0.8236621111700886,
          0.10654376169794849,
          0.12502919326930362,
          1,
          0.14499563547476563,
          0.02712471668942928,
          0.9377110752538966,
          0.001708374696763864,
          0.5290811043115884,
          0.17681589078914273,
          0.937931277602189,
          1,
          1,
          0.009442671021416776,
          0.18142267927722255,
          0.004787620232702224,
          1,
          0.200260706474903,
          0.9759262570729004,
          1,
          1,
          1,
          0.4056231005739811,
          1,
          1,
          0.8768808198794676,
          0.9852966602506361,
          1,
          0.03451731877854933,
          0.12305812879645167,
          1,
          0.4789022105775653,
          0.42079667975852414,
          0.4200452322787225,
          0.051471986781436795,
          0.8565397161508942,
          1,
          0.16813174196704453,
          0.15788279236435648,
          1,
          0.7638877100689396,
          0.9865782884648979,
          0.9916854921629159,
          0.013733059836233463,
          0.31298334458795635,
          1,
          0.09703065415796645,
          0.9760515375803852,
          1,
          0.9781408237482069,
          1,
          0.9393202113882368,
          0.05586213619999545,
          0.09004616290630008,
          0.9988137796418015,
          0.4317045386843665,
          0.34389750550653914,
          0.29863817910591406,
          0.6749863227823368,
          0.17890471007581452,
          0.8838976005504113,
          1,
          1,
          0.9278049367755034,
          0.21379447334846022,
          0.03267752126847549,
          0.9361157972515234,
          0.4735809940045945,
          0.3430442138906287,
          1,
          0.1853134425694954,
          0.021750553623022768,
          0.7103701974954566,
          0.8240405345145551,
          0.8240405345145551,
          0.011026855828108355,
          0.33493580641640197,
          0.9610403278588566,
          0.013617739932986563,
          0.48432147367340134,
          0.8365659501956894,
          0.8084768324465291,
          0.47887018186965735,
          0.38890148326875984,
          0.31373862396458474,
          0.22439092945585828,
          0.8561496185595908,
          1,
          0.11192703548129387,
          0.761256361296864
         ],
         "xbins": {
          "end": 1,
          "size": 0.01,
          "start": 0.001708374696763864
         }
        }
       ],
       "layout": {}
      },
      "text/html": [
       "<div id=\"8cbaafa2-6cb2-40ac-8514-1446ca70899b\" style=\"height: 525px; width: 100%;\" class=\"plotly-graph-div\"></div><script type=\"text/javascript\">require([\"plotly\"], function(Plotly) { window.PLOTLYENV=window.PLOTLYENV || {};window.PLOTLYENV.BASE_URL=\"https://plot.ly\";Plotly.newPlot(\"8cbaafa2-6cb2-40ac-8514-1446ca70899b\", [{\"marker\": {\"color\": \"rgb(79,173,161)\"}, \"x\": [0.22684850149394709, 0.9721509065345485, 1.0, 0.6799590889380434, 0.9867351512829402, 0.9627198861647842, 0.33352804474793035, 0.9075599457632666, 1.0, 0.9141075687110249, 1.0, 0.9612724787800317, 1.0, 1.0, 0.4336481456314279, 0.17507876355875598, 1.0, 1.0, 0.14451843360065333, 0.7082651660972412, 0.9684389342287185, 1.0, 0.7704629861867698, 0.010656946775879032, 0.11669759171743257, 1.0, 0.8041216031666358, 0.7360042133679099, 0.49919443785593937, 0.07554034081578515, 0.689663354787146, 1.0, 0.5820865356670599, 1.0, 0.5320050531676797, 0.3342019891206561, 1.0, 0.8710374182072296, 0.09674903037434088, 0.004215469210313185, 0.9248456857615123, 0.27342318484232886, 0.4341125730616086, 0.9783390382954331, 0.9019940539411216, 0.879172906930116, 1.0, 0.9977744544205656, 0.8429653329062289, 0.6036749839944339, 0.20467609707457782, 0.05316854208328225, 0.5312467122567069, 0.402636533872422, 0.402636533872422, 1.0, 0.9843480822597421, 0.9843480822597421, 0.6088647450867317, 1.0, 0.9906649495345, 0.8924226458473034, 0.8454285867516856, 1.0, 1.0, 0.22896677260976642, 0.5147493205550688, 0.3114330002723141, 0.8644012132622112, 0.8683254167194983, 0.003838764443590676, 0.8787966444894417, 0.4209461717998902, 0.01649709688104202, 0.9904976318063548, 1.0, 0.7820870611213744, 0.7745692509445967, 0.02755210485428952, 0.9367193965719764, 0.044178094859001676, 0.9095260623059327, 0.29789637652881784, 0.6077358296038665, 0.5588917734675676, 0.04269625937341187, 0.48194404331966834, 0.17239966605353083, 0.8424484722412402, 0.9876306998824324, 0.027783470476709593, 0.9520515645514703, 0.4356066067181384, 0.978546498883035, 1.0, 0.8714041255799464, 1.0, 0.016316065627039578, 0.8355836576695863, 0.8236621111700886, 0.10654376169794849, 0.12502919326930362, 1.0, 0.14499563547476563, 0.02712471668942928, 0.9377110752538966, 0.001708374696763864, 0.5290811043115884, 0.17681589078914273, 0.937931277602189, 1.0, 1.0, 0.009442671021416776, 0.18142267927722255, 0.004787620232702224, 1.0, 0.200260706474903, 0.9759262570729004, 1.0, 1.0, 1.0, 0.4056231005739811, 1.0, 1.0, 0.8768808198794676, 0.9852966602506361, 1.0, 0.03451731877854933, 0.12305812879645167, 1.0, 0.4789022105775653, 0.42079667975852414, 0.4200452322787225, 0.051471986781436795, 0.8565397161508942, 1.0, 0.16813174196704453, 0.15788279236435648, 1.0, 0.7638877100689396, 0.9865782884648979, 0.9916854921629159, 0.013733059836233463, 0.31298334458795635, 1.0, 0.09703065415796645, 0.9760515375803852, 1.0, 0.9781408237482069, 1.0, 0.9393202113882368, 0.05586213619999545, 0.09004616290630008, 0.9988137796418015, 0.4317045386843665, 0.34389750550653914, 0.29863817910591406, 0.6749863227823368, 0.17890471007581452, 0.8838976005504113, 1.0, 1.0, 0.9278049367755034, 0.21379447334846022, 0.03267752126847549, 0.9361157972515234, 0.4735809940045945, 0.3430442138906287, 1.0, 0.1853134425694954, 0.021750553623022768, 0.7103701974954566, 0.8240405345145551, 0.8240405345145551, 0.011026855828108355, 0.33493580641640197, 0.9610403278588566, 0.013617739932986563, 0.48432147367340134, 0.8365659501956894, 0.8084768324465291, 0.47887018186965735, 0.38890148326875984, 0.31373862396458474, 0.22439092945585828, 0.8561496185595908, 1.0, 0.11192703548129387, 0.761256361296864], \"xbins\": {\"end\": 1.0, \"size\": 0.01, \"start\": 0.001708374696763864}, \"type\": \"histogram\", \"uid\": \"dd8e59f2-e98b-4ff3-bcaa-144ace6e3d58\"}], {}, {\"showLink\": false, \"linkText\": \"Export to plot.ly\", \"plotlyServerURL\": \"https://plot.ly\"})});</script><script type=\"text/javascript\">window.addEventListener(\"resize\", function(){window._Plotly.Plots.resize(document.getElementById(\"8cbaafa2-6cb2-40ac-8514-1446ca70899b\"));});</script>"
      ],
      "text/vnd.plotly.v1+html": [
       "<div id=\"8cbaafa2-6cb2-40ac-8514-1446ca70899b\" style=\"height: 525px; width: 100%;\" class=\"plotly-graph-div\"></div><script type=\"text/javascript\">require([\"plotly\"], function(Plotly) { window.PLOTLYENV=window.PLOTLYENV || {};window.PLOTLYENV.BASE_URL=\"https://plot.ly\";Plotly.newPlot(\"8cbaafa2-6cb2-40ac-8514-1446ca70899b\", [{\"marker\": {\"color\": \"rgb(79,173,161)\"}, \"x\": [0.22684850149394709, 0.9721509065345485, 1.0, 0.6799590889380434, 0.9867351512829402, 0.9627198861647842, 0.33352804474793035, 0.9075599457632666, 1.0, 0.9141075687110249, 1.0, 0.9612724787800317, 1.0, 1.0, 0.4336481456314279, 0.17507876355875598, 1.0, 1.0, 0.14451843360065333, 0.7082651660972412, 0.9684389342287185, 1.0, 0.7704629861867698, 0.010656946775879032, 0.11669759171743257, 1.0, 0.8041216031666358, 0.7360042133679099, 0.49919443785593937, 0.07554034081578515, 0.689663354787146, 1.0, 0.5820865356670599, 1.0, 0.5320050531676797, 0.3342019891206561, 1.0, 0.8710374182072296, 0.09674903037434088, 0.004215469210313185, 0.9248456857615123, 0.27342318484232886, 0.4341125730616086, 0.9783390382954331, 0.9019940539411216, 0.879172906930116, 1.0, 0.9977744544205656, 0.8429653329062289, 0.6036749839944339, 0.20467609707457782, 0.05316854208328225, 0.5312467122567069, 0.402636533872422, 0.402636533872422, 1.0, 0.9843480822597421, 0.9843480822597421, 0.6088647450867317, 1.0, 0.9906649495345, 0.8924226458473034, 0.8454285867516856, 1.0, 1.0, 0.22896677260976642, 0.5147493205550688, 0.3114330002723141, 0.8644012132622112, 0.8683254167194983, 0.003838764443590676, 0.8787966444894417, 0.4209461717998902, 0.01649709688104202, 0.9904976318063548, 1.0, 0.7820870611213744, 0.7745692509445967, 0.02755210485428952, 0.9367193965719764, 0.044178094859001676, 0.9095260623059327, 0.29789637652881784, 0.6077358296038665, 0.5588917734675676, 0.04269625937341187, 0.48194404331966834, 0.17239966605353083, 0.8424484722412402, 0.9876306998824324, 0.027783470476709593, 0.9520515645514703, 0.4356066067181384, 0.978546498883035, 1.0, 0.8714041255799464, 1.0, 0.016316065627039578, 0.8355836576695863, 0.8236621111700886, 0.10654376169794849, 0.12502919326930362, 1.0, 0.14499563547476563, 0.02712471668942928, 0.9377110752538966, 0.001708374696763864, 0.5290811043115884, 0.17681589078914273, 0.937931277602189, 1.0, 1.0, 0.009442671021416776, 0.18142267927722255, 0.004787620232702224, 1.0, 0.200260706474903, 0.9759262570729004, 1.0, 1.0, 1.0, 0.4056231005739811, 1.0, 1.0, 0.8768808198794676, 0.9852966602506361, 1.0, 0.03451731877854933, 0.12305812879645167, 1.0, 0.4789022105775653, 0.42079667975852414, 0.4200452322787225, 0.051471986781436795, 0.8565397161508942, 1.0, 0.16813174196704453, 0.15788279236435648, 1.0, 0.7638877100689396, 0.9865782884648979, 0.9916854921629159, 0.013733059836233463, 0.31298334458795635, 1.0, 0.09703065415796645, 0.9760515375803852, 1.0, 0.9781408237482069, 1.0, 0.9393202113882368, 0.05586213619999545, 0.09004616290630008, 0.9988137796418015, 0.4317045386843665, 0.34389750550653914, 0.29863817910591406, 0.6749863227823368, 0.17890471007581452, 0.8838976005504113, 1.0, 1.0, 0.9278049367755034, 0.21379447334846022, 0.03267752126847549, 0.9361157972515234, 0.4735809940045945, 0.3430442138906287, 1.0, 0.1853134425694954, 0.021750553623022768, 0.7103701974954566, 0.8240405345145551, 0.8240405345145551, 0.011026855828108355, 0.33493580641640197, 0.9610403278588566, 0.013617739932986563, 0.48432147367340134, 0.8365659501956894, 0.8084768324465291, 0.47887018186965735, 0.38890148326875984, 0.31373862396458474, 0.22439092945585828, 0.8561496185595908, 1.0, 0.11192703548129387, 0.761256361296864], \"xbins\": {\"end\": 1.0, \"size\": 0.01, \"start\": 0.001708374696763864}, \"type\": \"histogram\", \"uid\": \"dd8e59f2-e98b-4ff3-bcaa-144ace6e3d58\"}], {}, {\"showLink\": false, \"linkText\": \"Export to plot.ly\", \"plotlyServerURL\": \"https://plot.ly\"})});</script><script type=\"text/javascript\">window.addEventListener(\"resize\", function(){window._Plotly.Plots.resize(document.getElementById(\"8cbaafa2-6cb2-40ac-8514-1446ca70899b\"));});</script>"
      ]
     },
     "metadata": {},
     "output_type": "display_data"
    }
   ],
   "source": [
    "trace = go.Histogram(\n",
    "    x = df_cred['prop'],\n",
    "    xbins=dict(\n",
    "            start=df_cred['prop'].min(),\n",
    "            end=df_cred['prop'].max(),\n",
    "            size=0.01\n",
    "            ),\n",
    "    marker = dict(color='rgb(79,173,161)')\n",
    ")\n",
    "layout = go.Layout()\n",
    "\n",
    "fig = go.Figure(data = [trace], layout=layout)\n",
    "iplot(fig)"
   ]
  },
  {
   "cell_type": "code",
   "execution_count": 38,
   "metadata": {},
   "outputs": [
    {
     "data": {
      "text/html": [
       "<div>\n",
       "<style scoped>\n",
       "    .dataframe tbody tr th:only-of-type {\n",
       "        vertical-align: middle;\n",
       "    }\n",
       "\n",
       "    .dataframe tbody tr th {\n",
       "        vertical-align: top;\n",
       "    }\n",
       "\n",
       "    .dataframe thead th {\n",
       "        text-align: right;\n",
       "    }\n",
       "</style>\n",
       "<table border=\"1\" class=\"dataframe\">\n",
       "  <thead>\n",
       "    <tr style=\"text-align: right;\">\n",
       "      <th></th>\n",
       "      <th>cnpj</th>\n",
       "      <th>segmento</th>\n",
       "      <th>valor_divida</th>\n",
       "      <th>total</th>\n",
       "      <th>prop</th>\n",
       "    </tr>\n",
       "  </thead>\n",
       "  <tbody>\n",
       "    <tr>\n",
       "      <th>7</th>\n",
       "      <td>00437101000124</td>\n",
       "      <td>credito</td>\n",
       "      <td>11484.67</td>\n",
       "      <td>11813.67</td>\n",
       "      <td>0.972151</td>\n",
       "    </tr>\n",
       "    <tr>\n",
       "      <th>9</th>\n",
       "      <td>00661205000118</td>\n",
       "      <td>credito</td>\n",
       "      <td>27496.75</td>\n",
       "      <td>27496.75</td>\n",
       "      <td>1.000000</td>\n",
       "    </tr>\n",
       "    <tr>\n",
       "      <th>26</th>\n",
       "      <td>01623866000111</td>\n",
       "      <td>credito</td>\n",
       "      <td>69714.21</td>\n",
       "      <td>70651.39</td>\n",
       "      <td>0.986735</td>\n",
       "    </tr>\n",
       "    <tr>\n",
       "      <th>28</th>\n",
       "      <td>01753779000189</td>\n",
       "      <td>credito</td>\n",
       "      <td>291087.85</td>\n",
       "      <td>302359.86</td>\n",
       "      <td>0.962720</td>\n",
       "    </tr>\n",
       "    <tr>\n",
       "      <th>37</th>\n",
       "      <td>01912183000184</td>\n",
       "      <td>credito</td>\n",
       "      <td>23948.71</td>\n",
       "      <td>26388.02</td>\n",
       "      <td>0.907560</td>\n",
       "    </tr>\n",
       "    <tr>\n",
       "      <th>41</th>\n",
       "      <td>01988603000106</td>\n",
       "      <td>credito</td>\n",
       "      <td>768233.30</td>\n",
       "      <td>768233.30</td>\n",
       "      <td>1.000000</td>\n",
       "    </tr>\n",
       "    <tr>\n",
       "      <th>49</th>\n",
       "      <td>02282017000104</td>\n",
       "      <td>credito</td>\n",
       "      <td>76688.57</td>\n",
       "      <td>84293.87</td>\n",
       "      <td>0.909776</td>\n",
       "    </tr>\n",
       "    <tr>\n",
       "      <th>59</th>\n",
       "      <td>02361751000169</td>\n",
       "      <td>credito</td>\n",
       "      <td>2304.10</td>\n",
       "      <td>2304.10</td>\n",
       "      <td>1.000000</td>\n",
       "    </tr>\n",
       "    <tr>\n",
       "      <th>61</th>\n",
       "      <td>02395026000101</td>\n",
       "      <td>credito</td>\n",
       "      <td>26727.22</td>\n",
       "      <td>27804.00</td>\n",
       "      <td>0.961272</td>\n",
       "    </tr>\n",
       "    <tr>\n",
       "      <th>63</th>\n",
       "      <td>02427370000135</td>\n",
       "      <td>credito</td>\n",
       "      <td>145022.49</td>\n",
       "      <td>145022.49</td>\n",
       "      <td>1.000000</td>\n",
       "    </tr>\n",
       "    <tr>\n",
       "      <th>64</th>\n",
       "      <td>02458665000179</td>\n",
       "      <td>credito</td>\n",
       "      <td>828.79</td>\n",
       "      <td>828.79</td>\n",
       "      <td>1.000000</td>\n",
       "    </tr>\n",
       "    <tr>\n",
       "      <th>66</th>\n",
       "      <td>02555562000127</td>\n",
       "      <td>credito</td>\n",
       "      <td>73588.15</td>\n",
       "      <td>73588.15</td>\n",
       "      <td>1.000000</td>\n",
       "    </tr>\n",
       "    <tr>\n",
       "      <th>73</th>\n",
       "      <td>02862111000132</td>\n",
       "      <td>credito</td>\n",
       "      <td>1999.07</td>\n",
       "      <td>1999.07</td>\n",
       "      <td>1.000000</td>\n",
       "    </tr>\n",
       "    <tr>\n",
       "      <th>93</th>\n",
       "      <td>03356764000102</td>\n",
       "      <td>credito</td>\n",
       "      <td>174184.86</td>\n",
       "      <td>179861.48</td>\n",
       "      <td>0.968439</td>\n",
       "    </tr>\n",
       "    <tr>\n",
       "      <th>98</th>\n",
       "      <td>03429278000177</td>\n",
       "      <td>credito</td>\n",
       "      <td>191144.39</td>\n",
       "      <td>191144.39</td>\n",
       "      <td>1.000000</td>\n",
       "    </tr>\n",
       "    <tr>\n",
       "      <th>120</th>\n",
       "      <td>04160069000133</td>\n",
       "      <td>credito</td>\n",
       "      <td>33690.80</td>\n",
       "      <td>35060.56</td>\n",
       "      <td>0.960932</td>\n",
       "    </tr>\n",
       "    <tr>\n",
       "      <th>131</th>\n",
       "      <td>04336718000104</td>\n",
       "      <td>credito</td>\n",
       "      <td>19489.08</td>\n",
       "      <td>19551.98</td>\n",
       "      <td>0.996783</td>\n",
       "    </tr>\n",
       "    <tr>\n",
       "      <th>142</th>\n",
       "      <td>04509695000192</td>\n",
       "      <td>credito</td>\n",
       "      <td>34146.03</td>\n",
       "      <td>34146.03</td>\n",
       "      <td>1.000000</td>\n",
       "    </tr>\n",
       "    <tr>\n",
       "      <th>145</th>\n",
       "      <td>04607860000149</td>\n",
       "      <td>credito</td>\n",
       "      <td>94093.29</td>\n",
       "      <td>94093.29</td>\n",
       "      <td>1.000000</td>\n",
       "    </tr>\n",
       "    <tr>\n",
       "      <th>154</th>\n",
       "      <td>04887488000171</td>\n",
       "      <td>credito</td>\n",
       "      <td>4292.04</td>\n",
       "      <td>4292.04</td>\n",
       "      <td>1.000000</td>\n",
       "    </tr>\n",
       "  </tbody>\n",
       "</table>\n",
       "</div>"
      ],
      "text/plain": [
       "               cnpj segmento  valor_divida      total      prop\n",
       "7    00437101000124  credito      11484.67   11813.67  0.972151\n",
       "9    00661205000118  credito      27496.75   27496.75  1.000000\n",
       "26   01623866000111  credito      69714.21   70651.39  0.986735\n",
       "28   01753779000189  credito     291087.85  302359.86  0.962720\n",
       "37   01912183000184  credito      23948.71   26388.02  0.907560\n",
       "41   01988603000106  credito     768233.30  768233.30  1.000000\n",
       "49   02282017000104  credito      76688.57   84293.87  0.909776\n",
       "59   02361751000169  credito       2304.10    2304.10  1.000000\n",
       "61   02395026000101  credito      26727.22   27804.00  0.961272\n",
       "63   02427370000135  credito     145022.49  145022.49  1.000000\n",
       "64   02458665000179  credito        828.79     828.79  1.000000\n",
       "66   02555562000127  credito      73588.15   73588.15  1.000000\n",
       "73   02862111000132  credito       1999.07    1999.07  1.000000\n",
       "93   03356764000102  credito     174184.86  179861.48  0.968439\n",
       "98   03429278000177  credito     191144.39  191144.39  1.000000\n",
       "120  04160069000133  credito      33690.80   35060.56  0.960932\n",
       "131  04336718000104  credito      19489.08   19551.98  0.996783\n",
       "142  04509695000192  credito      34146.03   34146.03  1.000000\n",
       "145  04607860000149  credito      94093.29   94093.29  1.000000\n",
       "154  04887488000171  credito       4292.04    4292.04  1.000000"
      ]
     },
     "execution_count": 38,
     "metadata": {},
     "output_type": "execute_result"
    }
   ],
   "source": [
    "df_cred[df_cred['prop']>0.8].head(20)"
   ]
  },
  {
   "cell_type": "code",
   "execution_count": 39,
   "metadata": {
    "scrolled": false
   },
   "outputs": [],
   "source": [
    "dt = df[df['cnpj']=='62148093000153']"
   ]
  },
  {
   "cell_type": "code",
   "execution_count": 40,
   "metadata": {},
   "outputs": [],
   "source": [
    "color_menu = {\n",
    "    'credito' : 'rgb(243,235,39)',\n",
    "    'processos' : 'rgb(245,139,139)',\n",
    "    'infra' : 'rgb(202,121,248)',\n",
    "    'outros' : 'rgb(173,206,222)'\n",
    "    \n",
    "}"
   ]
  },
  {
   "cell_type": "code",
   "execution_count": 41,
   "metadata": {},
   "outputs": [
    {
     "data": {
      "application/vnd.plotly.v1+json": {
       "config": {
        "linkText": "Export to plot.ly",
        "plotlyServerURL": "https://plot.ly",
        "showLink": false
       },
       "data": [
        {
         "marker": {
          "color": "rgb(243,235,39)"
         },
         "name": "credito",
         "type": "bar",
         "uid": "6a5556b7-2447-440a-b80c-05db9c9c3de1",
         "x": [
          "composicao da divida"
         ],
         "y": [
          3704265.14
         ]
        },
        {
         "marker": {
          "color": "rgb(173,206,222)"
         },
         "name": "outros",
         "type": "bar",
         "uid": "1c6c884f-c8e6-4744-a6bf-a9bc6b576803",
         "x": [
          "composicao da divida"
         ],
         "y": [
          877517.5299999999
         ]
        }
       ],
       "layout": {
        "bargap": 0.7,
        "barmode": "stack"
       }
      },
      "text/html": [
       "<div id=\"a4bf33f2-8f70-4f04-8519-c15f6e7cd30c\" style=\"height: 525px; width: 100%;\" class=\"plotly-graph-div\"></div><script type=\"text/javascript\">require([\"plotly\"], function(Plotly) { window.PLOTLYENV=window.PLOTLYENV || {};window.PLOTLYENV.BASE_URL=\"https://plot.ly\";Plotly.newPlot(\"a4bf33f2-8f70-4f04-8519-c15f6e7cd30c\", [{\"marker\": {\"color\": \"rgb(243,235,39)\"}, \"name\": \"credito\", \"x\": [\"composicao da divida\"], \"y\": [3704265.14], \"type\": \"bar\", \"uid\": \"6a5556b7-2447-440a-b80c-05db9c9c3de1\"}, {\"marker\": {\"color\": \"rgb(173,206,222)\"}, \"name\": \"outros\", \"x\": [\"composicao da divida\"], \"y\": [877517.5299999999], \"type\": \"bar\", \"uid\": \"1c6c884f-c8e6-4744-a6bf-a9bc6b576803\"}], {\"bargap\": 0.7, \"barmode\": \"stack\"}, {\"showLink\": false, \"linkText\": \"Export to plot.ly\", \"plotlyServerURL\": \"https://plot.ly\"})});</script><script type=\"text/javascript\">window.addEventListener(\"resize\", function(){window._Plotly.Plots.resize(document.getElementById(\"a4bf33f2-8f70-4f04-8519-c15f6e7cd30c\"));});</script>"
      ],
      "text/vnd.plotly.v1+html": [
       "<div id=\"a4bf33f2-8f70-4f04-8519-c15f6e7cd30c\" style=\"height: 525px; width: 100%;\" class=\"plotly-graph-div\"></div><script type=\"text/javascript\">require([\"plotly\"], function(Plotly) { window.PLOTLYENV=window.PLOTLYENV || {};window.PLOTLYENV.BASE_URL=\"https://plot.ly\";Plotly.newPlot(\"a4bf33f2-8f70-4f04-8519-c15f6e7cd30c\", [{\"marker\": {\"color\": \"rgb(243,235,39)\"}, \"name\": \"credito\", \"x\": [\"composicao da divida\"], \"y\": [3704265.14], \"type\": \"bar\", \"uid\": \"6a5556b7-2447-440a-b80c-05db9c9c3de1\"}, {\"marker\": {\"color\": \"rgb(173,206,222)\"}, \"name\": \"outros\", \"x\": [\"composicao da divida\"], \"y\": [877517.5299999999], \"type\": \"bar\", \"uid\": \"1c6c884f-c8e6-4744-a6bf-a9bc6b576803\"}], {\"bargap\": 0.7, \"barmode\": \"stack\"}, {\"showLink\": false, \"linkText\": \"Export to plot.ly\", \"plotlyServerURL\": \"https://plot.ly\"})});</script><script type=\"text/javascript\">window.addEventListener(\"resize\", function(){window._Plotly.Plots.resize(document.getElementById(\"a4bf33f2-8f70-4f04-8519-c15f6e7cd30c\"));});</script>"
      ]
     },
     "metadata": {},
     "output_type": "display_data"
    }
   ],
   "source": [
    "data = list()\n",
    "for el in dt['segmento'].unique().tolist():\n",
    "    _d = dt[dt['segmento']==el]\n",
    "    trace = go.Bar(\n",
    "        x = ['composicao da divida'],\n",
    "        y = [_d['valor_divida'].sum()],\n",
    "        name = el,\n",
    "        marker = dict(color=color_menu.get(el))\n",
    "    )\n",
    "    data.append(trace)\n",
    "layout = go.Layout(barmode='stack', bargap=0.7)\n",
    "fig = go.Figure(data=data, layout=layout)\n",
    "iplot(fig)"
   ]
  },
  {
   "cell_type": "code",
   "execution_count": 42,
   "metadata": {},
   "outputs": [
    {
     "data": {
      "text/html": [
       "<div>\n",
       "<style scoped>\n",
       "    .dataframe tbody tr th:only-of-type {\n",
       "        vertical-align: middle;\n",
       "    }\n",
       "\n",
       "    .dataframe tbody tr th {\n",
       "        vertical-align: top;\n",
       "    }\n",
       "\n",
       "    .dataframe thead th {\n",
       "        text-align: right;\n",
       "    }\n",
       "</style>\n",
       "<table border=\"1\" class=\"dataframe\">\n",
       "  <thead>\n",
       "    <tr style=\"text-align: right;\">\n",
       "      <th></th>\n",
       "      <th>cnpj</th>\n",
       "      <th>segmento</th>\n",
       "      <th>valor_divida</th>\n",
       "      <th>total</th>\n",
       "      <th>prop</th>\n",
       "    </tr>\n",
       "  </thead>\n",
       "  <tbody>\n",
       "    <tr>\n",
       "      <th>268</th>\n",
       "      <td>08363132000190</td>\n",
       "      <td>credito</td>\n",
       "      <td>132559.64</td>\n",
       "      <td>257522.71</td>\n",
       "      <td>0.514749</td>\n",
       "    </tr>\n",
       "    <tr>\n",
       "      <th>196</th>\n",
       "      <td>06102005000101</td>\n",
       "      <td>credito</td>\n",
       "      <td>3719.46</td>\n",
       "      <td>7195.28</td>\n",
       "      <td>0.516931</td>\n",
       "    </tr>\n",
       "    <tr>\n",
       "      <th>486</th>\n",
       "      <td>13153240000178</td>\n",
       "      <td>credito</td>\n",
       "      <td>2314.46</td>\n",
       "      <td>4374.49</td>\n",
       "      <td>0.529081</td>\n",
       "    </tr>\n",
       "    <tr>\n",
       "      <th>204</th>\n",
       "      <td>06196038000168</td>\n",
       "      <td>credito</td>\n",
       "      <td>908.91</td>\n",
       "      <td>1710.90</td>\n",
       "      <td>0.531247</td>\n",
       "    </tr>\n",
       "    <tr>\n",
       "      <th>146</th>\n",
       "      <td>04634050000181</td>\n",
       "      <td>credito</td>\n",
       "      <td>1604.49</td>\n",
       "      <td>3015.93</td>\n",
       "      <td>0.532005</td>\n",
       "    </tr>\n",
       "    <tr>\n",
       "      <th>869</th>\n",
       "      <td>55057392000117</td>\n",
       "      <td>credito</td>\n",
       "      <td>34589.87</td>\n",
       "      <td>63094.11</td>\n",
       "      <td>0.548227</td>\n",
       "    </tr>\n",
       "    <tr>\n",
       "      <th>348</th>\n",
       "      <td>10556320000186</td>\n",
       "      <td>credito</td>\n",
       "      <td>156833.32</td>\n",
       "      <td>280614.83</td>\n",
       "      <td>0.558892</td>\n",
       "    </tr>\n",
       "    <tr>\n",
       "      <th>261</th>\n",
       "      <td>08310428000142</td>\n",
       "      <td>credito</td>\n",
       "      <td>1906.92</td>\n",
       "      <td>3321.98</td>\n",
       "      <td>0.574031</td>\n",
       "    </tr>\n",
       "    <tr>\n",
       "      <th>143</th>\n",
       "      <td>04588664000174</td>\n",
       "      <td>credito</td>\n",
       "      <td>11836.98</td>\n",
       "      <td>20335.43</td>\n",
       "      <td>0.582087</td>\n",
       "    </tr>\n",
       "    <tr>\n",
       "      <th>194</th>\n",
       "      <td>05951411000186</td>\n",
       "      <td>credito</td>\n",
       "      <td>294971.83</td>\n",
       "      <td>488626.89</td>\n",
       "      <td>0.603675</td>\n",
       "    </tr>\n",
       "    <tr>\n",
       "      <th>225</th>\n",
       "      <td>07194858000183</td>\n",
       "      <td>credito</td>\n",
       "      <td>155982.24</td>\n",
       "      <td>256185.37</td>\n",
       "      <td>0.608865</td>\n",
       "    </tr>\n",
       "    <tr>\n",
       "      <th>318</th>\n",
       "      <td>09286118000100</td>\n",
       "      <td>credito</td>\n",
       "      <td>2982.75</td>\n",
       "      <td>4499.13</td>\n",
       "      <td>0.662962</td>\n",
       "    </tr>\n",
       "    <tr>\n",
       "      <th>890</th>\n",
       "      <td>61353025000163</td>\n",
       "      <td>credito</td>\n",
       "      <td>328934.54</td>\n",
       "      <td>492335.59</td>\n",
       "      <td>0.668110</td>\n",
       "    </tr>\n",
       "    <tr>\n",
       "      <th>736</th>\n",
       "      <td>22861508000117</td>\n",
       "      <td>credito</td>\n",
       "      <td>1727.29</td>\n",
       "      <td>2559.00</td>\n",
       "      <td>0.674986</td>\n",
       "    </tr>\n",
       "    <tr>\n",
       "      <th>11</th>\n",
       "      <td>00806759000166</td>\n",
       "      <td>credito</td>\n",
       "      <td>341257.14</td>\n",
       "      <td>501878.93</td>\n",
       "      <td>0.679959</td>\n",
       "    </tr>\n",
       "    <tr>\n",
       "      <th>139</th>\n",
       "      <td>04501499000171</td>\n",
       "      <td>credito</td>\n",
       "      <td>1852616.58</td>\n",
       "      <td>2686262.17</td>\n",
       "      <td>0.689663</td>\n",
       "    </tr>\n",
       "    <tr>\n",
       "      <th>174</th>\n",
       "      <td>05458709000159</td>\n",
       "      <td>credito</td>\n",
       "      <td>27531.02</td>\n",
       "      <td>38896.56</td>\n",
       "      <td>0.707801</td>\n",
       "    </tr>\n",
       "    <tr>\n",
       "      <th>850</th>\n",
       "      <td>44705564000103</td>\n",
       "      <td>credito</td>\n",
       "      <td>80052.47</td>\n",
       "      <td>112691.20</td>\n",
       "      <td>0.710370</td>\n",
       "    </tr>\n",
       "    <tr>\n",
       "      <th>308</th>\n",
       "      <td>09189540000130</td>\n",
       "      <td>credito</td>\n",
       "      <td>12717.33</td>\n",
       "      <td>17063.54</td>\n",
       "      <td>0.745293</td>\n",
       "    </tr>\n",
       "    <tr>\n",
       "      <th>942</th>\n",
       "      <td>97546276000101</td>\n",
       "      <td>credito</td>\n",
       "      <td>82886.43</td>\n",
       "      <td>108881.10</td>\n",
       "      <td>0.761256</td>\n",
       "    </tr>\n",
       "    <tr>\n",
       "      <th>630</th>\n",
       "      <td>18754982000172</td>\n",
       "      <td>credito</td>\n",
       "      <td>296104.80</td>\n",
       "      <td>387899.77</td>\n",
       "      <td>0.763354</td>\n",
       "    </tr>\n",
       "    <tr>\n",
       "      <th>104</th>\n",
       "      <td>03704136000170</td>\n",
       "      <td>credito</td>\n",
       "      <td>94366.06</td>\n",
       "      <td>122479.68</td>\n",
       "      <td>0.770463</td>\n",
       "    </tr>\n",
       "    <tr>\n",
       "      <th>898</th>\n",
       "      <td>62148093000153</td>\n",
       "      <td>credito</td>\n",
       "      <td>3704265.14</td>\n",
       "      <td>4581782.67</td>\n",
       "      <td>0.808477</td>\n",
       "    </tr>\n",
       "    <tr>\n",
       "      <th>432</th>\n",
       "      <td>11325760000195</td>\n",
       "      <td>credito</td>\n",
       "      <td>15951.93</td>\n",
       "      <td>19367.08</td>\n",
       "      <td>0.823662</td>\n",
       "    </tr>\n",
       "    <tr>\n",
       "      <th>854</th>\n",
       "      <td>47785290000190</td>\n",
       "      <td>credito</td>\n",
       "      <td>123405.69</td>\n",
       "      <td>149074.54</td>\n",
       "      <td>0.827812</td>\n",
       "    </tr>\n",
       "    <tr>\n",
       "      <th>856</th>\n",
       "      <td>47785290000270</td>\n",
       "      <td>credito</td>\n",
       "      <td>123405.69</td>\n",
       "      <td>149074.54</td>\n",
       "      <td>0.827812</td>\n",
       "    </tr>\n",
       "    <tr>\n",
       "      <th>429</th>\n",
       "      <td>11296199000163</td>\n",
       "      <td>credito</td>\n",
       "      <td>35668.71</td>\n",
       "      <td>42687.18</td>\n",
       "      <td>0.835584</td>\n",
       "    </tr>\n",
       "    <tr>\n",
       "      <th>895</th>\n",
       "      <td>61607164000176</td>\n",
       "      <td>credito</td>\n",
       "      <td>69718.21</td>\n",
       "      <td>83338.57</td>\n",
       "      <td>0.836566</td>\n",
       "    </tr>\n",
       "    <tr>\n",
       "      <th>359</th>\n",
       "      <td>10649256000188</td>\n",
       "      <td>credito</td>\n",
       "      <td>237483.36</td>\n",
       "      <td>281896.60</td>\n",
       "      <td>0.842448</td>\n",
       "    </tr>\n",
       "    <tr>\n",
       "      <th>247</th>\n",
       "      <td>07742099000146</td>\n",
       "      <td>credito</td>\n",
       "      <td>168830.66</td>\n",
       "      <td>199698.31</td>\n",
       "      <td>0.845429</td>\n",
       "    </tr>\n",
       "    <tr>\n",
       "      <th>...</th>\n",
       "      <td>...</td>\n",
       "      <td>...</td>\n",
       "      <td>...</td>\n",
       "      <td>...</td>\n",
       "      <td>...</td>\n",
       "    </tr>\n",
       "    <tr>\n",
       "      <th>145</th>\n",
       "      <td>04607860000149</td>\n",
       "      <td>credito</td>\n",
       "      <td>94093.29</td>\n",
       "      <td>94093.29</td>\n",
       "      <td>1.000000</td>\n",
       "    </tr>\n",
       "    <tr>\n",
       "      <th>755</th>\n",
       "      <td>24140472000108</td>\n",
       "      <td>credito</td>\n",
       "      <td>1422.67</td>\n",
       "      <td>1422.67</td>\n",
       "      <td>1.000000</td>\n",
       "    </tr>\n",
       "    <tr>\n",
       "      <th>797</th>\n",
       "      <td>26386968000191</td>\n",
       "      <td>credito</td>\n",
       "      <td>2324.55</td>\n",
       "      <td>2324.55</td>\n",
       "      <td>1.000000</td>\n",
       "    </tr>\n",
       "    <tr>\n",
       "      <th>245</th>\n",
       "      <td>07677806000168</td>\n",
       "      <td>credito</td>\n",
       "      <td>1184.24</td>\n",
       "      <td>1184.24</td>\n",
       "      <td>1.000000</td>\n",
       "    </tr>\n",
       "    <tr>\n",
       "      <th>620</th>\n",
       "      <td>18455950000176</td>\n",
       "      <td>credito</td>\n",
       "      <td>991.59</td>\n",
       "      <td>991.59</td>\n",
       "      <td>1.000000</td>\n",
       "    </tr>\n",
       "    <tr>\n",
       "      <th>59</th>\n",
       "      <td>02361751000169</td>\n",
       "      <td>credito</td>\n",
       "      <td>2304.10</td>\n",
       "      <td>2304.10</td>\n",
       "      <td>1.000000</td>\n",
       "    </tr>\n",
       "    <tr>\n",
       "      <th>306</th>\n",
       "      <td>09130013000150</td>\n",
       "      <td>credito</td>\n",
       "      <td>198.19</td>\n",
       "      <td>198.19</td>\n",
       "      <td>1.000000</td>\n",
       "    </tr>\n",
       "    <tr>\n",
       "      <th>383</th>\n",
       "      <td>10915041000161</td>\n",
       "      <td>credito</td>\n",
       "      <td>87085.77</td>\n",
       "      <td>87085.77</td>\n",
       "      <td>1.000000</td>\n",
       "    </tr>\n",
       "    <tr>\n",
       "      <th>419</th>\n",
       "      <td>11117460000110</td>\n",
       "      <td>credito</td>\n",
       "      <td>76387.35</td>\n",
       "      <td>76387.35</td>\n",
       "      <td>1.000000</td>\n",
       "    </tr>\n",
       "    <tr>\n",
       "      <th>422</th>\n",
       "      <td>11223079000136</td>\n",
       "      <td>credito</td>\n",
       "      <td>10794.48</td>\n",
       "      <td>10794.48</td>\n",
       "      <td>1.000000</td>\n",
       "    </tr>\n",
       "    <tr>\n",
       "      <th>63</th>\n",
       "      <td>02427370000135</td>\n",
       "      <td>credito</td>\n",
       "      <td>145022.49</td>\n",
       "      <td>145022.49</td>\n",
       "      <td>1.000000</td>\n",
       "    </tr>\n",
       "    <tr>\n",
       "      <th>466</th>\n",
       "      <td>12148895000195</td>\n",
       "      <td>credito</td>\n",
       "      <td>1150.65</td>\n",
       "      <td>1150.65</td>\n",
       "      <td>1.000000</td>\n",
       "    </tr>\n",
       "    <tr>\n",
       "      <th>482</th>\n",
       "      <td>12919292000140</td>\n",
       "      <td>credito</td>\n",
       "      <td>101298.33</td>\n",
       "      <td>101298.33</td>\n",
       "      <td>1.000000</td>\n",
       "    </tr>\n",
       "    <tr>\n",
       "      <th>41</th>\n",
       "      <td>01988603000106</td>\n",
       "      <td>credito</td>\n",
       "      <td>768233.30</td>\n",
       "      <td>768233.30</td>\n",
       "      <td>1.000000</td>\n",
       "    </tr>\n",
       "    <tr>\n",
       "      <th>251</th>\n",
       "      <td>07810124000181</td>\n",
       "      <td>credito</td>\n",
       "      <td>116051.09</td>\n",
       "      <td>116051.09</td>\n",
       "      <td>1.000000</td>\n",
       "    </tr>\n",
       "    <tr>\n",
       "      <th>503</th>\n",
       "      <td>13640726000130</td>\n",
       "      <td>credito</td>\n",
       "      <td>470.51</td>\n",
       "      <td>470.51</td>\n",
       "      <td>1.000000</td>\n",
       "    </tr>\n",
       "    <tr>\n",
       "      <th>512</th>\n",
       "      <td>14373103000101</td>\n",
       "      <td>credito</td>\n",
       "      <td>2668.79</td>\n",
       "      <td>2668.79</td>\n",
       "      <td>1.000000</td>\n",
       "    </tr>\n",
       "    <tr>\n",
       "      <th>530</th>\n",
       "      <td>15285941000196</td>\n",
       "      <td>credito</td>\n",
       "      <td>18423.64</td>\n",
       "      <td>18423.64</td>\n",
       "      <td>1.000000</td>\n",
       "    </tr>\n",
       "    <tr>\n",
       "      <th>534</th>\n",
       "      <td>15356544000168</td>\n",
       "      <td>credito</td>\n",
       "      <td>19701.97</td>\n",
       "      <td>19701.97</td>\n",
       "      <td>1.000000</td>\n",
       "    </tr>\n",
       "    <tr>\n",
       "      <th>535</th>\n",
       "      <td>15389888000173</td>\n",
       "      <td>credito</td>\n",
       "      <td>19387.26</td>\n",
       "      <td>19387.26</td>\n",
       "      <td>1.000000</td>\n",
       "    </tr>\n",
       "    <tr>\n",
       "      <th>537</th>\n",
       "      <td>15497859000125</td>\n",
       "      <td>credito</td>\n",
       "      <td>116073.75</td>\n",
       "      <td>116073.75</td>\n",
       "      <td>1.000000</td>\n",
       "    </tr>\n",
       "    <tr>\n",
       "      <th>539</th>\n",
       "      <td>15523647000175</td>\n",
       "      <td>credito</td>\n",
       "      <td>5183.43</td>\n",
       "      <td>5183.43</td>\n",
       "      <td>1.000000</td>\n",
       "    </tr>\n",
       "    <tr>\n",
       "      <th>545</th>\n",
       "      <td>15684485000157</td>\n",
       "      <td>credito</td>\n",
       "      <td>7115.39</td>\n",
       "      <td>7115.39</td>\n",
       "      <td>1.000000</td>\n",
       "    </tr>\n",
       "    <tr>\n",
       "      <th>546</th>\n",
       "      <td>15690193000127</td>\n",
       "      <td>credito</td>\n",
       "      <td>1309.08</td>\n",
       "      <td>1309.08</td>\n",
       "      <td>1.000000</td>\n",
       "    </tr>\n",
       "    <tr>\n",
       "      <th>250</th>\n",
       "      <td>07763971000132</td>\n",
       "      <td>credito</td>\n",
       "      <td>2743.13</td>\n",
       "      <td>2743.13</td>\n",
       "      <td>1.000000</td>\n",
       "    </tr>\n",
       "    <tr>\n",
       "      <th>554</th>\n",
       "      <td>16483140000106</td>\n",
       "      <td>credito</td>\n",
       "      <td>2728.39</td>\n",
       "      <td>2728.39</td>\n",
       "      <td>1.000000</td>\n",
       "    </tr>\n",
       "    <tr>\n",
       "      <th>574</th>\n",
       "      <td>17024240000129</td>\n",
       "      <td>credito</td>\n",
       "      <td>2349.29</td>\n",
       "      <td>2349.29</td>\n",
       "      <td>1.000000</td>\n",
       "    </tr>\n",
       "    <tr>\n",
       "      <th>933</th>\n",
       "      <td>83816330000187</td>\n",
       "      <td>credito</td>\n",
       "      <td>60672.79</td>\n",
       "      <td>60672.79</td>\n",
       "      <td>1.000000</td>\n",
       "    </tr>\n",
       "    <tr>\n",
       "      <th>629</th>\n",
       "      <td>18708873000119</td>\n",
       "      <td>credito</td>\n",
       "      <td>75811.66</td>\n",
       "      <td>75811.66</td>\n",
       "      <td>1.000000</td>\n",
       "    </tr>\n",
       "    <tr>\n",
       "      <th>142</th>\n",
       "      <td>04509695000192</td>\n",
       "      <td>credito</td>\n",
       "      <td>34146.03</td>\n",
       "      <td>34146.03</td>\n",
       "      <td>1.000000</td>\n",
       "    </tr>\n",
       "  </tbody>\n",
       "</table>\n",
       "<p>116 rows × 5 columns</p>\n",
       "</div>"
      ],
      "text/plain": [
       "               cnpj segmento  valor_divida       total      prop\n",
       "268  08363132000190  credito     132559.64   257522.71  0.514749\n",
       "196  06102005000101  credito       3719.46     7195.28  0.516931\n",
       "486  13153240000178  credito       2314.46     4374.49  0.529081\n",
       "204  06196038000168  credito        908.91     1710.90  0.531247\n",
       "146  04634050000181  credito       1604.49     3015.93  0.532005\n",
       "869  55057392000117  credito      34589.87    63094.11  0.548227\n",
       "348  10556320000186  credito     156833.32   280614.83  0.558892\n",
       "261  08310428000142  credito       1906.92     3321.98  0.574031\n",
       "143  04588664000174  credito      11836.98    20335.43  0.582087\n",
       "194  05951411000186  credito     294971.83   488626.89  0.603675\n",
       "225  07194858000183  credito     155982.24   256185.37  0.608865\n",
       "318  09286118000100  credito       2982.75     4499.13  0.662962\n",
       "890  61353025000163  credito     328934.54   492335.59  0.668110\n",
       "736  22861508000117  credito       1727.29     2559.00  0.674986\n",
       "11   00806759000166  credito     341257.14   501878.93  0.679959\n",
       "139  04501499000171  credito    1852616.58  2686262.17  0.689663\n",
       "174  05458709000159  credito      27531.02    38896.56  0.707801\n",
       "850  44705564000103  credito      80052.47   112691.20  0.710370\n",
       "308  09189540000130  credito      12717.33    17063.54  0.745293\n",
       "942  97546276000101  credito      82886.43   108881.10  0.761256\n",
       "630  18754982000172  credito     296104.80   387899.77  0.763354\n",
       "104  03704136000170  credito      94366.06   122479.68  0.770463\n",
       "898  62148093000153  credito    3704265.14  4581782.67  0.808477\n",
       "432  11325760000195  credito      15951.93    19367.08  0.823662\n",
       "854  47785290000190  credito     123405.69   149074.54  0.827812\n",
       "856  47785290000270  credito     123405.69   149074.54  0.827812\n",
       "429  11296199000163  credito      35668.71    42687.18  0.835584\n",
       "895  61607164000176  credito      69718.21    83338.57  0.836566\n",
       "359  10649256000188  credito     237483.36   281896.60  0.842448\n",
       "247  07742099000146  credito     168830.66   199698.31  0.845429\n",
       "..              ...      ...           ...         ...       ...\n",
       "145  04607860000149  credito      94093.29    94093.29  1.000000\n",
       "755  24140472000108  credito       1422.67     1422.67  1.000000\n",
       "797  26386968000191  credito       2324.55     2324.55  1.000000\n",
       "245  07677806000168  credito       1184.24     1184.24  1.000000\n",
       "620  18455950000176  credito        991.59      991.59  1.000000\n",
       "59   02361751000169  credito       2304.10     2304.10  1.000000\n",
       "306  09130013000150  credito        198.19      198.19  1.000000\n",
       "383  10915041000161  credito      87085.77    87085.77  1.000000\n",
       "419  11117460000110  credito      76387.35    76387.35  1.000000\n",
       "422  11223079000136  credito      10794.48    10794.48  1.000000\n",
       "63   02427370000135  credito     145022.49   145022.49  1.000000\n",
       "466  12148895000195  credito       1150.65     1150.65  1.000000\n",
       "482  12919292000140  credito     101298.33   101298.33  1.000000\n",
       "41   01988603000106  credito     768233.30   768233.30  1.000000\n",
       "251  07810124000181  credito     116051.09   116051.09  1.000000\n",
       "503  13640726000130  credito        470.51      470.51  1.000000\n",
       "512  14373103000101  credito       2668.79     2668.79  1.000000\n",
       "530  15285941000196  credito      18423.64    18423.64  1.000000\n",
       "534  15356544000168  credito      19701.97    19701.97  1.000000\n",
       "535  15389888000173  credito      19387.26    19387.26  1.000000\n",
       "537  15497859000125  credito     116073.75   116073.75  1.000000\n",
       "539  15523647000175  credito       5183.43     5183.43  1.000000\n",
       "545  15684485000157  credito       7115.39     7115.39  1.000000\n",
       "546  15690193000127  credito       1309.08     1309.08  1.000000\n",
       "250  07763971000132  credito       2743.13     2743.13  1.000000\n",
       "554  16483140000106  credito       2728.39     2728.39  1.000000\n",
       "574  17024240000129  credito       2349.29     2349.29  1.000000\n",
       "933  83816330000187  credito      60672.79    60672.79  1.000000\n",
       "629  18708873000119  credito      75811.66    75811.66  1.000000\n",
       "142  04509695000192  credito      34146.03    34146.03  1.000000\n",
       "\n",
       "[116 rows x 5 columns]"
      ]
     },
     "execution_count": 42,
     "metadata": {},
     "output_type": "execute_result"
    }
   ],
   "source": [
    "df_cred[df_cred['prop']>0.5].sort_values('prop')"
   ]
  },
  {
   "cell_type": "code",
   "execution_count": 43,
   "metadata": {},
   "outputs": [
    {
     "data": {
      "application/vnd.plotly.v1+json": {
       "config": {
        "linkText": "Export to plot.ly",
        "plotlyServerURL": "https://plot.ly",
        "showLink": false
       },
       "data": [
        {
         "marker": {
          "color": "rgb(243,235,39)"
         },
         "name": "credito",
         "type": "bar",
         "uid": "248c6056-401b-4975-8701-fca2fc24929b",
         "x": [
          "composicao da divida"
         ],
         "y": [
          123405.68999999999
         ]
        },
        {
         "marker": {
          "color": "rgb(173,206,222)"
         },
         "name": "outros",
         "type": "bar",
         "uid": "5a671433-d694-4f97-8118-9f3204fcb3f5",
         "x": [
          "composicao da divida"
         ],
         "y": [
          25668.85
         ]
        }
       ],
       "layout": {
        "bargap": 0.7,
        "barmode": "stack"
       }
      },
      "text/html": [
       "<div id=\"461b166c-93dd-4355-91f4-8bb2cad6b9e8\" style=\"height: 525px; width: 100%;\" class=\"plotly-graph-div\"></div><script type=\"text/javascript\">require([\"plotly\"], function(Plotly) { window.PLOTLYENV=window.PLOTLYENV || {};window.PLOTLYENV.BASE_URL=\"https://plot.ly\";Plotly.newPlot(\"461b166c-93dd-4355-91f4-8bb2cad6b9e8\", [{\"marker\": {\"color\": \"rgb(243,235,39)\"}, \"name\": \"credito\", \"x\": [\"composicao da divida\"], \"y\": [123405.68999999999], \"type\": \"bar\", \"uid\": \"248c6056-401b-4975-8701-fca2fc24929b\"}, {\"marker\": {\"color\": \"rgb(173,206,222)\"}, \"name\": \"outros\", \"x\": [\"composicao da divida\"], \"y\": [25668.85], \"type\": \"bar\", \"uid\": \"5a671433-d694-4f97-8118-9f3204fcb3f5\"}], {\"bargap\": 0.7, \"barmode\": \"stack\"}, {\"showLink\": false, \"linkText\": \"Export to plot.ly\", \"plotlyServerURL\": \"https://plot.ly\"})});</script><script type=\"text/javascript\">window.addEventListener(\"resize\", function(){window._Plotly.Plots.resize(document.getElementById(\"461b166c-93dd-4355-91f4-8bb2cad6b9e8\"));});</script>"
      ],
      "text/vnd.plotly.v1+html": [
       "<div id=\"461b166c-93dd-4355-91f4-8bb2cad6b9e8\" style=\"height: 525px; width: 100%;\" class=\"plotly-graph-div\"></div><script type=\"text/javascript\">require([\"plotly\"], function(Plotly) { window.PLOTLYENV=window.PLOTLYENV || {};window.PLOTLYENV.BASE_URL=\"https://plot.ly\";Plotly.newPlot(\"461b166c-93dd-4355-91f4-8bb2cad6b9e8\", [{\"marker\": {\"color\": \"rgb(243,235,39)\"}, \"name\": \"credito\", \"x\": [\"composicao da divida\"], \"y\": [123405.68999999999], \"type\": \"bar\", \"uid\": \"248c6056-401b-4975-8701-fca2fc24929b\"}, {\"marker\": {\"color\": \"rgb(173,206,222)\"}, \"name\": \"outros\", \"x\": [\"composicao da divida\"], \"y\": [25668.85], \"type\": \"bar\", \"uid\": \"5a671433-d694-4f97-8118-9f3204fcb3f5\"}], {\"bargap\": 0.7, \"barmode\": \"stack\"}, {\"showLink\": false, \"linkText\": \"Export to plot.ly\", \"plotlyServerURL\": \"https://plot.ly\"})});</script><script type=\"text/javascript\">window.addEventListener(\"resize\", function(){window._Plotly.Plots.resize(document.getElementById(\"461b166c-93dd-4355-91f4-8bb2cad6b9e8\"));});</script>"
      ]
     },
     "metadata": {},
     "output_type": "display_data"
    }
   ],
   "source": [
    "dt = df[df['cnpj']=='47785290000190']\n",
    "data = list()\n",
    "for el in dt['segmento'].unique().tolist():\n",
    "    _d = dt[dt['segmento']==el]\n",
    "    trace = go.Bar(\n",
    "        x = ['composicao da divida'],\n",
    "        y = [_d['valor_divida'].sum()],\n",
    "        name = el,\n",
    "        marker = dict(color=color_menu.get(el))\n",
    "    )\n",
    "    data.append(trace)\n",
    "layout = go.Layout(barmode='stack', bargap=0.7)\n",
    "fig = go.Figure(data=data, layout=layout)\n",
    "iplot(fig)"
   ]
  },
  {
   "cell_type": "code",
   "execution_count": 44,
   "metadata": {},
   "outputs": [],
   "source": [
    "dfp = res[res['segmento']=='processos']"
   ]
  },
  {
   "cell_type": "code",
   "execution_count": 45,
   "metadata": {},
   "outputs": [
    {
     "data": {
      "text/html": [
       "<div>\n",
       "<style scoped>\n",
       "    .dataframe tbody tr th:only-of-type {\n",
       "        vertical-align: middle;\n",
       "    }\n",
       "\n",
       "    .dataframe tbody tr th {\n",
       "        vertical-align: top;\n",
       "    }\n",
       "\n",
       "    .dataframe thead th {\n",
       "        text-align: right;\n",
       "    }\n",
       "</style>\n",
       "<table border=\"1\" class=\"dataframe\">\n",
       "  <thead>\n",
       "    <tr style=\"text-align: right;\">\n",
       "      <th></th>\n",
       "      <th>cnpj</th>\n",
       "      <th>segmento</th>\n",
       "      <th>valor_divida</th>\n",
       "      <th>total</th>\n",
       "      <th>prop</th>\n",
       "    </tr>\n",
       "  </thead>\n",
       "  <tbody>\n",
       "    <tr>\n",
       "      <th>167</th>\n",
       "      <td>05337303000118</td>\n",
       "      <td>processos</td>\n",
       "      <td>3214.00</td>\n",
       "      <td>3214.00</td>\n",
       "      <td>1.0</td>\n",
       "    </tr>\n",
       "    <tr>\n",
       "      <th>775</th>\n",
       "      <td>24873314000167</td>\n",
       "      <td>processos</td>\n",
       "      <td>342137.31</td>\n",
       "      <td>342137.31</td>\n",
       "      <td>1.0</td>\n",
       "    </tr>\n",
       "    <tr>\n",
       "      <th>868</th>\n",
       "      <td>53244075000184</td>\n",
       "      <td>processos</td>\n",
       "      <td>16555.56</td>\n",
       "      <td>16555.56</td>\n",
       "      <td>1.0</td>\n",
       "    </tr>\n",
       "    <tr>\n",
       "      <th>543</th>\n",
       "      <td>15576591000117</td>\n",
       "      <td>processos</td>\n",
       "      <td>24088.33</td>\n",
       "      <td>24088.33</td>\n",
       "      <td>1.0</td>\n",
       "    </tr>\n",
       "    <tr>\n",
       "      <th>619</th>\n",
       "      <td>18371750000135</td>\n",
       "      <td>processos</td>\n",
       "      <td>1262.92</td>\n",
       "      <td>1262.92</td>\n",
       "      <td>1.0</td>\n",
       "    </tr>\n",
       "  </tbody>\n",
       "</table>\n",
       "</div>"
      ],
      "text/plain": [
       "               cnpj   segmento  valor_divida      total  prop\n",
       "167  05337303000118  processos       3214.00    3214.00   1.0\n",
       "775  24873314000167  processos     342137.31  342137.31   1.0\n",
       "868  53244075000184  processos      16555.56   16555.56   1.0\n",
       "543  15576591000117  processos      24088.33   24088.33   1.0\n",
       "619  18371750000135  processos       1262.92    1262.92   1.0"
      ]
     },
     "execution_count": 45,
     "metadata": {},
     "output_type": "execute_result"
    }
   ],
   "source": [
    "dfp.sort_values('prop', ascending=False).head()"
   ]
  },
  {
   "cell_type": "code",
   "execution_count": 46,
   "metadata": {},
   "outputs": [
    {
     "data": {
      "text/html": [
       "<div>\n",
       "<style scoped>\n",
       "    .dataframe tbody tr th:only-of-type {\n",
       "        vertical-align: middle;\n",
       "    }\n",
       "\n",
       "    .dataframe tbody tr th {\n",
       "        vertical-align: top;\n",
       "    }\n",
       "\n",
       "    .dataframe thead th {\n",
       "        text-align: right;\n",
       "    }\n",
       "</style>\n",
       "<table border=\"1\" class=\"dataframe\">\n",
       "  <thead>\n",
       "    <tr style=\"text-align: right;\">\n",
       "      <th></th>\n",
       "      <th>cnpj</th>\n",
       "      <th>modalidade_natureza</th>\n",
       "      <th>natureza</th>\n",
       "      <th>tipo</th>\n",
       "      <th>uf</th>\n",
       "      <th>valor</th>\n",
       "      <th>data</th>\n",
       "      <th>valor_divida</th>\n",
       "      <th>segmento</th>\n",
       "    </tr>\n",
       "  </thead>\n",
       "  <tbody>\n",
       "    <tr>\n",
       "      <th>0</th>\n",
       "      <td>18371750000135</td>\n",
       "      <td>FISCALMUNICIPAL</td>\n",
       "      <td>Execução Fiscal Municipal</td>\n",
       "      <td>processos</td>\n",
       "      <td>SP</td>\n",
       "      <td>1262.92</td>\n",
       "      <td>2018-12-19</td>\n",
       "      <td>1262.92</td>\n",
       "      <td>processos</td>\n",
       "    </tr>\n",
       "  </tbody>\n",
       "</table>\n",
       "</div>"
      ],
      "text/plain": [
       "             cnpj modalidade_natureza                   natureza       tipo  \\\n",
       "0  18371750000135     FISCALMUNICIPAL  Execução Fiscal Municipal  processos   \n",
       "\n",
       "   uf    valor       data  valor_divida   segmento  \n",
       "0  SP  1262.92 2018-12-19       1262.92  processos  "
      ]
     },
     "execution_count": 46,
     "metadata": {},
     "output_type": "execute_result"
    }
   ],
   "source": [
    "df[df['cnpj']=='18371750000135']"
   ]
  },
  {
   "cell_type": "code",
   "execution_count": 47,
   "metadata": {},
   "outputs": [
    {
     "data": {
      "text/html": [
       "<div>\n",
       "<style scoped>\n",
       "    .dataframe tbody tr th:only-of-type {\n",
       "        vertical-align: middle;\n",
       "    }\n",
       "\n",
       "    .dataframe tbody tr th {\n",
       "        vertical-align: top;\n",
       "    }\n",
       "\n",
       "    .dataframe thead th {\n",
       "        text-align: right;\n",
       "    }\n",
       "</style>\n",
       "<table border=\"1\" class=\"dataframe\">\n",
       "  <thead>\n",
       "    <tr style=\"text-align: right;\">\n",
       "      <th></th>\n",
       "      <th>cnpj</th>\n",
       "      <th>segmento</th>\n",
       "      <th>valor_divida</th>\n",
       "      <th>total</th>\n",
       "      <th>prop</th>\n",
       "    </tr>\n",
       "  </thead>\n",
       "  <tbody>\n",
       "    <tr>\n",
       "      <th>557</th>\n",
       "      <td>16548890000100</td>\n",
       "      <td>processos</td>\n",
       "      <td>40180.03</td>\n",
       "      <td>77346.39</td>\n",
       "      <td>0.519482</td>\n",
       "    </tr>\n",
       "    <tr>\n",
       "      <th>485</th>\n",
       "      <td>12986061000159</td>\n",
       "      <td>processos</td>\n",
       "      <td>141644.67</td>\n",
       "      <td>268524.23</td>\n",
       "      <td>0.527493</td>\n",
       "    </tr>\n",
       "    <tr>\n",
       "      <th>129</th>\n",
       "      <td>04266489000107</td>\n",
       "      <td>processos</td>\n",
       "      <td>52043.86</td>\n",
       "      <td>93445.95</td>\n",
       "      <td>0.556941</td>\n",
       "    </tr>\n",
       "    <tr>\n",
       "      <th>597</th>\n",
       "      <td>17464661000170</td>\n",
       "      <td>processos</td>\n",
       "      <td>28292.82</td>\n",
       "      <td>48887.18</td>\n",
       "      <td>0.578737</td>\n",
       "    </tr>\n",
       "    <tr>\n",
       "      <th>32</th>\n",
       "      <td>01776827000154</td>\n",
       "      <td>processos</td>\n",
       "      <td>33761.78</td>\n",
       "      <td>57897.65</td>\n",
       "      <td>0.583129</td>\n",
       "    </tr>\n",
       "    <tr>\n",
       "      <th>875</th>\n",
       "      <td>58126236000159</td>\n",
       "      <td>processos</td>\n",
       "      <td>48374.89</td>\n",
       "      <td>81837.60</td>\n",
       "      <td>0.591108</td>\n",
       "    </tr>\n",
       "    <tr>\n",
       "      <th>462</th>\n",
       "      <td>11909146000170</td>\n",
       "      <td>processos</td>\n",
       "      <td>7410.46</td>\n",
       "      <td>12409.46</td>\n",
       "      <td>0.597162</td>\n",
       "    </tr>\n",
       "    <tr>\n",
       "      <th>109</th>\n",
       "      <td>03722779000147</td>\n",
       "      <td>processos</td>\n",
       "      <td>147181.44</td>\n",
       "      <td>240707.78</td>\n",
       "      <td>0.611453</td>\n",
       "    </tr>\n",
       "    <tr>\n",
       "      <th>885</th>\n",
       "      <td>60701190000104</td>\n",
       "      <td>processos</td>\n",
       "      <td>9139356.95</td>\n",
       "      <td>14608275.58</td>\n",
       "      <td>0.625629</td>\n",
       "    </tr>\n",
       "    <tr>\n",
       "      <th>267</th>\n",
       "      <td>08326660000179</td>\n",
       "      <td>processos</td>\n",
       "      <td>1586.59</td>\n",
       "      <td>2506.50</td>\n",
       "      <td>0.632990</td>\n",
       "    </tr>\n",
       "  </tbody>\n",
       "</table>\n",
       "</div>"
      ],
      "text/plain": [
       "               cnpj   segmento  valor_divida        total      prop\n",
       "557  16548890000100  processos      40180.03     77346.39  0.519482\n",
       "485  12986061000159  processos     141644.67    268524.23  0.527493\n",
       "129  04266489000107  processos      52043.86     93445.95  0.556941\n",
       "597  17464661000170  processos      28292.82     48887.18  0.578737\n",
       "32   01776827000154  processos      33761.78     57897.65  0.583129\n",
       "875  58126236000159  processos      48374.89     81837.60  0.591108\n",
       "462  11909146000170  processos       7410.46     12409.46  0.597162\n",
       "109  03722779000147  processos     147181.44    240707.78  0.611453\n",
       "885  60701190000104  processos    9139356.95  14608275.58  0.625629\n",
       "267  08326660000179  processos       1586.59      2506.50  0.632990"
      ]
     },
     "execution_count": 47,
     "metadata": {},
     "output_type": "execute_result"
    }
   ],
   "source": [
    "dfp[dfp['prop']>0.5].sort_values('prop').head(10)"
   ]
  },
  {
   "cell_type": "code",
   "execution_count": 48,
   "metadata": {},
   "outputs": [
    {
     "data": {
      "application/vnd.plotly.v1+json": {
       "config": {
        "linkText": "Export to plot.ly",
        "plotlyServerURL": "https://plot.ly",
        "showLink": false
       },
       "data": [
        {
         "marker": {
          "color": "rgb(173,206,222)"
         },
         "name": "outros",
         "type": "bar",
         "uid": "6dedc704-31a1-4531-bc64-75d62859384b",
         "x": [
          "composicao da divida"
         ],
         "y": [
          5443204.649999999
         ]
        },
        {
         "marker": {
          "color": "rgb(202,121,248)"
         },
         "name": "infra",
         "type": "bar",
         "uid": "3879c648-d95e-4e90-bd2d-aab9d78b7f36",
         "x": [
          "composicao da divida"
         ],
         "y": [
          25713.980000000003
         ]
        },
        {
         "marker": {
          "color": "rgb(245,139,139)"
         },
         "name": "processos",
         "type": "bar",
         "uid": "7fde183e-9975-4d33-8d19-39c988a7cb8a",
         "x": [
          "composicao da divida"
         ],
         "y": [
          9139356.949999997
         ]
        }
       ],
       "layout": {
        "bargap": 0.7,
        "barmode": "stack"
       }
      },
      "text/html": [
       "<div id=\"1c3b3095-fa89-4a83-8112-7fcfc81caf74\" style=\"height: 525px; width: 100%;\" class=\"plotly-graph-div\"></div><script type=\"text/javascript\">require([\"plotly\"], function(Plotly) { window.PLOTLYENV=window.PLOTLYENV || {};window.PLOTLYENV.BASE_URL=\"https://plot.ly\";Plotly.newPlot(\"1c3b3095-fa89-4a83-8112-7fcfc81caf74\", [{\"marker\": {\"color\": \"rgb(173,206,222)\"}, \"name\": \"outros\", \"x\": [\"composicao da divida\"], \"y\": [5443204.649999999], \"type\": \"bar\", \"uid\": \"6dedc704-31a1-4531-bc64-75d62859384b\"}, {\"marker\": {\"color\": \"rgb(202,121,248)\"}, \"name\": \"infra\", \"x\": [\"composicao da divida\"], \"y\": [25713.980000000003], \"type\": \"bar\", \"uid\": \"3879c648-d95e-4e90-bd2d-aab9d78b7f36\"}, {\"marker\": {\"color\": \"rgb(245,139,139)\"}, \"name\": \"processos\", \"x\": [\"composicao da divida\"], \"y\": [9139356.949999997], \"type\": \"bar\", \"uid\": \"7fde183e-9975-4d33-8d19-39c988a7cb8a\"}], {\"bargap\": 0.7, \"barmode\": \"stack\"}, {\"showLink\": false, \"linkText\": \"Export to plot.ly\", \"plotlyServerURL\": \"https://plot.ly\"})});</script><script type=\"text/javascript\">window.addEventListener(\"resize\", function(){window._Plotly.Plots.resize(document.getElementById(\"1c3b3095-fa89-4a83-8112-7fcfc81caf74\"));});</script>"
      ],
      "text/vnd.plotly.v1+html": [
       "<div id=\"1c3b3095-fa89-4a83-8112-7fcfc81caf74\" style=\"height: 525px; width: 100%;\" class=\"plotly-graph-div\"></div><script type=\"text/javascript\">require([\"plotly\"], function(Plotly) { window.PLOTLYENV=window.PLOTLYENV || {};window.PLOTLYENV.BASE_URL=\"https://plot.ly\";Plotly.newPlot(\"1c3b3095-fa89-4a83-8112-7fcfc81caf74\", [{\"marker\": {\"color\": \"rgb(173,206,222)\"}, \"name\": \"outros\", \"x\": [\"composicao da divida\"], \"y\": [5443204.649999999], \"type\": \"bar\", \"uid\": \"6dedc704-31a1-4531-bc64-75d62859384b\"}, {\"marker\": {\"color\": \"rgb(202,121,248)\"}, \"name\": \"infra\", \"x\": [\"composicao da divida\"], \"y\": [25713.980000000003], \"type\": \"bar\", \"uid\": \"3879c648-d95e-4e90-bd2d-aab9d78b7f36\"}, {\"marker\": {\"color\": \"rgb(245,139,139)\"}, \"name\": \"processos\", \"x\": [\"composicao da divida\"], \"y\": [9139356.949999997], \"type\": \"bar\", \"uid\": \"7fde183e-9975-4d33-8d19-39c988a7cb8a\"}], {\"bargap\": 0.7, \"barmode\": \"stack\"}, {\"showLink\": false, \"linkText\": \"Export to plot.ly\", \"plotlyServerURL\": \"https://plot.ly\"})});</script><script type=\"text/javascript\">window.addEventListener(\"resize\", function(){window._Plotly.Plots.resize(document.getElementById(\"1c3b3095-fa89-4a83-8112-7fcfc81caf74\"));});</script>"
      ]
     },
     "metadata": {},
     "output_type": "display_data"
    }
   ],
   "source": [
    "dt = df[df['cnpj']=='60701190000104']\n",
    "data = list()\n",
    "for el in dt['segmento'].unique().tolist():\n",
    "    _d = dt[dt['segmento']==el]\n",
    "    trace = go.Bar(\n",
    "        x = ['composicao da divida'],\n",
    "        y = [_d['valor_divida'].sum()],\n",
    "        name = el,\n",
    "        marker = dict(color=color_menu.get(el))\n",
    "    )\n",
    "    data.append(trace)\n",
    "layout = go.Layout(barmode='stack', bargap=0.7)\n",
    "fig = go.Figure(data=data, layout=layout)\n",
    "iplot(fig)"
   ]
  },
  {
   "cell_type": "code",
   "execution_count": 49,
   "metadata": {},
   "outputs": [
    {
     "data": {
      "application/vnd.plotly.v1+json": {
       "config": {
        "linkText": "Export to plot.ly",
        "plotlyServerURL": "https://plot.ly",
        "showLink": false
       },
       "data": [
        {
         "marker": {
          "color": "rgb(173,206,222)"
         },
         "name": "outros",
         "type": "bar",
         "uid": "40ee1810-2b0b-480a-9a16-b064172eda88",
         "x": [
          "composicao da divida"
         ],
         "y": [
          919.91
         ]
        },
        {
         "marker": {
          "color": "rgb(245,139,139)"
         },
         "name": "processos",
         "type": "bar",
         "uid": "e456e1fc-2950-4018-bdee-f0ea6936122c",
         "x": [
          "composicao da divida"
         ],
         "y": [
          1586.59
         ]
        }
       ],
       "layout": {
        "bargap": 0.7,
        "barmode": "stack"
       }
      },
      "text/html": [
       "<div id=\"e45876e4-75aa-410b-9d8b-f37c596f2855\" style=\"height: 525px; width: 100%;\" class=\"plotly-graph-div\"></div><script type=\"text/javascript\">require([\"plotly\"], function(Plotly) { window.PLOTLYENV=window.PLOTLYENV || {};window.PLOTLYENV.BASE_URL=\"https://plot.ly\";Plotly.newPlot(\"e45876e4-75aa-410b-9d8b-f37c596f2855\", [{\"marker\": {\"color\": \"rgb(173,206,222)\"}, \"name\": \"outros\", \"x\": [\"composicao da divida\"], \"y\": [919.91], \"type\": \"bar\", \"uid\": \"40ee1810-2b0b-480a-9a16-b064172eda88\"}, {\"marker\": {\"color\": \"rgb(245,139,139)\"}, \"name\": \"processos\", \"x\": [\"composicao da divida\"], \"y\": [1586.59], \"type\": \"bar\", \"uid\": \"e456e1fc-2950-4018-bdee-f0ea6936122c\"}], {\"bargap\": 0.7, \"barmode\": \"stack\"}, {\"showLink\": false, \"linkText\": \"Export to plot.ly\", \"plotlyServerURL\": \"https://plot.ly\"})});</script><script type=\"text/javascript\">window.addEventListener(\"resize\", function(){window._Plotly.Plots.resize(document.getElementById(\"e45876e4-75aa-410b-9d8b-f37c596f2855\"));});</script>"
      ],
      "text/vnd.plotly.v1+html": [
       "<div id=\"e45876e4-75aa-410b-9d8b-f37c596f2855\" style=\"height: 525px; width: 100%;\" class=\"plotly-graph-div\"></div><script type=\"text/javascript\">require([\"plotly\"], function(Plotly) { window.PLOTLYENV=window.PLOTLYENV || {};window.PLOTLYENV.BASE_URL=\"https://plot.ly\";Plotly.newPlot(\"e45876e4-75aa-410b-9d8b-f37c596f2855\", [{\"marker\": {\"color\": \"rgb(173,206,222)\"}, \"name\": \"outros\", \"x\": [\"composicao da divida\"], \"y\": [919.91], \"type\": \"bar\", \"uid\": \"40ee1810-2b0b-480a-9a16-b064172eda88\"}, {\"marker\": {\"color\": \"rgb(245,139,139)\"}, \"name\": \"processos\", \"x\": [\"composicao da divida\"], \"y\": [1586.59], \"type\": \"bar\", \"uid\": \"e456e1fc-2950-4018-bdee-f0ea6936122c\"}], {\"bargap\": 0.7, \"barmode\": \"stack\"}, {\"showLink\": false, \"linkText\": \"Export to plot.ly\", \"plotlyServerURL\": \"https://plot.ly\"})});</script><script type=\"text/javascript\">window.addEventListener(\"resize\", function(){window._Plotly.Plots.resize(document.getElementById(\"e45876e4-75aa-410b-9d8b-f37c596f2855\"));});</script>"
      ]
     },
     "metadata": {},
     "output_type": "display_data"
    }
   ],
   "source": [
    "dt = df[df['cnpj']=='08326660000179']\n",
    "data = list()\n",
    "for el in dt['segmento'].unique().tolist():\n",
    "    _d = dt[dt['segmento']==el]\n",
    "    trace = go.Bar(\n",
    "        x = ['composicao da divida'],\n",
    "        y = [_d['valor_divida'].sum()],\n",
    "        name = el,\n",
    "        marker = dict(color=color_menu.get(el))\n",
    "    )\n",
    "    data.append(trace)\n",
    "layout = go.Layout(barmode='stack', bargap=0.7)\n",
    "fig = go.Figure(data=data, layout=layout)\n",
    "iplot(fig)"
   ]
  },
  {
   "cell_type": "code",
   "execution_count": 48,
   "metadata": {},
   "outputs": [
    {
     "data": {
      "text/html": [
       "<div>\n",
       "<style scoped>\n",
       "    .dataframe tbody tr th:only-of-type {\n",
       "        vertical-align: middle;\n",
       "    }\n",
       "\n",
       "    .dataframe tbody tr th {\n",
       "        vertical-align: top;\n",
       "    }\n",
       "\n",
       "    .dataframe thead th {\n",
       "        text-align: right;\n",
       "    }\n",
       "</style>\n",
       "<table border=\"1\" class=\"dataframe\">\n",
       "  <thead>\n",
       "    <tr style=\"text-align: right;\">\n",
       "      <th></th>\n",
       "      <th>cnpj</th>\n",
       "      <th>segmento</th>\n",
       "      <th>valor_divida</th>\n",
       "      <th>total</th>\n",
       "      <th>prop</th>\n",
       "    </tr>\n",
       "  </thead>\n",
       "  <tbody>\n",
       "    <tr>\n",
       "      <th>0</th>\n",
       "      <td>178663000281</td>\n",
       "      <td>credito</td>\n",
       "      <td>262744.38</td>\n",
       "      <td>1158237.23</td>\n",
       "      <td>0.226849</td>\n",
       "    </tr>\n",
       "    <tr>\n",
       "      <th>1</th>\n",
       "      <td>178663000281</td>\n",
       "      <td>infra</td>\n",
       "      <td>346604.91</td>\n",
       "      <td>1158237.23</td>\n",
       "      <td>0.299252</td>\n",
       "    </tr>\n",
       "    <tr>\n",
       "      <th>2</th>\n",
       "      <td>178663000281</td>\n",
       "      <td>outros</td>\n",
       "      <td>174941.22</td>\n",
       "      <td>1158237.23</td>\n",
       "      <td>0.151041</td>\n",
       "    </tr>\n",
       "    <tr>\n",
       "      <th>3</th>\n",
       "      <td>178663000281</td>\n",
       "      <td>processos</td>\n",
       "      <td>373946.72</td>\n",
       "      <td>1158237.23</td>\n",
       "      <td>0.322858</td>\n",
       "    </tr>\n",
       "    <tr>\n",
       "      <th>4</th>\n",
       "      <td>225356000123</td>\n",
       "      <td>outros</td>\n",
       "      <td>174.98</td>\n",
       "      <td>174.98</td>\n",
       "      <td>1.000000</td>\n",
       "    </tr>\n",
       "  </tbody>\n",
       "</table>\n",
       "</div>"
      ],
      "text/plain": [
       "           cnpj   segmento  valor_divida       total      prop\n",
       "0  178663000281    credito     262744.38  1158237.23  0.226849\n",
       "1  178663000281      infra     346604.91  1158237.23  0.299252\n",
       "2  178663000281     outros     174941.22  1158237.23  0.151041\n",
       "3  178663000281  processos     373946.72  1158237.23  0.322858\n",
       "4  225356000123     outros        174.98      174.98  1.000000"
      ]
     },
     "execution_count": 48,
     "metadata": {},
     "output_type": "execute_result"
    }
   ],
   "source": [
    "pd.read_excel(\"../tabelas/analise_composicao_divida_201904.xlsx\").head()"
   ]
  },
  {
   "cell_type": "code",
   "execution_count": 46,
   "metadata": {},
   "outputs": [],
   "source": [
    "res.rename(columns={'valor' : 'valor_divida'}, inplace=True)"
   ]
  },
  {
   "cell_type": "code",
   "execution_count": 47,
   "metadata": {},
   "outputs": [
    {
     "data": {
      "text/html": [
       "<div>\n",
       "<style scoped>\n",
       "    .dataframe tbody tr th:only-of-type {\n",
       "        vertical-align: middle;\n",
       "    }\n",
       "\n",
       "    .dataframe tbody tr th {\n",
       "        vertical-align: top;\n",
       "    }\n",
       "\n",
       "    .dataframe thead th {\n",
       "        text-align: right;\n",
       "    }\n",
       "</style>\n",
       "<table border=\"1\" class=\"dataframe\">\n",
       "  <thead>\n",
       "    <tr style=\"text-align: right;\">\n",
       "      <th></th>\n",
       "      <th>cnpj</th>\n",
       "      <th>segmento</th>\n",
       "      <th>valor_divida</th>\n",
       "      <th>total</th>\n",
       "      <th>prop</th>\n",
       "    </tr>\n",
       "  </thead>\n",
       "  <tbody>\n",
       "    <tr>\n",
       "      <th>0</th>\n",
       "      <td>00178663000281</td>\n",
       "      <td>credito</td>\n",
       "      <td>262744.38</td>\n",
       "      <td>1158237.23</td>\n",
       "      <td>0.226849</td>\n",
       "    </tr>\n",
       "    <tr>\n",
       "      <th>1</th>\n",
       "      <td>00178663000281</td>\n",
       "      <td>infra</td>\n",
       "      <td>346604.91</td>\n",
       "      <td>1158237.23</td>\n",
       "      <td>0.299252</td>\n",
       "    </tr>\n",
       "    <tr>\n",
       "      <th>2</th>\n",
       "      <td>00178663000281</td>\n",
       "      <td>outros</td>\n",
       "      <td>174941.22</td>\n",
       "      <td>1158237.23</td>\n",
       "      <td>0.151041</td>\n",
       "    </tr>\n",
       "    <tr>\n",
       "      <th>3</th>\n",
       "      <td>00178663000281</td>\n",
       "      <td>processos</td>\n",
       "      <td>373946.72</td>\n",
       "      <td>1158237.23</td>\n",
       "      <td>0.322858</td>\n",
       "    </tr>\n",
       "    <tr>\n",
       "      <th>4</th>\n",
       "      <td>00225356000123</td>\n",
       "      <td>outros</td>\n",
       "      <td>174.98</td>\n",
       "      <td>174.98</td>\n",
       "      <td>1.000000</td>\n",
       "    </tr>\n",
       "  </tbody>\n",
       "</table>\n",
       "</div>"
      ],
      "text/plain": [
       "             cnpj   segmento  valor_divida       total      prop\n",
       "0  00178663000281    credito     262744.38  1158237.23  0.226849\n",
       "1  00178663000281      infra     346604.91  1158237.23  0.299252\n",
       "2  00178663000281     outros     174941.22  1158237.23  0.151041\n",
       "3  00178663000281  processos     373946.72  1158237.23  0.322858\n",
       "4  00225356000123     outros        174.98      174.98  1.000000"
      ]
     },
     "execution_count": 47,
     "metadata": {},
     "output_type": "execute_result"
    }
   ],
   "source": [
    "res.head()"
   ]
  },
  {
   "cell_type": "code",
   "execution_count": 53,
   "metadata": {},
   "outputs": [],
   "source": [
    "res.to_excel(\"../tabelas/analise_composicao_divida_201904.xlsx\")"
   ]
  },
  {
   "cell_type": "code",
   "execution_count": 54,
   "metadata": {},
   "outputs": [
    {
     "data": {
      "text/plain": [
       "1158237.2300000002"
      ]
     },
     "execution_count": 54,
     "metadata": {},
     "output_type": "execute_result"
    }
   ],
   "source": [
    "res[res['cnpj']=='00178663000281']['valor_divida'].sum()"
   ]
  },
  {
   "cell_type": "code",
   "execution_count": 55,
   "metadata": {},
   "outputs": [
    {
     "data": {
      "text/html": [
       "<div>\n",
       "<style scoped>\n",
       "    .dataframe tbody tr th:only-of-type {\n",
       "        vertical-align: middle;\n",
       "    }\n",
       "\n",
       "    .dataframe tbody tr th {\n",
       "        vertical-align: top;\n",
       "    }\n",
       "\n",
       "    .dataframe thead th {\n",
       "        text-align: right;\n",
       "    }\n",
       "</style>\n",
       "<table border=\"1\" class=\"dataframe\">\n",
       "  <thead>\n",
       "    <tr style=\"text-align: right;\">\n",
       "      <th></th>\n",
       "      <th>cnpj</th>\n",
       "      <th>segmento</th>\n",
       "      <th>valor_divida</th>\n",
       "      <th>total</th>\n",
       "      <th>prop</th>\n",
       "    </tr>\n",
       "  </thead>\n",
       "  <tbody>\n",
       "    <tr>\n",
       "      <th>0</th>\n",
       "      <td>00178663000281</td>\n",
       "      <td>credito</td>\n",
       "      <td>262744.38</td>\n",
       "      <td>1158237.23</td>\n",
       "      <td>0.226849</td>\n",
       "    </tr>\n",
       "    <tr>\n",
       "      <th>1</th>\n",
       "      <td>00178663000281</td>\n",
       "      <td>infra</td>\n",
       "      <td>346604.91</td>\n",
       "      <td>1158237.23</td>\n",
       "      <td>0.299252</td>\n",
       "    </tr>\n",
       "    <tr>\n",
       "      <th>2</th>\n",
       "      <td>00178663000281</td>\n",
       "      <td>outros</td>\n",
       "      <td>174941.22</td>\n",
       "      <td>1158237.23</td>\n",
       "      <td>0.151041</td>\n",
       "    </tr>\n",
       "    <tr>\n",
       "      <th>3</th>\n",
       "      <td>00178663000281</td>\n",
       "      <td>processos</td>\n",
       "      <td>373946.72</td>\n",
       "      <td>1158237.23</td>\n",
       "      <td>0.322858</td>\n",
       "    </tr>\n",
       "  </tbody>\n",
       "</table>\n",
       "</div>"
      ],
      "text/plain": [
       "             cnpj   segmento  valor_divida       total      prop\n",
       "0  00178663000281    credito     262744.38  1158237.23  0.226849\n",
       "1  00178663000281      infra     346604.91  1158237.23  0.299252\n",
       "2  00178663000281     outros     174941.22  1158237.23  0.151041\n",
       "3  00178663000281  processos     373946.72  1158237.23  0.322858"
      ]
     },
     "execution_count": 55,
     "metadata": {},
     "output_type": "execute_result"
    }
   ],
   "source": [
    "res[res['cnpj']=='00178663000281']"
   ]
  },
  {
   "cell_type": "code",
   "execution_count": 48,
   "metadata": {},
   "outputs": [],
   "source": [
    "res.rename(columns={'total' : 'total_divida'}, inplace=True)"
   ]
  },
  {
   "cell_type": "code",
   "execution_count": 49,
   "metadata": {},
   "outputs": [],
   "source": [
    "res.rename(columns = {'prop' : 'composicao_divida'}, inplace=True)"
   ]
  },
  {
   "cell_type": "code",
   "execution_count": null,
   "metadata": {},
   "outputs": [],
   "source": []
  },
  {
   "cell_type": "code",
   "execution_count": 50,
   "metadata": {},
   "outputs": [],
   "source": [
    "# df_fat = pd.read_excel(\"../tabelas/faturamento_201904.xlsx\")\n",
    "df_fat = pd.read_excel(\"../tabelas/faturamento_medio_12_201904.xlsx\")"
   ]
  },
  {
   "cell_type": "code",
   "execution_count": 51,
   "metadata": {},
   "outputs": [
    {
     "data": {
      "text/html": [
       "<div>\n",
       "<style scoped>\n",
       "    .dataframe tbody tr th:only-of-type {\n",
       "        vertical-align: middle;\n",
       "    }\n",
       "\n",
       "    .dataframe tbody tr th {\n",
       "        vertical-align: top;\n",
       "    }\n",
       "\n",
       "    .dataframe thead th {\n",
       "        text-align: right;\n",
       "    }\n",
       "</style>\n",
       "<table border=\"1\" class=\"dataframe\">\n",
       "  <thead>\n",
       "    <tr style=\"text-align: right;\">\n",
       "      <th></th>\n",
       "      <th>cnpj</th>\n",
       "      <th>fat_medio</th>\n",
       "      <th>produto</th>\n",
       "    </tr>\n",
       "  </thead>\n",
       "  <tbody>\n",
       "    <tr>\n",
       "      <th>0</th>\n",
       "      <td>01136501000162</td>\n",
       "      <td>6380.034444</td>\n",
       "      <td>tomatico</td>\n",
       "    </tr>\n",
       "    <tr>\n",
       "      <th>1</th>\n",
       "      <td>01449841000143</td>\n",
       "      <td>3137.730000</td>\n",
       "      <td>tomatico</td>\n",
       "    </tr>\n",
       "    <tr>\n",
       "      <th>2</th>\n",
       "      <td>01976908000106</td>\n",
       "      <td>20601.068000</td>\n",
       "      <td>tomatico</td>\n",
       "    </tr>\n",
       "    <tr>\n",
       "      <th>3</th>\n",
       "      <td>02092455000100</td>\n",
       "      <td>45012.140000</td>\n",
       "      <td>tomatico</td>\n",
       "    </tr>\n",
       "    <tr>\n",
       "      <th>4</th>\n",
       "      <td>02225755000110</td>\n",
       "      <td>8491.854167</td>\n",
       "      <td>tomatico</td>\n",
       "    </tr>\n",
       "  </tbody>\n",
       "</table>\n",
       "</div>"
      ],
      "text/plain": [
       "             cnpj     fat_medio   produto\n",
       "0  01136501000162   6380.034444  tomatico\n",
       "1  01449841000143   3137.730000  tomatico\n",
       "2  01976908000106  20601.068000  tomatico\n",
       "3  02092455000100  45012.140000  tomatico\n",
       "4  02225755000110   8491.854167  tomatico"
      ]
     },
     "execution_count": 51,
     "metadata": {},
     "output_type": "execute_result"
    }
   ],
   "source": [
    "df_fat.head()"
   ]
  },
  {
   "cell_type": "code",
   "execution_count": 59,
   "metadata": {},
   "outputs": [
    {
     "data": {
      "text/html": [
       "<div>\n",
       "<style scoped>\n",
       "    .dataframe tbody tr th:only-of-type {\n",
       "        vertical-align: middle;\n",
       "    }\n",
       "\n",
       "    .dataframe tbody tr th {\n",
       "        vertical-align: top;\n",
       "    }\n",
       "\n",
       "    .dataframe thead th {\n",
       "        text-align: right;\n",
       "    }\n",
       "</style>\n",
       "<table border=\"1\" class=\"dataframe\">\n",
       "  <thead>\n",
       "    <tr style=\"text-align: right;\">\n",
       "      <th></th>\n",
       "      <th>cnpj</th>\n",
       "      <th>data</th>\n",
       "      <th>valor</th>\n",
       "      <th>produto</th>\n",
       "    </tr>\n",
       "  </thead>\n",
       "  <tbody>\n",
       "    <tr>\n",
       "      <th>0</th>\n",
       "      <td>01136501000162</td>\n",
       "      <td>2018-07-01</td>\n",
       "      <td>6579.12</td>\n",
       "      <td>tomatico</td>\n",
       "    </tr>\n",
       "    <tr>\n",
       "      <th>1</th>\n",
       "      <td>01136501000162</td>\n",
       "      <td>2018-08-01</td>\n",
       "      <td>7181.33</td>\n",
       "      <td>tomatico</td>\n",
       "    </tr>\n",
       "    <tr>\n",
       "      <th>2</th>\n",
       "      <td>01136501000162</td>\n",
       "      <td>2018-09-01</td>\n",
       "      <td>6766.67</td>\n",
       "      <td>tomatico</td>\n",
       "    </tr>\n",
       "    <tr>\n",
       "      <th>3</th>\n",
       "      <td>01136501000162</td>\n",
       "      <td>2018-10-01</td>\n",
       "      <td>8729.03</td>\n",
       "      <td>tomatico</td>\n",
       "    </tr>\n",
       "    <tr>\n",
       "      <th>4</th>\n",
       "      <td>01136501000162</td>\n",
       "      <td>2018-11-01</td>\n",
       "      <td>6050.42</td>\n",
       "      <td>tomatico</td>\n",
       "    </tr>\n",
       "  </tbody>\n",
       "</table>\n",
       "</div>"
      ],
      "text/plain": [
       "             cnpj       data    valor   produto\n",
       "0  01136501000162 2018-07-01  6579.12  tomatico\n",
       "1  01136501000162 2018-08-01  7181.33  tomatico\n",
       "2  01136501000162 2018-09-01  6766.67  tomatico\n",
       "3  01136501000162 2018-10-01  8729.03  tomatico\n",
       "4  01136501000162 2018-11-01  6050.42  tomatico"
      ]
     },
     "execution_count": 59,
     "metadata": {},
     "output_type": "execute_result"
    }
   ],
   "source": [
    "df_fat.head()"
   ]
  },
  {
   "cell_type": "code",
   "execution_count": 79,
   "metadata": {},
   "outputs": [
    {
     "data": {
      "text/html": [
       "<div>\n",
       "<style scoped>\n",
       "    .dataframe tbody tr th:only-of-type {\n",
       "        vertical-align: middle;\n",
       "    }\n",
       "\n",
       "    .dataframe tbody tr th {\n",
       "        vertical-align: top;\n",
       "    }\n",
       "\n",
       "    .dataframe thead th {\n",
       "        text-align: right;\n",
       "    }\n",
       "</style>\n",
       "<table border=\"1\" class=\"dataframe\">\n",
       "  <thead>\n",
       "    <tr style=\"text-align: right;\">\n",
       "      <th></th>\n",
       "      <th>cnpj</th>\n",
       "      <th>data</th>\n",
       "      <th>valor</th>\n",
       "      <th>produto</th>\n",
       "    </tr>\n",
       "  </thead>\n",
       "  <tbody>\n",
       "  </tbody>\n",
       "</table>\n",
       "</div>"
      ],
      "text/plain": [
       "Empty DataFrame\n",
       "Columns: [cnpj, data, valor, produto]\n",
       "Index: []"
      ]
     },
     "execution_count": 79,
     "metadata": {},
     "output_type": "execute_result"
    }
   ],
   "source": [
    "df_fat[df_fat['cnpj']=='43708379000100']"
   ]
  },
  {
   "cell_type": "code",
   "execution_count": 60,
   "metadata": {},
   "outputs": [],
   "source": [
    "## cnpj teste\n",
    "df_fat = df_fat[df_fat['cnpj']!='60701190000104']"
   ]
  },
  {
   "cell_type": "code",
   "execution_count": 61,
   "metadata": {},
   "outputs": [
    {
     "data": {
      "text/html": [
       "<div>\n",
       "<style scoped>\n",
       "    .dataframe tbody tr th:only-of-type {\n",
       "        vertical-align: middle;\n",
       "    }\n",
       "\n",
       "    .dataframe tbody tr th {\n",
       "        vertical-align: top;\n",
       "    }\n",
       "\n",
       "    .dataframe thead th {\n",
       "        text-align: right;\n",
       "    }\n",
       "</style>\n",
       "<table border=\"1\" class=\"dataframe\">\n",
       "  <thead>\n",
       "    <tr style=\"text-align: right;\">\n",
       "      <th></th>\n",
       "      <th>cnpj</th>\n",
       "      <th>data</th>\n",
       "      <th>valor</th>\n",
       "      <th>produto</th>\n",
       "    </tr>\n",
       "  </thead>\n",
       "  <tbody>\n",
       "    <tr>\n",
       "      <th>107</th>\n",
       "      <td>06057209000178</td>\n",
       "      <td>2018-09-01</td>\n",
       "      <td>15000.0</td>\n",
       "      <td>tomatico</td>\n",
       "    </tr>\n",
       "    <tr>\n",
       "      <th>108</th>\n",
       "      <td>06057209000178</td>\n",
       "      <td>2018-10-01</td>\n",
       "      <td>15000.0</td>\n",
       "      <td>tomatico</td>\n",
       "    </tr>\n",
       "    <tr>\n",
       "      <th>109</th>\n",
       "      <td>06057209000178</td>\n",
       "      <td>2018-11-01</td>\n",
       "      <td>15000.0</td>\n",
       "      <td>tomatico</td>\n",
       "    </tr>\n",
       "    <tr>\n",
       "      <th>110</th>\n",
       "      <td>06057209000178</td>\n",
       "      <td>2018-12-01</td>\n",
       "      <td>15000.0</td>\n",
       "      <td>tomatico</td>\n",
       "    </tr>\n",
       "    <tr>\n",
       "      <th>111</th>\n",
       "      <td>06057209000178</td>\n",
       "      <td>2019-01-01</td>\n",
       "      <td>15000.0</td>\n",
       "      <td>tomatico</td>\n",
       "    </tr>\n",
       "    <tr>\n",
       "      <th>112</th>\n",
       "      <td>06057209000178</td>\n",
       "      <td>2019-02-01</td>\n",
       "      <td>15000.0</td>\n",
       "      <td>tomatico</td>\n",
       "    </tr>\n",
       "    <tr>\n",
       "      <th>113</th>\n",
       "      <td>06057209000178</td>\n",
       "      <td>2019-03-01</td>\n",
       "      <td>15000.0</td>\n",
       "      <td>tomatico</td>\n",
       "    </tr>\n",
       "  </tbody>\n",
       "</table>\n",
       "</div>"
      ],
      "text/plain": [
       "               cnpj       data    valor   produto\n",
       "107  06057209000178 2018-09-01  15000.0  tomatico\n",
       "108  06057209000178 2018-10-01  15000.0  tomatico\n",
       "109  06057209000178 2018-11-01  15000.0  tomatico\n",
       "110  06057209000178 2018-12-01  15000.0  tomatico\n",
       "111  06057209000178 2019-01-01  15000.0  tomatico\n",
       "112  06057209000178 2019-02-01  15000.0  tomatico\n",
       "113  06057209000178 2019-03-01  15000.0  tomatico"
      ]
     },
     "execution_count": 61,
     "metadata": {},
     "output_type": "execute_result"
    }
   ],
   "source": [
    "df_fat[df_fat['cnpj']=='06057209000178']"
   ]
  },
  {
   "cell_type": "code",
   "execution_count": 68,
   "metadata": {},
   "outputs": [],
   "source": [
    "## faturamento medio"
   ]
  },
  {
   "cell_type": "code",
   "execution_count": 52,
   "metadata": {},
   "outputs": [],
   "source": [
    "# _df = df_fat.groupby('cnpj').mean().reset_index()\n",
    "_df = df_fat[[\"cnpj\", \"fat_medio\"]]"
   ]
  },
  {
   "cell_type": "code",
   "execution_count": 63,
   "metadata": {},
   "outputs": [
    {
     "data": {
      "text/html": [
       "<div>\n",
       "<style scoped>\n",
       "    .dataframe tbody tr th:only-of-type {\n",
       "        vertical-align: middle;\n",
       "    }\n",
       "\n",
       "    .dataframe tbody tr th {\n",
       "        vertical-align: top;\n",
       "    }\n",
       "\n",
       "    .dataframe thead th {\n",
       "        text-align: right;\n",
       "    }\n",
       "</style>\n",
       "<table border=\"1\" class=\"dataframe\">\n",
       "  <thead>\n",
       "    <tr style=\"text-align: right;\">\n",
       "      <th></th>\n",
       "      <th>cnpj</th>\n",
       "      <th>valor</th>\n",
       "    </tr>\n",
       "  </thead>\n",
       "  <tbody>\n",
       "    <tr>\n",
       "      <th>0</th>\n",
       "      <td>00.018.460/0001-47</td>\n",
       "      <td>7127.691379</td>\n",
       "    </tr>\n",
       "    <tr>\n",
       "      <th>1</th>\n",
       "      <td>00.020.674/0001-58</td>\n",
       "      <td>32229.254500</td>\n",
       "    </tr>\n",
       "    <tr>\n",
       "      <th>2</th>\n",
       "      <td>00.021.311/0005-60</td>\n",
       "      <td>12694.935714</td>\n",
       "    </tr>\n",
       "    <tr>\n",
       "      <th>3</th>\n",
       "      <td>00.066.987/0001-47</td>\n",
       "      <td>2032.592105</td>\n",
       "    </tr>\n",
       "    <tr>\n",
       "      <th>4</th>\n",
       "      <td>00.073.493/0001-90</td>\n",
       "      <td>8075.387727</td>\n",
       "    </tr>\n",
       "  </tbody>\n",
       "</table>\n",
       "</div>"
      ],
      "text/plain": [
       "                 cnpj         valor\n",
       "0  00.018.460/0001-47   7127.691379\n",
       "1  00.020.674/0001-58  32229.254500\n",
       "2  00.021.311/0005-60  12694.935714\n",
       "3  00.066.987/0001-47   2032.592105\n",
       "4  00.073.493/0001-90   8075.387727"
      ]
     },
     "execution_count": 63,
     "metadata": {},
     "output_type": "execute_result"
    }
   ],
   "source": [
    "_df.head()"
   ]
  },
  {
   "cell_type": "code",
   "execution_count": 64,
   "metadata": {},
   "outputs": [],
   "source": [
    "_df.columns = ['cnpj', 'fat_medio']"
   ]
  },
  {
   "cell_type": "code",
   "execution_count": 53,
   "metadata": {},
   "outputs": [
    {
     "data": {
      "text/html": [
       "<div>\n",
       "<style scoped>\n",
       "    .dataframe tbody tr th:only-of-type {\n",
       "        vertical-align: middle;\n",
       "    }\n",
       "\n",
       "    .dataframe tbody tr th {\n",
       "        vertical-align: top;\n",
       "    }\n",
       "\n",
       "    .dataframe thead th {\n",
       "        text-align: right;\n",
       "    }\n",
       "</style>\n",
       "<table border=\"1\" class=\"dataframe\">\n",
       "  <thead>\n",
       "    <tr style=\"text-align: right;\">\n",
       "      <th></th>\n",
       "      <th>cnpj</th>\n",
       "      <th>fat_medio</th>\n",
       "    </tr>\n",
       "  </thead>\n",
       "  <tbody>\n",
       "    <tr>\n",
       "      <th>0</th>\n",
       "      <td>01136501000162</td>\n",
       "      <td>6380.034444</td>\n",
       "    </tr>\n",
       "    <tr>\n",
       "      <th>1</th>\n",
       "      <td>01449841000143</td>\n",
       "      <td>3137.730000</td>\n",
       "    </tr>\n",
       "    <tr>\n",
       "      <th>2</th>\n",
       "      <td>01976908000106</td>\n",
       "      <td>20601.068000</td>\n",
       "    </tr>\n",
       "    <tr>\n",
       "      <th>3</th>\n",
       "      <td>02092455000100</td>\n",
       "      <td>45012.140000</td>\n",
       "    </tr>\n",
       "    <tr>\n",
       "      <th>4</th>\n",
       "      <td>02225755000110</td>\n",
       "      <td>8491.854167</td>\n",
       "    </tr>\n",
       "  </tbody>\n",
       "</table>\n",
       "</div>"
      ],
      "text/plain": [
       "             cnpj     fat_medio\n",
       "0  01136501000162   6380.034444\n",
       "1  01449841000143   3137.730000\n",
       "2  01976908000106  20601.068000\n",
       "3  02092455000100  45012.140000\n",
       "4  02225755000110   8491.854167"
      ]
     },
     "execution_count": 53,
     "metadata": {},
     "output_type": "execute_result"
    }
   ],
   "source": [
    "_df.head()"
   ]
  },
  {
   "cell_type": "code",
   "execution_count": 54,
   "metadata": {},
   "outputs": [],
   "source": [
    "_df['cnpj'] = _df.apply(lambda x : x['cnpj'].replace('.', '').replace('-', '').replace('/', ''), axis=1)"
   ]
  },
  {
   "cell_type": "code",
   "execution_count": 55,
   "metadata": {},
   "outputs": [
    {
     "data": {
      "text/html": [
       "<div>\n",
       "<style scoped>\n",
       "    .dataframe tbody tr th:only-of-type {\n",
       "        vertical-align: middle;\n",
       "    }\n",
       "\n",
       "    .dataframe tbody tr th {\n",
       "        vertical-align: top;\n",
       "    }\n",
       "\n",
       "    .dataframe thead th {\n",
       "        text-align: right;\n",
       "    }\n",
       "</style>\n",
       "<table border=\"1\" class=\"dataframe\">\n",
       "  <thead>\n",
       "    <tr style=\"text-align: right;\">\n",
       "      <th></th>\n",
       "      <th>cnpj</th>\n",
       "      <th>fat_medio</th>\n",
       "    </tr>\n",
       "  </thead>\n",
       "  <tbody>\n",
       "    <tr>\n",
       "      <th>0</th>\n",
       "      <td>01136501000162</td>\n",
       "      <td>6380.034444</td>\n",
       "    </tr>\n",
       "    <tr>\n",
       "      <th>1</th>\n",
       "      <td>01449841000143</td>\n",
       "      <td>3137.730000</td>\n",
       "    </tr>\n",
       "    <tr>\n",
       "      <th>2</th>\n",
       "      <td>01976908000106</td>\n",
       "      <td>20601.068000</td>\n",
       "    </tr>\n",
       "    <tr>\n",
       "      <th>3</th>\n",
       "      <td>02092455000100</td>\n",
       "      <td>45012.140000</td>\n",
       "    </tr>\n",
       "    <tr>\n",
       "      <th>4</th>\n",
       "      <td>02225755000110</td>\n",
       "      <td>8491.854167</td>\n",
       "    </tr>\n",
       "  </tbody>\n",
       "</table>\n",
       "</div>"
      ],
      "text/plain": [
       "             cnpj     fat_medio\n",
       "0  01136501000162   6380.034444\n",
       "1  01449841000143   3137.730000\n",
       "2  01976908000106  20601.068000\n",
       "3  02092455000100  45012.140000\n",
       "4  02225755000110   8491.854167"
      ]
     },
     "execution_count": 55,
     "metadata": {},
     "output_type": "execute_result"
    }
   ],
   "source": [
    "_df.head()"
   ]
  },
  {
   "cell_type": "code",
   "execution_count": 68,
   "metadata": {},
   "outputs": [],
   "source": [
    "# res.drop(columns=['fat_medio'], axis=1, inplace=True)"
   ]
  },
  {
   "cell_type": "code",
   "execution_count": 57,
   "metadata": {},
   "outputs": [
    {
     "data": {
      "text/html": [
       "<div>\n",
       "<style scoped>\n",
       "    .dataframe tbody tr th:only-of-type {\n",
       "        vertical-align: middle;\n",
       "    }\n",
       "\n",
       "    .dataframe tbody tr th {\n",
       "        vertical-align: top;\n",
       "    }\n",
       "\n",
       "    .dataframe thead th {\n",
       "        text-align: right;\n",
       "    }\n",
       "</style>\n",
       "<table border=\"1\" class=\"dataframe\">\n",
       "  <thead>\n",
       "    <tr style=\"text-align: right;\">\n",
       "      <th></th>\n",
       "      <th>cnpj</th>\n",
       "      <th>segmento</th>\n",
       "      <th>valor_divida</th>\n",
       "      <th>total_divida</th>\n",
       "      <th>composicao_divida</th>\n",
       "    </tr>\n",
       "  </thead>\n",
       "  <tbody>\n",
       "    <tr>\n",
       "      <th>0</th>\n",
       "      <td>00178663000281</td>\n",
       "      <td>credito</td>\n",
       "      <td>262744.38</td>\n",
       "      <td>1158237.23</td>\n",
       "      <td>0.226849</td>\n",
       "    </tr>\n",
       "    <tr>\n",
       "      <th>1</th>\n",
       "      <td>00178663000281</td>\n",
       "      <td>infra</td>\n",
       "      <td>346604.91</td>\n",
       "      <td>1158237.23</td>\n",
       "      <td>0.299252</td>\n",
       "    </tr>\n",
       "    <tr>\n",
       "      <th>2</th>\n",
       "      <td>00178663000281</td>\n",
       "      <td>outros</td>\n",
       "      <td>174941.22</td>\n",
       "      <td>1158237.23</td>\n",
       "      <td>0.151041</td>\n",
       "    </tr>\n",
       "    <tr>\n",
       "      <th>3</th>\n",
       "      <td>00178663000281</td>\n",
       "      <td>processos</td>\n",
       "      <td>373946.72</td>\n",
       "      <td>1158237.23</td>\n",
       "      <td>0.322858</td>\n",
       "    </tr>\n",
       "    <tr>\n",
       "      <th>4</th>\n",
       "      <td>00225356000123</td>\n",
       "      <td>outros</td>\n",
       "      <td>174.98</td>\n",
       "      <td>174.98</td>\n",
       "      <td>1.000000</td>\n",
       "    </tr>\n",
       "  </tbody>\n",
       "</table>\n",
       "</div>"
      ],
      "text/plain": [
       "             cnpj   segmento  valor_divida  total_divida  composicao_divida\n",
       "0  00178663000281    credito     262744.38    1158237.23           0.226849\n",
       "1  00178663000281      infra     346604.91    1158237.23           0.299252\n",
       "2  00178663000281     outros     174941.22    1158237.23           0.151041\n",
       "3  00178663000281  processos     373946.72    1158237.23           0.322858\n",
       "4  00225356000123     outros        174.98        174.98           1.000000"
      ]
     },
     "execution_count": 57,
     "metadata": {},
     "output_type": "execute_result"
    }
   ],
   "source": [
    "res.head()"
   ]
  },
  {
   "cell_type": "code",
   "execution_count": 58,
   "metadata": {},
   "outputs": [
    {
     "data": {
      "text/plain": [
       "(986, 6)"
      ]
     },
     "execution_count": 58,
     "metadata": {},
     "output_type": "execute_result"
    }
   ],
   "source": [
    "res.merge(_df, left_on='cnpj', right_on='cnpj', how=\"left\").shape"
   ]
  },
  {
   "cell_type": "code",
   "execution_count": 59,
   "metadata": {},
   "outputs": [],
   "source": [
    "_df = _df[~_df['cnpj'].isin([\"06057209000178\", \"61353025000163\"])]"
   ]
  },
  {
   "cell_type": "code",
   "execution_count": 60,
   "metadata": {},
   "outputs": [],
   "source": [
    "res = res.merge(_df, left_on='cnpj', right_on='cnpj', how='left')"
   ]
  },
  {
   "cell_type": "code",
   "execution_count": 61,
   "metadata": {},
   "outputs": [],
   "source": [
    "res['prop_divida'] = res['total_divida']/res['fat_medio']"
   ]
  },
  {
   "cell_type": "code",
   "execution_count": 62,
   "metadata": {},
   "outputs": [
    {
     "data": {
      "text/html": [
       "<div>\n",
       "<style scoped>\n",
       "    .dataframe tbody tr th:only-of-type {\n",
       "        vertical-align: middle;\n",
       "    }\n",
       "\n",
       "    .dataframe tbody tr th {\n",
       "        vertical-align: top;\n",
       "    }\n",
       "\n",
       "    .dataframe thead th {\n",
       "        text-align: right;\n",
       "    }\n",
       "</style>\n",
       "<table border=\"1\" class=\"dataframe\">\n",
       "  <thead>\n",
       "    <tr style=\"text-align: right;\">\n",
       "      <th></th>\n",
       "      <th>cnpj</th>\n",
       "      <th>segmento</th>\n",
       "      <th>valor_divida</th>\n",
       "      <th>total_divida</th>\n",
       "      <th>composicao_divida</th>\n",
       "      <th>fat_medio</th>\n",
       "      <th>prop_divida</th>\n",
       "    </tr>\n",
       "  </thead>\n",
       "  <tbody>\n",
       "    <tr>\n",
       "      <th>0</th>\n",
       "      <td>00178663000281</td>\n",
       "      <td>credito</td>\n",
       "      <td>262744.38</td>\n",
       "      <td>1158237.23</td>\n",
       "      <td>0.226849</td>\n",
       "      <td>9010.214167</td>\n",
       "      <td>128.547136</td>\n",
       "    </tr>\n",
       "    <tr>\n",
       "      <th>1</th>\n",
       "      <td>00178663000281</td>\n",
       "      <td>infra</td>\n",
       "      <td>346604.91</td>\n",
       "      <td>1158237.23</td>\n",
       "      <td>0.299252</td>\n",
       "      <td>9010.214167</td>\n",
       "      <td>128.547136</td>\n",
       "    </tr>\n",
       "    <tr>\n",
       "      <th>2</th>\n",
       "      <td>00178663000281</td>\n",
       "      <td>outros</td>\n",
       "      <td>174941.22</td>\n",
       "      <td>1158237.23</td>\n",
       "      <td>0.151041</td>\n",
       "      <td>9010.214167</td>\n",
       "      <td>128.547136</td>\n",
       "    </tr>\n",
       "    <tr>\n",
       "      <th>3</th>\n",
       "      <td>00178663000281</td>\n",
       "      <td>processos</td>\n",
       "      <td>373946.72</td>\n",
       "      <td>1158237.23</td>\n",
       "      <td>0.322858</td>\n",
       "      <td>9010.214167</td>\n",
       "      <td>128.547136</td>\n",
       "    </tr>\n",
       "    <tr>\n",
       "      <th>4</th>\n",
       "      <td>00225356000123</td>\n",
       "      <td>outros</td>\n",
       "      <td>174.98</td>\n",
       "      <td>174.98</td>\n",
       "      <td>1.000000</td>\n",
       "      <td>24467.000000</td>\n",
       "      <td>0.007152</td>\n",
       "    </tr>\n",
       "  </tbody>\n",
       "</table>\n",
       "</div>"
      ],
      "text/plain": [
       "             cnpj   segmento  valor_divida  total_divida  composicao_divida  \\\n",
       "0  00178663000281    credito     262744.38    1158237.23           0.226849   \n",
       "1  00178663000281      infra     346604.91    1158237.23           0.299252   \n",
       "2  00178663000281     outros     174941.22    1158237.23           0.151041   \n",
       "3  00178663000281  processos     373946.72    1158237.23           0.322858   \n",
       "4  00225356000123     outros        174.98        174.98           1.000000   \n",
       "\n",
       "      fat_medio  prop_divida  \n",
       "0   9010.214167   128.547136  \n",
       "1   9010.214167   128.547136  \n",
       "2   9010.214167   128.547136  \n",
       "3   9010.214167   128.547136  \n",
       "4  24467.000000     0.007152  "
      ]
     },
     "execution_count": 62,
     "metadata": {},
     "output_type": "execute_result"
    }
   ],
   "source": [
    "res.head()"
   ]
  },
  {
   "cell_type": "code",
   "execution_count": 63,
   "metadata": {},
   "outputs": [
    {
     "data": {
      "text/plain": [
       "(221, 5)"
      ]
     },
     "execution_count": 63,
     "metadata": {},
     "output_type": "execute_result"
    }
   ],
   "source": [
    "df_cheques.shape"
   ]
  },
  {
   "cell_type": "code",
   "execution_count": 64,
   "metadata": {},
   "outputs": [
    {
     "data": {
      "text/html": [
       "<div>\n",
       "<style scoped>\n",
       "    .dataframe tbody tr th:only-of-type {\n",
       "        vertical-align: middle;\n",
       "    }\n",
       "\n",
       "    .dataframe tbody tr th {\n",
       "        vertical-align: top;\n",
       "    }\n",
       "\n",
       "    .dataframe thead th {\n",
       "        text-align: right;\n",
       "    }\n",
       "</style>\n",
       "<table border=\"1\" class=\"dataframe\">\n",
       "  <thead>\n",
       "    <tr style=\"text-align: right;\">\n",
       "      <th></th>\n",
       "      <th>data_ocorrencia</th>\n",
       "      <th>uf</th>\n",
       "      <th>quantidade_cheques</th>\n",
       "      <th>tipo</th>\n",
       "      <th>cnpj</th>\n",
       "    </tr>\n",
       "  </thead>\n",
       "  <tbody>\n",
       "    <tr>\n",
       "      <th>0</th>\n",
       "      <td>21/12/2016</td>\n",
       "      <td>SP</td>\n",
       "      <td>1</td>\n",
       "      <td>cheques</td>\n",
       "      <td>19008188000142</td>\n",
       "    </tr>\n",
       "    <tr>\n",
       "      <th>0</th>\n",
       "      <td>17/05/2018</td>\n",
       "      <td>SP</td>\n",
       "      <td>50</td>\n",
       "      <td>cheques</td>\n",
       "      <td>00748390000182</td>\n",
       "    </tr>\n",
       "    <tr>\n",
       "      <th>0</th>\n",
       "      <td>22/10/2018</td>\n",
       "      <td>CE</td>\n",
       "      <td>1</td>\n",
       "      <td>cheques</td>\n",
       "      <td>07023773000132</td>\n",
       "    </tr>\n",
       "    <tr>\n",
       "      <th>0</th>\n",
       "      <td>18/09/2018</td>\n",
       "      <td>AL</td>\n",
       "      <td>12</td>\n",
       "      <td>cheques</td>\n",
       "      <td>08792013000152</td>\n",
       "    </tr>\n",
       "    <tr>\n",
       "      <th>0</th>\n",
       "      <td>17/10/2018</td>\n",
       "      <td>RS</td>\n",
       "      <td>14</td>\n",
       "      <td>cheques</td>\n",
       "      <td>09300308000127</td>\n",
       "    </tr>\n",
       "  </tbody>\n",
       "</table>\n",
       "</div>"
      ],
      "text/plain": [
       "  data_ocorrencia  uf  quantidade_cheques     tipo            cnpj\n",
       "0      21/12/2016  SP                   1  cheques  19008188000142\n",
       "0      17/05/2018  SP                  50  cheques  00748390000182\n",
       "0      22/10/2018  CE                   1  cheques  07023773000132\n",
       "0      18/09/2018  AL                  12  cheques  08792013000152\n",
       "0      17/10/2018  RS                  14  cheques  09300308000127"
      ]
     },
     "execution_count": 64,
     "metadata": {},
     "output_type": "execute_result"
    }
   ],
   "source": [
    "df_cheques.head()"
   ]
  },
  {
   "cell_type": "code",
   "execution_count": 65,
   "metadata": {},
   "outputs": [
    {
     "data": {
      "text/html": [
       "<div>\n",
       "<style scoped>\n",
       "    .dataframe tbody tr th:only-of-type {\n",
       "        vertical-align: middle;\n",
       "    }\n",
       "\n",
       "    .dataframe tbody tr th {\n",
       "        vertical-align: top;\n",
       "    }\n",
       "\n",
       "    .dataframe thead th {\n",
       "        text-align: right;\n",
       "    }\n",
       "</style>\n",
       "<table border=\"1\" class=\"dataframe\">\n",
       "  <thead>\n",
       "    <tr style=\"text-align: right;\">\n",
       "      <th></th>\n",
       "      <th>cnpj</th>\n",
       "      <th>segmento</th>\n",
       "      <th>valor_divida</th>\n",
       "      <th>total_divida</th>\n",
       "      <th>composicao_divida</th>\n",
       "      <th>fat_medio</th>\n",
       "      <th>prop_divida</th>\n",
       "    </tr>\n",
       "  </thead>\n",
       "  <tbody>\n",
       "    <tr>\n",
       "      <th>0</th>\n",
       "      <td>00178663000281</td>\n",
       "      <td>credito</td>\n",
       "      <td>262744.38</td>\n",
       "      <td>1158237.23</td>\n",
       "      <td>0.226849</td>\n",
       "      <td>9010.214167</td>\n",
       "      <td>128.547136</td>\n",
       "    </tr>\n",
       "    <tr>\n",
       "      <th>1</th>\n",
       "      <td>00178663000281</td>\n",
       "      <td>infra</td>\n",
       "      <td>346604.91</td>\n",
       "      <td>1158237.23</td>\n",
       "      <td>0.299252</td>\n",
       "      <td>9010.214167</td>\n",
       "      <td>128.547136</td>\n",
       "    </tr>\n",
       "    <tr>\n",
       "      <th>2</th>\n",
       "      <td>00178663000281</td>\n",
       "      <td>outros</td>\n",
       "      <td>174941.22</td>\n",
       "      <td>1158237.23</td>\n",
       "      <td>0.151041</td>\n",
       "      <td>9010.214167</td>\n",
       "      <td>128.547136</td>\n",
       "    </tr>\n",
       "    <tr>\n",
       "      <th>3</th>\n",
       "      <td>00178663000281</td>\n",
       "      <td>processos</td>\n",
       "      <td>373946.72</td>\n",
       "      <td>1158237.23</td>\n",
       "      <td>0.322858</td>\n",
       "      <td>9010.214167</td>\n",
       "      <td>128.547136</td>\n",
       "    </tr>\n",
       "    <tr>\n",
       "      <th>4</th>\n",
       "      <td>00225356000123</td>\n",
       "      <td>outros</td>\n",
       "      <td>174.98</td>\n",
       "      <td>174.98</td>\n",
       "      <td>1.000000</td>\n",
       "      <td>24467.000000</td>\n",
       "      <td>0.007152</td>\n",
       "    </tr>\n",
       "  </tbody>\n",
       "</table>\n",
       "</div>"
      ],
      "text/plain": [
       "             cnpj   segmento  valor_divida  total_divida  composicao_divida  \\\n",
       "0  00178663000281    credito     262744.38    1158237.23           0.226849   \n",
       "1  00178663000281      infra     346604.91    1158237.23           0.299252   \n",
       "2  00178663000281     outros     174941.22    1158237.23           0.151041   \n",
       "3  00178663000281  processos     373946.72    1158237.23           0.322858   \n",
       "4  00225356000123     outros        174.98        174.98           1.000000   \n",
       "\n",
       "      fat_medio  prop_divida  \n",
       "0   9010.214167   128.547136  \n",
       "1   9010.214167   128.547136  \n",
       "2   9010.214167   128.547136  \n",
       "3   9010.214167   128.547136  \n",
       "4  24467.000000     0.007152  "
      ]
     },
     "execution_count": 65,
     "metadata": {},
     "output_type": "execute_result"
    }
   ],
   "source": [
    "res.head()"
   ]
  },
  {
   "cell_type": "code",
   "execution_count": 66,
   "metadata": {},
   "outputs": [],
   "source": [
    "df_total_cheques = df_cheques.groupby('cnpj').sum().reset_index()"
   ]
  },
  {
   "cell_type": "code",
   "execution_count": 67,
   "metadata": {},
   "outputs": [],
   "source": [
    "res = res.merge(df_total_cheques, left_on='cnpj', right_on='cnpj', how='left')"
   ]
  },
  {
   "cell_type": "code",
   "execution_count": 68,
   "metadata": {},
   "outputs": [],
   "source": [
    "res.fillna(0, inplace=True)"
   ]
  },
  {
   "cell_type": "code",
   "execution_count": 69,
   "metadata": {},
   "outputs": [],
   "source": [
    "# qual o segmento de divida predominante para cada cnpj"
   ]
  },
  {
   "cell_type": "code",
   "execution_count": 70,
   "metadata": {},
   "outputs": [],
   "source": [
    "_df = res[['cnpj', 'segmento', 'composicao_divida']]"
   ]
  },
  {
   "cell_type": "code",
   "execution_count": 71,
   "metadata": {},
   "outputs": [],
   "source": [
    "fr = list()\n",
    "for el in _df['cnpj'].unique().tolist():\n",
    "    dt = _df[_df['cnpj']==el]\n",
    "    seg = dt[dt['composicao_divida'] == dt['composicao_divida'].max()]['segmento'].iloc[0]\n",
    "    comp = dt[dt['composicao_divida'] == dt['composicao_divida'].max()]['composicao_divida'].iloc[0]\n",
    "    fr.append(pd.DataFrame({'cnpj' : [el], 'segmento_principal' : [seg], 'composicao_divida' : [comp]}))"
   ]
  },
  {
   "cell_type": "code",
   "execution_count": 72,
   "metadata": {},
   "outputs": [],
   "source": [
    "df_seg_principal = pd.concat(fr)"
   ]
  },
  {
   "cell_type": "code",
   "execution_count": 73,
   "metadata": {},
   "outputs": [],
   "source": [
    "df_comp_principal = df_seg_principal.groupby('segmento_principal').count().reset_index()[['segmento_principal', 'cnpj']]"
   ]
  },
  {
   "cell_type": "code",
   "execution_count": 74,
   "metadata": {},
   "outputs": [],
   "source": [
    "df_comp_principal['prop'] = df_comp_principal['cnpj']/df_comp_principal['cnpj'].sum()"
   ]
  },
  {
   "cell_type": "code",
   "execution_count": 75,
   "metadata": {},
   "outputs": [],
   "source": [
    "df_comp_principal.sort_values('prop', ascending=False, inplace=True)"
   ]
  },
  {
   "cell_type": "code",
   "execution_count": 76,
   "metadata": {},
   "outputs": [
    {
     "ename": "NameError",
     "evalue": "name 'color_menu' is not defined",
     "output_type": "error",
     "traceback": [
      "\u001b[0;31m---------------------------------------------------------------------------\u001b[0m",
      "\u001b[0;31mNameError\u001b[0m                                 Traceback (most recent call last)",
      "\u001b[0;32m<ipython-input-76-93031dbefc84>\u001b[0m in \u001b[0;36m<module>\u001b[0;34m()\u001b[0m\n\u001b[1;32m      4\u001b[0m         \u001b[0mx\u001b[0m \u001b[0;34m=\u001b[0m \u001b[0;34m[\u001b[0m\u001b[0;34m\"segmento\"\u001b[0m\u001b[0;34m]\u001b[0m\u001b[0;34m,\u001b[0m\u001b[0;34m\u001b[0m\u001b[0m\n\u001b[1;32m      5\u001b[0m         \u001b[0my\u001b[0m \u001b[0;34m=\u001b[0m \u001b[0mdf_comp_principal\u001b[0m\u001b[0;34m[\u001b[0m\u001b[0mdf_comp_principal\u001b[0m\u001b[0;34m[\u001b[0m\u001b[0;34m'segmento_principal'\u001b[0m\u001b[0;34m]\u001b[0m\u001b[0;34m==\u001b[0m\u001b[0mel\u001b[0m\u001b[0;34m]\u001b[0m\u001b[0;34m[\u001b[0m\u001b[0;34m'prop'\u001b[0m\u001b[0;34m]\u001b[0m\u001b[0;34m.\u001b[0m\u001b[0mtolist\u001b[0m\u001b[0;34m(\u001b[0m\u001b[0;34m)\u001b[0m\u001b[0;34m,\u001b[0m\u001b[0;34m\u001b[0m\u001b[0m\n\u001b[0;32m----> 6\u001b[0;31m         \u001b[0mmarker\u001b[0m \u001b[0;34m=\u001b[0m \u001b[0mdict\u001b[0m\u001b[0;34m(\u001b[0m\u001b[0mcolor\u001b[0m \u001b[0;34m=\u001b[0m \u001b[0mcolor_menu\u001b[0m\u001b[0;34m.\u001b[0m\u001b[0mget\u001b[0m\u001b[0;34m(\u001b[0m\u001b[0mel\u001b[0m\u001b[0;34m)\u001b[0m\u001b[0;34m)\u001b[0m\u001b[0;34m,\u001b[0m\u001b[0;34m\u001b[0m\u001b[0m\n\u001b[0m\u001b[1;32m      7\u001b[0m         \u001b[0mname\u001b[0m \u001b[0;34m=\u001b[0m \u001b[0mel\u001b[0m\u001b[0;34m\u001b[0m\u001b[0m\n\u001b[1;32m      8\u001b[0m     )\n",
      "\u001b[0;31mNameError\u001b[0m: name 'color_menu' is not defined"
     ]
    }
   ],
   "source": [
    "data = list()\n",
    "for el in df_comp_principal['segmento_principal'].tolist():\n",
    "    trace = go.Bar(\n",
    "        x = [\"segmento\"],\n",
    "        y = df_comp_principal[df_comp_principal['segmento_principal']==el]['prop'].tolist(),\n",
    "        marker = dict(color = color_menu.get(el)),\n",
    "        name = el\n",
    "    )\n",
    "    data.append(trace)\n",
    "layout = go.Layout(title = \"Distribuição dos Principais segmentos de dívida - base total\", barmode='stack',\n",
    "                  bargap=0.7)\n",
    "fig = go.Figure(data=data, layout=layout)\n",
    "iplot(fig)"
   ]
  },
  {
   "cell_type": "code",
   "execution_count": 77,
   "metadata": {},
   "outputs": [
    {
     "data": {
      "text/html": [
       "<div>\n",
       "<style scoped>\n",
       "    .dataframe tbody tr th:only-of-type {\n",
       "        vertical-align: middle;\n",
       "    }\n",
       "\n",
       "    .dataframe tbody tr th {\n",
       "        vertical-align: top;\n",
       "    }\n",
       "\n",
       "    .dataframe thead th {\n",
       "        text-align: right;\n",
       "    }\n",
       "</style>\n",
       "<table border=\"1\" class=\"dataframe\">\n",
       "  <thead>\n",
       "    <tr style=\"text-align: right;\">\n",
       "      <th></th>\n",
       "      <th>cnpj</th>\n",
       "      <th>segmento</th>\n",
       "      <th>valor_divida</th>\n",
       "      <th>total_divida</th>\n",
       "      <th>composicao_divida</th>\n",
       "      <th>fat_medio</th>\n",
       "      <th>prop_divida</th>\n",
       "      <th>quantidade_cheques</th>\n",
       "    </tr>\n",
       "  </thead>\n",
       "  <tbody>\n",
       "    <tr>\n",
       "      <th>0</th>\n",
       "      <td>00178663000281</td>\n",
       "      <td>credito</td>\n",
       "      <td>262744.38</td>\n",
       "      <td>1158237.23</td>\n",
       "      <td>0.226849</td>\n",
       "      <td>9010.214167</td>\n",
       "      <td>128.547136</td>\n",
       "      <td>17.0</td>\n",
       "    </tr>\n",
       "    <tr>\n",
       "      <th>1</th>\n",
       "      <td>00178663000281</td>\n",
       "      <td>infra</td>\n",
       "      <td>346604.91</td>\n",
       "      <td>1158237.23</td>\n",
       "      <td>0.299252</td>\n",
       "      <td>9010.214167</td>\n",
       "      <td>128.547136</td>\n",
       "      <td>17.0</td>\n",
       "    </tr>\n",
       "    <tr>\n",
       "      <th>2</th>\n",
       "      <td>00178663000281</td>\n",
       "      <td>outros</td>\n",
       "      <td>174941.22</td>\n",
       "      <td>1158237.23</td>\n",
       "      <td>0.151041</td>\n",
       "      <td>9010.214167</td>\n",
       "      <td>128.547136</td>\n",
       "      <td>17.0</td>\n",
       "    </tr>\n",
       "    <tr>\n",
       "      <th>3</th>\n",
       "      <td>00178663000281</td>\n",
       "      <td>processos</td>\n",
       "      <td>373946.72</td>\n",
       "      <td>1158237.23</td>\n",
       "      <td>0.322858</td>\n",
       "      <td>9010.214167</td>\n",
       "      <td>128.547136</td>\n",
       "      <td>17.0</td>\n",
       "    </tr>\n",
       "    <tr>\n",
       "      <th>4</th>\n",
       "      <td>00225356000123</td>\n",
       "      <td>outros</td>\n",
       "      <td>174.98</td>\n",
       "      <td>174.98</td>\n",
       "      <td>1.000000</td>\n",
       "      <td>24467.000000</td>\n",
       "      <td>0.007152</td>\n",
       "      <td>0.0</td>\n",
       "    </tr>\n",
       "  </tbody>\n",
       "</table>\n",
       "</div>"
      ],
      "text/plain": [
       "             cnpj   segmento  valor_divida  total_divida  composicao_divida  \\\n",
       "0  00178663000281    credito     262744.38    1158237.23           0.226849   \n",
       "1  00178663000281      infra     346604.91    1158237.23           0.299252   \n",
       "2  00178663000281     outros     174941.22    1158237.23           0.151041   \n",
       "3  00178663000281  processos     373946.72    1158237.23           0.322858   \n",
       "4  00225356000123     outros        174.98        174.98           1.000000   \n",
       "\n",
       "      fat_medio  prop_divida  quantidade_cheques  \n",
       "0   9010.214167   128.547136                17.0  \n",
       "1   9010.214167   128.547136                17.0  \n",
       "2   9010.214167   128.547136                17.0  \n",
       "3   9010.214167   128.547136                17.0  \n",
       "4  24467.000000     0.007152                 0.0  "
      ]
     },
     "execution_count": 77,
     "metadata": {},
     "output_type": "execute_result"
    }
   ],
   "source": [
    "res.head()"
   ]
  },
  {
   "cell_type": "code",
   "execution_count": 78,
   "metadata": {},
   "outputs": [],
   "source": [
    "df_seg_principal.rename(columns={'composicao_divida' : 'composicao_principal'}, inplace=True)"
   ]
  },
  {
   "cell_type": "code",
   "execution_count": 79,
   "metadata": {},
   "outputs": [],
   "source": [
    "res = res.merge(df_seg_principal, left_on='cnpj', right_on='cnpj', how='left')"
   ]
  },
  {
   "cell_type": "code",
   "execution_count": 80,
   "metadata": {},
   "outputs": [
    {
     "data": {
      "text/html": [
       "<div>\n",
       "<style scoped>\n",
       "    .dataframe tbody tr th:only-of-type {\n",
       "        vertical-align: middle;\n",
       "    }\n",
       "\n",
       "    .dataframe tbody tr th {\n",
       "        vertical-align: top;\n",
       "    }\n",
       "\n",
       "    .dataframe thead th {\n",
       "        text-align: right;\n",
       "    }\n",
       "</style>\n",
       "<table border=\"1\" class=\"dataframe\">\n",
       "  <thead>\n",
       "    <tr style=\"text-align: right;\">\n",
       "      <th></th>\n",
       "      <th>cnpj</th>\n",
       "      <th>segmento</th>\n",
       "      <th>valor_divida</th>\n",
       "      <th>total_divida</th>\n",
       "      <th>composicao_divida</th>\n",
       "      <th>fat_medio</th>\n",
       "      <th>prop_divida</th>\n",
       "      <th>quantidade_cheques</th>\n",
       "      <th>segmento_principal</th>\n",
       "      <th>composicao_principal</th>\n",
       "    </tr>\n",
       "  </thead>\n",
       "  <tbody>\n",
       "    <tr>\n",
       "      <th>0</th>\n",
       "      <td>00178663000281</td>\n",
       "      <td>credito</td>\n",
       "      <td>262744.38</td>\n",
       "      <td>1158237.23</td>\n",
       "      <td>0.226849</td>\n",
       "      <td>9010.214167</td>\n",
       "      <td>128.547136</td>\n",
       "      <td>17.0</td>\n",
       "      <td>processos</td>\n",
       "      <td>0.322858</td>\n",
       "    </tr>\n",
       "    <tr>\n",
       "      <th>1</th>\n",
       "      <td>00178663000281</td>\n",
       "      <td>infra</td>\n",
       "      <td>346604.91</td>\n",
       "      <td>1158237.23</td>\n",
       "      <td>0.299252</td>\n",
       "      <td>9010.214167</td>\n",
       "      <td>128.547136</td>\n",
       "      <td>17.0</td>\n",
       "      <td>processos</td>\n",
       "      <td>0.322858</td>\n",
       "    </tr>\n",
       "    <tr>\n",
       "      <th>2</th>\n",
       "      <td>00178663000281</td>\n",
       "      <td>outros</td>\n",
       "      <td>174941.22</td>\n",
       "      <td>1158237.23</td>\n",
       "      <td>0.151041</td>\n",
       "      <td>9010.214167</td>\n",
       "      <td>128.547136</td>\n",
       "      <td>17.0</td>\n",
       "      <td>processos</td>\n",
       "      <td>0.322858</td>\n",
       "    </tr>\n",
       "    <tr>\n",
       "      <th>3</th>\n",
       "      <td>00178663000281</td>\n",
       "      <td>processos</td>\n",
       "      <td>373946.72</td>\n",
       "      <td>1158237.23</td>\n",
       "      <td>0.322858</td>\n",
       "      <td>9010.214167</td>\n",
       "      <td>128.547136</td>\n",
       "      <td>17.0</td>\n",
       "      <td>processos</td>\n",
       "      <td>0.322858</td>\n",
       "    </tr>\n",
       "    <tr>\n",
       "      <th>4</th>\n",
       "      <td>00225356000123</td>\n",
       "      <td>outros</td>\n",
       "      <td>174.98</td>\n",
       "      <td>174.98</td>\n",
       "      <td>1.000000</td>\n",
       "      <td>24467.000000</td>\n",
       "      <td>0.007152</td>\n",
       "      <td>0.0</td>\n",
       "      <td>outros</td>\n",
       "      <td>1.000000</td>\n",
       "    </tr>\n",
       "  </tbody>\n",
       "</table>\n",
       "</div>"
      ],
      "text/plain": [
       "             cnpj   segmento  valor_divida  total_divida  composicao_divida  \\\n",
       "0  00178663000281    credito     262744.38    1158237.23           0.226849   \n",
       "1  00178663000281      infra     346604.91    1158237.23           0.299252   \n",
       "2  00178663000281     outros     174941.22    1158237.23           0.151041   \n",
       "3  00178663000281  processos     373946.72    1158237.23           0.322858   \n",
       "4  00225356000123     outros        174.98        174.98           1.000000   \n",
       "\n",
       "      fat_medio  prop_divida  quantidade_cheques segmento_principal  \\\n",
       "0   9010.214167   128.547136                17.0          processos   \n",
       "1   9010.214167   128.547136                17.0          processos   \n",
       "2   9010.214167   128.547136                17.0          processos   \n",
       "3   9010.214167   128.547136                17.0          processos   \n",
       "4  24467.000000     0.007152                 0.0             outros   \n",
       "\n",
       "   composicao_principal  \n",
       "0              0.322858  \n",
       "1              0.322858  \n",
       "2              0.322858  \n",
       "3              0.322858  \n",
       "4              1.000000  "
      ]
     },
     "execution_count": 80,
     "metadata": {},
     "output_type": "execute_result"
    }
   ],
   "source": [
    "res.head()"
   ]
  },
  {
   "cell_type": "code",
   "execution_count": 81,
   "metadata": {},
   "outputs": [
    {
     "data": {
      "text/html": [
       "<div>\n",
       "<style scoped>\n",
       "    .dataframe tbody tr th:only-of-type {\n",
       "        vertical-align: middle;\n",
       "    }\n",
       "\n",
       "    .dataframe tbody tr th {\n",
       "        vertical-align: top;\n",
       "    }\n",
       "\n",
       "    .dataframe thead th {\n",
       "        text-align: right;\n",
       "    }\n",
       "</style>\n",
       "<table border=\"1\" class=\"dataframe\">\n",
       "  <thead>\n",
       "    <tr style=\"text-align: right;\">\n",
       "      <th></th>\n",
       "      <th>cnpj</th>\n",
       "      <th>segmento</th>\n",
       "      <th>valor_divida</th>\n",
       "      <th>total_divida</th>\n",
       "      <th>composicao_divida</th>\n",
       "      <th>fat_medio</th>\n",
       "      <th>prop_divida</th>\n",
       "      <th>quantidade_cheques</th>\n",
       "      <th>segmento_principal</th>\n",
       "      <th>composicao_principal</th>\n",
       "    </tr>\n",
       "  </thead>\n",
       "  <tbody>\n",
       "    <tr>\n",
       "      <th>637</th>\n",
       "      <td>18356074000120</td>\n",
       "      <td>credito</td>\n",
       "      <td>72333.40</td>\n",
       "      <td>84448.39</td>\n",
       "      <td>0.85654</td>\n",
       "      <td>7078.921667</td>\n",
       "      <td>11.929556</td>\n",
       "      <td>13.0</td>\n",
       "      <td>credito</td>\n",
       "      <td>0.85654</td>\n",
       "    </tr>\n",
       "    <tr>\n",
       "      <th>638</th>\n",
       "      <td>18356074000120</td>\n",
       "      <td>outros</td>\n",
       "      <td>12114.99</td>\n",
       "      <td>84448.39</td>\n",
       "      <td>0.14346</td>\n",
       "      <td>7078.921667</td>\n",
       "      <td>11.929556</td>\n",
       "      <td>13.0</td>\n",
       "      <td>credito</td>\n",
       "      <td>0.85654</td>\n",
       "    </tr>\n",
       "  </tbody>\n",
       "</table>\n",
       "</div>"
      ],
      "text/plain": [
       "               cnpj segmento  valor_divida  total_divida  composicao_divida  \\\n",
       "637  18356074000120  credito      72333.40      84448.39            0.85654   \n",
       "638  18356074000120   outros      12114.99      84448.39            0.14346   \n",
       "\n",
       "       fat_medio  prop_divida  quantidade_cheques segmento_principal  \\\n",
       "637  7078.921667    11.929556                13.0            credito   \n",
       "638  7078.921667    11.929556                13.0            credito   \n",
       "\n",
       "     composicao_principal  \n",
       "637               0.85654  \n",
       "638               0.85654  "
      ]
     },
     "execution_count": 81,
     "metadata": {},
     "output_type": "execute_result"
    }
   ],
   "source": [
    "# cnpj moip 18356074000120\n",
    "res[res['cnpj']=='18356074000120']"
   ]
  },
  {
   "cell_type": "code",
   "execution_count": 82,
   "metadata": {},
   "outputs": [],
   "source": [
    "## tempo medio == 0 => todas as dividas adquiridas em uma data\n",
    "## tempo medio == nan => apenas um registro de divida"
   ]
  },
  {
   "cell_type": "code",
   "execution_count": 83,
   "metadata": {},
   "outputs": [],
   "source": [
    "df_tempo['cnpj'] = df_tempo.apply(lambda x : str(x['cnpj']).split(\".\")[0], axis=1)"
   ]
  },
  {
   "cell_type": "code",
   "execution_count": 84,
   "metadata": {},
   "outputs": [],
   "source": [
    "df_tempo['cnpj'] = df_tempo.apply(lambda x : '0' + x['cnpj'] if len(x['cnpj'])==13 else\n",
    "                                  ('00' + x['cnpj'] if len(x['cnpj'])==12 else x['cnpj']), axis=1)"
   ]
  },
  {
   "cell_type": "code",
   "execution_count": 85,
   "metadata": {},
   "outputs": [],
   "source": [
    "df_tempo.fillna(0, inplace=True)"
   ]
  },
  {
   "cell_type": "code",
   "execution_count": 86,
   "metadata": {},
   "outputs": [
    {
     "data": {
      "text/html": [
       "<div>\n",
       "<style scoped>\n",
       "    .dataframe tbody tr th:only-of-type {\n",
       "        vertical-align: middle;\n",
       "    }\n",
       "\n",
       "    .dataframe tbody tr th {\n",
       "        vertical-align: top;\n",
       "    }\n",
       "\n",
       "    .dataframe thead th {\n",
       "        text-align: right;\n",
       "    }\n",
       "</style>\n",
       "<table border=\"1\" class=\"dataframe\">\n",
       "  <thead>\n",
       "    <tr style=\"text-align: right;\">\n",
       "      <th></th>\n",
       "      <th>cnpj</th>\n",
       "      <th>tempo_medio</th>\n",
       "    </tr>\n",
       "  </thead>\n",
       "  <tbody>\n",
       "    <tr>\n",
       "      <th>0</th>\n",
       "      <td>19008188000142</td>\n",
       "      <td>54.818182</td>\n",
       "    </tr>\n",
       "    <tr>\n",
       "      <th>0</th>\n",
       "      <td>00748390000182</td>\n",
       "      <td>20.370370</td>\n",
       "    </tr>\n",
       "    <tr>\n",
       "      <th>0</th>\n",
       "      <td>00272073000302</td>\n",
       "      <td>48.600000</td>\n",
       "    </tr>\n",
       "    <tr>\n",
       "      <th>0</th>\n",
       "      <td>03403405000169</td>\n",
       "      <td>21.914634</td>\n",
       "    </tr>\n",
       "    <tr>\n",
       "      <th>0</th>\n",
       "      <td>04501499000171</td>\n",
       "      <td>6.590643</td>\n",
       "    </tr>\n",
       "  </tbody>\n",
       "</table>\n",
       "</div>"
      ],
      "text/plain": [
       "             cnpj  tempo_medio\n",
       "0  19008188000142    54.818182\n",
       "0  00748390000182    20.370370\n",
       "0  00272073000302    48.600000\n",
       "0  03403405000169    21.914634\n",
       "0  04501499000171     6.590643"
      ]
     },
     "execution_count": 86,
     "metadata": {},
     "output_type": "execute_result"
    }
   ],
   "source": [
    "df_tempo.head()"
   ]
  },
  {
   "cell_type": "code",
   "execution_count": 87,
   "metadata": {},
   "outputs": [],
   "source": [
    "res = res.merge(df_tempo, left_on='cnpj', right_on='cnpj', how='left')"
   ]
  },
  {
   "cell_type": "code",
   "execution_count": 88,
   "metadata": {},
   "outputs": [
    {
     "data": {
      "text/html": [
       "<div>\n",
       "<style scoped>\n",
       "    .dataframe tbody tr th:only-of-type {\n",
       "        vertical-align: middle;\n",
       "    }\n",
       "\n",
       "    .dataframe tbody tr th {\n",
       "        vertical-align: top;\n",
       "    }\n",
       "\n",
       "    .dataframe thead th {\n",
       "        text-align: right;\n",
       "    }\n",
       "</style>\n",
       "<table border=\"1\" class=\"dataframe\">\n",
       "  <thead>\n",
       "    <tr style=\"text-align: right;\">\n",
       "      <th></th>\n",
       "      <th>cnpj</th>\n",
       "      <th>segmento</th>\n",
       "      <th>valor_divida</th>\n",
       "      <th>total_divida</th>\n",
       "      <th>composicao_divida</th>\n",
       "      <th>fat_medio</th>\n",
       "      <th>prop_divida</th>\n",
       "      <th>quantidade_cheques</th>\n",
       "      <th>segmento_principal</th>\n",
       "      <th>composicao_principal</th>\n",
       "      <th>tempo_medio</th>\n",
       "    </tr>\n",
       "  </thead>\n",
       "  <tbody>\n",
       "    <tr>\n",
       "      <th>0</th>\n",
       "      <td>00178663000281</td>\n",
       "      <td>credito</td>\n",
       "      <td>262744.38</td>\n",
       "      <td>1158237.23</td>\n",
       "      <td>0.226849</td>\n",
       "      <td>9010.214167</td>\n",
       "      <td>128.547136</td>\n",
       "      <td>17.0</td>\n",
       "      <td>processos</td>\n",
       "      <td>0.322858</td>\n",
       "      <td>6.497006</td>\n",
       "    </tr>\n",
       "    <tr>\n",
       "      <th>1</th>\n",
       "      <td>00178663000281</td>\n",
       "      <td>infra</td>\n",
       "      <td>346604.91</td>\n",
       "      <td>1158237.23</td>\n",
       "      <td>0.299252</td>\n",
       "      <td>9010.214167</td>\n",
       "      <td>128.547136</td>\n",
       "      <td>17.0</td>\n",
       "      <td>processos</td>\n",
       "      <td>0.322858</td>\n",
       "      <td>6.497006</td>\n",
       "    </tr>\n",
       "    <tr>\n",
       "      <th>2</th>\n",
       "      <td>00178663000281</td>\n",
       "      <td>outros</td>\n",
       "      <td>174941.22</td>\n",
       "      <td>1158237.23</td>\n",
       "      <td>0.151041</td>\n",
       "      <td>9010.214167</td>\n",
       "      <td>128.547136</td>\n",
       "      <td>17.0</td>\n",
       "      <td>processos</td>\n",
       "      <td>0.322858</td>\n",
       "      <td>6.497006</td>\n",
       "    </tr>\n",
       "    <tr>\n",
       "      <th>3</th>\n",
       "      <td>00178663000281</td>\n",
       "      <td>processos</td>\n",
       "      <td>373946.72</td>\n",
       "      <td>1158237.23</td>\n",
       "      <td>0.322858</td>\n",
       "      <td>9010.214167</td>\n",
       "      <td>128.547136</td>\n",
       "      <td>17.0</td>\n",
       "      <td>processos</td>\n",
       "      <td>0.322858</td>\n",
       "      <td>6.497006</td>\n",
       "    </tr>\n",
       "    <tr>\n",
       "      <th>4</th>\n",
       "      <td>00225356000123</td>\n",
       "      <td>outros</td>\n",
       "      <td>174.98</td>\n",
       "      <td>174.98</td>\n",
       "      <td>1.000000</td>\n",
       "      <td>24467.000000</td>\n",
       "      <td>0.007152</td>\n",
       "      <td>0.0</td>\n",
       "      <td>outros</td>\n",
       "      <td>1.000000</td>\n",
       "      <td>0.000000</td>\n",
       "    </tr>\n",
       "  </tbody>\n",
       "</table>\n",
       "</div>"
      ],
      "text/plain": [
       "             cnpj   segmento  valor_divida  total_divida  composicao_divida  \\\n",
       "0  00178663000281    credito     262744.38    1158237.23           0.226849   \n",
       "1  00178663000281      infra     346604.91    1158237.23           0.299252   \n",
       "2  00178663000281     outros     174941.22    1158237.23           0.151041   \n",
       "3  00178663000281  processos     373946.72    1158237.23           0.322858   \n",
       "4  00225356000123     outros        174.98        174.98           1.000000   \n",
       "\n",
       "      fat_medio  prop_divida  quantidade_cheques segmento_principal  \\\n",
       "0   9010.214167   128.547136                17.0          processos   \n",
       "1   9010.214167   128.547136                17.0          processos   \n",
       "2   9010.214167   128.547136                17.0          processos   \n",
       "3   9010.214167   128.547136                17.0          processos   \n",
       "4  24467.000000     0.007152                 0.0             outros   \n",
       "\n",
       "   composicao_principal  tempo_medio  \n",
       "0              0.322858     6.497006  \n",
       "1              0.322858     6.497006  \n",
       "2              0.322858     6.497006  \n",
       "3              0.322858     6.497006  \n",
       "4              1.000000     0.000000  "
      ]
     },
     "execution_count": 88,
     "metadata": {},
     "output_type": "execute_result"
    }
   ],
   "source": [
    "res.head()"
   ]
  },
  {
   "cell_type": "code",
   "execution_count": 89,
   "metadata": {},
   "outputs": [],
   "source": [
    "df_idade['cnpj'] = df_idade.apply(lambda x : str(x['cnpj']), axis=1)"
   ]
  },
  {
   "cell_type": "code",
   "execution_count": 90,
   "metadata": {},
   "outputs": [],
   "source": [
    "df_idade['cnpj'] = df_idade.apply(lambda x : '0' + x['cnpj'] if len(x['cnpj'])==13 else\n",
    "                                  (\"00\" + x['cnpj'] if len(x['cnpj'])==12 else x['cnpj']), axis=1)"
   ]
  },
  {
   "cell_type": "code",
   "execution_count": 91,
   "metadata": {},
   "outputs": [],
   "source": [
    "res = res.merge(df_idade[['cnpj', 'idade_maxima']], left_on='cnpj', right_on='cnpj', how='left')"
   ]
  },
  {
   "cell_type": "code",
   "execution_count": 92,
   "metadata": {},
   "outputs": [],
   "source": [
    "_df = res[['cnpj', 'segmento', 'composicao_divida']]"
   ]
  },
  {
   "cell_type": "code",
   "execution_count": 93,
   "metadata": {},
   "outputs": [
    {
     "data": {
      "text/html": [
       "<div>\n",
       "<style scoped>\n",
       "    .dataframe tbody tr th:only-of-type {\n",
       "        vertical-align: middle;\n",
       "    }\n",
       "\n",
       "    .dataframe tbody tr th {\n",
       "        vertical-align: top;\n",
       "    }\n",
       "\n",
       "    .dataframe thead th {\n",
       "        text-align: right;\n",
       "    }\n",
       "</style>\n",
       "<table border=\"1\" class=\"dataframe\">\n",
       "  <thead>\n",
       "    <tr style=\"text-align: right;\">\n",
       "      <th></th>\n",
       "      <th>cnpj</th>\n",
       "      <th>segmento</th>\n",
       "      <th>composicao_divida</th>\n",
       "    </tr>\n",
       "  </thead>\n",
       "  <tbody>\n",
       "    <tr>\n",
       "      <th>0</th>\n",
       "      <td>00178663000281</td>\n",
       "      <td>credito</td>\n",
       "      <td>0.226849</td>\n",
       "    </tr>\n",
       "    <tr>\n",
       "      <th>1</th>\n",
       "      <td>00178663000281</td>\n",
       "      <td>infra</td>\n",
       "      <td>0.299252</td>\n",
       "    </tr>\n",
       "    <tr>\n",
       "      <th>2</th>\n",
       "      <td>00178663000281</td>\n",
       "      <td>outros</td>\n",
       "      <td>0.151041</td>\n",
       "    </tr>\n",
       "    <tr>\n",
       "      <th>3</th>\n",
       "      <td>00178663000281</td>\n",
       "      <td>processos</td>\n",
       "      <td>0.322858</td>\n",
       "    </tr>\n",
       "    <tr>\n",
       "      <th>4</th>\n",
       "      <td>00225356000123</td>\n",
       "      <td>outros</td>\n",
       "      <td>1.000000</td>\n",
       "    </tr>\n",
       "  </tbody>\n",
       "</table>\n",
       "</div>"
      ],
      "text/plain": [
       "             cnpj   segmento  composicao_divida\n",
       "0  00178663000281    credito           0.226849\n",
       "1  00178663000281      infra           0.299252\n",
       "2  00178663000281     outros           0.151041\n",
       "3  00178663000281  processos           0.322858\n",
       "4  00225356000123     outros           1.000000"
      ]
     },
     "execution_count": 93,
     "metadata": {},
     "output_type": "execute_result"
    }
   ],
   "source": [
    "_df.head()"
   ]
  },
  {
   "cell_type": "code",
   "execution_count": 94,
   "metadata": {},
   "outputs": [],
   "source": [
    "_df = _df[_df[\"cnpj\"]!='61353025000163']"
   ]
  },
  {
   "cell_type": "code",
   "execution_count": 98,
   "metadata": {},
   "outputs": [
    {
     "data": {
      "text/html": [
       "<div>\n",
       "<style scoped>\n",
       "    .dataframe tbody tr th:only-of-type {\n",
       "        vertical-align: middle;\n",
       "    }\n",
       "\n",
       "    .dataframe tbody tr th {\n",
       "        vertical-align: top;\n",
       "    }\n",
       "\n",
       "    .dataframe thead th {\n",
       "        text-align: right;\n",
       "    }\n",
       "</style>\n",
       "<table border=\"1\" class=\"dataframe\">\n",
       "  <thead>\n",
       "    <tr style=\"text-align: right;\">\n",
       "      <th></th>\n",
       "      <th></th>\n",
       "      <th>composicao_divida</th>\n",
       "    </tr>\n",
       "    <tr>\n",
       "      <th>cnpj</th>\n",
       "      <th>segmento</th>\n",
       "      <th></th>\n",
       "    </tr>\n",
       "  </thead>\n",
       "  <tbody>\n",
       "    <tr>\n",
       "      <th rowspan=\"3\" valign=\"top\">60701190000104</th>\n",
       "      <th>infra</th>\n",
       "      <td>2</td>\n",
       "    </tr>\n",
       "    <tr>\n",
       "      <th>outros</th>\n",
       "      <td>2</td>\n",
       "    </tr>\n",
       "    <tr>\n",
       "      <th>processos</th>\n",
       "      <td>2</td>\n",
       "    </tr>\n",
       "    <tr>\n",
       "      <th>00178663000281</th>\n",
       "      <th>credito</th>\n",
       "      <td>1</td>\n",
       "    </tr>\n",
       "    <tr>\n",
       "      <th>18703372000140</th>\n",
       "      <th>outros</th>\n",
       "      <td>1</td>\n",
       "    </tr>\n",
       "  </tbody>\n",
       "</table>\n",
       "</div>"
      ],
      "text/plain": [
       "                          composicao_divida\n",
       "cnpj           segmento                    \n",
       "60701190000104 infra                      2\n",
       "               outros                     2\n",
       "               processos                  2\n",
       "00178663000281 credito                    1\n",
       "18703372000140 outros                     1"
      ]
     },
     "execution_count": 98,
     "metadata": {},
     "output_type": "execute_result"
    }
   ],
   "source": [
    "_df.groupby([\"cnpj\", \"segmento\"]).count().sort_values(\"composicao_divida\", ascending=False).head()"
   ]
  },
  {
   "cell_type": "code",
   "execution_count": 100,
   "metadata": {},
   "outputs": [],
   "source": [
    "_df = _df[_df[\"cnpj\"]!=\"60701190000104\"]"
   ]
  },
  {
   "cell_type": "code",
   "execution_count": null,
   "metadata": {},
   "outputs": [],
   "source": []
  },
  {
   "cell_type": "code",
   "execution_count": 101,
   "metadata": {},
   "outputs": [],
   "source": [
    "_df = _df.pivot(columns='segmento', index='cnpj', values='composicao_divida').reset_index().fillna(0)"
   ]
  },
  {
   "cell_type": "code",
   "execution_count": null,
   "metadata": {},
   "outputs": [],
   "source": []
  },
  {
   "cell_type": "code",
   "execution_count": 102,
   "metadata": {},
   "outputs": [
    {
     "data": {
      "text/html": [
       "<div>\n",
       "<style scoped>\n",
       "    .dataframe tbody tr th:only-of-type {\n",
       "        vertical-align: middle;\n",
       "    }\n",
       "\n",
       "    .dataframe tbody tr th {\n",
       "        vertical-align: top;\n",
       "    }\n",
       "\n",
       "    .dataframe thead th {\n",
       "        text-align: right;\n",
       "    }\n",
       "</style>\n",
       "<table border=\"1\" class=\"dataframe\">\n",
       "  <thead>\n",
       "    <tr style=\"text-align: right;\">\n",
       "      <th>segmento</th>\n",
       "      <th>cnpj</th>\n",
       "      <th>credito</th>\n",
       "      <th>infra</th>\n",
       "      <th>outros</th>\n",
       "      <th>processos</th>\n",
       "    </tr>\n",
       "  </thead>\n",
       "  <tbody>\n",
       "    <tr>\n",
       "      <th>0</th>\n",
       "      <td>00178663000281</td>\n",
       "      <td>0.226849</td>\n",
       "      <td>0.299252</td>\n",
       "      <td>0.151041</td>\n",
       "      <td>0.322858</td>\n",
       "    </tr>\n",
       "    <tr>\n",
       "      <th>1</th>\n",
       "      <td>00225356000123</td>\n",
       "      <td>0.000000</td>\n",
       "      <td>0.000000</td>\n",
       "      <td>1.000000</td>\n",
       "      <td>0.000000</td>\n",
       "    </tr>\n",
       "    <tr>\n",
       "      <th>2</th>\n",
       "      <td>00265954000207</td>\n",
       "      <td>0.000000</td>\n",
       "      <td>0.000000</td>\n",
       "      <td>1.000000</td>\n",
       "      <td>0.000000</td>\n",
       "    </tr>\n",
       "    <tr>\n",
       "      <th>3</th>\n",
       "      <td>00272073000302</td>\n",
       "      <td>0.000000</td>\n",
       "      <td>0.000000</td>\n",
       "      <td>1.000000</td>\n",
       "      <td>0.000000</td>\n",
       "    </tr>\n",
       "    <tr>\n",
       "      <th>4</th>\n",
       "      <td>00437101000124</td>\n",
       "      <td>0.972151</td>\n",
       "      <td>0.000000</td>\n",
       "      <td>0.027849</td>\n",
       "      <td>0.000000</td>\n",
       "    </tr>\n",
       "  </tbody>\n",
       "</table>\n",
       "</div>"
      ],
      "text/plain": [
       "segmento            cnpj   credito     infra    outros  processos\n",
       "0         00178663000281  0.226849  0.299252  0.151041   0.322858\n",
       "1         00225356000123  0.000000  0.000000  1.000000   0.000000\n",
       "2         00265954000207  0.000000  0.000000  1.000000   0.000000\n",
       "3         00272073000302  0.000000  0.000000  1.000000   0.000000\n",
       "4         00437101000124  0.972151  0.000000  0.027849   0.000000"
      ]
     },
     "execution_count": 102,
     "metadata": {},
     "output_type": "execute_result"
    }
   ],
   "source": [
    "_df.head()"
   ]
  },
  {
   "cell_type": "code",
   "execution_count": 103,
   "metadata": {},
   "outputs": [
    {
     "data": {
      "text/plain": [
       "Index(['cnpj', 'segmento', 'valor_divida', 'total_divida', 'composicao_divida',\n",
       "       'fat_medio', 'prop_divida', 'quantidade_cheques', 'segmento_principal',\n",
       "       'composicao_principal', 'tempo_medio', 'idade_maxima'],\n",
       "      dtype='object')"
      ]
     },
     "execution_count": 103,
     "metadata": {},
     "output_type": "execute_result"
    }
   ],
   "source": [
    "res.columns"
   ]
  },
  {
   "cell_type": "code",
   "execution_count": 104,
   "metadata": {},
   "outputs": [],
   "source": [
    "final = res[['cnpj', 'prop_divida', 'quantidade_cheques', 'tempo_medio', 'idade_maxima']]"
   ]
  },
  {
   "cell_type": "code",
   "execution_count": 105,
   "metadata": {},
   "outputs": [],
   "source": [
    "final = final.merge(_df, left_on='cnpj', right_on='cnpj', how='left')"
   ]
  },
  {
   "cell_type": "code",
   "execution_count": 106,
   "metadata": {},
   "outputs": [
    {
     "data": {
      "text/html": [
       "<div>\n",
       "<style scoped>\n",
       "    .dataframe tbody tr th:only-of-type {\n",
       "        vertical-align: middle;\n",
       "    }\n",
       "\n",
       "    .dataframe tbody tr th {\n",
       "        vertical-align: top;\n",
       "    }\n",
       "\n",
       "    .dataframe thead th {\n",
       "        text-align: right;\n",
       "    }\n",
       "</style>\n",
       "<table border=\"1\" class=\"dataframe\">\n",
       "  <thead>\n",
       "    <tr style=\"text-align: right;\">\n",
       "      <th></th>\n",
       "      <th>cnpj</th>\n",
       "      <th>prop_divida</th>\n",
       "      <th>quantidade_cheques</th>\n",
       "      <th>tempo_medio</th>\n",
       "      <th>idade_maxima</th>\n",
       "      <th>credito</th>\n",
       "      <th>infra</th>\n",
       "      <th>outros</th>\n",
       "      <th>processos</th>\n",
       "    </tr>\n",
       "  </thead>\n",
       "  <tbody>\n",
       "    <tr>\n",
       "      <th>0</th>\n",
       "      <td>00178663000281</td>\n",
       "      <td>128.547136</td>\n",
       "      <td>17.0</td>\n",
       "      <td>6.497006</td>\n",
       "      <td>1134</td>\n",
       "      <td>0.226849</td>\n",
       "      <td>0.299252</td>\n",
       "      <td>0.151041</td>\n",
       "      <td>0.322858</td>\n",
       "    </tr>\n",
       "    <tr>\n",
       "      <th>1</th>\n",
       "      <td>00178663000281</td>\n",
       "      <td>128.547136</td>\n",
       "      <td>17.0</td>\n",
       "      <td>6.497006</td>\n",
       "      <td>1134</td>\n",
       "      <td>0.226849</td>\n",
       "      <td>0.299252</td>\n",
       "      <td>0.151041</td>\n",
       "      <td>0.322858</td>\n",
       "    </tr>\n",
       "    <tr>\n",
       "      <th>2</th>\n",
       "      <td>00178663000281</td>\n",
       "      <td>128.547136</td>\n",
       "      <td>17.0</td>\n",
       "      <td>6.497006</td>\n",
       "      <td>1134</td>\n",
       "      <td>0.226849</td>\n",
       "      <td>0.299252</td>\n",
       "      <td>0.151041</td>\n",
       "      <td>0.322858</td>\n",
       "    </tr>\n",
       "    <tr>\n",
       "      <th>3</th>\n",
       "      <td>00178663000281</td>\n",
       "      <td>128.547136</td>\n",
       "      <td>17.0</td>\n",
       "      <td>6.497006</td>\n",
       "      <td>1134</td>\n",
       "      <td>0.226849</td>\n",
       "      <td>0.299252</td>\n",
       "      <td>0.151041</td>\n",
       "      <td>0.322858</td>\n",
       "    </tr>\n",
       "    <tr>\n",
       "      <th>4</th>\n",
       "      <td>00225356000123</td>\n",
       "      <td>0.007152</td>\n",
       "      <td>0.0</td>\n",
       "      <td>0.000000</td>\n",
       "      <td>1793</td>\n",
       "      <td>0.000000</td>\n",
       "      <td>0.000000</td>\n",
       "      <td>1.000000</td>\n",
       "      <td>0.000000</td>\n",
       "    </tr>\n",
       "  </tbody>\n",
       "</table>\n",
       "</div>"
      ],
      "text/plain": [
       "             cnpj  prop_divida  quantidade_cheques  tempo_medio  idade_maxima  \\\n",
       "0  00178663000281   128.547136                17.0     6.497006          1134   \n",
       "1  00178663000281   128.547136                17.0     6.497006          1134   \n",
       "2  00178663000281   128.547136                17.0     6.497006          1134   \n",
       "3  00178663000281   128.547136                17.0     6.497006          1134   \n",
       "4  00225356000123     0.007152                 0.0     0.000000          1793   \n",
       "\n",
       "    credito     infra    outros  processos  \n",
       "0  0.226849  0.299252  0.151041   0.322858  \n",
       "1  0.226849  0.299252  0.151041   0.322858  \n",
       "2  0.226849  0.299252  0.151041   0.322858  \n",
       "3  0.226849  0.299252  0.151041   0.322858  \n",
       "4  0.000000  0.000000  1.000000   0.000000  "
      ]
     },
     "execution_count": 106,
     "metadata": {},
     "output_type": "execute_result"
    }
   ],
   "source": [
    "final.head()"
   ]
  },
  {
   "cell_type": "code",
   "execution_count": 109,
   "metadata": {},
   "outputs": [],
   "source": [
    "df_dispersao = pd.read_excel(\"../tabelas/metrica_dispersao_201904.xlsx\")"
   ]
  },
  {
   "cell_type": "code",
   "execution_count": 110,
   "metadata": {},
   "outputs": [],
   "source": [
    "df_dispersao['cnpj'] = df_dispersao.apply(lambda x : str(x[\"cnpj\"]).split(\".\")[0], axis=1)"
   ]
  },
  {
   "cell_type": "code",
   "execution_count": 111,
   "metadata": {},
   "outputs": [],
   "source": [
    "df_dispersao[\"cnpj\"] = df_dispersao.apply(lambda x : \"0\" + x['cnpj'] if len(x['cnpj'])==13 else\n",
    "                                          (\"00\" + x['cnpj'] if len(x[\"cnpj\"])==12 else x['cnpj']), axis=1)"
   ]
  },
  {
   "cell_type": "code",
   "execution_count": 112,
   "metadata": {},
   "outputs": [
    {
     "data": {
      "text/plain": [
       "'19008188000142'"
      ]
     },
     "execution_count": 112,
     "metadata": {},
     "output_type": "execute_result"
    }
   ],
   "source": [
    "df_dispersao['cnpj'].iloc[0]"
   ]
  },
  {
   "cell_type": "code",
   "execution_count": 113,
   "metadata": {},
   "outputs": [
    {
     "data": {
      "text/plain": [
       "(482, 2)"
      ]
     },
     "execution_count": 113,
     "metadata": {},
     "output_type": "execute_result"
    }
   ],
   "source": [
    "df_dispersao.shape"
   ]
  },
  {
   "cell_type": "code",
   "execution_count": 114,
   "metadata": {},
   "outputs": [
    {
     "data": {
      "text/plain": [
       "717"
      ]
     },
     "execution_count": 114,
     "metadata": {},
     "output_type": "execute_result"
    }
   ],
   "source": [
    "final['cnpj'].unique().tolist().__len__()"
   ]
  },
  {
   "cell_type": "code",
   "execution_count": 115,
   "metadata": {},
   "outputs": [],
   "source": [
    "final.drop_duplicates(inplace=True)"
   ]
  },
  {
   "cell_type": "code",
   "execution_count": 116,
   "metadata": {},
   "outputs": [
    {
     "data": {
      "text/html": [
       "<div>\n",
       "<style scoped>\n",
       "    .dataframe tbody tr th:only-of-type {\n",
       "        vertical-align: middle;\n",
       "    }\n",
       "\n",
       "    .dataframe tbody tr th {\n",
       "        vertical-align: top;\n",
       "    }\n",
       "\n",
       "    .dataframe thead th {\n",
       "        text-align: right;\n",
       "    }\n",
       "</style>\n",
       "<table border=\"1\" class=\"dataframe\">\n",
       "  <thead>\n",
       "    <tr style=\"text-align: right;\">\n",
       "      <th></th>\n",
       "      <th>cnpj</th>\n",
       "      <th>dispersao</th>\n",
       "    </tr>\n",
       "  </thead>\n",
       "  <tbody>\n",
       "    <tr>\n",
       "      <th>0</th>\n",
       "      <td>19008188000142</td>\n",
       "      <td>0.00</td>\n",
       "    </tr>\n",
       "    <tr>\n",
       "      <th>0</th>\n",
       "      <td>00748390000182</td>\n",
       "      <td>0.25</td>\n",
       "    </tr>\n",
       "    <tr>\n",
       "      <th>0</th>\n",
       "      <td>00272073000302</td>\n",
       "      <td>0.00</td>\n",
       "    </tr>\n",
       "    <tr>\n",
       "      <th>0</th>\n",
       "      <td>03403405000169</td>\n",
       "      <td>0.25</td>\n",
       "    </tr>\n",
       "    <tr>\n",
       "      <th>0</th>\n",
       "      <td>04501499000171</td>\n",
       "      <td>0.25</td>\n",
       "    </tr>\n",
       "  </tbody>\n",
       "</table>\n",
       "</div>"
      ],
      "text/plain": [
       "             cnpj  dispersao\n",
       "0  19008188000142       0.00\n",
       "0  00748390000182       0.25\n",
       "0  00272073000302       0.00\n",
       "0  03403405000169       0.25\n",
       "0  04501499000171       0.25"
      ]
     },
     "execution_count": 116,
     "metadata": {},
     "output_type": "execute_result"
    }
   ],
   "source": [
    "df_dispersao.head()"
   ]
  },
  {
   "cell_type": "code",
   "execution_count": 117,
   "metadata": {},
   "outputs": [],
   "source": [
    "final = final.merge(df_dispersao, left_on='cnpj', right_on='cnpj', how='left')"
   ]
  },
  {
   "cell_type": "code",
   "execution_count": 118,
   "metadata": {},
   "outputs": [],
   "source": [
    "final.fillna(0, inplace=True)"
   ]
  },
  {
   "cell_type": "code",
   "execution_count": 119,
   "metadata": {},
   "outputs": [
    {
     "data": {
      "text/html": [
       "<div>\n",
       "<style scoped>\n",
       "    .dataframe tbody tr th:only-of-type {\n",
       "        vertical-align: middle;\n",
       "    }\n",
       "\n",
       "    .dataframe tbody tr th {\n",
       "        vertical-align: top;\n",
       "    }\n",
       "\n",
       "    .dataframe thead th {\n",
       "        text-align: right;\n",
       "    }\n",
       "</style>\n",
       "<table border=\"1\" class=\"dataframe\">\n",
       "  <thead>\n",
       "    <tr style=\"text-align: right;\">\n",
       "      <th></th>\n",
       "      <th>cnpj</th>\n",
       "      <th>prop_divida</th>\n",
       "      <th>quantidade_cheques</th>\n",
       "      <th>tempo_medio</th>\n",
       "      <th>idade_maxima</th>\n",
       "      <th>credito</th>\n",
       "      <th>infra</th>\n",
       "      <th>outros</th>\n",
       "      <th>processos</th>\n",
       "      <th>dispersao</th>\n",
       "    </tr>\n",
       "  </thead>\n",
       "  <tbody>\n",
       "    <tr>\n",
       "      <th>0</th>\n",
       "      <td>00178663000281</td>\n",
       "      <td>128.547136</td>\n",
       "      <td>17.0</td>\n",
       "      <td>6.497006</td>\n",
       "      <td>1134</td>\n",
       "      <td>0.226849</td>\n",
       "      <td>0.299252</td>\n",
       "      <td>0.151041</td>\n",
       "      <td>0.322858</td>\n",
       "      <td>0.0</td>\n",
       "    </tr>\n",
       "    <tr>\n",
       "      <th>1</th>\n",
       "      <td>00225356000123</td>\n",
       "      <td>0.007152</td>\n",
       "      <td>0.0</td>\n",
       "      <td>0.000000</td>\n",
       "      <td>1793</td>\n",
       "      <td>0.000000</td>\n",
       "      <td>0.000000</td>\n",
       "      <td>1.000000</td>\n",
       "      <td>0.000000</td>\n",
       "      <td>0.0</td>\n",
       "    </tr>\n",
       "    <tr>\n",
       "      <th>2</th>\n",
       "      <td>00265954000207</td>\n",
       "      <td>0.003095</td>\n",
       "      <td>0.0</td>\n",
       "      <td>0.000000</td>\n",
       "      <td>73</td>\n",
       "      <td>0.000000</td>\n",
       "      <td>0.000000</td>\n",
       "      <td>1.000000</td>\n",
       "      <td>0.000000</td>\n",
       "      <td>0.0</td>\n",
       "    </tr>\n",
       "    <tr>\n",
       "      <th>3</th>\n",
       "      <td>00272073000302</td>\n",
       "      <td>0.069306</td>\n",
       "      <td>0.0</td>\n",
       "      <td>48.600000</td>\n",
       "      <td>320</td>\n",
       "      <td>0.000000</td>\n",
       "      <td>0.000000</td>\n",
       "      <td>1.000000</td>\n",
       "      <td>0.000000</td>\n",
       "      <td>0.0</td>\n",
       "    </tr>\n",
       "    <tr>\n",
       "      <th>4</th>\n",
       "      <td>00437101000124</td>\n",
       "      <td>1.279481</td>\n",
       "      <td>0.0</td>\n",
       "      <td>31.666667</td>\n",
       "      <td>283</td>\n",
       "      <td>0.972151</td>\n",
       "      <td>0.000000</td>\n",
       "      <td>0.027849</td>\n",
       "      <td>0.000000</td>\n",
       "      <td>0.0</td>\n",
       "    </tr>\n",
       "  </tbody>\n",
       "</table>\n",
       "</div>"
      ],
      "text/plain": [
       "             cnpj  prop_divida  quantidade_cheques  tempo_medio  idade_maxima  \\\n",
       "0  00178663000281   128.547136                17.0     6.497006          1134   \n",
       "1  00225356000123     0.007152                 0.0     0.000000          1793   \n",
       "2  00265954000207     0.003095                 0.0     0.000000            73   \n",
       "3  00272073000302     0.069306                 0.0    48.600000           320   \n",
       "4  00437101000124     1.279481                 0.0    31.666667           283   \n",
       "\n",
       "    credito     infra    outros  processos  dispersao  \n",
       "0  0.226849  0.299252  0.151041   0.322858        0.0  \n",
       "1  0.000000  0.000000  1.000000   0.000000        0.0  \n",
       "2  0.000000  0.000000  1.000000   0.000000        0.0  \n",
       "3  0.000000  0.000000  1.000000   0.000000        0.0  \n",
       "4  0.972151  0.000000  0.027849   0.000000        0.0  "
      ]
     },
     "execution_count": 119,
     "metadata": {},
     "output_type": "execute_result"
    }
   ],
   "source": [
    "final.head()"
   ]
  },
  {
   "cell_type": "code",
   "execution_count": 120,
   "metadata": {},
   "outputs": [],
   "source": [
    "res.to_excel(\"../tabelas/dataset_variaveis_completo_201904.xlsx\")"
   ]
  },
  {
   "cell_type": "code",
   "execution_count": 121,
   "metadata": {},
   "outputs": [],
   "source": [
    "final.to_excel('../tabelas/dataset_modelo_201904.xlsx')"
   ]
  },
  {
   "cell_type": "code",
   "execution_count": null,
   "metadata": {},
   "outputs": [],
   "source": []
  },
  {
   "cell_type": "code",
   "execution_count": null,
   "metadata": {},
   "outputs": [],
   "source": []
  },
  {
   "cell_type": "code",
   "execution_count": null,
   "metadata": {},
   "outputs": [],
   "source": []
  }
 ],
 "metadata": {
  "kernelspec": {
   "display_name": "Python 3",
   "language": "python",
   "name": "python3"
  },
  "language_info": {
   "codemirror_mode": {
    "name": "ipython",
    "version": 3
   },
   "file_extension": ".py",
   "mimetype": "text/x-python",
   "name": "python",
   "nbconvert_exporter": "python",
   "pygments_lexer": "ipython3",
   "version": "3.6.5"
  }
 },
 "nbformat": 4,
 "nbformat_minor": 2
}
