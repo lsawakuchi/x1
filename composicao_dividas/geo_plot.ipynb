{
 "cells": [
  {
   "cell_type": "code",
   "execution_count": 1,
   "metadata": {},
   "outputs": [],
   "source": [
    "DATASETS_URL = \"https://github.com/ageron/handson-ml/raw/master/datasets\"\n",
    "import os\n",
    "import tarfile\n",
    "from six.moves import urllib\n",
    "\n",
    "HOUSING_PATH = \"datasets/housing\"\n",
    "HOUSING_URL = DATASETS_URL + \"/housing/housing.tgz\"\n",
    "\n",
    "def fetch_housing_data(housing_url=HOUSING_URL, housing_path=HOUSING_PATH):\n",
    "    if not os.path.exists(housing_path):\n",
    "        os.makedirs(housing_path)\n",
    "    tgz_path = os.path.join(housing_path, \"housing.tgz\")\n",
    "    urllib.request.urlretrieve(housing_url, tgz_path)\n",
    "    housing_tgz = tarfile.open(tgz_path)\n",
    "    housing_tgz.extractall(path=housing_path)\n",
    "    housing_tgz.close()"
   ]
  },
  {
   "cell_type": "code",
   "execution_count": 2,
   "metadata": {},
   "outputs": [
    {
     "data": {
      "text/html": [
       "<div>\n",
       "<style scoped>\n",
       "    .dataframe tbody tr th:only-of-type {\n",
       "        vertical-align: middle;\n",
       "    }\n",
       "\n",
       "    .dataframe tbody tr th {\n",
       "        vertical-align: top;\n",
       "    }\n",
       "\n",
       "    .dataframe thead th {\n",
       "        text-align: right;\n",
       "    }\n",
       "</style>\n",
       "<table border=\"1\" class=\"dataframe\">\n",
       "  <thead>\n",
       "    <tr style=\"text-align: right;\">\n",
       "      <th></th>\n",
       "      <th>longitude</th>\n",
       "      <th>latitude</th>\n",
       "      <th>housing_median_age</th>\n",
       "      <th>total_rooms</th>\n",
       "      <th>total_bedrooms</th>\n",
       "      <th>population</th>\n",
       "      <th>households</th>\n",
       "      <th>median_income</th>\n",
       "      <th>median_house_value</th>\n",
       "      <th>ocean_proximity</th>\n",
       "    </tr>\n",
       "  </thead>\n",
       "  <tbody>\n",
       "    <tr>\n",
       "      <th>0</th>\n",
       "      <td>-122.23</td>\n",
       "      <td>37.88</td>\n",
       "      <td>41.0</td>\n",
       "      <td>880.0</td>\n",
       "      <td>129.0</td>\n",
       "      <td>322.0</td>\n",
       "      <td>126.0</td>\n",
       "      <td>8.3252</td>\n",
       "      <td>452600.0</td>\n",
       "      <td>NEAR BAY</td>\n",
       "    </tr>\n",
       "    <tr>\n",
       "      <th>1</th>\n",
       "      <td>-122.22</td>\n",
       "      <td>37.86</td>\n",
       "      <td>21.0</td>\n",
       "      <td>7099.0</td>\n",
       "      <td>1106.0</td>\n",
       "      <td>2401.0</td>\n",
       "      <td>1138.0</td>\n",
       "      <td>8.3014</td>\n",
       "      <td>358500.0</td>\n",
       "      <td>NEAR BAY</td>\n",
       "    </tr>\n",
       "    <tr>\n",
       "      <th>2</th>\n",
       "      <td>-122.24</td>\n",
       "      <td>37.85</td>\n",
       "      <td>52.0</td>\n",
       "      <td>1467.0</td>\n",
       "      <td>190.0</td>\n",
       "      <td>496.0</td>\n",
       "      <td>177.0</td>\n",
       "      <td>7.2574</td>\n",
       "      <td>352100.0</td>\n",
       "      <td>NEAR BAY</td>\n",
       "    </tr>\n",
       "    <tr>\n",
       "      <th>3</th>\n",
       "      <td>-122.25</td>\n",
       "      <td>37.85</td>\n",
       "      <td>52.0</td>\n",
       "      <td>1274.0</td>\n",
       "      <td>235.0</td>\n",
       "      <td>558.0</td>\n",
       "      <td>219.0</td>\n",
       "      <td>5.6431</td>\n",
       "      <td>341300.0</td>\n",
       "      <td>NEAR BAY</td>\n",
       "    </tr>\n",
       "    <tr>\n",
       "      <th>4</th>\n",
       "      <td>-122.25</td>\n",
       "      <td>37.85</td>\n",
       "      <td>52.0</td>\n",
       "      <td>1627.0</td>\n",
       "      <td>280.0</td>\n",
       "      <td>565.0</td>\n",
       "      <td>259.0</td>\n",
       "      <td>3.8462</td>\n",
       "      <td>342200.0</td>\n",
       "      <td>NEAR BAY</td>\n",
       "    </tr>\n",
       "  </tbody>\n",
       "</table>\n",
       "</div>"
      ],
      "text/plain": [
       "   longitude  latitude  housing_median_age  total_rooms  total_bedrooms  \\\n",
       "0    -122.23     37.88                41.0        880.0           129.0   \n",
       "1    -122.22     37.86                21.0       7099.0          1106.0   \n",
       "2    -122.24     37.85                52.0       1467.0           190.0   \n",
       "3    -122.25     37.85                52.0       1274.0           235.0   \n",
       "4    -122.25     37.85                52.0       1627.0           280.0   \n",
       "\n",
       "   population  households  median_income  median_house_value ocean_proximity  \n",
       "0       322.0       126.0         8.3252            452600.0        NEAR BAY  \n",
       "1      2401.0      1138.0         8.3014            358500.0        NEAR BAY  \n",
       "2       496.0       177.0         7.2574            352100.0        NEAR BAY  \n",
       "3       558.0       219.0         5.6431            341300.0        NEAR BAY  \n",
       "4       565.0       259.0         3.8462            342200.0        NEAR BAY  "
      ]
     },
     "execution_count": 2,
     "metadata": {},
     "output_type": "execute_result"
    }
   ],
   "source": [
    "fetch_housing_data()\n",
    "import pandas as pd\n",
    "\n",
    "def load_housing_data(housing_path=HOUSING_PATH):\n",
    "    csv_path = os.path.join(housing_path, \"housing.csv\")\n",
    "    return pd.read_csv(csv_path)\n",
    "housing = load_housing_data()\n",
    "housing.head()"
   ]
  },
  {
   "cell_type": "code",
   "execution_count": 4,
   "metadata": {},
   "outputs": [
    {
     "data": {
      "text/plain": [
       "<matplotlib.axes._subplots.AxesSubplot at 0x7fcd49df1940>"
      ]
     },
     "execution_count": 4,
     "metadata": {},
     "output_type": "execute_result"
    },
    {
     "data": {
      "image/png": "[encoded data removed]",
      "text/plain": [
       "<Figure size 432x288 with 1 Axes>"
      ]
     },
     "metadata": {},
     "output_type": "display_data"
    }
   ],
   "source": [
    "import matplotlib.pyplot as plt\n",
    "housing.plot(kind=\"scatter\", x=\"longitude\", y=\"latitude\", alpha=0.4)\n"
   ]
  },
  {
   "cell_type": "code",
   "execution_count": 5,
   "metadata": {},
   "outputs": [
    {
     "data": {
      "image/png": "[encoded data removed]",
      "text/plain": [
       "<Figure size 720x504 with 2 Axes>"
      ]
     },
     "metadata": {},
     "output_type": "display_data"
    }
   ],
   "source": [
    "housing.plot(kind=\"scatter\", x=\"longitude\", y=\"latitude\",\n",
    "    s=housing['population']/100, label=\"population\",\n",
    "    c=\"median_house_value\", cmap=plt.get_cmap(\"jet\"),\n",
    "    colorbar=True, alpha=0.4, figsize=(10,7),\n",
    ")\n",
    "plt.legend()\n",
    "plt.show()"
   ]
  },
  {
   "cell_type": "code",
   "execution_count": 7,
   "metadata": {},
   "outputs": [],
   "source": [
    "# import numpy as np\n",
    "# import matplotlib.image as mpimg\n",
    "# california_img=mpimg.imread('california.png')\n",
    "# ax = housing.plot(kind=\"scatter\", x=\"longitude\", y=\"latitude\", figsize=(10,7),\n",
    "#                        s=housing['population']/100, label=\"Population\",\n",
    "#                        c=\"median_house_value\", cmap=plt.get_cmap(\"jet\"),\n",
    "#                        colorbar=False, alpha=0.4,\n",
    "#                       )\n",
    "# plt.imshow(california_img, extent=[-124.55, -113.80, 32.45, 42.05], alpha=0.5)\n",
    "# plt.ylabel(\"Latitude\", fontsize=14)\n",
    "# plt.xlabel(\"Longitude\", fontsize=14)\n",
    "\n",
    "# prices = housing[\"median_house_value\"]\n",
    "# tick_values = np.linspace(prices.min(), prices.max(), 11)\n",
    "# cbar = plt.colorbar()\n",
    "# cbar.ax.set_yticklabels([\"$%dk\"%(round(v/1000)) for v in tick_values], fontsize=14)\n",
    "# cbar.set_label('Median House Value', fontsize=16)\n",
    "\n",
    "# plt.legend(fontsize=16)\n",
    "# plt.show()"
   ]
  },
  {
   "cell_type": "code",
   "execution_count": 55,
   "metadata": {},
   "outputs": [
    {
     "data": {
      "text/html": [
       "<script type=\"text/javascript\">window.PlotlyConfig = {MathJaxConfig: 'local'};</script><script type=\"text/javascript\">if (window.MathJax) {MathJax.Hub.Config({SVG: {font: \"STIX-Web\"}});}</script><script>requirejs.config({paths: { 'plotly': ['https://cdn.plot.ly/plotly-latest.min']},});if(!window._Plotly) {require(['plotly'],function(plotly) {window._Plotly=plotly;});}</script>"
      ],
      "text/vnd.plotly.v1+html": [
       "<script type=\"text/javascript\">window.PlotlyConfig = {MathJaxConfig: 'local'};</script><script type=\"text/javascript\">if (window.MathJax) {MathJax.Hub.Config({SVG: {font: \"STIX-Web\"}});}</script><script>requirejs.config({paths: { 'plotly': ['https://cdn.plot.ly/plotly-latest.min']},});if(!window._Plotly) {require(['plotly'],function(plotly) {window._Plotly=plotly;});}</script>"
      ]
     },
     "metadata": {},
     "output_type": "display_data"
    },
    {
     "data": {
      "application/vnd.plotly.v1+json": {
       "config": {
        "linkText": "Export to plot.ly",
        "plotlyServerURL": "https://plot.ly",
        "showLink": false
       },
       "data": [
        {
         "lat": [
          -70.55,
          -35.73,
          -61.66,
          -51.77,
          -38.51,
          -38.54,
          -47.86,
          -40.34,
          -49.31,
          -44.3,
          -55.42,
          -54.54,
          -44.38,
          -52.29,
          -35.55,
          -51.55,
          -35.07,
          -43.68,
          -43.15,
          -36.52,
          -62.8,
          -51.22,
          -61.22,
          -49.44,
          -37.07,
          -46.64,
          -48.25
         ],
         "locationmode": "country names",
         "lon": [
          -8.77,
          -9.71,
          -3.07,
          1.41,
          -12.96,
          -3.71,
          -15.83,
          -19.19,
          -16.64,
          -2.55,
          -12.64,
          -20.51,
          -18.1,
          -5.53,
          -7.06,
          -24.89,
          -8.28,
          -8.28,
          -22.84,
          -5.22,
          -11.22,
          -30.01,
          1.89,
          -27.33,
          -10.9,
          -23.55,
          -10.25
         ],
         "marker": {
          "autocolorscale": false,
          "colorbar": {
           "title": {
            "text": "Incoming flights<br>February 2011"
           }
          },
          "colorscale": [
           [
            0,
            "rgb(5, 10, 172)"
           ],
           [
            0.35,
            "rgb(40, 60, 190)"
           ],
           [
            0.5,
            "rgb(70, 100, 245)"
           ],
           [
            0.6,
            "rgb(90, 120, 245)"
           ],
           [
            0.7,
            "rgb(106, 137, 247)"
           ],
           [
            1,
            "rgb(220, 220, 220)"
           ]
          ],
          "line": {
           "color": "rgba(102, 102, 102)",
           "width": 1
          },
          "opacity": 0.8,
          "reversescale": true,
          "size": 8,
          "symbol": "square"
         },
         "mode": "markers",
         "text": [
          "AC",
          "AL",
          "AM",
          "AP",
          "BA",
          "CE",
          "DF",
          "ES",
          "GO",
          "MA",
          "MT",
          "MS",
          "MG",
          "PA",
          "PB",
          "PR",
          "PE",
          "PI",
          "RJ",
          "RN",
          "RO",
          "RS",
          "RR",
          "SC",
          "SE",
          "SP",
          "TO"
         ],
         "type": "scattergeo",
         "uid": "002504a5-e449-4ea9-83c4-0f0218285258"
        }
       ],
       "layout": {
        "geo": {
         "countrycolor": "rgb(217, 217, 217)",
         "countrywidth": 0.5,
         "landcolor": "rgb(250, 250, 250)",
         "scope": "south america",
         "showland": true,
         "subunitcolor": "rgb(217, 217, 217)",
         "subunitwidth": 0.5
        },
        "title": {
         "text": "Most trafficked US airports<br>(Hover for airport names)"
        }
       }
      },
      "text/html": [
       "<div id=\"d06ed793-8212-41da-9420-3748a4abf0e6\" style=\"height: 525px; width: 100%;\" class=\"plotly-graph-div\"></div><script type=\"text/javascript\">require([\"plotly\"], function(Plotly) { window.PLOTLYENV=window.PLOTLYENV || {};window.PLOTLYENV.BASE_URL=\"https://plot.ly\";Plotly.newPlot(\"d06ed793-8212-41da-9420-3748a4abf0e6\", [{\"lat\": [-70.55, -35.73, -61.66, -51.77, -38.51, -38.54, -47.86, -40.34, -49.31, -44.3, -55.42, -54.54, -44.38, -52.29, -35.55, -51.55, -35.07, -43.68, -43.15, -36.52, -62.8, -51.22, -61.22, -49.44, -37.07, -46.64, -48.25], \"locationmode\": \"country names\", \"lon\": [-8.77, -9.71, -3.07, 1.41, -12.96, -3.71, -15.83, -19.19, -16.64, -2.55, -12.64, -20.51, -18.1, -5.53, -7.06, -24.89, -8.28, -8.28, -22.84, -5.22, -11.22, -30.01, 1.89, -27.33, -10.9, -23.55, -10.25], \"marker\": {\"autocolorscale\": false, \"colorbar\": {\"title\": {\"text\": \"Incoming flights<br>February 2011\"}}, \"colorscale\": [[0, \"rgb(5, 10, 172)\"], [0.35, \"rgb(40, 60, 190)\"], [0.5, \"rgb(70, 100, 245)\"], [0.6, \"rgb(90, 120, 245)\"], [0.7, \"rgb(106, 137, 247)\"], [1, \"rgb(220, 220, 220)\"]], \"line\": {\"color\": \"rgba(102, 102, 102)\", \"width\": 1}, \"opacity\": 0.8, \"reversescale\": true, \"size\": 8, \"symbol\": \"square\"}, \"mode\": \"markers\", \"text\": [\"AC\", \"AL\", \"AM\", \"AP\", \"BA\", \"CE\", \"DF\", \"ES\", \"GO\", \"MA\", \"MT\", \"MS\", \"MG\", \"PA\", \"PB\", \"PR\", \"PE\", \"PI\", \"RJ\", \"RN\", \"RO\", \"RS\", \"RR\", \"SC\", \"SE\", \"SP\", \"TO\"], \"type\": \"scattergeo\", \"uid\": \"002504a5-e449-4ea9-83c4-0f0218285258\"}], {\"geo\": {\"countrycolor\": \"rgb(217, 217, 217)\", \"countrywidth\": 0.5, \"landcolor\": \"rgb(250, 250, 250)\", \"scope\": \"south america\", \"showland\": true, \"subunitcolor\": \"rgb(217, 217, 217)\", \"subunitwidth\": 0.5}, \"title\": {\"text\": \"Most trafficked US airports<br>(Hover for airport names)\"}}, {\"showLink\": false, \"linkText\": \"Export to plot.ly\", \"plotlyServerURL\": \"https://plot.ly\"})});</script><script type=\"text/javascript\">window.addEventListener(\"resize\", function(){window._Plotly.Plots.resize(document.getElementById(\"d06ed793-8212-41da-9420-3748a4abf0e6\"));});</script>"
      ],
      "text/vnd.plotly.v1+html": [
       "<div id=\"d06ed793-8212-41da-9420-3748a4abf0e6\" style=\"height: 525px; width: 100%;\" class=\"plotly-graph-div\"></div><script type=\"text/javascript\">require([\"plotly\"], function(Plotly) { window.PLOTLYENV=window.PLOTLYENV || {};window.PLOTLYENV.BASE_URL=\"https://plot.ly\";Plotly.newPlot(\"d06ed793-8212-41da-9420-3748a4abf0e6\", [{\"lat\": [-70.55, -35.73, -61.66, -51.77, -38.51, -38.54, -47.86, -40.34, -49.31, -44.3, -55.42, -54.54, -44.38, -52.29, -35.55, -51.55, -35.07, -43.68, -43.15, -36.52, -62.8, -51.22, -61.22, -49.44, -37.07, -46.64, -48.25], \"locationmode\": \"country names\", \"lon\": [-8.77, -9.71, -3.07, 1.41, -12.96, -3.71, -15.83, -19.19, -16.64, -2.55, -12.64, -20.51, -18.1, -5.53, -7.06, -24.89, -8.28, -8.28, -22.84, -5.22, -11.22, -30.01, 1.89, -27.33, -10.9, -23.55, -10.25], \"marker\": {\"autocolorscale\": false, \"colorbar\": {\"title\": {\"text\": \"Incoming flights<br>February 2011\"}}, \"colorscale\": [[0, \"rgb(5, 10, 172)\"], [0.35, \"rgb(40, 60, 190)\"], [0.5, \"rgb(70, 100, 245)\"], [0.6, \"rgb(90, 120, 245)\"], [0.7, \"rgb(106, 137, 247)\"], [1, \"rgb(220, 220, 220)\"]], \"line\": {\"color\": \"rgba(102, 102, 102)\", \"width\": 1}, \"opacity\": 0.8, \"reversescale\": true, \"size\": 8, \"symbol\": \"square\"}, \"mode\": \"markers\", \"text\": [\"AC\", \"AL\", \"AM\", \"AP\", \"BA\", \"CE\", \"DF\", \"ES\", \"GO\", \"MA\", \"MT\", \"MS\", \"MG\", \"PA\", \"PB\", \"PR\", \"PE\", \"PI\", \"RJ\", \"RN\", \"RO\", \"RS\", \"RR\", \"SC\", \"SE\", \"SP\", \"TO\"], \"type\": \"scattergeo\", \"uid\": \"002504a5-e449-4ea9-83c4-0f0218285258\"}], {\"geo\": {\"countrycolor\": \"rgb(217, 217, 217)\", \"countrywidth\": 0.5, \"landcolor\": \"rgb(250, 250, 250)\", \"scope\": \"south america\", \"showland\": true, \"subunitcolor\": \"rgb(217, 217, 217)\", \"subunitwidth\": 0.5}, \"title\": {\"text\": \"Most trafficked US airports<br>(Hover for airport names)\"}}, {\"showLink\": false, \"linkText\": \"Export to plot.ly\", \"plotlyServerURL\": \"https://plot.ly\"})});</script><script type=\"text/javascript\">window.addEventListener(\"resize\", function(){window._Plotly.Plots.resize(document.getElementById(\"d06ed793-8212-41da-9420-3748a4abf0e6\"));});</script>"
      ]
     },
     "metadata": {},
     "output_type": "display_data"
    }
   ],
   "source": [
    "\n",
    "from plotly.offline import init_notebook_mode, iplot\n",
    "import plotly.graph_objs as go\n",
    "init_notebook_mode(connected=True)\n",
    "import pandas as pd\n",
    "\n",
    "# df = pd.read_csv('https://raw.githubusercontent.com/plotly/datasets/master/2011_february_us_airport_traffic.csv')\n",
    "# df.head()\n",
    "\n",
    "# df['text'] = df['airport'] + '' + df['city'] + ', ' + df['state'] + '' + 'Arrivals: ' + df['cnt'].astype(str)\n",
    "\n",
    "scl = [ [0,\"rgb(5, 10, 172)\"],[0.35,\"rgb(40, 60, 190)\"],[0.5,\"rgb(70, 100, 245)\"],\\\n",
    "    [0.6,\"rgb(90, 120, 245)\"],[0.7,\"rgb(106, 137, 247)\"],[1,\"rgb(220, 220, 220)\"] ]\n",
    "\n",
    "data = [ go.Scattergeo(\n",
    "        locationmode = 'country names',\n",
    "        lon = df['long'],\n",
    "        lat = df['lat'],\n",
    "        text = df['text'],\n",
    "        mode = 'markers',\n",
    "        marker = dict( \n",
    "            size = 8, \n",
    "            opacity = 0.8,\n",
    "            reversescale = True,\n",
    "            autocolorscale = False,\n",
    "            symbol = 'square',\n",
    "            line = dict(\n",
    "                width=1,\n",
    "                color='rgba(102, 102, 102)'\n",
    "            ),\n",
    "            colorscale = scl,\n",
    "#             cmin = 0,\n",
    "#             color = df['cnt'],\n",
    "#             cmax = df['cnt'].max(),\n",
    "            colorbar=dict(\n",
    "                title=\"Incoming flights<br>February 2011\"\n",
    "            )\n",
    "        ))]\n",
    "\n",
    "layout = dict(\n",
    "        title = 'Most trafficked US airports<br>(Hover for airport names)', \n",
    "        geo = dict(\n",
    "            scope='south america',\n",
    "#             projection=dict( type='albers usa' ),\n",
    "            showland = True,\n",
    "            landcolor = \"rgb(250, 250, 250)\",\n",
    "            subunitcolor = \"rgb(217, 217, 217)\",\n",
    "            countrycolor = \"rgb(217, 217, 217)\",\n",
    "            countrywidth = 0.5,\n",
    "            subunitwidth = 0.5        \n",
    "        ),\n",
    "    )\n",
    "\n",
    "fig = go.Figure(data=data, layout=layout )\n",
    "iplot(fig)"
   ]
  },
  {
   "cell_type": "code",
   "execution_count": 47,
   "metadata": {},
   "outputs": [],
   "source": [
    "df = pd.read_csv('https://raw.githubusercontent.com/plotly/datasets/master/2011_february_us_airport_traffic.csv')\n",
    "df.head()\n",
    "\n",
    "df['text'] = df['airport'] + '' + df['city'] + ', ' + df['state'] + '' + 'Arrivals: ' + df['cnt'].astype(str)\n"
   ]
  },
  {
   "cell_type": "code",
   "execution_count": null,
   "metadata": {},
   "outputs": [],
   "source": []
  },
  {
   "cell_type": "code",
   "execution_count": 22,
   "metadata": {},
   "outputs": [],
   "source": [
    "coords = {\n",
    "            \"AC\": [ -8.77, -70.55]\n",
    "          , \"AL\": [ -9.71, -35.73]\n",
    "          , \"AM\": [ -3.07, -61.66]\n",
    "          , \"AP\": [  1.41, -51.77]\n",
    "          , \"BA\": [-12.96, -38.51]\n",
    "          , \"CE\": [ -3.71, -38.54]\n",
    "          , 'DF': [-15.83, -47.86]\n",
    "          , \"ES\": [-19.19, -40.34]\n",
    "          , \"GO\": [-16.64, -49.31]\n",
    "          , \"MA\": [ -2.55, -44.30]\n",
    "          , \"MT\": [-12.64, -55.42]\n",
    "          , \"MS\": [-20.51, -54.54]\n",
    "          , \"MG\": [-18.10, -44.38]\n",
    "          , \"PA\": [ -5.53, -52.29]\n",
    "          , \"PB\": [ -7.06, -35.55]\n",
    "          , \"PR\": [-24.89, -51.55]\n",
    "          , \"PE\": [ -8.28, -35.07]\n",
    "          , \"PI\": [ -8.28, -43.68]\n",
    "          , \"RJ\": [-22.84, -43.15]\n",
    "          , \"RN\": [ -5.22, -36.52]\n",
    "          , \"RO\": [-11.22, -62.80]\n",
    "          , \"RS\": [-30.01, -51.22]\n",
    "          , \"RR\": [  1.89, -61.22]\n",
    "          , \"SC\": [-27.33, -49.44]\n",
    "          , \"SE\": [-10.90, -37.07]\n",
    "          , \"SP\": [-23.55, -46.64]\n",
    "          , \"TO\": [-10.25, -48.25]\n",
    "        }"
   ]
  },
  {
   "cell_type": "code",
   "execution_count": 50,
   "metadata": {},
   "outputs": [],
   "source": [
    "df = pd.DataFrame(coords).T"
   ]
  },
  {
   "cell_type": "code",
   "execution_count": 51,
   "metadata": {},
   "outputs": [],
   "source": [
    "df = df.reset_index()"
   ]
  },
  {
   "cell_type": "code",
   "execution_count": 52,
   "metadata": {},
   "outputs": [],
   "source": [
    "df.columns = ['text', 'long', 'lat']"
   ]
  },
  {
   "cell_type": "code",
   "execution_count": 56,
   "metadata": {},
   "outputs": [
    {
     "data": {
      "text/html": [
       "<div>\n",
       "<style scoped>\n",
       "    .dataframe tbody tr th:only-of-type {\n",
       "        vertical-align: middle;\n",
       "    }\n",
       "\n",
       "    .dataframe tbody tr th {\n",
       "        vertical-align: top;\n",
       "    }\n",
       "\n",
       "    .dataframe thead th {\n",
       "        text-align: right;\n",
       "    }\n",
       "</style>\n",
       "<table border=\"1\" class=\"dataframe\">\n",
       "  <thead>\n",
       "    <tr style=\"text-align: right;\">\n",
       "      <th></th>\n",
       "      <th>text</th>\n",
       "      <th>long</th>\n",
       "      <th>lat</th>\n",
       "    </tr>\n",
       "  </thead>\n",
       "  <tbody>\n",
       "    <tr>\n",
       "      <th>0</th>\n",
       "      <td>AC</td>\n",
       "      <td>-8.77</td>\n",
       "      <td>-70.55</td>\n",
       "    </tr>\n",
       "    <tr>\n",
       "      <th>1</th>\n",
       "      <td>AL</td>\n",
       "      <td>-9.71</td>\n",
       "      <td>-35.73</td>\n",
       "    </tr>\n",
       "    <tr>\n",
       "      <th>2</th>\n",
       "      <td>AM</td>\n",
       "      <td>-3.07</td>\n",
       "      <td>-61.66</td>\n",
       "    </tr>\n",
       "    <tr>\n",
       "      <th>3</th>\n",
       "      <td>AP</td>\n",
       "      <td>1.41</td>\n",
       "      <td>-51.77</td>\n",
       "    </tr>\n",
       "    <tr>\n",
       "      <th>4</th>\n",
       "      <td>BA</td>\n",
       "      <td>-12.96</td>\n",
       "      <td>-38.51</td>\n",
       "    </tr>\n",
       "  </tbody>\n",
       "</table>\n",
       "</div>"
      ],
      "text/plain": [
       "  text   long    lat\n",
       "0   AC  -8.77 -70.55\n",
       "1   AL  -9.71 -35.73\n",
       "2   AM  -3.07 -61.66\n",
       "3   AP   1.41 -51.77\n",
       "4   BA -12.96 -38.51"
      ]
     },
     "execution_count": 56,
     "metadata": {},
     "output_type": "execute_result"
    }
   ],
   "source": [
    "df.head()"
   ]
  },
  {
   "cell_type": "code",
   "execution_count": 57,
   "metadata": {},
   "outputs": [],
   "source": [
    "token = 'pk.eyJ1IjoibHNhd2FrdWNoaSIsImEiOiJjanR5bzBjcDIydm40NGVtdTZlcndvczVnIn0.eqn_62MmRZiQZhCymBEq_w'"
   ]
  },
  {
   "cell_type": "code",
   "execution_count": 60,
   "metadata": {},
   "outputs": [],
   "source": [
    "shaz13_custom_style = \"mapbox://styles/shaz13/cjiog1iqa1vkd2soeu5eocy4i\"\n",
    "#set the geo=spatial data\n",
    "data = [go.Scattermapbox(\n",
    "            lat= df['lat'] ,\n",
    "            lon= df['long'],\n",
    "#             customdata = train['key'],\n",
    "            mode='markers',\n",
    "            marker=dict(\n",
    "                size= 4,\n",
    "                color = 'gold',\n",
    "                opacity = .8,\n",
    "            ),\n",
    "          )]"
   ]
  },
  {
   "cell_type": "code",
   "execution_count": 65,
   "metadata": {},
   "outputs": [],
   "source": [
    "#set the layout to plot\n",
    "layout = go.Layout(autosize=False,\n",
    "                   mapbox= dict(accesstoken=token,\n",
    "                                bearing=10,\n",
    "                                pitch=60,\n",
    "                                zoom=13,\n",
    "                                center= dict(lat=40.721319,\n",
    "                                             lon=-73.987130),\n",
    "                                style=shaz13_custom_style),\n",
    "                    width=900,\n",
    "                    height=600, \n",
    "                    title = \"Pick up Locations in NewYork\")"
   ]
  },
  {
   "cell_type": "code",
   "execution_count": 66,
   "metadata": {},
   "outputs": [
    {
     "data": {
      "application/vnd.plotly.v1+json": {
       "config": {
        "linkText": "Export to plot.ly",
        "plotlyServerURL": "https://plot.ly",
        "showLink": false
       },
       "data": [
        {
         "lat": [
          -70.55,
          -35.73,
          -61.66,
          -51.77,
          -38.51,
          -38.54,
          -47.86,
          -40.34,
          -49.31,
          -44.3,
          -55.42,
          -54.54,
          -44.38,
          -52.29,
          -35.55,
          -51.55,
          -35.07,
          -43.68,
          -43.15,
          -36.52,
          -62.8,
          -51.22,
          -61.22,
          -49.44,
          -37.07,
          -46.64,
          -48.25
         ],
         "lon": [
          -8.77,
          -9.71,
          -3.07,
          1.41,
          -12.96,
          -3.71,
          -15.83,
          -19.19,
          -16.64,
          -2.55,
          -12.64,
          -20.51,
          -18.1,
          -5.53,
          -7.06,
          -24.89,
          -8.28,
          -8.28,
          -22.84,
          -5.22,
          -11.22,
          -30.01,
          1.89,
          -27.33,
          -10.9,
          -23.55,
          -10.25
         ],
         "marker": {
          "color": "gold",
          "opacity": 0.8,
          "size": 4
         },
         "mode": "markers",
         "type": "scattermapbox",
         "uid": "6dbc9977-7dbb-4b5f-b7b7-2a2772a401c3"
        }
       ],
       "layout": {
        "autosize": false,
        "height": 600,
        "mapbox": {
         "accesstoken": "pk.eyJ1IjoibHNhd2FrdWNoaSIsImEiOiJjanR5bzBjcDIydm40NGVtdTZlcndvczVnIn0.eqn_62MmRZiQZhCymBEq_w",
         "bearing": 10,
         "center": {
          "lat": 40.721319,
          "lon": -73.98713
         },
         "pitch": 60,
         "style": "mapbox://styles/shaz13/cjiog1iqa1vkd2soeu5eocy4i",
         "zoom": 13
        },
        "title": {
         "text": "Pick up Locations in NewYork"
        },
        "width": 900
       }
      },
      "text/html": [
       "<div id=\"35d5659c-c0b2-41e5-bb0b-c2bb5b5a3079\" style=\"height: 600px; width: 900px;\" class=\"plotly-graph-div\"></div><script type=\"text/javascript\">require([\"plotly\"], function(Plotly) { window.PLOTLYENV=window.PLOTLYENV || {};window.PLOTLYENV.BASE_URL=\"https://plot.ly\";Plotly.newPlot(\"35d5659c-c0b2-41e5-bb0b-c2bb5b5a3079\", [{\"lat\": [-70.55, -35.73, -61.66, -51.77, -38.51, -38.54, -47.86, -40.34, -49.31, -44.3, -55.42, -54.54, -44.38, -52.29, -35.55, -51.55, -35.07, -43.68, -43.15, -36.52, -62.8, -51.22, -61.22, -49.44, -37.07, -46.64, -48.25], \"lon\": [-8.77, -9.71, -3.07, 1.41, -12.96, -3.71, -15.83, -19.19, -16.64, -2.55, -12.64, -20.51, -18.1, -5.53, -7.06, -24.89, -8.28, -8.28, -22.84, -5.22, -11.22, -30.01, 1.89, -27.33, -10.9, -23.55, -10.25], \"marker\": {\"color\": \"gold\", \"opacity\": 0.8, \"size\": 4}, \"mode\": \"markers\", \"type\": \"scattermapbox\", \"uid\": \"2c32b767-ba02-4295-bb6a-ddace9c2c403\"}], {\"autosize\": false, \"height\": 600, \"mapbox\": {\"accesstoken\": \"pk.eyJ1IjoibHNhd2FrdWNoaSIsImEiOiJjanR5bzBjcDIydm40NGVtdTZlcndvczVnIn0.eqn_62MmRZiQZhCymBEq_w\", \"bearing\": 10, \"center\": {\"lat\": 40.721319, \"lon\": -73.98713}, \"pitch\": 60, \"style\": \"mapbox://styles/shaz13/cjiog1iqa1vkd2soeu5eocy4i\", \"zoom\": 13}, \"title\": {\"text\": \"Pick up Locations in NewYork\"}, \"width\": 900}, {\"showLink\": false, \"linkText\": \"Export to plot.ly\", \"plotlyServerURL\": \"https://plot.ly\"})});</script>"
      ],
      "text/vnd.plotly.v1+html": [
       "<div id=\"35d5659c-c0b2-41e5-bb0b-c2bb5b5a3079\" style=\"height: 600px; width: 900px;\" class=\"plotly-graph-div\"></div><script type=\"text/javascript\">require([\"plotly\"], function(Plotly) { window.PLOTLYENV=window.PLOTLYENV || {};window.PLOTLYENV.BASE_URL=\"https://plot.ly\";Plotly.newPlot(\"35d5659c-c0b2-41e5-bb0b-c2bb5b5a3079\", [{\"lat\": [-70.55, -35.73, -61.66, -51.77, -38.51, -38.54, -47.86, -40.34, -49.31, -44.3, -55.42, -54.54, -44.38, -52.29, -35.55, -51.55, -35.07, -43.68, -43.15, -36.52, -62.8, -51.22, -61.22, -49.44, -37.07, -46.64, -48.25], \"lon\": [-8.77, -9.71, -3.07, 1.41, -12.96, -3.71, -15.83, -19.19, -16.64, -2.55, -12.64, -20.51, -18.1, -5.53, -7.06, -24.89, -8.28, -8.28, -22.84, -5.22, -11.22, -30.01, 1.89, -27.33, -10.9, -23.55, -10.25], \"marker\": {\"color\": \"gold\", \"opacity\": 0.8, \"size\": 4}, \"mode\": \"markers\", \"type\": \"scattermapbox\", \"uid\": \"2c32b767-ba02-4295-bb6a-ddace9c2c403\"}], {\"autosize\": false, \"height\": 600, \"mapbox\": {\"accesstoken\": \"pk.eyJ1IjoibHNhd2FrdWNoaSIsImEiOiJjanR5bzBjcDIydm40NGVtdTZlcndvczVnIn0.eqn_62MmRZiQZhCymBEq_w\", \"bearing\": 10, \"center\": {\"lat\": 40.721319, \"lon\": -73.98713}, \"pitch\": 60, \"style\": \"mapbox://styles/shaz13/cjiog1iqa1vkd2soeu5eocy4i\", \"zoom\": 13}, \"title\": {\"text\": \"Pick up Locations in NewYork\"}, \"width\": 900}, {\"showLink\": false, \"linkText\": \"Export to plot.ly\", \"plotlyServerURL\": \"https://plot.ly\"})});</script>"
      ]
     },
     "metadata": {},
     "output_type": "display_data"
    }
   ],
   "source": [
    "fig = dict(data=data, layout=layout)\n",
    "iplot(fig)"
   ]
  },
  {
   "cell_type": "code",
   "execution_count": 68,
   "metadata": {},
   "outputs": [],
   "source": [
    "df_uf = df.copy()"
   ]
  },
  {
   "cell_type": "code",
   "execution_count": 1,
   "metadata": {},
   "outputs": [
    {
     "ename": "NameError",
     "evalue": "name 'df_uf' is not defined",
     "output_type": "error",
     "traceback": [
      "\u001b[0;31m---------------------------------------------------------------------------\u001b[0m",
      "\u001b[0;31mNameError\u001b[0m                                 Traceback (most recent call last)",
      "\u001b[0;32m<ipython-input-1-7d08de6a1276>\u001b[0m in \u001b[0;36m<module>\u001b[0;34m()\u001b[0m\n\u001b[1;32m     11\u001b[0m \u001b[0;31m# locations_name = df.text\u001b[0m\u001b[0;34m\u001b[0m\u001b[0;34m\u001b[0m\u001b[0m\n\u001b[1;32m     12\u001b[0m \u001b[0;31m# df = pd.read_csv('https://raw.githubusercontent.com/plotly/datasets/master/Nuclear%20Waste%20Sites%20on%20American%20Campuses.csv')\u001b[0m\u001b[0;34m\u001b[0m\u001b[0;34m\u001b[0m\u001b[0m\n\u001b[0;32m---> 13\u001b[0;31m \u001b[0msite_lat\u001b[0m \u001b[0;34m=\u001b[0m \u001b[0mdf_uf\u001b[0m\u001b[0;34m.\u001b[0m\u001b[0mlat\u001b[0m\u001b[0;34m\u001b[0m\u001b[0m\n\u001b[0m\u001b[1;32m     14\u001b[0m \u001b[0msite_lon\u001b[0m \u001b[0;34m=\u001b[0m \u001b[0mdf_uf\u001b[0m\u001b[0;34m.\u001b[0m\u001b[0mlong\u001b[0m\u001b[0;34m\u001b[0m\u001b[0m\n\u001b[1;32m     15\u001b[0m \u001b[0mlocations_name\u001b[0m \u001b[0;34m=\u001b[0m \u001b[0mdf_uf\u001b[0m\u001b[0;34m.\u001b[0m\u001b[0mtext\u001b[0m\u001b[0;34m\u001b[0m\u001b[0m\n",
      "\u001b[0;31mNameError\u001b[0m: name 'df_uf' is not defined"
     ]
    }
   ],
   "source": [
    "\n",
    "import plotly.graph_objs as go\n",
    "\n",
    "import pandas as pd\n",
    "\n",
    "# mapbox_access_token = 'ADD_YOUR_TOKEN_HERE'\n",
    "\n",
    "# df = pd.read_csv('https://raw.githubusercontent.com/plotly/datasets/master/Nuclear%20Waste%20Sites%20on%20American%20Campuses.csv')\n",
    "# site_lat = df.lat\n",
    "# site_lon = df.lon\n",
    "# locations_name = df.text\n",
    "# df = pd.read_csv('https://raw.githubusercontent.com/plotly/datasets/master/Nuclear%20Waste%20Sites%20on%20American%20Campuses.csv')\n",
    "site_lat = df_uf.lat\n",
    "site_lon = df_uf.long\n",
    "locations_name = df_uf.text\n",
    "\n",
    "data = [\n",
    "    go.Scattermapbox(\n",
    "        lat=site_lat,\n",
    "        lon=site_lon,\n",
    "        mode='markers',\n",
    "        marker=go.scattermapbox.Marker(\n",
    "            size=17,\n",
    "            color='rgb(255, 0, 0)',\n",
    "            opacity=0.7\n",
    "        ),\n",
    "        text=locations_name,\n",
    "        hoverinfo='text'\n",
    "    ),\n",
    "    go.Scattermapbox(\n",
    "        lat=site_lat,\n",
    "        lon=site_lon,\n",
    "        mode='markers',\n",
    "        marker=go.scattermapbox.Marker(\n",
    "            size=8,\n",
    "            color='rgb(242, 177, 172)',\n",
    "            opacity=0.7\n",
    "        ),\n",
    "        hoverinfo='none'\n",
    "    )]\n",
    "        \n",
    "layout = go.Layout(\n",
    "    title='Nuclear Waste Sites on Campus',\n",
    "    autosize=True,\n",
    "    hovermode='closest',\n",
    "    showlegend=False,\n",
    "    mapbox=go.layout.Mapbox(\n",
    "        accesstoken=token,\n",
    "        bearing=0,\n",
    "        center=go.layout.mapbox.Center(\n",
    "            lat=-16.64,\n",
    "            lon=-50.31\n",
    "        ),\n",
    "        pitch=0,\n",
    "        zoom=2,\n",
    "        style='light'\n",
    "    ),\n",
    ")\n",
    "\n",
    "fig = go.Figure(data=data, layout=layout)\n",
    "iplot(fig, filename='Nuclear Waste Sites on American Campuses')"
   ]
  },
  {
   "cell_type": "code",
   "execution_count": 76,
   "metadata": {},
   "outputs": [],
   "source": [
    "df = pd.read_csv('https://raw.githubusercontent.com/plotly/datasets/master/Nuclear%20Waste%20Sites%20on%20American%20Campuses.csv')\n",
    "site_lat = df.lat\n",
    "site_lon = df.lon\n",
    "locations_name = df.text\n",
    "df = pd.read_csv('https://raw.githubusercontent.com/plotly/datasets/master/Nuclear%20Waste%20Sites%20on%20American%20Campuses.csv')"
   ]
  },
  {
   "cell_type": "code",
   "execution_count": 78,
   "metadata": {},
   "outputs": [
    {
     "data": {
      "text/html": [
       "<div>\n",
       "<style scoped>\n",
       "    .dataframe tbody tr th:only-of-type {\n",
       "        vertical-align: middle;\n",
       "    }\n",
       "\n",
       "    .dataframe tbody tr th {\n",
       "        vertical-align: top;\n",
       "    }\n",
       "\n",
       "    .dataframe thead th {\n",
       "        text-align: right;\n",
       "    }\n",
       "</style>\n",
       "<table border=\"1\" class=\"dataframe\">\n",
       "  <thead>\n",
       "    <tr style=\"text-align: right;\">\n",
       "      <th></th>\n",
       "      <th>lat</th>\n",
       "      <th>lon</th>\n",
       "      <th>text</th>\n",
       "    </tr>\n",
       "  </thead>\n",
       "  <tbody>\n",
       "    <tr>\n",
       "      <th>0</th>\n",
       "      <td>35.888827</td>\n",
       "      <td>-106.305022</td>\n",
       "      <td>Acid/Pueblo Canyon</td>\n",
       "    </tr>\n",
       "    <tr>\n",
       "      <th>1</th>\n",
       "      <td>39.503487</td>\n",
       "      <td>-84.743859</td>\n",
       "      <td>Alba Craft Shop</td>\n",
       "    </tr>\n",
       "    <tr>\n",
       "      <th>2</th>\n",
       "      <td>44.620822</td>\n",
       "      <td>-123.120917</td>\n",
       "      <td>\"Albany, Oregon, FUSRAP Site\"</td>\n",
       "    </tr>\n",
       "    <tr>\n",
       "      <th>3</th>\n",
       "      <td>40.641371</td>\n",
       "      <td>-80.242936</td>\n",
       "      <td>Aliquippa Forge</td>\n",
       "    </tr>\n",
       "    <tr>\n",
       "      <th>4</th>\n",
       "      <td>39.361063</td>\n",
       "      <td>-84.540750</td>\n",
       "      <td>Associated Aircraft Tool and Manufacturing Co.</td>\n",
       "    </tr>\n",
       "  </tbody>\n",
       "</table>\n",
       "</div>"
      ],
      "text/plain": [
       "         lat         lon                                            text\n",
       "0  35.888827 -106.305022                              Acid/Pueblo Canyon\n",
       "1  39.503487  -84.743859                                 Alba Craft Shop\n",
       "2  44.620822 -123.120917                   \"Albany, Oregon, FUSRAP Site\"\n",
       "3  40.641371  -80.242936                                 Aliquippa Forge\n",
       "4  39.361063  -84.540750  Associated Aircraft Tool and Manufacturing Co."
      ]
     },
     "execution_count": 78,
     "metadata": {},
     "output_type": "execute_result"
    }
   ],
   "source": [
    "df.head()"
   ]
  },
  {
   "cell_type": "code",
   "execution_count": 79,
   "metadata": {},
   "outputs": [
    {
     "data": {
      "text/html": [
       "<div>\n",
       "<style scoped>\n",
       "    .dataframe tbody tr th:only-of-type {\n",
       "        vertical-align: middle;\n",
       "    }\n",
       "\n",
       "    .dataframe tbody tr th {\n",
       "        vertical-align: top;\n",
       "    }\n",
       "\n",
       "    .dataframe thead th {\n",
       "        text-align: right;\n",
       "    }\n",
       "</style>\n",
       "<table border=\"1\" class=\"dataframe\">\n",
       "  <thead>\n",
       "    <tr style=\"text-align: right;\">\n",
       "      <th></th>\n",
       "      <th>text</th>\n",
       "      <th>long</th>\n",
       "      <th>lat</th>\n",
       "    </tr>\n",
       "  </thead>\n",
       "  <tbody>\n",
       "    <tr>\n",
       "      <th>0</th>\n",
       "      <td>AC</td>\n",
       "      <td>-8.77</td>\n",
       "      <td>-70.55</td>\n",
       "    </tr>\n",
       "    <tr>\n",
       "      <th>1</th>\n",
       "      <td>AL</td>\n",
       "      <td>-9.71</td>\n",
       "      <td>-35.73</td>\n",
       "    </tr>\n",
       "    <tr>\n",
       "      <th>2</th>\n",
       "      <td>AM</td>\n",
       "      <td>-3.07</td>\n",
       "      <td>-61.66</td>\n",
       "    </tr>\n",
       "    <tr>\n",
       "      <th>3</th>\n",
       "      <td>AP</td>\n",
       "      <td>1.41</td>\n",
       "      <td>-51.77</td>\n",
       "    </tr>\n",
       "    <tr>\n",
       "      <th>4</th>\n",
       "      <td>BA</td>\n",
       "      <td>-12.96</td>\n",
       "      <td>-38.51</td>\n",
       "    </tr>\n",
       "  </tbody>\n",
       "</table>\n",
       "</div>"
      ],
      "text/plain": [
       "  text   long    lat\n",
       "0   AC  -8.77 -70.55\n",
       "1   AL  -9.71 -35.73\n",
       "2   AM  -3.07 -61.66\n",
       "3   AP   1.41 -51.77\n",
       "4   BA -12.96 -38.51"
      ]
     },
     "execution_count": 79,
     "metadata": {},
     "output_type": "execute_result"
    }
   ],
   "source": [
    "df_uf.head()"
   ]
  },
  {
   "cell_type": "code",
   "execution_count": 92,
   "metadata": {},
   "outputs": [
    {
     "data": {
      "text/plain": [
       "0     -8.77\n",
       "1     -9.71\n",
       "2     -3.07\n",
       "3      1.41\n",
       "4    -12.96\n",
       "5     -3.71\n",
       "6    -15.83\n",
       "7    -19.19\n",
       "8    -16.64\n",
       "9     -2.55\n",
       "10   -12.64\n",
       "11   -20.51\n",
       "12   -18.10\n",
       "13    -5.53\n",
       "14    -7.06\n",
       "15   -24.89\n",
       "16    -8.28\n",
       "17    -8.28\n",
       "18   -22.84\n",
       "19    -5.22\n",
       "20   -11.22\n",
       "21   -30.01\n",
       "22     1.89\n",
       "23   -27.33\n",
       "24   -10.90\n",
       "25   -23.55\n",
       "26   -10.25\n",
       "Name: long, dtype: float64"
      ]
     },
     "execution_count": 92,
     "metadata": {},
     "output_type": "execute_result"
    }
   ],
   "source": [
    "df_uf.long"
   ]
  },
  {
   "cell_type": "code",
   "execution_count": null,
   "metadata": {},
   "outputs": [],
   "source": []
  },
  {
   "cell_type": "code",
   "execution_count": null,
   "metadata": {},
   "outputs": [],
   "source": []
  },
  {
   "cell_type": "code",
   "execution_count": 27,
   "metadata": {},
   "outputs": [],
   "source": [
    "df.columns = ['lon', 'lat']"
   ]
  },
  {
   "cell_type": "code",
   "execution_count": 29,
   "metadata": {},
   "outputs": [
    {
     "data": {
      "text/html": [
       "<div>\n",
       "<style scoped>\n",
       "    .dataframe tbody tr th:only-of-type {\n",
       "        vertical-align: middle;\n",
       "    }\n",
       "\n",
       "    .dataframe tbody tr th {\n",
       "        vertical-align: top;\n",
       "    }\n",
       "\n",
       "    .dataframe thead th {\n",
       "        text-align: right;\n",
       "    }\n",
       "</style>\n",
       "<table border=\"1\" class=\"dataframe\">\n",
       "  <thead>\n",
       "    <tr style=\"text-align: right;\">\n",
       "      <th></th>\n",
       "      <th>index</th>\n",
       "      <th>lon</th>\n",
       "      <th>lat</th>\n",
       "    </tr>\n",
       "  </thead>\n",
       "  <tbody>\n",
       "    <tr>\n",
       "      <th>0</th>\n",
       "      <td>AC</td>\n",
       "      <td>-8.77</td>\n",
       "      <td>-70.55</td>\n",
       "    </tr>\n",
       "    <tr>\n",
       "      <th>1</th>\n",
       "      <td>AL</td>\n",
       "      <td>-9.71</td>\n",
       "      <td>-35.73</td>\n",
       "    </tr>\n",
       "    <tr>\n",
       "      <th>2</th>\n",
       "      <td>AM</td>\n",
       "      <td>-3.07</td>\n",
       "      <td>-61.66</td>\n",
       "    </tr>\n",
       "    <tr>\n",
       "      <th>3</th>\n",
       "      <td>AP</td>\n",
       "      <td>1.41</td>\n",
       "      <td>-51.77</td>\n",
       "    </tr>\n",
       "    <tr>\n",
       "      <th>4</th>\n",
       "      <td>BA</td>\n",
       "      <td>-12.96</td>\n",
       "      <td>-38.51</td>\n",
       "    </tr>\n",
       "    <tr>\n",
       "      <th>5</th>\n",
       "      <td>CE</td>\n",
       "      <td>-3.71</td>\n",
       "      <td>-38.54</td>\n",
       "    </tr>\n",
       "    <tr>\n",
       "      <th>6</th>\n",
       "      <td>DF</td>\n",
       "      <td>-15.83</td>\n",
       "      <td>-47.86</td>\n",
       "    </tr>\n",
       "    <tr>\n",
       "      <th>7</th>\n",
       "      <td>ES</td>\n",
       "      <td>-19.19</td>\n",
       "      <td>-40.34</td>\n",
       "    </tr>\n",
       "    <tr>\n",
       "      <th>8</th>\n",
       "      <td>GO</td>\n",
       "      <td>-16.64</td>\n",
       "      <td>-49.31</td>\n",
       "    </tr>\n",
       "    <tr>\n",
       "      <th>9</th>\n",
       "      <td>MA</td>\n",
       "      <td>-2.55</td>\n",
       "      <td>-44.30</td>\n",
       "    </tr>\n",
       "    <tr>\n",
       "      <th>10</th>\n",
       "      <td>MT</td>\n",
       "      <td>-12.64</td>\n",
       "      <td>-55.42</td>\n",
       "    </tr>\n",
       "    <tr>\n",
       "      <th>11</th>\n",
       "      <td>MS</td>\n",
       "      <td>-20.51</td>\n",
       "      <td>-54.54</td>\n",
       "    </tr>\n",
       "    <tr>\n",
       "      <th>12</th>\n",
       "      <td>MG</td>\n",
       "      <td>-18.10</td>\n",
       "      <td>-44.38</td>\n",
       "    </tr>\n",
       "    <tr>\n",
       "      <th>13</th>\n",
       "      <td>PA</td>\n",
       "      <td>-5.53</td>\n",
       "      <td>-52.29</td>\n",
       "    </tr>\n",
       "    <tr>\n",
       "      <th>14</th>\n",
       "      <td>PB</td>\n",
       "      <td>-7.06</td>\n",
       "      <td>-35.55</td>\n",
       "    </tr>\n",
       "    <tr>\n",
       "      <th>15</th>\n",
       "      <td>PR</td>\n",
       "      <td>-24.89</td>\n",
       "      <td>-51.55</td>\n",
       "    </tr>\n",
       "    <tr>\n",
       "      <th>16</th>\n",
       "      <td>PE</td>\n",
       "      <td>-8.28</td>\n",
       "      <td>-35.07</td>\n",
       "    </tr>\n",
       "    <tr>\n",
       "      <th>17</th>\n",
       "      <td>PI</td>\n",
       "      <td>-8.28</td>\n",
       "      <td>-43.68</td>\n",
       "    </tr>\n",
       "    <tr>\n",
       "      <th>18</th>\n",
       "      <td>RJ</td>\n",
       "      <td>-22.84</td>\n",
       "      <td>-43.15</td>\n",
       "    </tr>\n",
       "    <tr>\n",
       "      <th>19</th>\n",
       "      <td>RN</td>\n",
       "      <td>-5.22</td>\n",
       "      <td>-36.52</td>\n",
       "    </tr>\n",
       "    <tr>\n",
       "      <th>20</th>\n",
       "      <td>RO</td>\n",
       "      <td>-11.22</td>\n",
       "      <td>-62.80</td>\n",
       "    </tr>\n",
       "    <tr>\n",
       "      <th>21</th>\n",
       "      <td>RS</td>\n",
       "      <td>-30.01</td>\n",
       "      <td>-51.22</td>\n",
       "    </tr>\n",
       "    <tr>\n",
       "      <th>22</th>\n",
       "      <td>RR</td>\n",
       "      <td>1.89</td>\n",
       "      <td>-61.22</td>\n",
       "    </tr>\n",
       "    <tr>\n",
       "      <th>23</th>\n",
       "      <td>SC</td>\n",
       "      <td>-27.33</td>\n",
       "      <td>-49.44</td>\n",
       "    </tr>\n",
       "    <tr>\n",
       "      <th>24</th>\n",
       "      <td>SE</td>\n",
       "      <td>-10.90</td>\n",
       "      <td>-37.07</td>\n",
       "    </tr>\n",
       "    <tr>\n",
       "      <th>25</th>\n",
       "      <td>SP</td>\n",
       "      <td>-23.55</td>\n",
       "      <td>-46.64</td>\n",
       "    </tr>\n",
       "    <tr>\n",
       "      <th>26</th>\n",
       "      <td>TO</td>\n",
       "      <td>-10.25</td>\n",
       "      <td>-48.25</td>\n",
       "    </tr>\n",
       "  </tbody>\n",
       "</table>\n",
       "</div>"
      ],
      "text/plain": [
       "   index    lon    lat\n",
       "0     AC  -8.77 -70.55\n",
       "1     AL  -9.71 -35.73\n",
       "2     AM  -3.07 -61.66\n",
       "3     AP   1.41 -51.77\n",
       "4     BA -12.96 -38.51\n",
       "5     CE  -3.71 -38.54\n",
       "6     DF -15.83 -47.86\n",
       "7     ES -19.19 -40.34\n",
       "8     GO -16.64 -49.31\n",
       "9     MA  -2.55 -44.30\n",
       "10    MT -12.64 -55.42\n",
       "11    MS -20.51 -54.54\n",
       "12    MG -18.10 -44.38\n",
       "13    PA  -5.53 -52.29\n",
       "14    PB  -7.06 -35.55\n",
       "15    PR -24.89 -51.55\n",
       "16    PE  -8.28 -35.07\n",
       "17    PI  -8.28 -43.68\n",
       "18    RJ -22.84 -43.15\n",
       "19    RN  -5.22 -36.52\n",
       "20    RO -11.22 -62.80\n",
       "21    RS -30.01 -51.22\n",
       "22    RR   1.89 -61.22\n",
       "23    SC -27.33 -49.44\n",
       "24    SE -10.90 -37.07\n",
       "25    SP -23.55 -46.64\n",
       "26    TO -10.25 -48.25"
      ]
     },
     "execution_count": 29,
     "metadata": {},
     "output_type": "execute_result"
    }
   ],
   "source": [
    "df.reset_index()"
   ]
  },
  {
   "cell_type": "code",
   "execution_count": null,
   "metadata": {},
   "outputs": [],
   "source": []
  },
  {
   "cell_type": "code",
   "execution_count": null,
   "metadata": {},
   "outputs": [],
   "source": []
  },
  {
   "cell_type": "code",
   "execution_count": null,
   "metadata": {},
   "outputs": [],
   "source": []
  }
 ],
 "metadata": {
  "kernelspec": {
   "display_name": "Python 3",
   "language": "python",
   "name": "python3"
  },
  "language_info": {
   "codemirror_mode": {
    "name": "ipython",
    "version": 3
   },
   "file_extension": ".py",
   "mimetype": "text/x-python",
   "name": "python",
   "nbconvert_exporter": "python",
   "pygments_lexer": "ipython3",
   "version": "3.6.5"
  }
 },
 "nbformat": 4,
 "nbformat_minor": 2
}
