{
 "cells": [
  {
   "cell_type": "code",
   "execution_count": 1,
   "metadata": {},
   "outputs": [],
   "source": [
    "import pandas as pd\n",
    "import warnings\n",
    "warnings.filterwarnings('ignore')"
   ]
  },
  {
   "cell_type": "code",
   "execution_count": 3,
   "metadata": {},
   "outputs": [],
   "source": [
    "df_dividas = pd.read_excel(\"../tabelas/base_dividas_201904.xlsx\")"
   ]
  },
  {
   "cell_type": "code",
   "execution_count": 4,
   "metadata": {},
   "outputs": [
    {
     "data": {
      "text/plain": [
       "Index(['cnpj', 'data_ocorrencia', 'descricao_natureza', 'modalidade_natureza',\n",
       "       'natureza', 'tipo', 'uf', 'valor'],\n",
       "      dtype='object')"
      ]
     },
     "execution_count": 4,
     "metadata": {},
     "output_type": "execute_result"
    }
   ],
   "source": [
    "df_dividas.columns"
   ]
  },
  {
   "cell_type": "code",
   "execution_count": 11,
   "metadata": {},
   "outputs": [
    {
     "data": {
      "text/html": [
       "<div>\n",
       "<style scoped>\n",
       "    .dataframe tbody tr th:only-of-type {\n",
       "        vertical-align: middle;\n",
       "    }\n",
       "\n",
       "    .dataframe tbody tr th {\n",
       "        vertical-align: top;\n",
       "    }\n",
       "\n",
       "    .dataframe thead th {\n",
       "        text-align: right;\n",
       "    }\n",
       "</style>\n",
       "<table border=\"1\" class=\"dataframe\">\n",
       "  <thead>\n",
       "    <tr style=\"text-align: right;\">\n",
       "      <th></th>\n",
       "      <th>cnpj</th>\n",
       "      <th>data_ocorrencia</th>\n",
       "      <th>descricao_natureza</th>\n",
       "      <th>modalidade_natureza</th>\n",
       "      <th>natureza</th>\n",
       "      <th>tipo</th>\n",
       "      <th>uf</th>\n",
       "      <th>valor</th>\n",
       "    </tr>\n",
       "  </thead>\n",
       "  <tbody>\n",
       "    <tr>\n",
       "      <th>0</th>\n",
       "      <td>19008188000142</td>\n",
       "      <td>21/05/2018</td>\n",
       "      <td>NaN</td>\n",
       "      <td>Dívida não contestada.</td>\n",
       "      <td>Falta Pagamento</td>\n",
       "      <td>protestos</td>\n",
       "      <td>SP</td>\n",
       "      <td>R$ 892,53</td>\n",
       "    </tr>\n",
       "    <tr>\n",
       "      <th>1</th>\n",
       "      <td>19008188000142</td>\n",
       "      <td>22/03/2018</td>\n",
       "      <td>NaN</td>\n",
       "      <td>Dívida não contestada.</td>\n",
       "      <td>Falta Pagamento</td>\n",
       "      <td>protestos</td>\n",
       "      <td>SP</td>\n",
       "      <td>R$ 560,00</td>\n",
       "    </tr>\n",
       "    <tr>\n",
       "      <th>2</th>\n",
       "      <td>19008188000142</td>\n",
       "      <td>15/03/2018</td>\n",
       "      <td>NaN</td>\n",
       "      <td>Dívida não contestada.</td>\n",
       "      <td>Falta Pagamento</td>\n",
       "      <td>protestos</td>\n",
       "      <td>SP</td>\n",
       "      <td>R$ 560,80</td>\n",
       "    </tr>\n",
       "    <tr>\n",
       "      <th>3</th>\n",
       "      <td>19008188000142</td>\n",
       "      <td>01/03/2018</td>\n",
       "      <td>NaN</td>\n",
       "      <td>Dívida não contestada.</td>\n",
       "      <td>Falta Pagamento</td>\n",
       "      <td>protestos</td>\n",
       "      <td>SP</td>\n",
       "      <td>R$ 452,50</td>\n",
       "    </tr>\n",
       "    <tr>\n",
       "      <th>4</th>\n",
       "      <td>19008188000142</td>\n",
       "      <td>22/02/2018</td>\n",
       "      <td>NaN</td>\n",
       "      <td>Dívida não contestada.</td>\n",
       "      <td>Falta Pagamento</td>\n",
       "      <td>protestos</td>\n",
       "      <td>SP</td>\n",
       "      <td>R$ 452,50</td>\n",
       "    </tr>\n",
       "    <tr>\n",
       "      <th>5</th>\n",
       "      <td>19008188000142</td>\n",
       "      <td>11/07/2017</td>\n",
       "      <td>NaN</td>\n",
       "      <td>Dívida não contestada.</td>\n",
       "      <td>Falta Pagamento</td>\n",
       "      <td>protestos</td>\n",
       "      <td>SP</td>\n",
       "      <td>R$ 421,44</td>\n",
       "    </tr>\n",
       "    <tr>\n",
       "      <th>6</th>\n",
       "      <td>19008188000142</td>\n",
       "      <td>21/11/2016</td>\n",
       "      <td>NaN</td>\n",
       "      <td>Dívida não contestada.</td>\n",
       "      <td>Falta Pagamento</td>\n",
       "      <td>protestos</td>\n",
       "      <td>SP</td>\n",
       "      <td>R$ 769,65</td>\n",
       "    </tr>\n",
       "    <tr>\n",
       "      <th>7</th>\n",
       "      <td>19008188000142</td>\n",
       "      <td>04/11/2016</td>\n",
       "      <td>NaN</td>\n",
       "      <td>Dívida não contestada.</td>\n",
       "      <td>Falta Pagamento</td>\n",
       "      <td>protestos</td>\n",
       "      <td>SP</td>\n",
       "      <td>R$ 769,65</td>\n",
       "    </tr>\n",
       "    <tr>\n",
       "      <th>8</th>\n",
       "      <td>19008188000142</td>\n",
       "      <td>31/10/2016</td>\n",
       "      <td>NaN</td>\n",
       "      <td>Dívida não contestada.</td>\n",
       "      <td>Falta Pagamento</td>\n",
       "      <td>protestos</td>\n",
       "      <td>SP</td>\n",
       "      <td>R$ 681,50</td>\n",
       "    </tr>\n",
       "    <tr>\n",
       "      <th>9</th>\n",
       "      <td>19008188000142</td>\n",
       "      <td>30/04/2015</td>\n",
       "      <td>NaN</td>\n",
       "      <td>Dívida não contestada.</td>\n",
       "      <td>Falta Pagamento</td>\n",
       "      <td>protestos</td>\n",
       "      <td>SP</td>\n",
       "      <td>R$ 10880,22</td>\n",
       "    </tr>\n",
       "    <tr>\n",
       "      <th>10</th>\n",
       "      <td>19008188000142</td>\n",
       "      <td>31/03/2015</td>\n",
       "      <td>NaN</td>\n",
       "      <td>Dívida não contestada.</td>\n",
       "      <td>Falta Pagamento</td>\n",
       "      <td>protestos</td>\n",
       "      <td>SP</td>\n",
       "      <td>R$ 6184,94</td>\n",
       "    </tr>\n",
       "    <tr>\n",
       "      <th>11</th>\n",
       "      <td>19008188000142</td>\n",
       "      <td>28/02/2015</td>\n",
       "      <td>NaN</td>\n",
       "      <td>Dívida não contestada.</td>\n",
       "      <td>Falta Pagamento</td>\n",
       "      <td>protestos</td>\n",
       "      <td>SP</td>\n",
       "      <td>R$ 8332,48</td>\n",
       "    </tr>\n",
       "    <tr>\n",
       "      <th>12</th>\n",
       "      <td>19008188000142</td>\n",
       "      <td>07/11/2015</td>\n",
       "      <td>NaN</td>\n",
       "      <td>Dívida não contestada.</td>\n",
       "      <td>Falta Pagamento</td>\n",
       "      <td>protestos</td>\n",
       "      <td>SP</td>\n",
       "      <td>R$ 7019,17</td>\n",
       "    </tr>\n",
       "    <tr>\n",
       "      <th>13</th>\n",
       "      <td>19008188000142</td>\n",
       "      <td>22/10/2015</td>\n",
       "      <td>NaN</td>\n",
       "      <td>Dívida não contestada.</td>\n",
       "      <td>Falta Pagamento</td>\n",
       "      <td>protestos</td>\n",
       "      <td>SP</td>\n",
       "      <td>R$ 7019,17</td>\n",
       "    </tr>\n",
       "    <tr>\n",
       "      <th>14</th>\n",
       "      <td>19008188000142</td>\n",
       "      <td>24/09/2015</td>\n",
       "      <td>NaN</td>\n",
       "      <td>Dívida não contestada.</td>\n",
       "      <td>Falta Pagamento</td>\n",
       "      <td>protestos</td>\n",
       "      <td>SP</td>\n",
       "      <td>R$ 8381,92</td>\n",
       "    </tr>\n",
       "    <tr>\n",
       "      <th>15</th>\n",
       "      <td>19008188000142</td>\n",
       "      <td>08/10/2015</td>\n",
       "      <td>NaN</td>\n",
       "      <td>Dívida não contestada.</td>\n",
       "      <td>Falta Pagamento</td>\n",
       "      <td>protestos</td>\n",
       "      <td>SP</td>\n",
       "      <td>R$ 7019,17</td>\n",
       "    </tr>\n",
       "    <tr>\n",
       "      <th>16</th>\n",
       "      <td>19008188000142</td>\n",
       "      <td>01/07/2015</td>\n",
       "      <td>NaN</td>\n",
       "      <td>Dívida não contestada.</td>\n",
       "      <td>Falta Pagamento</td>\n",
       "      <td>protestos</td>\n",
       "      <td>SP</td>\n",
       "      <td>R$ 1165,50</td>\n",
       "    </tr>\n",
       "    <tr>\n",
       "      <th>17</th>\n",
       "      <td>19008188000142</td>\n",
       "      <td>31/07/2015</td>\n",
       "      <td>NaN</td>\n",
       "      <td>Dívida não contestada.</td>\n",
       "      <td>Falta Pagamento</td>\n",
       "      <td>protestos</td>\n",
       "      <td>SP</td>\n",
       "      <td>R$ 1165,50</td>\n",
       "    </tr>\n",
       "    <tr>\n",
       "      <th>18</th>\n",
       "      <td>19008188000142</td>\n",
       "      <td>30/07/2015</td>\n",
       "      <td>NaN</td>\n",
       "      <td>Dívida não contestada.</td>\n",
       "      <td>Falta Pagamento</td>\n",
       "      <td>protestos</td>\n",
       "      <td>SP</td>\n",
       "      <td>R$ 6492,76</td>\n",
       "    </tr>\n",
       "    <tr>\n",
       "      <th>19</th>\n",
       "      <td>19008188000142</td>\n",
       "      <td>19/07/2015</td>\n",
       "      <td>NaN</td>\n",
       "      <td>Dívida não contestada.</td>\n",
       "      <td>Falta Pagamento</td>\n",
       "      <td>protestos</td>\n",
       "      <td>SP</td>\n",
       "      <td>R$ 12123,28</td>\n",
       "    </tr>\n",
       "    <tr>\n",
       "      <th>20</th>\n",
       "      <td>19008188000142</td>\n",
       "      <td>19/07/2015</td>\n",
       "      <td>NaN</td>\n",
       "      <td>Dívida não contestada.</td>\n",
       "      <td>Falta Pagamento</td>\n",
       "      <td>protestos</td>\n",
       "      <td>SP</td>\n",
       "      <td>R$ 6492,78</td>\n",
       "    </tr>\n",
       "    <tr>\n",
       "      <th>21</th>\n",
       "      <td>19008188000142</td>\n",
       "      <td>19/06/2015</td>\n",
       "      <td>NaN</td>\n",
       "      <td>Dívida não contestada.</td>\n",
       "      <td>Falta Pagamento</td>\n",
       "      <td>protestos</td>\n",
       "      <td>SP</td>\n",
       "      <td>R$ 12129,45</td>\n",
       "    </tr>\n",
       "    <tr>\n",
       "      <th>0</th>\n",
       "      <td>19008188000142</td>\n",
       "      <td>31/01/2015</td>\n",
       "      <td>NaN</td>\n",
       "      <td>DUPLICATA</td>\n",
       "      <td>CÓDIGO DE ANOTAÇÃO NÃO ENCONTRADO</td>\n",
       "      <td>pendencias</td>\n",
       "      <td>NaN</td>\n",
       "      <td>R$ 25397,64</td>\n",
       "    </tr>\n",
       "  </tbody>\n",
       "</table>\n",
       "</div>"
      ],
      "text/plain": [
       "              cnpj data_ocorrencia descricao_natureza     modalidade_natureza  \\\n",
       "0   19008188000142      21/05/2018                NaN  Dívida não contestada.   \n",
       "1   19008188000142      22/03/2018                NaN  Dívida não contestada.   \n",
       "2   19008188000142      15/03/2018                NaN  Dívida não contestada.   \n",
       "3   19008188000142      01/03/2018                NaN  Dívida não contestada.   \n",
       "4   19008188000142      22/02/2018                NaN  Dívida não contestada.   \n",
       "5   19008188000142      11/07/2017                NaN  Dívida não contestada.   \n",
       "6   19008188000142      21/11/2016                NaN  Dívida não contestada.   \n",
       "7   19008188000142      04/11/2016                NaN  Dívida não contestada.   \n",
       "8   19008188000142      31/10/2016                NaN  Dívida não contestada.   \n",
       "9   19008188000142      30/04/2015                NaN  Dívida não contestada.   \n",
       "10  19008188000142      31/03/2015                NaN  Dívida não contestada.   \n",
       "11  19008188000142      28/02/2015                NaN  Dívida não contestada.   \n",
       "12  19008188000142      07/11/2015                NaN  Dívida não contestada.   \n",
       "13  19008188000142      22/10/2015                NaN  Dívida não contestada.   \n",
       "14  19008188000142      24/09/2015                NaN  Dívida não contestada.   \n",
       "15  19008188000142      08/10/2015                NaN  Dívida não contestada.   \n",
       "16  19008188000142      01/07/2015                NaN  Dívida não contestada.   \n",
       "17  19008188000142      31/07/2015                NaN  Dívida não contestada.   \n",
       "18  19008188000142      30/07/2015                NaN  Dívida não contestada.   \n",
       "19  19008188000142      19/07/2015                NaN  Dívida não contestada.   \n",
       "20  19008188000142      19/07/2015                NaN  Dívida não contestada.   \n",
       "21  19008188000142      19/06/2015                NaN  Dívida não contestada.   \n",
       "0   19008188000142      31/01/2015                NaN               DUPLICATA   \n",
       "\n",
       "                             natureza        tipo   uf        valor  \n",
       "0                     Falta Pagamento   protestos   SP    R$ 892,53  \n",
       "1                     Falta Pagamento   protestos   SP    R$ 560,00  \n",
       "2                     Falta Pagamento   protestos   SP    R$ 560,80  \n",
       "3                     Falta Pagamento   protestos   SP    R$ 452,50  \n",
       "4                     Falta Pagamento   protestos   SP    R$ 452,50  \n",
       "5                     Falta Pagamento   protestos   SP    R$ 421,44  \n",
       "6                     Falta Pagamento   protestos   SP    R$ 769,65  \n",
       "7                     Falta Pagamento   protestos   SP    R$ 769,65  \n",
       "8                     Falta Pagamento   protestos   SP    R$ 681,50  \n",
       "9                     Falta Pagamento   protestos   SP  R$ 10880,22  \n",
       "10                    Falta Pagamento   protestos   SP   R$ 6184,94  \n",
       "11                    Falta Pagamento   protestos   SP   R$ 8332,48  \n",
       "12                    Falta Pagamento   protestos   SP   R$ 7019,17  \n",
       "13                    Falta Pagamento   protestos   SP   R$ 7019,17  \n",
       "14                    Falta Pagamento   protestos   SP   R$ 8381,92  \n",
       "15                    Falta Pagamento   protestos   SP   R$ 7019,17  \n",
       "16                    Falta Pagamento   protestos   SP   R$ 1165,50  \n",
       "17                    Falta Pagamento   protestos   SP   R$ 1165,50  \n",
       "18                    Falta Pagamento   protestos   SP   R$ 6492,76  \n",
       "19                    Falta Pagamento   protestos   SP  R$ 12123,28  \n",
       "20                    Falta Pagamento   protestos   SP   R$ 6492,78  \n",
       "21                    Falta Pagamento   protestos   SP  R$ 12129,45  \n",
       "0   CÓDIGO DE ANOTAÇÃO NÃO ENCONTRADO  pendencias  NaN  R$ 25397,64  "
      ]
     },
     "execution_count": 11,
     "metadata": {},
     "output_type": "execute_result"
    }
   ],
   "source": [
    "df_dividas[df_dividas[\"cnpj\"]==19008188000142]"
   ]
  },
  {
   "cell_type": "code",
   "execution_count": null,
   "metadata": {},
   "outputs": [],
   "source": []
  },
  {
   "cell_type": "code",
   "execution_count": 12,
   "metadata": {},
   "outputs": [],
   "source": [
    "df = df_dividas[['cnpj', 'uf']]"
   ]
  },
  {
   "cell_type": "code",
   "execution_count": 13,
   "metadata": {},
   "outputs": [],
   "source": [
    "df.drop_duplicates(inplace=True)"
   ]
  },
  {
   "cell_type": "code",
   "execution_count": 14,
   "metadata": {},
   "outputs": [],
   "source": [
    "df['cnpj'] = df.apply(lambda x : str(x['cnpj']), axis=1)"
   ]
  },
  {
   "cell_type": "code",
   "execution_count": 16,
   "metadata": {},
   "outputs": [
    {
     "data": {
      "text/html": [
       "<div>\n",
       "<style scoped>\n",
       "    .dataframe tbody tr th:only-of-type {\n",
       "        vertical-align: middle;\n",
       "    }\n",
       "\n",
       "    .dataframe tbody tr th {\n",
       "        vertical-align: top;\n",
       "    }\n",
       "\n",
       "    .dataframe thead th {\n",
       "        text-align: right;\n",
       "    }\n",
       "</style>\n",
       "<table border=\"1\" class=\"dataframe\">\n",
       "  <thead>\n",
       "    <tr style=\"text-align: right;\">\n",
       "      <th></th>\n",
       "      <th>cnpj</th>\n",
       "      <th>uf</th>\n",
       "    </tr>\n",
       "  </thead>\n",
       "  <tbody>\n",
       "    <tr>\n",
       "      <th>0</th>\n",
       "      <td>19008188000142</td>\n",
       "      <td>SP</td>\n",
       "    </tr>\n",
       "    <tr>\n",
       "      <th>0</th>\n",
       "      <td>19008188000142</td>\n",
       "      <td>NaN</td>\n",
       "    </tr>\n",
       "    <tr>\n",
       "      <th>0</th>\n",
       "      <td>748390000182</td>\n",
       "      <td>SP</td>\n",
       "    </tr>\n",
       "    <tr>\n",
       "      <th>0</th>\n",
       "      <td>748390000182</td>\n",
       "      <td>NaN</td>\n",
       "    </tr>\n",
       "    <tr>\n",
       "      <th>3</th>\n",
       "      <td>748390000182</td>\n",
       "      <td>BA</td>\n",
       "    </tr>\n",
       "  </tbody>\n",
       "</table>\n",
       "</div>"
      ],
      "text/plain": [
       "             cnpj   uf\n",
       "0  19008188000142   SP\n",
       "0  19008188000142  NaN\n",
       "0    748390000182   SP\n",
       "0    748390000182  NaN\n",
       "3    748390000182   BA"
      ]
     },
     "execution_count": 16,
     "metadata": {},
     "output_type": "execute_result"
    }
   ],
   "source": [
    "df.head()"
   ]
  },
  {
   "cell_type": "code",
   "execution_count": 17,
   "metadata": {},
   "outputs": [],
   "source": [
    "df['cnpj'] = df.apply(lambda x : \"0\" + x['cnpj'] if len(x['cnpj'])==13 else\n",
    "                      (\"00\" + x[\"cnpj\"] if len(x[\"cnpj\"])==12 else x[\"cnpj\"]), axis=1)"
   ]
  },
  {
   "cell_type": "code",
   "execution_count": 18,
   "metadata": {},
   "outputs": [
    {
     "data": {
      "text/plain": [
       "717"
      ]
     },
     "execution_count": 18,
     "metadata": {},
     "output_type": "execute_result"
    }
   ],
   "source": [
    "df['cnpj'].unique().tolist().__len__()"
   ]
  },
  {
   "cell_type": "code",
   "execution_count": 19,
   "metadata": {},
   "outputs": [],
   "source": [
    "df.dropna(inplace=True)"
   ]
  },
  {
   "cell_type": "code",
   "execution_count": 20,
   "metadata": {},
   "outputs": [],
   "source": [
    "df = df[df['uf']!='  ']"
   ]
  },
  {
   "cell_type": "code",
   "execution_count": 21,
   "metadata": {},
   "outputs": [
    {
     "data": {
      "text/html": [
       "<div>\n",
       "<style scoped>\n",
       "    .dataframe tbody tr th:only-of-type {\n",
       "        vertical-align: middle;\n",
       "    }\n",
       "\n",
       "    .dataframe tbody tr th {\n",
       "        vertical-align: top;\n",
       "    }\n",
       "\n",
       "    .dataframe thead th {\n",
       "        text-align: right;\n",
       "    }\n",
       "</style>\n",
       "<table border=\"1\" class=\"dataframe\">\n",
       "  <thead>\n",
       "    <tr style=\"text-align: right;\">\n",
       "      <th></th>\n",
       "      <th>uf</th>\n",
       "    </tr>\n",
       "    <tr>\n",
       "      <th>cnpj</th>\n",
       "      <th></th>\n",
       "    </tr>\n",
       "  </thead>\n",
       "  <tbody>\n",
       "    <tr>\n",
       "      <th>191</th>\n",
       "      <td>16</td>\n",
       "    </tr>\n",
       "    <tr>\n",
       "      <th>60701190000104</th>\n",
       "      <td>14</td>\n",
       "    </tr>\n",
       "    <tr>\n",
       "      <th>60889128000180</th>\n",
       "      <td>13</td>\n",
       "    </tr>\n",
       "    <tr>\n",
       "      <th>14168536000125</th>\n",
       "      <td>7</td>\n",
       "    </tr>\n",
       "    <tr>\n",
       "      <th>71673990000177</th>\n",
       "      <td>7</td>\n",
       "    </tr>\n",
       "  </tbody>\n",
       "</table>\n",
       "</div>"
      ],
      "text/plain": [
       "                uf\n",
       "cnpj              \n",
       "191             16\n",
       "60701190000104  14\n",
       "60889128000180  13\n",
       "14168536000125   7\n",
       "71673990000177   7"
      ]
     },
     "execution_count": 21,
     "metadata": {},
     "output_type": "execute_result"
    }
   ],
   "source": [
    "df.groupby(\"cnpj\").count().sort_values(\"uf\", ascending=False).head()"
   ]
  },
  {
   "cell_type": "code",
   "execution_count": 22,
   "metadata": {},
   "outputs": [],
   "source": [
    "df_end = pd.read_excel('../tabelas/tb_endereco_cnpj.xlsx')"
   ]
  },
  {
   "cell_type": "code",
   "execution_count": 23,
   "metadata": {},
   "outputs": [],
   "source": [
    "df_end['cnpj'] = df_end.apply(lambda x : str(x[\"doc\"]), axis=1)"
   ]
  },
  {
   "cell_type": "code",
   "execution_count": 24,
   "metadata": {},
   "outputs": [],
   "source": [
    "df_end['cnpj'] = df_end.apply(lambda x : \"0\" + x['cnpj'] if len(x['cnpj'])==13 else\n",
    "                      (\"00\" + x[\"cnpj\"] if len(x[\"cnpj\"])==12 else x[\"cnpj\"]), axis=1)"
   ]
  },
  {
   "cell_type": "code",
   "execution_count": 25,
   "metadata": {},
   "outputs": [],
   "source": [
    "df_end.rename(columns={'uf' : 'uf_cnpj'}, inplace=True)"
   ]
  },
  {
   "cell_type": "code",
   "execution_count": 26,
   "metadata": {},
   "outputs": [
    {
     "data": {
      "text/plain": [
       "(587, 2)"
      ]
     },
     "execution_count": 26,
     "metadata": {},
     "output_type": "execute_result"
    }
   ],
   "source": [
    "df.shape"
   ]
  },
  {
   "cell_type": "code",
   "execution_count": 27,
   "metadata": {},
   "outputs": [],
   "source": [
    "df = df.merge(df_end[['cnpj', 'uf_cnpj']], left_on='cnpj', right_on='cnpj', how='left')"
   ]
  },
  {
   "cell_type": "code",
   "execution_count": 28,
   "metadata": {},
   "outputs": [],
   "source": [
    "df.to_excel(\"../tabelas/dataset_geo_analise_201904.xlsx\")"
   ]
  },
  {
   "cell_type": "code",
   "execution_count": 29,
   "metadata": {},
   "outputs": [
    {
     "data": {
      "text/html": [
       "<div>\n",
       "<style scoped>\n",
       "    .dataframe tbody tr th:only-of-type {\n",
       "        vertical-align: middle;\n",
       "    }\n",
       "\n",
       "    .dataframe tbody tr th {\n",
       "        vertical-align: top;\n",
       "    }\n",
       "\n",
       "    .dataframe thead th {\n",
       "        text-align: right;\n",
       "    }\n",
       "</style>\n",
       "<table border=\"1\" class=\"dataframe\">\n",
       "  <thead>\n",
       "    <tr style=\"text-align: right;\">\n",
       "      <th></th>\n",
       "      <th>cnpj</th>\n",
       "      <th>uf</th>\n",
       "      <th>uf_cnpj</th>\n",
       "    </tr>\n",
       "  </thead>\n",
       "  <tbody>\n",
       "    <tr>\n",
       "      <th>455</th>\n",
       "      <td>71673990000177</td>\n",
       "      <td>SP</td>\n",
       "      <td>SP</td>\n",
       "    </tr>\n",
       "    <tr>\n",
       "      <th>456</th>\n",
       "      <td>71673990000177</td>\n",
       "      <td>DF</td>\n",
       "      <td>SP</td>\n",
       "    </tr>\n",
       "    <tr>\n",
       "      <th>457</th>\n",
       "      <td>71673990000177</td>\n",
       "      <td>RJ</td>\n",
       "      <td>SP</td>\n",
       "    </tr>\n",
       "    <tr>\n",
       "      <th>458</th>\n",
       "      <td>71673990000177</td>\n",
       "      <td>RO</td>\n",
       "      <td>SP</td>\n",
       "    </tr>\n",
       "    <tr>\n",
       "      <th>459</th>\n",
       "      <td>71673990000177</td>\n",
       "      <td>PE</td>\n",
       "      <td>SP</td>\n",
       "    </tr>\n",
       "    <tr>\n",
       "      <th>460</th>\n",
       "      <td>71673990000177</td>\n",
       "      <td>PR</td>\n",
       "      <td>SP</td>\n",
       "    </tr>\n",
       "    <tr>\n",
       "      <th>461</th>\n",
       "      <td>71673990000177</td>\n",
       "      <td>AM</td>\n",
       "      <td>SP</td>\n",
       "    </tr>\n",
       "  </tbody>\n",
       "</table>\n",
       "</div>"
      ],
      "text/plain": [
       "               cnpj  uf uf_cnpj\n",
       "455  71673990000177  SP      SP\n",
       "456  71673990000177  DF      SP\n",
       "457  71673990000177  RJ      SP\n",
       "458  71673990000177  RO      SP\n",
       "459  71673990000177  PE      SP\n",
       "460  71673990000177  PR      SP\n",
       "461  71673990000177  AM      SP"
      ]
     },
     "execution_count": 29,
     "metadata": {},
     "output_type": "execute_result"
    }
   ],
   "source": [
    "df[df['cnpj']=='71673990000177']"
   ]
  },
  {
   "cell_type": "code",
   "execution_count": 32,
   "metadata": {},
   "outputs": [
    {
     "data": {
      "text/plain": [
       "0.2692307692307692"
      ]
     },
     "execution_count": 32,
     "metadata": {},
     "output_type": "execute_result"
    }
   ],
   "source": [
    "Paraná (PR) = Curitiba\n",
    "25 - Rio Grande do Sul (RS) = Porto Alegre\n",
    "26 - Santa Catarina (SC) = Florianópolis"
   ]
  },
  {
   "cell_type": "code",
   "execution_count": 30,
   "metadata": {},
   "outputs": [],
   "source": [
    "regioes = {\"norte\" : ['AM', 'RR', 'AP', 'PA', 'TO', 'RO', 'AC'],\n",
    "           \"nordeste\" : ['MA', 'PI', 'CE', 'RN', 'PE', 'PB', 'SE', 'AL', 'BA'],\n",
    "           \"centro_oeste\" : ['MT', 'MS', 'GO'],\n",
    "           \"sudeste\" : ['SP', 'RJ', 'ES', 'MG'],\n",
    "            \"sul\" : ['PR', 'RS', 'SC']\n",
    "          }"
   ]
  },
  {
   "cell_type": "code",
   "execution_count": 31,
   "metadata": {},
   "outputs": [],
   "source": [
    "df_regioes = pd.DataFrame({'uf' : regioes.get('norte') + regioes.get('nordeste') + regioes.get('centro_oeste') +\n",
    "                         regioes.get('sudeste') + regioes.get(\"sul\")})"
   ]
  },
  {
   "cell_type": "code",
   "execution_count": 32,
   "metadata": {},
   "outputs": [],
   "source": [
    "df_regioes[\"regiao\"] = df_regioes.apply(lambda x : \"norte\" if x[\"uf\"] in regioes.get(\"norte\") else\n",
    "                                        (\"nordeste\" if x[\"uf\"] in regioes.get(\"nordeste\") else\n",
    "                                        (\"centro_oeste\" if x[\"uf\"] in regioes.get(\"centro_oeste\") else\n",
    "                                        \"sudeste\" if x[\"uf\"] in regioes.get(\"sudeste\") else \"sul\")), axis=1)"
   ]
  },
  {
   "cell_type": "code",
   "execution_count": 33,
   "metadata": {},
   "outputs": [
    {
     "data": {
      "text/html": [
       "<div>\n",
       "<style scoped>\n",
       "    .dataframe tbody tr th:only-of-type {\n",
       "        vertical-align: middle;\n",
       "    }\n",
       "\n",
       "    .dataframe tbody tr th {\n",
       "        vertical-align: top;\n",
       "    }\n",
       "\n",
       "    .dataframe thead th {\n",
       "        text-align: right;\n",
       "    }\n",
       "</style>\n",
       "<table border=\"1\" class=\"dataframe\">\n",
       "  <thead>\n",
       "    <tr style=\"text-align: right;\">\n",
       "      <th></th>\n",
       "      <th>uf</th>\n",
       "      <th>regiao</th>\n",
       "    </tr>\n",
       "  </thead>\n",
       "  <tbody>\n",
       "    <tr>\n",
       "      <th>0</th>\n",
       "      <td>AM</td>\n",
       "      <td>norte</td>\n",
       "    </tr>\n",
       "    <tr>\n",
       "      <th>1</th>\n",
       "      <td>RR</td>\n",
       "      <td>norte</td>\n",
       "    </tr>\n",
       "    <tr>\n",
       "      <th>2</th>\n",
       "      <td>AP</td>\n",
       "      <td>norte</td>\n",
       "    </tr>\n",
       "    <tr>\n",
       "      <th>3</th>\n",
       "      <td>PA</td>\n",
       "      <td>norte</td>\n",
       "    </tr>\n",
       "    <tr>\n",
       "      <th>4</th>\n",
       "      <td>TO</td>\n",
       "      <td>norte</td>\n",
       "    </tr>\n",
       "  </tbody>\n",
       "</table>\n",
       "</div>"
      ],
      "text/plain": [
       "   uf regiao\n",
       "0  AM  norte\n",
       "1  RR  norte\n",
       "2  AP  norte\n",
       "3  PA  norte\n",
       "4  TO  norte"
      ]
     },
     "execution_count": 33,
     "metadata": {},
     "output_type": "execute_result"
    }
   ],
   "source": [
    "df_regioes.head()"
   ]
  },
  {
   "cell_type": "code",
   "execution_count": null,
   "metadata": {},
   "outputs": [],
   "source": []
  },
  {
   "cell_type": "code",
   "execution_count": 34,
   "metadata": {},
   "outputs": [
    {
     "data": {
      "text/plain": [
       "(587, 3)"
      ]
     },
     "execution_count": 34,
     "metadata": {},
     "output_type": "execute_result"
    }
   ],
   "source": [
    "df.shape"
   ]
  },
  {
   "cell_type": "code",
   "execution_count": 35,
   "metadata": {},
   "outputs": [],
   "source": [
    "df = df.merge(df_regioes, left_on='uf', right_on='uf', how='left')"
   ]
  },
  {
   "cell_type": "code",
   "execution_count": 36,
   "metadata": {},
   "outputs": [],
   "source": [
    "df.fillna(\"centro_oeste\", inplace=True)"
   ]
  },
  {
   "cell_type": "code",
   "execution_count": 37,
   "metadata": {},
   "outputs": [],
   "source": [
    "df.rename(columns={'regiao' : 'regiao_divida'}, inplace=True)"
   ]
  },
  {
   "cell_type": "code",
   "execution_count": 38,
   "metadata": {},
   "outputs": [],
   "source": [
    "df = df.merge(df_regioes, left_on='uf_cnpj', right_on='uf', how='left')"
   ]
  },
  {
   "cell_type": "code",
   "execution_count": 39,
   "metadata": {},
   "outputs": [],
   "source": [
    "df.rename(columns={'uf_x' : 'uf', 'regiao' : 'regiao_cnpj'}, inplace=True)"
   ]
  },
  {
   "cell_type": "code",
   "execution_count": 40,
   "metadata": {},
   "outputs": [],
   "source": [
    "df.drop(columns=['uf_y'], axis=1, inplace=True)"
   ]
  },
  {
   "cell_type": "code",
   "execution_count": 41,
   "metadata": {},
   "outputs": [
    {
     "data": {
      "text/html": [
       "<div>\n",
       "<style scoped>\n",
       "    .dataframe tbody tr th:only-of-type {\n",
       "        vertical-align: middle;\n",
       "    }\n",
       "\n",
       "    .dataframe tbody tr th {\n",
       "        vertical-align: top;\n",
       "    }\n",
       "\n",
       "    .dataframe thead th {\n",
       "        text-align: right;\n",
       "    }\n",
       "</style>\n",
       "<table border=\"1\" class=\"dataframe\">\n",
       "  <thead>\n",
       "    <tr style=\"text-align: right;\">\n",
       "      <th></th>\n",
       "      <th>cnpj</th>\n",
       "      <th>uf</th>\n",
       "      <th>uf_cnpj</th>\n",
       "      <th>regiao_divida</th>\n",
       "      <th>regiao_cnpj</th>\n",
       "    </tr>\n",
       "  </thead>\n",
       "  <tbody>\n",
       "    <tr>\n",
       "      <th>455</th>\n",
       "      <td>71673990000177</td>\n",
       "      <td>SP</td>\n",
       "      <td>SP</td>\n",
       "      <td>sudeste</td>\n",
       "      <td>sudeste</td>\n",
       "    </tr>\n",
       "    <tr>\n",
       "      <th>456</th>\n",
       "      <td>71673990000177</td>\n",
       "      <td>DF</td>\n",
       "      <td>SP</td>\n",
       "      <td>centro_oeste</td>\n",
       "      <td>sudeste</td>\n",
       "    </tr>\n",
       "    <tr>\n",
       "      <th>457</th>\n",
       "      <td>71673990000177</td>\n",
       "      <td>RJ</td>\n",
       "      <td>SP</td>\n",
       "      <td>sudeste</td>\n",
       "      <td>sudeste</td>\n",
       "    </tr>\n",
       "    <tr>\n",
       "      <th>458</th>\n",
       "      <td>71673990000177</td>\n",
       "      <td>RO</td>\n",
       "      <td>SP</td>\n",
       "      <td>norte</td>\n",
       "      <td>sudeste</td>\n",
       "    </tr>\n",
       "    <tr>\n",
       "      <th>459</th>\n",
       "      <td>71673990000177</td>\n",
       "      <td>PE</td>\n",
       "      <td>SP</td>\n",
       "      <td>nordeste</td>\n",
       "      <td>sudeste</td>\n",
       "    </tr>\n",
       "    <tr>\n",
       "      <th>460</th>\n",
       "      <td>71673990000177</td>\n",
       "      <td>PR</td>\n",
       "      <td>SP</td>\n",
       "      <td>sul</td>\n",
       "      <td>sudeste</td>\n",
       "    </tr>\n",
       "    <tr>\n",
       "      <th>461</th>\n",
       "      <td>71673990000177</td>\n",
       "      <td>AM</td>\n",
       "      <td>SP</td>\n",
       "      <td>norte</td>\n",
       "      <td>sudeste</td>\n",
       "    </tr>\n",
       "  </tbody>\n",
       "</table>\n",
       "</div>"
      ],
      "text/plain": [
       "               cnpj  uf uf_cnpj regiao_divida regiao_cnpj\n",
       "455  71673990000177  SP      SP       sudeste     sudeste\n",
       "456  71673990000177  DF      SP  centro_oeste     sudeste\n",
       "457  71673990000177  RJ      SP       sudeste     sudeste\n",
       "458  71673990000177  RO      SP         norte     sudeste\n",
       "459  71673990000177  PE      SP      nordeste     sudeste\n",
       "460  71673990000177  PR      SP           sul     sudeste\n",
       "461  71673990000177  AM      SP         norte     sudeste"
      ]
     },
     "execution_count": 41,
     "metadata": {},
     "output_type": "execute_result"
    }
   ],
   "source": [
    "df[df['cnpj']=='71673990000177']"
   ]
  },
  {
   "cell_type": "code",
   "execution_count": 42,
   "metadata": {},
   "outputs": [],
   "source": [
    "# bamco do brasil\n",
    "df = df[df['cnpj']!=\"191\"]"
   ]
  },
  {
   "cell_type": "code",
   "execution_count": 43,
   "metadata": {},
   "outputs": [],
   "source": [
    "# itau\n",
    "df = df[df['cnpj']!='60701190000104']"
   ]
  },
  {
   "cell_type": "code",
   "execution_count": 44,
   "metadata": {},
   "outputs": [],
   "source": [
    "df = df[df['cnpj']!='60889128000180']"
   ]
  },
  {
   "cell_type": "code",
   "execution_count": 45,
   "metadata": {},
   "outputs": [],
   "source": [
    "ret = list()\n",
    "for el in df['cnpj'].unique().tolist():\n",
    "    dt = df[df['cnpj']==el]\n",
    "    lista_divida = dt[\"regiao_divida\"].unique().tolist()\n",
    "    reg_cnpj = dt['regiao_cnpj'].iloc[0]\n",
    "    lista_divida = [el for el in lista_divida if el != reg_cnpj]\n",
    "    dispersao = len(lista_divida)/4\n",
    "    ret.append(pd.DataFrame({'cnpj' : [el], 'dispersao' : [dispersao]}))"
   ]
  },
  {
   "cell_type": "code",
   "execution_count": 46,
   "metadata": {},
   "outputs": [],
   "source": [
    "df_dispersao = pd.concat(ret)"
   ]
  },
  {
   "cell_type": "code",
   "execution_count": 47,
   "metadata": {},
   "outputs": [
    {
     "data": {
      "text/html": [
       "<div>\n",
       "<style scoped>\n",
       "    .dataframe tbody tr th:only-of-type {\n",
       "        vertical-align: middle;\n",
       "    }\n",
       "\n",
       "    .dataframe tbody tr th {\n",
       "        vertical-align: top;\n",
       "    }\n",
       "\n",
       "    .dataframe thead th {\n",
       "        text-align: right;\n",
       "    }\n",
       "</style>\n",
       "<table border=\"1\" class=\"dataframe\">\n",
       "  <thead>\n",
       "    <tr style=\"text-align: right;\">\n",
       "      <th></th>\n",
       "      <th>cnpj</th>\n",
       "      <th>dispersao</th>\n",
       "    </tr>\n",
       "  </thead>\n",
       "  <tbody>\n",
       "    <tr>\n",
       "      <th>0</th>\n",
       "      <td>71673990000177</td>\n",
       "      <td>1.00</td>\n",
       "    </tr>\n",
       "    <tr>\n",
       "      <th>0</th>\n",
       "      <td>14168536000125</td>\n",
       "      <td>0.75</td>\n",
       "    </tr>\n",
       "    <tr>\n",
       "      <th>0</th>\n",
       "      <td>43708379000100</td>\n",
       "      <td>0.75</td>\n",
       "    </tr>\n",
       "    <tr>\n",
       "      <th>0</th>\n",
       "      <td>16945787000102</td>\n",
       "      <td>0.50</td>\n",
       "    </tr>\n",
       "    <tr>\n",
       "      <th>0</th>\n",
       "      <td>03317210000104</td>\n",
       "      <td>0.50</td>\n",
       "    </tr>\n",
       "  </tbody>\n",
       "</table>\n",
       "</div>"
      ],
      "text/plain": [
       "             cnpj  dispersao\n",
       "0  71673990000177       1.00\n",
       "0  14168536000125       0.75\n",
       "0  43708379000100       0.75\n",
       "0  16945787000102       0.50\n",
       "0  03317210000104       0.50"
      ]
     },
     "execution_count": 47,
     "metadata": {},
     "output_type": "execute_result"
    }
   ],
   "source": [
    "df_dispersao.sort_values(\"dispersao\", ascending=False).head()"
   ]
  },
  {
   "cell_type": "code",
   "execution_count": 48,
   "metadata": {},
   "outputs": [
    {
     "data": {
      "text/html": [
       "<div>\n",
       "<style scoped>\n",
       "    .dataframe tbody tr th:only-of-type {\n",
       "        vertical-align: middle;\n",
       "    }\n",
       "\n",
       "    .dataframe tbody tr th {\n",
       "        vertical-align: top;\n",
       "    }\n",
       "\n",
       "    .dataframe thead th {\n",
       "        text-align: right;\n",
       "    }\n",
       "</style>\n",
       "<table border=\"1\" class=\"dataframe\">\n",
       "  <thead>\n",
       "    <tr style=\"text-align: right;\">\n",
       "      <th></th>\n",
       "      <th>cnpj</th>\n",
       "    </tr>\n",
       "    <tr>\n",
       "      <th>dispersao</th>\n",
       "      <th></th>\n",
       "    </tr>\n",
       "  </thead>\n",
       "  <tbody>\n",
       "    <tr>\n",
       "      <th>0.00</th>\n",
       "      <td>407</td>\n",
       "    </tr>\n",
       "    <tr>\n",
       "      <th>0.25</th>\n",
       "      <td>70</td>\n",
       "    </tr>\n",
       "    <tr>\n",
       "      <th>0.50</th>\n",
       "      <td>2</td>\n",
       "    </tr>\n",
       "    <tr>\n",
       "      <th>0.75</th>\n",
       "      <td>2</td>\n",
       "    </tr>\n",
       "    <tr>\n",
       "      <th>1.00</th>\n",
       "      <td>1</td>\n",
       "    </tr>\n",
       "  </tbody>\n",
       "</table>\n",
       "</div>"
      ],
      "text/plain": [
       "           cnpj\n",
       "dispersao      \n",
       "0.00        407\n",
       "0.25         70\n",
       "0.50          2\n",
       "0.75          2\n",
       "1.00          1"
      ]
     },
     "execution_count": 48,
     "metadata": {},
     "output_type": "execute_result"
    }
   ],
   "source": [
    "df_dispersao.groupby('dispersao').count()"
   ]
  },
  {
   "cell_type": "code",
   "execution_count": 49,
   "metadata": {},
   "outputs": [
    {
     "data": {
      "text/html": [
       "<div>\n",
       "<style scoped>\n",
       "    .dataframe tbody tr th:only-of-type {\n",
       "        vertical-align: middle;\n",
       "    }\n",
       "\n",
       "    .dataframe tbody tr th {\n",
       "        vertical-align: top;\n",
       "    }\n",
       "\n",
       "    .dataframe thead th {\n",
       "        text-align: right;\n",
       "    }\n",
       "</style>\n",
       "<table border=\"1\" class=\"dataframe\">\n",
       "  <thead>\n",
       "    <tr style=\"text-align: right;\">\n",
       "      <th></th>\n",
       "      <th>cnpj</th>\n",
       "      <th>uf</th>\n",
       "      <th>uf_cnpj</th>\n",
       "      <th>regiao_divida</th>\n",
       "      <th>regiao_cnpj</th>\n",
       "    </tr>\n",
       "  </thead>\n",
       "  <tbody>\n",
       "    <tr>\n",
       "      <th>34</th>\n",
       "      <td>19256652000110</td>\n",
       "      <td>SP</td>\n",
       "      <td>SP</td>\n",
       "      <td>sudeste</td>\n",
       "      <td>sudeste</td>\n",
       "    </tr>\n",
       "  </tbody>\n",
       "</table>\n",
       "</div>"
      ],
      "text/plain": [
       "              cnpj  uf uf_cnpj regiao_divida regiao_cnpj\n",
       "34  19256652000110  SP      SP       sudeste     sudeste"
      ]
     },
     "execution_count": 49,
     "metadata": {},
     "output_type": "execute_result"
    }
   ],
   "source": [
    "df[df['cnpj']=='19256652000110']"
   ]
  },
  {
   "cell_type": "code",
   "execution_count": 50,
   "metadata": {},
   "outputs": [],
   "source": [
    "df_dispersao.to_excel(\"../tabelas/metrica_dispersao_201904.xlsx\")"
   ]
  },
  {
   "cell_type": "code",
   "execution_count": null,
   "metadata": {},
   "outputs": [],
   "source": []
  }
 ],
 "metadata": {
  "kernelspec": {
   "display_name": "Python 3",
   "language": "python",
   "name": "python3"
  },
  "language_info": {
   "codemirror_mode": {
    "name": "ipython",
    "version": 3
   },
   "file_extension": ".py",
   "mimetype": "text/x-python",
   "name": "python",
   "nbconvert_exporter": "python",
   "pygments_lexer": "ipython3",
   "version": "3.6.5"
  }
 },
 "nbformat": 4,
 "nbformat_minor": 2
}
