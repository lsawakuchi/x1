{
 "cells": [
  {
   "cell_type": "code",
   "execution_count": 1,
   "metadata": {},
   "outputs": [
    {
     "data": {
      "text/html": [
       "<script type=\"text/javascript\">window.PlotlyConfig = {MathJaxConfig: 'local'};</script><script type=\"text/javascript\">if (window.MathJax) {MathJax.Hub.Config({SVG: {font: \"STIX-Web\"}});}</script><script>requirejs.config({paths: { 'plotly': ['https://cdn.plot.ly/plotly-latest.min']},});if(!window._Plotly) {require(['plotly'],function(plotly) {window._Plotly=plotly;});}</script>"
      ],
      "text/vnd.plotly.v1+html": [
       "<script type=\"text/javascript\">window.PlotlyConfig = {MathJaxConfig: 'local'};</script><script type=\"text/javascript\">if (window.MathJax) {MathJax.Hub.Config({SVG: {font: \"STIX-Web\"}});}</script><script>requirejs.config({paths: { 'plotly': ['https://cdn.plot.ly/plotly-latest.min']},});if(!window._Plotly) {require(['plotly'],function(plotly) {window._Plotly=plotly;});}</script>"
      ]
     },
     "metadata": {},
     "output_type": "display_data"
    }
   ],
   "source": [
    "import pandas as pd\n",
    "from matplotlib import pyplot as plt\n",
    "from scipy.cluster.hierarchy import dendrogram, linkage\n",
    "import numpy as np\n",
    "from scipy.cluster.hierarchy import cophenet\n",
    "from scipy.spatial.distance import pdist\n",
    "from datetime import datetime\n",
    "from plotly import plotly as py\n",
    "from plotly.offline import download_plotlyjs, init_notebook_mode, plot, iplot\n",
    "from plotly import graph_objs as go\n",
    "import seaborn as sns\n",
    "init_notebook_mode(connected=True)"
   ]
  },
  {
   "cell_type": "markdown",
   "metadata": {},
   "source": [
    "- https://www.datascience.com/blog/python-anomaly-detection"
   ]
  },
  {
   "cell_type": "code",
   "execution_count": null,
   "metadata": {},
   "outputs": [],
   "source": []
  },
  {
   "cell_type": "code",
   "execution_count": null,
   "metadata": {},
   "outputs": [],
   "source": []
  },
  {
   "cell_type": "code",
   "execution_count": 2,
   "metadata": {},
   "outputs": [],
   "source": [
    "df = pd.read_excel('../tabelas/dataset_modelo.xlsx')"
   ]
  },
  {
   "cell_type": "code",
   "execution_count": 3,
   "metadata": {},
   "outputs": [
    {
     "data": {
      "text/html": [
       "<div>\n",
       "<style scoped>\n",
       "    .dataframe tbody tr th:only-of-type {\n",
       "        vertical-align: middle;\n",
       "    }\n",
       "\n",
       "    .dataframe tbody tr th {\n",
       "        vertical-align: top;\n",
       "    }\n",
       "\n",
       "    .dataframe thead th {\n",
       "        text-align: right;\n",
       "    }\n",
       "</style>\n",
       "<table border=\"1\" class=\"dataframe\">\n",
       "  <thead>\n",
       "    <tr style=\"text-align: right;\">\n",
       "      <th></th>\n",
       "      <th>cnpj</th>\n",
       "      <th>prop_divida</th>\n",
       "      <th>quantidade_cheques</th>\n",
       "      <th>tempo_medio</th>\n",
       "      <th>idade_maxima</th>\n",
       "      <th>credito</th>\n",
       "      <th>infra</th>\n",
       "      <th>outros</th>\n",
       "      <th>processos</th>\n",
       "      <th>dispersao</th>\n",
       "    </tr>\n",
       "  </thead>\n",
       "  <tbody>\n",
       "    <tr>\n",
       "      <th>0</th>\n",
       "      <td>178663000281</td>\n",
       "      <td>74.252241</td>\n",
       "      <td>17</td>\n",
       "      <td>4.806061</td>\n",
       "      <td>1120</td>\n",
       "      <td>0.227188</td>\n",
       "      <td>0.299701</td>\n",
       "      <td>0.149769</td>\n",
       "      <td>0.323342</td>\n",
       "      <td>0.0</td>\n",
       "    </tr>\n",
       "    <tr>\n",
       "      <th>1</th>\n",
       "      <td>225356000123</td>\n",
       "      <td>0.015050</td>\n",
       "      <td>0</td>\n",
       "      <td>0.000000</td>\n",
       "      <td>1779</td>\n",
       "      <td>0.000000</td>\n",
       "      <td>0.000000</td>\n",
       "      <td>1.000000</td>\n",
       "      <td>0.000000</td>\n",
       "      <td>0.0</td>\n",
       "    </tr>\n",
       "    <tr>\n",
       "      <th>2</th>\n",
       "      <td>265954000207</td>\n",
       "      <td>0.003949</td>\n",
       "      <td>0</td>\n",
       "      <td>0.000000</td>\n",
       "      <td>59</td>\n",
       "      <td>0.000000</td>\n",
       "      <td>0.000000</td>\n",
       "      <td>1.000000</td>\n",
       "      <td>0.000000</td>\n",
       "      <td>0.0</td>\n",
       "    </tr>\n",
       "    <tr>\n",
       "      <th>3</th>\n",
       "      <td>272073000302</td>\n",
       "      <td>0.070784</td>\n",
       "      <td>0</td>\n",
       "      <td>48.600000</td>\n",
       "      <td>306</td>\n",
       "      <td>0.000000</td>\n",
       "      <td>0.000000</td>\n",
       "      <td>1.000000</td>\n",
       "      <td>0.000000</td>\n",
       "      <td>0.0</td>\n",
       "    </tr>\n",
       "    <tr>\n",
       "      <th>4</th>\n",
       "      <td>437101000124</td>\n",
       "      <td>1.399823</td>\n",
       "      <td>0</td>\n",
       "      <td>31.666667</td>\n",
       "      <td>269</td>\n",
       "      <td>0.972151</td>\n",
       "      <td>0.000000</td>\n",
       "      <td>0.027849</td>\n",
       "      <td>0.000000</td>\n",
       "      <td>0.0</td>\n",
       "    </tr>\n",
       "  </tbody>\n",
       "</table>\n",
       "</div>"
      ],
      "text/plain": [
       "           cnpj  prop_divida  quantidade_cheques  tempo_medio  idade_maxima  \\\n",
       "0  178663000281    74.252241                  17     4.806061          1120   \n",
       "1  225356000123     0.015050                   0     0.000000          1779   \n",
       "2  265954000207     0.003949                   0     0.000000            59   \n",
       "3  272073000302     0.070784                   0    48.600000           306   \n",
       "4  437101000124     1.399823                   0    31.666667           269   \n",
       "\n",
       "    credito     infra    outros  processos  dispersao  \n",
       "0  0.227188  0.299701  0.149769   0.323342        0.0  \n",
       "1  0.000000  0.000000  1.000000   0.000000        0.0  \n",
       "2  0.000000  0.000000  1.000000   0.000000        0.0  \n",
       "3  0.000000  0.000000  1.000000   0.000000        0.0  \n",
       "4  0.972151  0.000000  0.027849   0.000000        0.0  "
      ]
     },
     "execution_count": 3,
     "metadata": {},
     "output_type": "execute_result"
    }
   ],
   "source": [
    "df.head()"
   ]
  },
  {
   "cell_type": "code",
   "execution_count": 4,
   "metadata": {},
   "outputs": [],
   "source": [
    "X = df.copy()"
   ]
  },
  {
   "cell_type": "code",
   "execution_count": 5,
   "metadata": {},
   "outputs": [],
   "source": [
    "X.index = X.cnpj"
   ]
  },
  {
   "cell_type": "code",
   "execution_count": 6,
   "metadata": {},
   "outputs": [
    {
     "data": {
      "text/plain": [
       "Index(['cnpj', 'prop_divida', 'quantidade_cheques', 'tempo_medio',\n",
       "       'idade_maxima', 'credito', 'infra', 'outros', 'processos', 'dispersao'],\n",
       "      dtype='object')"
      ]
     },
     "execution_count": 6,
     "metadata": {},
     "output_type": "execute_result"
    }
   ],
   "source": [
    "X.columns"
   ]
  },
  {
   "cell_type": "code",
   "execution_count": 7,
   "metadata": {},
   "outputs": [],
   "source": [
    "X.drop(columns=['cnpj'], axis=1, inplace=True)"
   ]
  },
  {
   "cell_type": "code",
   "execution_count": 8,
   "metadata": {},
   "outputs": [
    {
     "data": {
      "text/html": [
       "<div>\n",
       "<style scoped>\n",
       "    .dataframe tbody tr th:only-of-type {\n",
       "        vertical-align: middle;\n",
       "    }\n",
       "\n",
       "    .dataframe tbody tr th {\n",
       "        vertical-align: top;\n",
       "    }\n",
       "\n",
       "    .dataframe thead th {\n",
       "        text-align: right;\n",
       "    }\n",
       "</style>\n",
       "<table border=\"1\" class=\"dataframe\">\n",
       "  <thead>\n",
       "    <tr style=\"text-align: right;\">\n",
       "      <th></th>\n",
       "      <th>prop_divida</th>\n",
       "      <th>quantidade_cheques</th>\n",
       "      <th>tempo_medio</th>\n",
       "      <th>idade_maxima</th>\n",
       "      <th>credito</th>\n",
       "      <th>infra</th>\n",
       "      <th>outros</th>\n",
       "      <th>processos</th>\n",
       "      <th>dispersao</th>\n",
       "    </tr>\n",
       "    <tr>\n",
       "      <th>cnpj</th>\n",
       "      <th></th>\n",
       "      <th></th>\n",
       "      <th></th>\n",
       "      <th></th>\n",
       "      <th></th>\n",
       "      <th></th>\n",
       "      <th></th>\n",
       "      <th></th>\n",
       "      <th></th>\n",
       "    </tr>\n",
       "  </thead>\n",
       "  <tbody>\n",
       "    <tr>\n",
       "      <th>178663000281</th>\n",
       "      <td>74.252241</td>\n",
       "      <td>17</td>\n",
       "      <td>4.806061</td>\n",
       "      <td>1120</td>\n",
       "      <td>0.227188</td>\n",
       "      <td>0.299701</td>\n",
       "      <td>0.149769</td>\n",
       "      <td>0.323342</td>\n",
       "      <td>0.0</td>\n",
       "    </tr>\n",
       "    <tr>\n",
       "      <th>225356000123</th>\n",
       "      <td>0.015050</td>\n",
       "      <td>0</td>\n",
       "      <td>0.000000</td>\n",
       "      <td>1779</td>\n",
       "      <td>0.000000</td>\n",
       "      <td>0.000000</td>\n",
       "      <td>1.000000</td>\n",
       "      <td>0.000000</td>\n",
       "      <td>0.0</td>\n",
       "    </tr>\n",
       "    <tr>\n",
       "      <th>265954000207</th>\n",
       "      <td>0.003949</td>\n",
       "      <td>0</td>\n",
       "      <td>0.000000</td>\n",
       "      <td>59</td>\n",
       "      <td>0.000000</td>\n",
       "      <td>0.000000</td>\n",
       "      <td>1.000000</td>\n",
       "      <td>0.000000</td>\n",
       "      <td>0.0</td>\n",
       "    </tr>\n",
       "    <tr>\n",
       "      <th>272073000302</th>\n",
       "      <td>0.070784</td>\n",
       "      <td>0</td>\n",
       "      <td>48.600000</td>\n",
       "      <td>306</td>\n",
       "      <td>0.000000</td>\n",
       "      <td>0.000000</td>\n",
       "      <td>1.000000</td>\n",
       "      <td>0.000000</td>\n",
       "      <td>0.0</td>\n",
       "    </tr>\n",
       "    <tr>\n",
       "      <th>437101000124</th>\n",
       "      <td>1.399823</td>\n",
       "      <td>0</td>\n",
       "      <td>31.666667</td>\n",
       "      <td>269</td>\n",
       "      <td>0.972151</td>\n",
       "      <td>0.000000</td>\n",
       "      <td>0.027849</td>\n",
       "      <td>0.000000</td>\n",
       "      <td>0.0</td>\n",
       "    </tr>\n",
       "  </tbody>\n",
       "</table>\n",
       "</div>"
      ],
      "text/plain": [
       "              prop_divida  quantidade_cheques  tempo_medio  idade_maxima  \\\n",
       "cnpj                                                                       \n",
       "178663000281    74.252241                  17     4.806061          1120   \n",
       "225356000123     0.015050                   0     0.000000          1779   \n",
       "265954000207     0.003949                   0     0.000000            59   \n",
       "272073000302     0.070784                   0    48.600000           306   \n",
       "437101000124     1.399823                   0    31.666667           269   \n",
       "\n",
       "               credito     infra    outros  processos  dispersao  \n",
       "cnpj                                                              \n",
       "178663000281  0.227188  0.299701  0.149769   0.323342        0.0  \n",
       "225356000123  0.000000  0.000000  1.000000   0.000000        0.0  \n",
       "265954000207  0.000000  0.000000  1.000000   0.000000        0.0  \n",
       "272073000302  0.000000  0.000000  1.000000   0.000000        0.0  \n",
       "437101000124  0.972151  0.000000  0.027849   0.000000        0.0  "
      ]
     },
     "execution_count": 8,
     "metadata": {},
     "output_type": "execute_result"
    }
   ],
   "source": [
    "X.head()"
   ]
  },
  {
   "cell_type": "code",
   "execution_count": 9,
   "metadata": {},
   "outputs": [],
   "source": [
    "Z = linkage(X, method='complete', metric='euclidean')"
   ]
  },
  {
   "cell_type": "code",
   "execution_count": 10,
   "metadata": {},
   "outputs": [
    {
     "data": {
      "text/plain": [
       "0.7586485485890836"
      ]
     },
     "execution_count": 10,
     "metadata": {},
     "output_type": "execute_result"
    }
   ],
   "source": [
    "c, coph_dists = cophenet(Z, pdist(X, 'euclidean'))\n",
    "c"
   ]
  },
  {
   "cell_type": "code",
   "execution_count": 11,
   "metadata": {},
   "outputs": [
    {
     "data": {
      "image/png": "[encoded data removed]",
      "text/plain": [
       "<Figure size 1800x720 with 1 Axes>"
      ]
     },
     "metadata": {},
     "output_type": "display_data"
    }
   ],
   "source": [
    "plt.figure(figsize=(25, 10))\n",
    "plt.title('Hierarchical Clustering Dendrogram')\n",
    "plt.xlabel('sample index')\n",
    "plt.ylabel('distance')\n",
    "dendrogram(\n",
    "    Z,\n",
    "    leaf_rotation=90.,  # rotates the x axis labels\n",
    "    leaf_font_size=8.,  # font size for the x axis labels\n",
    ")\n",
    "plt.show()"
   ]
  },
  {
   "cell_type": "code",
   "execution_count": 12,
   "metadata": {},
   "outputs": [
    {
     "data": {
      "image/png": "[encoded data removed]",
      "text/plain": [
       "<Figure size 1440x864 with 1 Axes>"
      ]
     },
     "metadata": {},
     "output_type": "display_data"
    }
   ],
   "source": [
    "plt.figure(figsize=(20, 12))\n",
    "plt.title('Hierarchical Clustering Dendrogram (truncated)')\n",
    "plt.xlabel('sample index')\n",
    "plt.ylabel('distance')\n",
    "dendrogram(\n",
    "    Z,\n",
    "    truncate_mode='lastp',  # show only the last p merged clusters\n",
    "    p=15,  # show only the last p merged clusters\n",
    "    show_leaf_counts=True,  # otherwise numbers in brackets are counts\n",
    "    leaf_rotation=90.,\n",
    "    leaf_font_size=12.,\n",
    "    show_contracted=True,  # to get a distribution impression in truncated branches\n",
    ")\n",
    "plt.show()"
   ]
  },
  {
   "cell_type": "code",
   "execution_count": 13,
   "metadata": {},
   "outputs": [],
   "source": [
    "def fancy_dendrogram(*args, **kwargs):\n",
    "    plt.figure(figsize=(20, 12))\n",
    "    max_d = kwargs.pop('max_d', None)\n",
    "    if max_d and 'color_threshold' not in kwargs:\n",
    "        kwargs['color_threshold'] = max_d\n",
    "    annotate_above = kwargs.pop('annotate_above', 0)\n",
    "\n",
    "    ddata = dendrogram(*args, **kwargs)\n",
    "\n",
    "    if not kwargs.get('no_plot', False):\n",
    "        \n",
    "        plt.title('Hierarchical Clustering Dendrogram (truncated)')\n",
    "        plt.xlabel('sample index or (cluster size)')\n",
    "        plt.ylabel('distance')\n",
    "        for i, d, c in zip(ddata['icoord'], ddata['dcoord'], ddata['color_list']):\n",
    "            x = 0.5 * sum(i[1:3])\n",
    "            y = d[1]\n",
    "            if y > annotate_above:\n",
    "                plt.plot(x, y, 'o', c=c)\n",
    "                plt.annotate(\"%.3g\" % y, (x, y), xytext=(0, -5),\n",
    "                             textcoords='offset points',\n",
    "                             va='top', ha='center')\n",
    "        if max_d:\n",
    "            plt.axhline(y=max_d, c='k')\n",
    "    return ddata"
   ]
  },
  {
   "cell_type": "code",
   "execution_count": 14,
   "metadata": {},
   "outputs": [
    {
     "data": {
      "image/png": "[encoded data removed]",
      "text/plain": [
       "<Figure size 1440x864 with 1 Axes>"
      ]
     },
     "metadata": {},
     "output_type": "display_data"
    }
   ],
   "source": [
    "fancy_dendrogram(\n",
    "    Z,\n",
    "    truncate_mode='lastp',\n",
    "    p=8,\n",
    "    leaf_rotation=90.,\n",
    "    leaf_font_size=12.,\n",
    "    show_contracted=True,\n",
    "    annotate_above=1,  # useful in small plots so annotations don't overlap\n",
    ")\n",
    "plt.show()"
   ]
  },
  {
   "cell_type": "code",
   "execution_count": 17,
   "metadata": {},
   "outputs": [
    {
     "data": {
      "image/png": "[encoded data removed]",
      "text/plain": [
       "<Figure size 1440x864 with 1 Axes>"
      ]
     },
     "metadata": {},
     "output_type": "display_data"
    }
   ],
   "source": [
    "cut_off = 750\n",
    "fancy_dendrogram(\n",
    "    Z,\n",
    "    truncate_mode='lastp',\n",
    "    p=12,\n",
    "    leaf_rotation=90.,\n",
    "    leaf_font_size=12.,\n",
    "    show_contracted=True,\n",
    "    annotate_above=1,  # useful in small plots so annotations don't overlap\n",
    "    max_d = cut_off\n",
    ")\n",
    "plt.show()"
   ]
  },
  {
   "cell_type": "code",
   "execution_count": 18,
   "metadata": {},
   "outputs": [
    {
     "data": {
      "text/plain": [
       "array([2, 5, 1, 1, 1, 2, 3, 3, 1, 3, 5, 1, 3, 1, 5, 5, 3, 3, 2, 5, 5, 1,\n",
       "       5, 1, 2, 5, 1, 1, 5, 1, 5, 1, 2, 5, 5, 3, 1, 1, 1, 5, 3, 1, 3, 1,\n",
       "       1, 5, 6, 2, 1, 1, 2, 1, 7, 7, 5, 1, 1, 3, 3, 5, 4, 1, 5, 2, 3, 4,\n",
       "       3, 3, 1, 7, 5, 2, 5, 1, 1, 3, 7, 5, 5, 5, 2, 5, 5, 5, 6, 5, 5, 1,\n",
       "       3, 1, 2, 5, 2, 2, 2, 1, 7, 2, 1, 3, 3, 1, 3, 3, 1, 3, 1, 2, 5, 1,\n",
       "       5, 3, 3, 5, 1, 1, 3, 1, 2, 1, 5, 1, 3, 3, 5, 5, 1, 1, 2, 5, 3, 3,\n",
       "       2, 1, 5, 3, 2, 1, 3, 5, 5, 5, 3, 2, 3, 1, 3, 3, 1, 2, 5, 3, 5, 1,\n",
       "       1, 5, 1, 1, 2, 3, 5, 5, 5, 6, 3, 1, 1, 3, 1, 3, 1, 1, 3, 5, 1, 1,\n",
       "       3, 1, 5, 1, 1, 3, 1, 1, 1, 3, 5, 1, 3, 1, 1, 1, 3, 7, 3, 5, 5, 3,\n",
       "       5, 3, 5, 3, 3, 5, 5, 2, 5, 7, 5, 1, 5, 5, 5, 2, 3, 1, 1, 2, 3, 1,\n",
       "       5, 1, 1, 1, 5, 1, 2, 2, 1, 1, 2, 3, 5, 1, 3, 5, 1, 3, 2, 1, 5, 5,\n",
       "       7, 1, 1, 3, 3, 1, 5, 3, 5, 5, 2, 3, 2, 1, 2, 1, 7, 3, 3, 6, 3, 1,\n",
       "       1, 1, 2, 3, 5, 1, 1, 1, 1, 1, 1, 1, 1, 1, 1, 1, 1, 1, 1, 1, 1, 1,\n",
       "       1, 3, 2, 5, 3, 5, 3, 5, 1, 1, 3, 5, 1, 3, 1, 1, 2, 5, 3, 3, 1, 5,\n",
       "       3, 5, 5, 3, 1, 5, 3, 5, 5, 2, 1, 1, 3, 2, 5, 1, 5, 2, 5, 1, 3, 5,\n",
       "       5, 1, 1, 3, 3, 1, 5, 5, 1, 1, 7, 3, 3, 5, 1, 5, 5, 3, 2, 1, 1, 2,\n",
       "       3, 5, 5, 2, 3, 1, 1, 3, 1, 5, 3, 2, 3, 2, 3, 1, 2, 3, 1, 2, 3, 1,\n",
       "       3, 3, 5, 3, 5, 2, 1, 5, 1, 5, 5, 3, 3, 2, 5, 3, 2, 2, 3, 3, 3, 2,\n",
       "       1, 2, 5, 3, 5, 3, 1, 1, 1, 1, 1, 1, 5, 1, 1, 2, 2, 2, 1, 1, 1, 2,\n",
       "       3, 5, 2, 1, 2, 1, 1, 1, 2, 5, 3, 3, 2, 5, 2, 5, 2, 1, 2, 1, 3, 2,\n",
       "       7, 6, 1, 5, 1, 5, 2, 3, 5, 1, 1, 3, 2, 1, 5, 3, 1, 1, 2, 3, 1, 5,\n",
       "       1, 3, 3, 2, 5, 5, 5, 1, 5, 5, 1, 2, 3, 2, 3, 5, 1, 3, 1, 5, 5, 1,\n",
       "       2, 2, 1, 1, 2, 2, 5, 7, 1, 2, 1, 1, 1, 1, 2, 2, 2, 2, 2, 1, 1, 3,\n",
       "       3, 1, 1, 1, 3, 5, 2, 1, 2, 3, 3, 1, 1, 7, 3, 1, 3, 1, 1, 2, 1, 1,\n",
       "       1, 3, 1, 3, 3, 2, 1, 3, 3, 3, 3, 1, 1, 2, 3, 2, 1, 3, 1, 1, 2, 3,\n",
       "       3, 1, 3, 1, 3, 1, 1, 1, 3, 1, 5, 3, 2, 1, 3, 2, 1, 1, 1, 1, 1, 7,\n",
       "       1, 3, 1, 1, 3, 3, 3, 3, 2, 1, 1, 1, 3, 1, 3, 1, 3, 1, 3, 3, 1, 3,\n",
       "       3, 1, 1, 1, 3, 1, 3, 3, 1, 1, 1, 1, 3, 1, 3, 3, 1, 1, 5, 1, 1, 1,\n",
       "       1, 2, 1, 1, 1, 1, 1, 1, 1, 1, 1, 1, 1, 1, 1, 1, 1, 2, 5, 1, 5, 1,\n",
       "       5, 1, 2, 2, 5, 2, 3, 7, 7, 7, 2, 3, 5, 5, 1, 5, 3, 2, 5, 3, 1, 4,\n",
       "       3, 5, 3, 1, 3, 1, 1, 5, 2, 1, 2, 3, 3, 5, 1, 3, 3, 1, 3, 2, 1, 1,\n",
       "       7, 3, 5, 7, 5, 2, 1, 1, 1, 4, 2, 1, 1, 2], dtype=int32)"
      ]
     },
     "execution_count": 18,
     "metadata": {},
     "output_type": "execute_result"
    }
   ],
   "source": [
    "from scipy.cluster.hierarchy import fcluster\n",
    "max_d = cut_off\n",
    "clusters = fcluster(Z, max_d, criterion='distance')\n",
    "clusters"
   ]
  },
  {
   "cell_type": "code",
   "execution_count": 19,
   "metadata": {},
   "outputs": [],
   "source": [
    "fr = []\n",
    "for el in zip(list(X.index), list(clusters)):\n",
    "    df2 = pd.DataFrame({'cnpj' : [el[0]], 'cluster' : [el[1]]})\n",
    "    fr.append(df2)"
   ]
  },
  {
   "cell_type": "code",
   "execution_count": 20,
   "metadata": {},
   "outputs": [],
   "source": [
    "df_cluster = pd.concat(fr)"
   ]
  },
  {
   "cell_type": "code",
   "execution_count": 21,
   "metadata": {},
   "outputs": [
    {
     "data": {
      "text/html": [
       "<div>\n",
       "<style scoped>\n",
       "    .dataframe tbody tr th:only-of-type {\n",
       "        vertical-align: middle;\n",
       "    }\n",
       "\n",
       "    .dataframe tbody tr th {\n",
       "        vertical-align: top;\n",
       "    }\n",
       "\n",
       "    .dataframe thead th {\n",
       "        text-align: right;\n",
       "    }\n",
       "</style>\n",
       "<table border=\"1\" class=\"dataframe\">\n",
       "  <thead>\n",
       "    <tr style=\"text-align: right;\">\n",
       "      <th></th>\n",
       "      <th>cnpj</th>\n",
       "    </tr>\n",
       "    <tr>\n",
       "      <th>cluster</th>\n",
       "      <th></th>\n",
       "    </tr>\n",
       "  </thead>\n",
       "  <tbody>\n",
       "    <tr>\n",
       "      <th>1</th>\n",
       "      <td>263</td>\n",
       "    </tr>\n",
       "    <tr>\n",
       "      <th>2</th>\n",
       "      <td>103</td>\n",
       "    </tr>\n",
       "    <tr>\n",
       "      <th>3</th>\n",
       "      <td>166</td>\n",
       "    </tr>\n",
       "    <tr>\n",
       "      <th>4</th>\n",
       "      <td>4</td>\n",
       "    </tr>\n",
       "    <tr>\n",
       "      <th>5</th>\n",
       "      <td>136</td>\n",
       "    </tr>\n",
       "    <tr>\n",
       "      <th>6</th>\n",
       "      <td>5</td>\n",
       "    </tr>\n",
       "    <tr>\n",
       "      <th>7</th>\n",
       "      <td>19</td>\n",
       "    </tr>\n",
       "  </tbody>\n",
       "</table>\n",
       "</div>"
      ],
      "text/plain": [
       "         cnpj\n",
       "cluster      \n",
       "1         263\n",
       "2         103\n",
       "3         166\n",
       "4           4\n",
       "5         136\n",
       "6           5\n",
       "7          19"
      ]
     },
     "execution_count": 21,
     "metadata": {},
     "output_type": "execute_result"
    }
   ],
   "source": [
    "df_cluster.groupby(\"cluster\").count()"
   ]
  },
  {
   "cell_type": "code",
   "execution_count": null,
   "metadata": {},
   "outputs": [],
   "source": []
  },
  {
   "cell_type": "code",
   "execution_count": 22,
   "metadata": {},
   "outputs": [],
   "source": [
    "df_cluster['cnpj'] = df_cluster.apply(lambda x : str(x[\"cnpj\"]), axis=1)"
   ]
  },
  {
   "cell_type": "code",
   "execution_count": 23,
   "metadata": {},
   "outputs": [],
   "source": [
    "df_cluster['cnpj'] = df_cluster.apply(lambda x : \"0\" + x[\"cnpj\"] if len(x[\"cnpj\"])==13 else\n",
    "                                      \"00\" + x[\"cnpj\"] if len(x[\"cnpj\"])==12 else x[\"cnpj\"], axis=1)"
   ]
  },
  {
   "cell_type": "code",
   "execution_count": 24,
   "metadata": {},
   "outputs": [],
   "source": [
    "df['cnpj'] = df.apply(lambda x : str(x[\"cnpj\"]).split(\".\")[0], axis=1)"
   ]
  },
  {
   "cell_type": "code",
   "execution_count": 25,
   "metadata": {},
   "outputs": [],
   "source": [
    "df['cnpj'] = df.apply(lambda x : \"0\" + x[\"cnpj\"] if len(x[\"cnpj\"])==13 else\n",
    "                                      \"00\" + x[\"cnpj\"] if len(x[\"cnpj\"])==12 else x[\"cnpj\"], axis=1)"
   ]
  },
  {
   "cell_type": "code",
   "execution_count": 26,
   "metadata": {},
   "outputs": [
    {
     "data": {
      "text/plain": [
       "(696, 2)"
      ]
     },
     "execution_count": 26,
     "metadata": {},
     "output_type": "execute_result"
    }
   ],
   "source": [
    "df_cluster.shape"
   ]
  },
  {
   "cell_type": "code",
   "execution_count": 66,
   "metadata": {},
   "outputs": [
    {
     "data": {
      "text/plain": [
       "'00178663000281'"
      ]
     },
     "execution_count": 66,
     "metadata": {},
     "output_type": "execute_result"
    }
   ],
   "source": [
    "df['cnpj'].iloc[0]"
   ]
  },
  {
   "cell_type": "code",
   "execution_count": 27,
   "metadata": {},
   "outputs": [],
   "source": [
    "final = df.merge(df_cluster, left_on=\"cnpj\", right_on='cnpj', how='left')"
   ]
  },
  {
   "cell_type": "code",
   "execution_count": 28,
   "metadata": {},
   "outputs": [
    {
     "data": {
      "text/html": [
       "<div>\n",
       "<style scoped>\n",
       "    .dataframe tbody tr th:only-of-type {\n",
       "        vertical-align: middle;\n",
       "    }\n",
       "\n",
       "    .dataframe tbody tr th {\n",
       "        vertical-align: top;\n",
       "    }\n",
       "\n",
       "    .dataframe thead th {\n",
       "        text-align: right;\n",
       "    }\n",
       "</style>\n",
       "<table border=\"1\" class=\"dataframe\">\n",
       "  <thead>\n",
       "    <tr style=\"text-align: right;\">\n",
       "      <th></th>\n",
       "      <th>prop_divida</th>\n",
       "      <th>quantidade_cheques</th>\n",
       "      <th>tempo_medio</th>\n",
       "      <th>idade_maxima</th>\n",
       "      <th>credito</th>\n",
       "      <th>infra</th>\n",
       "      <th>outros</th>\n",
       "      <th>processos</th>\n",
       "      <th>dispersao</th>\n",
       "    </tr>\n",
       "    <tr>\n",
       "      <th>cluster</th>\n",
       "      <th></th>\n",
       "      <th></th>\n",
       "      <th></th>\n",
       "      <th></th>\n",
       "      <th></th>\n",
       "      <th></th>\n",
       "      <th></th>\n",
       "      <th></th>\n",
       "      <th></th>\n",
       "    </tr>\n",
       "  </thead>\n",
       "  <tbody>\n",
       "    <tr>\n",
       "      <th>1</th>\n",
       "      <td>3.793020</td>\n",
       "      <td>1.072243</td>\n",
       "      <td>39.543296</td>\n",
       "      <td>238.456274</td>\n",
       "      <td>0.153317</td>\n",
       "      <td>0.023619</td>\n",
       "      <td>0.780090</td>\n",
       "      <td>0.039172</td>\n",
       "      <td>0.009506</td>\n",
       "    </tr>\n",
       "    <tr>\n",
       "      <th>2</th>\n",
       "      <td>6.563902</td>\n",
       "      <td>3.446602</td>\n",
       "      <td>76.158495</td>\n",
       "      <td>1076.058252</td>\n",
       "      <td>0.222133</td>\n",
       "      <td>0.024204</td>\n",
       "      <td>0.685340</td>\n",
       "      <td>0.068323</td>\n",
       "      <td>0.021845</td>\n",
       "    </tr>\n",
       "    <tr>\n",
       "      <th>3</th>\n",
       "      <td>8.764706</td>\n",
       "      <td>1.572289</td>\n",
       "      <td>64.290985</td>\n",
       "      <td>668.397590</td>\n",
       "      <td>0.190408</td>\n",
       "      <td>0.021356</td>\n",
       "      <td>0.721350</td>\n",
       "      <td>0.060862</td>\n",
       "      <td>0.027108</td>\n",
       "    </tr>\n",
       "    <tr>\n",
       "      <th>4</th>\n",
       "      <td>846.108283</td>\n",
       "      <td>13.250000</td>\n",
       "      <td>13.417903</td>\n",
       "      <td>1782.250000</td>\n",
       "      <td>0.027982</td>\n",
       "      <td>0.000147</td>\n",
       "      <td>0.563115</td>\n",
       "      <td>0.408756</td>\n",
       "      <td>0.250000</td>\n",
       "    </tr>\n",
       "    <tr>\n",
       "      <th>5</th>\n",
       "      <td>7.686742</td>\n",
       "      <td>2.757353</td>\n",
       "      <td>90.430010</td>\n",
       "      <td>1545.352941</td>\n",
       "      <td>0.146016</td>\n",
       "      <td>0.018144</td>\n",
       "      <td>0.749955</td>\n",
       "      <td>0.085886</td>\n",
       "      <td>0.049632</td>\n",
       "    </tr>\n",
       "    <tr>\n",
       "      <th>6</th>\n",
       "      <td>3.234867</td>\n",
       "      <td>3.400000</td>\n",
       "      <td>807.800000</td>\n",
       "      <td>1609.800000</td>\n",
       "      <td>0.230725</td>\n",
       "      <td>0.053934</td>\n",
       "      <td>0.550357</td>\n",
       "      <td>0.164984</td>\n",
       "      <td>0.000000</td>\n",
       "    </tr>\n",
       "    <tr>\n",
       "      <th>7</th>\n",
       "      <td>1.623664</td>\n",
       "      <td>0.210526</td>\n",
       "      <td>486.017544</td>\n",
       "      <td>1089.157895</td>\n",
       "      <td>0.044391</td>\n",
       "      <td>0.027563</td>\n",
       "      <td>0.928045</td>\n",
       "      <td>0.000000</td>\n",
       "      <td>0.000000</td>\n",
       "    </tr>\n",
       "  </tbody>\n",
       "</table>\n",
       "</div>"
      ],
      "text/plain": [
       "         prop_divida  quantidade_cheques  tempo_medio  idade_maxima   credito  \\\n",
       "cluster                                                                         \n",
       "1           3.793020            1.072243    39.543296    238.456274  0.153317   \n",
       "2           6.563902            3.446602    76.158495   1076.058252  0.222133   \n",
       "3           8.764706            1.572289    64.290985    668.397590  0.190408   \n",
       "4         846.108283           13.250000    13.417903   1782.250000  0.027982   \n",
       "5           7.686742            2.757353    90.430010   1545.352941  0.146016   \n",
       "6           3.234867            3.400000   807.800000   1609.800000  0.230725   \n",
       "7           1.623664            0.210526   486.017544   1089.157895  0.044391   \n",
       "\n",
       "            infra    outros  processos  dispersao  \n",
       "cluster                                            \n",
       "1        0.023619  0.780090   0.039172   0.009506  \n",
       "2        0.024204  0.685340   0.068323   0.021845  \n",
       "3        0.021356  0.721350   0.060862   0.027108  \n",
       "4        0.000147  0.563115   0.408756   0.250000  \n",
       "5        0.018144  0.749955   0.085886   0.049632  \n",
       "6        0.053934  0.550357   0.164984   0.000000  \n",
       "7        0.027563  0.928045   0.000000   0.000000  "
      ]
     },
     "execution_count": 28,
     "metadata": {},
     "output_type": "execute_result"
    }
   ],
   "source": [
    "final.groupby(\"cluster\").mean()"
   ]
  },
  {
   "cell_type": "code",
   "execution_count": 33,
   "metadata": {},
   "outputs": [
    {
     "data": {
      "text/html": [
       "<div>\n",
       "<style scoped>\n",
       "    .dataframe tbody tr th:only-of-type {\n",
       "        vertical-align: middle;\n",
       "    }\n",
       "\n",
       "    .dataframe tbody tr th {\n",
       "        vertical-align: top;\n",
       "    }\n",
       "\n",
       "    .dataframe thead th {\n",
       "        text-align: right;\n",
       "    }\n",
       "</style>\n",
       "<table border=\"1\" class=\"dataframe\">\n",
       "  <thead>\n",
       "    <tr style=\"text-align: right;\">\n",
       "      <th></th>\n",
       "      <th>prop_divida</th>\n",
       "      <th>quantidade_cheques</th>\n",
       "      <th>tempo_medio</th>\n",
       "      <th>idade_maxima</th>\n",
       "      <th>credito</th>\n",
       "      <th>infra</th>\n",
       "      <th>outros</th>\n",
       "      <th>processos</th>\n",
       "      <th>dispersao</th>\n",
       "    </tr>\n",
       "    <tr>\n",
       "      <th>cluster</th>\n",
       "      <th></th>\n",
       "      <th></th>\n",
       "      <th></th>\n",
       "      <th></th>\n",
       "      <th></th>\n",
       "      <th></th>\n",
       "      <th></th>\n",
       "      <th></th>\n",
       "      <th></th>\n",
       "    </tr>\n",
       "  </thead>\n",
       "  <tbody>\n",
       "    <tr>\n",
       "      <th>1</th>\n",
       "      <td>3.793020</td>\n",
       "      <td>1.072243</td>\n",
       "      <td>39.543296</td>\n",
       "      <td>238.456274</td>\n",
       "      <td>0.153317</td>\n",
       "      <td>0.023619</td>\n",
       "      <td>0.780090</td>\n",
       "      <td>0.039172</td>\n",
       "      <td>0.009506</td>\n",
       "    </tr>\n",
       "    <tr>\n",
       "      <th>2</th>\n",
       "      <td>6.563902</td>\n",
       "      <td>3.446602</td>\n",
       "      <td>76.158495</td>\n",
       "      <td>1076.058252</td>\n",
       "      <td>0.222133</td>\n",
       "      <td>0.024204</td>\n",
       "      <td>0.685340</td>\n",
       "      <td>0.068323</td>\n",
       "      <td>0.021845</td>\n",
       "    </tr>\n",
       "    <tr>\n",
       "      <th>3</th>\n",
       "      <td>8.764706</td>\n",
       "      <td>1.572289</td>\n",
       "      <td>64.290985</td>\n",
       "      <td>668.397590</td>\n",
       "      <td>0.190408</td>\n",
       "      <td>0.021356</td>\n",
       "      <td>0.721350</td>\n",
       "      <td>0.060862</td>\n",
       "      <td>0.027108</td>\n",
       "    </tr>\n",
       "    <tr>\n",
       "      <th>4</th>\n",
       "      <td>846.108283</td>\n",
       "      <td>13.250000</td>\n",
       "      <td>13.417903</td>\n",
       "      <td>1782.250000</td>\n",
       "      <td>0.027982</td>\n",
       "      <td>0.000147</td>\n",
       "      <td>0.563115</td>\n",
       "      <td>0.408756</td>\n",
       "      <td>0.250000</td>\n",
       "    </tr>\n",
       "    <tr>\n",
       "      <th>5</th>\n",
       "      <td>7.686742</td>\n",
       "      <td>2.757353</td>\n",
       "      <td>90.430010</td>\n",
       "      <td>1545.352941</td>\n",
       "      <td>0.146016</td>\n",
       "      <td>0.018144</td>\n",
       "      <td>0.749955</td>\n",
       "      <td>0.085886</td>\n",
       "      <td>0.049632</td>\n",
       "    </tr>\n",
       "    <tr>\n",
       "      <th>6</th>\n",
       "      <td>3.234867</td>\n",
       "      <td>3.400000</td>\n",
       "      <td>807.800000</td>\n",
       "      <td>1609.800000</td>\n",
       "      <td>0.230725</td>\n",
       "      <td>0.053934</td>\n",
       "      <td>0.550357</td>\n",
       "      <td>0.164984</td>\n",
       "      <td>0.000000</td>\n",
       "    </tr>\n",
       "    <tr>\n",
       "      <th>7</th>\n",
       "      <td>1.623664</td>\n",
       "      <td>0.210526</td>\n",
       "      <td>486.017544</td>\n",
       "      <td>1089.157895</td>\n",
       "      <td>0.044391</td>\n",
       "      <td>0.027563</td>\n",
       "      <td>0.928045</td>\n",
       "      <td>0.000000</td>\n",
       "      <td>0.000000</td>\n",
       "    </tr>\n",
       "  </tbody>\n",
       "</table>\n",
       "</div>"
      ],
      "text/plain": [
       "         prop_divida  quantidade_cheques  tempo_medio  idade_maxima   credito  \\\n",
       "cluster                                                                         \n",
       "1           3.793020            1.072243    39.543296    238.456274  0.153317   \n",
       "2           6.563902            3.446602    76.158495   1076.058252  0.222133   \n",
       "3           8.764706            1.572289    64.290985    668.397590  0.190408   \n",
       "4         846.108283           13.250000    13.417903   1782.250000  0.027982   \n",
       "5           7.686742            2.757353    90.430010   1545.352941  0.146016   \n",
       "6           3.234867            3.400000   807.800000   1609.800000  0.230725   \n",
       "7           1.623664            0.210526   486.017544   1089.157895  0.044391   \n",
       "\n",
       "            infra    outros  processos  dispersao  \n",
       "cluster                                            \n",
       "1        0.023619  0.780090   0.039172   0.009506  \n",
       "2        0.024204  0.685340   0.068323   0.021845  \n",
       "3        0.021356  0.721350   0.060862   0.027108  \n",
       "4        0.000147  0.563115   0.408756   0.250000  \n",
       "5        0.018144  0.749955   0.085886   0.049632  \n",
       "6        0.053934  0.550357   0.164984   0.000000  \n",
       "7        0.027563  0.928045   0.000000   0.000000  "
      ]
     },
     "execution_count": 33,
     "metadata": {},
     "output_type": "execute_result"
    }
   ],
   "source": [
    "final.groupby('cluster').mean()"
   ]
  },
  {
   "cell_type": "code",
   "execution_count": 34,
   "metadata": {},
   "outputs": [
    {
     "data": {
      "text/html": [
       "<div>\n",
       "<style scoped>\n",
       "    .dataframe tbody tr th:only-of-type {\n",
       "        vertical-align: middle;\n",
       "    }\n",
       "\n",
       "    .dataframe tbody tr th {\n",
       "        vertical-align: top;\n",
       "    }\n",
       "\n",
       "    .dataframe thead th {\n",
       "        text-align: right;\n",
       "    }\n",
       "</style>\n",
       "<table border=\"1\" class=\"dataframe\">\n",
       "  <thead>\n",
       "    <tr style=\"text-align: right;\">\n",
       "      <th></th>\n",
       "      <th>cnpj</th>\n",
       "    </tr>\n",
       "    <tr>\n",
       "      <th>cluster</th>\n",
       "      <th></th>\n",
       "    </tr>\n",
       "  </thead>\n",
       "  <tbody>\n",
       "    <tr>\n",
       "      <th>1</th>\n",
       "      <td>263</td>\n",
       "    </tr>\n",
       "    <tr>\n",
       "      <th>2</th>\n",
       "      <td>103</td>\n",
       "    </tr>\n",
       "    <tr>\n",
       "      <th>3</th>\n",
       "      <td>166</td>\n",
       "    </tr>\n",
       "    <tr>\n",
       "      <th>4</th>\n",
       "      <td>4</td>\n",
       "    </tr>\n",
       "    <tr>\n",
       "      <th>5</th>\n",
       "      <td>136</td>\n",
       "    </tr>\n",
       "    <tr>\n",
       "      <th>6</th>\n",
       "      <td>5</td>\n",
       "    </tr>\n",
       "    <tr>\n",
       "      <th>7</th>\n",
       "      <td>19</td>\n",
       "    </tr>\n",
       "  </tbody>\n",
       "</table>\n",
       "</div>"
      ],
      "text/plain": [
       "         cnpj\n",
       "cluster      \n",
       "1         263\n",
       "2         103\n",
       "3         166\n",
       "4           4\n",
       "5         136\n",
       "6           5\n",
       "7          19"
      ]
     },
     "execution_count": 34,
     "metadata": {},
     "output_type": "execute_result"
    }
   ],
   "source": [
    "df_cluster.groupby('cluster').count()"
   ]
  },
  {
   "cell_type": "code",
   "execution_count": 72,
   "metadata": {},
   "outputs": [
    {
     "data": {
      "text/html": [
       "<div>\n",
       "<style scoped>\n",
       "    .dataframe tbody tr th:only-of-type {\n",
       "        vertical-align: middle;\n",
       "    }\n",
       "\n",
       "    .dataframe tbody tr th {\n",
       "        vertical-align: top;\n",
       "    }\n",
       "\n",
       "    .dataframe thead th {\n",
       "        text-align: right;\n",
       "    }\n",
       "</style>\n",
       "<table border=\"1\" class=\"dataframe\">\n",
       "  <thead>\n",
       "    <tr style=\"text-align: right;\">\n",
       "      <th></th>\n",
       "      <th>cnpj</th>\n",
       "      <th>prop_divida</th>\n",
       "      <th>quantidade_cheques</th>\n",
       "      <th>tempo_medio</th>\n",
       "      <th>idade_maxima</th>\n",
       "      <th>credito</th>\n",
       "      <th>infra</th>\n",
       "      <th>outros</th>\n",
       "      <th>processos</th>\n",
       "      <th>dispersao</th>\n",
       "      <th>cluster</th>\n",
       "    </tr>\n",
       "  </thead>\n",
       "  <tbody>\n",
       "    <tr>\n",
       "      <th>46</th>\n",
       "      <td>02668113000195</td>\n",
       "      <td>0.940239</td>\n",
       "      <td>4</td>\n",
       "      <td>631.5</td>\n",
       "      <td>1735</td>\n",
       "      <td>0.175079</td>\n",
       "      <td>0.000000</td>\n",
       "      <td>0.000000</td>\n",
       "      <td>0.824921</td>\n",
       "      <td>0.0</td>\n",
       "      <td>5</td>\n",
       "    </tr>\n",
       "    <tr>\n",
       "      <th>84</th>\n",
       "      <td>04247535000112</td>\n",
       "      <td>0.005866</td>\n",
       "      <td>13</td>\n",
       "      <td>973.0</td>\n",
       "      <td>1738</td>\n",
       "      <td>0.000000</td>\n",
       "      <td>0.269671</td>\n",
       "      <td>0.730329</td>\n",
       "      <td>0.000000</td>\n",
       "      <td>0.0</td>\n",
       "      <td>5</td>\n",
       "    </tr>\n",
       "    <tr>\n",
       "      <th>163</th>\n",
       "      <td>07606986000197</td>\n",
       "      <td>10.879394</td>\n",
       "      <td>0</td>\n",
       "      <td>700.0</td>\n",
       "      <td>1533</td>\n",
       "      <td>0.000000</td>\n",
       "      <td>0.000000</td>\n",
       "      <td>1.000000</td>\n",
       "      <td>0.000000</td>\n",
       "      <td>0.0</td>\n",
       "      <td>5</td>\n",
       "    </tr>\n",
       "    <tr>\n",
       "      <th>261</th>\n",
       "      <td>10886031000145</td>\n",
       "      <td>4.181467</td>\n",
       "      <td>0</td>\n",
       "      <td>699.5</td>\n",
       "      <td>1479</td>\n",
       "      <td>0.978546</td>\n",
       "      <td>0.000000</td>\n",
       "      <td>0.021454</td>\n",
       "      <td>0.000000</td>\n",
       "      <td>0.0</td>\n",
       "      <td>5</td>\n",
       "    </tr>\n",
       "    <tr>\n",
       "      <th>441</th>\n",
       "      <td>18058375000178</td>\n",
       "      <td>0.167368</td>\n",
       "      <td>0</td>\n",
       "      <td>1035.0</td>\n",
       "      <td>1564</td>\n",
       "      <td>0.000000</td>\n",
       "      <td>0.000000</td>\n",
       "      <td>1.000000</td>\n",
       "      <td>0.000000</td>\n",
       "      <td>0.0</td>\n",
       "      <td>5</td>\n",
       "    </tr>\n",
       "  </tbody>\n",
       "</table>\n",
       "</div>"
      ],
      "text/plain": [
       "               cnpj  prop_divida  quantidade_cheques  tempo_medio  \\\n",
       "46   02668113000195     0.940239                   4        631.5   \n",
       "84   04247535000112     0.005866                  13        973.0   \n",
       "163  07606986000197    10.879394                   0        700.0   \n",
       "261  10886031000145     4.181467                   0        699.5   \n",
       "441  18058375000178     0.167368                   0       1035.0   \n",
       "\n",
       "     idade_maxima   credito     infra    outros  processos  dispersao  cluster  \n",
       "46           1735  0.175079  0.000000  0.000000   0.824921        0.0        5  \n",
       "84           1738  0.000000  0.269671  0.730329   0.000000        0.0        5  \n",
       "163          1533  0.000000  0.000000  1.000000   0.000000        0.0        5  \n",
       "261          1479  0.978546  0.000000  0.021454   0.000000        0.0        5  \n",
       "441          1564  0.000000  0.000000  1.000000   0.000000        0.0        5  "
      ]
     },
     "execution_count": 72,
     "metadata": {},
     "output_type": "execute_result"
    }
   ],
   "source": [
    "final[final['cluster']==5]"
   ]
  }
 ],
 "metadata": {
  "kernelspec": {
   "display_name": "Python 3",
   "language": "python",
   "name": "python3"
  },
  "language_info": {
   "codemirror_mode": {
    "name": "ipython",
    "version": 3
   },
   "file_extension": ".py",
   "mimetype": "text/x-python",
   "name": "python",
   "nbconvert_exporter": "python",
   "pygments_lexer": "ipython3",
   "version": "3.6.5"
  }
 },
 "nbformat": 4,
 "nbformat_minor": 2
}
